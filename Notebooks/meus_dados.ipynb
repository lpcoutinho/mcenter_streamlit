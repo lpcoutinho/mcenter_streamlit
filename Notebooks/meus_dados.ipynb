{
 "cells": [
  {
   "cell_type": "code",
   "execution_count": 1,
   "metadata": {},
   "outputs": [
    {
     "name": "stdout",
     "output_type": "stream",
     "text": [
      "BUENO_SELLER_ID 648304687\n",
      "CRIS_SELLER_ID 681023789\n",
      "MCENTER_SELLER_ID 233632476\n",
      "BUENO_ACCESS APP_USR-1402424125091767-121208-48088a3e78dd345a0c883fa9d65f1bae-648304687\n",
      "CRIS_ACCESS APP_USR-2611836769858126-121116-368411ccf4ab9092e12b0c10b5fc652f-681023789\n",
      "MCENTER_ACCESS APP_USR-6628000663056293-121116-25a2cf9e1d6aeb2395e35a8d00e0afd3-233632476\n"
     ]
    }
   ],
   "source": [
    "import requests\n",
    "from dotenv import load_dotenv\n",
    "import os\n",
    "\n",
    "load_dotenv(\"../.buenoshops\")\n",
    "load_dotenv(\"../.mcenter\")\n",
    "load_dotenv(\"../.musicalcris\")\n",
    "\n",
    "BUENO_SELLER_ID = os.getenv(\"BUENO_SELLER_ID\")\n",
    "CRIS_SELLER_ID = os.getenv(\"CRIS_SELLER_ID\")\n",
    "MCENTER_SELLER_ID = os.getenv(\"MCENTER_SELLER_ID\")\n",
    "\n",
    "print(f\"BUENO_SELLER_ID {BUENO_SELLER_ID}\")\n",
    "print(f\"CRIS_SELLER_ID {CRIS_SELLER_ID}\")\n",
    "print(f\"MCENTER_SELLER_ID {MCENTER_SELLER_ID}\")\n",
    "\n",
    "BUENO_ACCESS = os.getenv(\"BUENO_ACCESS\")\n",
    "CRIS_ACCESS = os.getenv(\"CRIS_ACCESS\")\n",
    "MCENTER_ACCESS = os.getenv(\"MCENTER_ACCESS\")\n",
    "\n",
    "\n",
    "print(f\"BUENO_ACCESS {BUENO_ACCESS}\")\n",
    "print(f\"CRIS_ACCESS {CRIS_ACCESS}\")\n",
    "print(f\"MCENTER_ACCESS {MCENTER_ACCESS}\")"
   ]
  },
  {
   "cell_type": "code",
   "execution_count": 3,
   "metadata": {},
   "outputs": [
    {
     "name": "stdout",
     "output_type": "stream",
     "text": [
      "{\"id\":648304687,\"nickname\":\"BUENO SONORIZAÇÃO\",\"registration_date\":\"2020-09-18T20:40:32.000-04:00\",\"first_name\":\"M A BUENO FREDERICO SONORIZACA\",\"last_name\":\"M A BUENO FREDERICO SONORIZACA\",\"gender\":\"\",\"country_id\":\"BR\",\"email\":\"mabuenosonorizacao@gmail.com\",\"identification\":{\"number\":\"37408559000165\",\"type\":\"CNPJ\"},\"address\":{\"address\":\"Rua Fernandes Pinheiro 168\",\"city\":\"Ponta Grossa\",\"state\":\"BR-PR\",\"zip_code\":\"84010135\"},\"phone\":{\"area_code\":\"42\",\"extension\":\"\",\"number\":\"30253124\",\"verified\":false},\"alternative_phone\":{\"area_code\":\"\",\"extension\":\"\",\"number\":\"\"},\"user_type\":\"brand\",\"tags\":[\"brand\",\"large_seller\",\"eshop\",\"mshops\",\"messages_as_seller\"],\"logo\":null,\"points\":163,\"site_id\":\"MLB\",\"permalink\":\"http://perfil.mercadolivre.com.br/BUENO+SONORIZA%C3%87%C3%83O\",\"seller_experience\":\"ADVANCED\",\"bill_data\":{\"accept_credit_note\":\"Y\"},\"seller_reputation\":{\"level_id\":\"5_green\",\"power_seller_status\":\"platinum\",\"transactions\":{\"canceled\":1048,\"completed\":24273,\"period\":\"historic\",\"ratings\":{\"negative\":0.16,\"neutral\":0.01,\"positive\":0.83},\"total\":25321},\"metrics\":{\"sales\":{\"period\":\"60 days\",\"completed\":5693},\"claims\":{\"period\":\"60 days\",\"rate\":0.0011,\"value\":7},\"delayed_handling_time\":{\"period\":\"60 days\",\"rate\":0,\"value\":0},\"cancellations\":{\"period\":\"60 days\",\"rate\":0.0005,\"value\":3}}},\"buyer_reputation\":{\"canceled_transactions\":0,\"tags\":[],\"transactions\":{\"canceled\":{\"paid\":null,\"total\":null},\"completed\":null,\"not_yet_rated\":{\"paid\":null,\"total\":null,\"units\":null},\"period\":\"historic\",\"total\":null,\"unrated\":{\"paid\":null,\"total\":null}}},\"status\":{\"billing\":{\"allow\":true,\"codes\":[]},\"buy\":{\"allow\":true,\"codes\":[],\"immediate_payment\":{\"reasons\":[],\"required\":false}},\"confirmed_email\":true,\"shopping_cart\":{\"buy\":\"allowed\",\"sell\":\"allowed\"},\"immediate_payment\":false,\"list\":{\"allow\":true,\"codes\":[],\"immediate_payment\":{\"reasons\":[],\"required\":false}},\"mercadoenvios\":\"not_accepted\",\"mercadopago_account_type\":\"personal\",\"mercadopago_tc_accepted\":true,\"required_action\":null,\"sell\":{\"allow\":true,\"codes\":[],\"immediate_payment\":{\"reasons\":[],\"required\":false}},\"site_status\":\"active\",\"user_type\":\"simple_registration\"},\"secure_email\":\"mmabuen.jbz7dfj@mail.mercadolivre.com\",\"company\":{\"brand_name\":\"M A BUENO FREDERICO SONORIZACA\",\"city_tax_id\":\"\",\"corporate_name\":\"M. A. BUENO FREDERICO SONORIZACAO LTDA\",\"identification\":\"37408559000165\",\"state_tax_id\":\"9085061035\",\"cust_type_id\":\"BU\",\"soft_descriptor\":\"BUENOSONORIZA\"},\"credit\":{\"consumed\":6551.89,\"credit_level_id\":\"MLB1\",\"rank\":\"premium\"},\"context\":{\"device\":\"web-desktop\",\"flow\":\"company\",\"ip_address\":\"138.204.27.98\",\"source\":\"mercadolivre\"},\"registration_identifiers\":[]}\n",
      "{\"id\":681023789,\"nickname\":\"MUSICALCRIS\",\"registration_date\":\"2020-12-01T14:07:22.000-04:00\",\"first_name\":\"CRISTIANO PADILHA INSTRUMENTOS\",\"last_name\":\"CRISTIANO PADILHA INSTRUMENTOS\",\"gender\":\"\",\"country_id\":\"BR\",\"email\":\"crisp.musical@gmail.com\",\"identification\":{\"number\":\"28622320000100\",\"type\":\"CNPJ\"},\"address\":{\"address\":\"Rua Monte Castelo 41\",\"city\":\"Ponta Grossa\",\"state\":\"BR-PR\",\"zip_code\":\"84033173\"},\"phone\":{\"area_code\":\"42\",\"extension\":\"\",\"number\":\"30255605\",\"verified\":false},\"alternative_phone\":{\"area_code\":\"\",\"extension\":\"\",\"number\":\"\"},\"user_type\":\"normal\",\"tags\":[\"normal\",\"messages_as_seller\"],\"logo\":null,\"points\":0,\"site_id\":\"MLB\",\"permalink\":\"http://perfil.mercadolivre.com.br/MUSICALCRIS\",\"seller_experience\":\"ADVANCED\",\"bill_data\":{\"accept_credit_note\":\"Y\"},\"seller_reputation\":{\"level_id\":\"5_green\",\"power_seller_status\":null,\"transactions\":{\"canceled\":9,\"completed\":58,\"period\":\"historic\",\"ratings\":{\"negative\":0,\"neutral\":1,\"positive\":0},\"total\":67},\"metrics\":{\"sales\":{\"period\":\"365 days\",\"completed\":58},\"claims\":{\"period\":\"365 days\",\"rate\":0,\"value\":0},\"delayed_handling_time\":{\"period\":\"365 days\",\"rate\":0,\"value\":0},\"cancellations\":{\"period\":\"365 days\",\"rate\":0,\"value\":0}}},\"buyer_reputation\":{\"canceled_transactions\":0,\"tags\":[],\"transactions\":{\"canceled\":{\"paid\":null,\"total\":null},\"completed\":null,\"not_yet_rated\":{\"paid\":null,\"total\":null,\"units\":null},\"period\":\"historic\",\"total\":null,\"unrated\":{\"paid\":null,\"total\":null}}},\"status\":{\"billing\":{\"allow\":true,\"codes\":[]},\"buy\":{\"allow\":true,\"codes\":[],\"immediate_payment\":{\"reasons\":[],\"required\":false}},\"confirmed_email\":true,\"shopping_cart\":{\"buy\":\"allowed\",\"sell\":\"allowed\"},\"immediate_payment\":false,\"list\":{\"allow\":true,\"codes\":[],\"immediate_payment\":{\"reasons\":[],\"required\":false}},\"mercadoenvios\":\"not_accepted\",\"mercadopago_account_type\":\"personal\",\"mercadopago_tc_accepted\":true,\"required_action\":null,\"sell\":{\"allow\":true,\"codes\":[],\"immediate_payment\":{\"reasons\":[],\"required\":false}},\"site_status\":\"active\",\"user_type\":\"complete_registration\"},\"secure_email\":\"ccristi.bt3x4p@mail.mercadolivre.com\",\"company\":{\"brand_name\":\"Cristiano Padilha\",\"city_tax_id\":\"\",\"corporate_name\":\"CRISTIANO PADILHA INSTR. MUS.\",\"identification\":\"28622320000100\",\"state_tax_id\":\"9087192390\",\"cust_type_id\":\"BU\",\"soft_descriptor\":null},\"credit\":{\"consumed\":276.64,\"credit_level_id\":\"MLB3\",\"rank\":\"payer\"},\"context\":{\"device\":\"web-desktop\",\"flow\":\"company\",\"ip_address\":\"177.220.173.45\",\"source\":\"mercadolivre\"},\"registration_identifiers\":[]}\n",
      "{\"id\":233632476,\"nickname\":\"MUSICALCENTERPG\",\"registration_date\":\"2016-11-05T17:35:04.000-04:00\",\"first_name\":\"MUSICAL CENTER PONTA\",\"last_name\":\"GROSSA EIRELI -\",\"gender\":\"\",\"country_id\":\"BR\",\"email\":\"musicalc168@gmail.com\",\"identification\":{\"number\":\"10885874000127\",\"type\":\"CNPJ\"},\"address\":{\"address\":\"Estrada da Gruta 775\",\"city\":\"Louveira\",\"state\":\"BR-SP\",\"zip_code\":\"13290431\"},\"phone\":{\"area_code\":\"19\",\"extension\":\"\",\"number\":\"38787702\",\"verified\":false},\"alternative_phone\":{\"area_code\":\"\",\"extension\":\"\",\"number\":\"\"},\"user_type\":\"brand\",\"tags\":[\"brand\",\"large_seller\",\"eshop\",\"mshops\",\"messages_as_seller\"],\"logo\":null,\"points\":4554,\"site_id\":\"MLB\",\"permalink\":\"http://perfil.mercadolivre.com.br/MUSICALCENTERPG\",\"seller_experience\":\"ADVANCED\",\"bill_data\":{\"accept_credit_note\":\"Y\"},\"seller_reputation\":{\"level_id\":\"5_green\",\"power_seller_status\":\"platinum\",\"transactions\":{\"canceled\":1563,\"completed\":34858,\"period\":\"historic\",\"ratings\":{\"negative\":0.05,\"neutral\":0.03,\"positive\":0.92},\"total\":36421},\"metrics\":{\"sales\":{\"period\":\"60 days\",\"completed\":9746},\"claims\":{\"period\":\"60 days\",\"rate\":0.0035,\"value\":36},\"delayed_handling_time\":{\"period\":\"60 days\",\"rate\":0.0039,\"value\":37},\"cancellations\":{\"period\":\"60 days\",\"rate\":0.0003,\"value\":4}}},\"buyer_reputation\":{\"canceled_transactions\":0,\"tags\":[],\"transactions\":{\"canceled\":{\"paid\":null,\"total\":null},\"completed\":null,\"not_yet_rated\":{\"paid\":null,\"total\":null,\"units\":null},\"period\":\"historic\",\"total\":null,\"unrated\":{\"paid\":null,\"total\":null}}},\"status\":{\"billing\":{\"allow\":true,\"codes\":[]},\"buy\":{\"allow\":true,\"codes\":[],\"immediate_payment\":{\"reasons\":[],\"required\":false}},\"confirmed_email\":true,\"shopping_cart\":{\"buy\":\"allowed\",\"sell\":\"allowed\"},\"immediate_payment\":false,\"list\":{\"allow\":true,\"codes\":[],\"immediate_payment\":{\"reasons\":[],\"required\":false}},\"mercadoenvios\":\"not_accepted\",\"mercadopago_account_type\":\"personal\",\"mercadopago_tc_accepted\":true,\"required_action\":null,\"sell\":{\"allow\":true,\"codes\":[],\"immediate_payment\":{\"reasons\":[],\"required\":false}},\"site_status\":\"active\",\"user_type\":\"complete_registration\"},\"secure_email\":\"mmusica.2kmfbv@mail.mercadolivre.com\",\"company\":{\"brand_name\":\"MUSICAL CENTER\",\"city_tax_id\":\"\",\"corporate_name\":\"MUSICAL CENTER PONTA GROSSA EIRELI -\",\"identification\":\"10885874000127\",\"state_tax_id\":\"421102074116\",\"cust_type_id\":\"BU\",\"soft_descriptor\":\"MUSICALCENTER\"},\"credit\":{\"consumed\":13857.66,\"credit_level_id\":\"MLB1\",\"rank\":\"premium\"},\"context\":{\"device\":\"web-desktop\",\"flow\":\"normal\",\"ip_address\":\"177.156.92.94\",\"source\":\"mercadopago\"},\"thumbnail\":{\"picture_id\":\"985797-MLA40654312205_022020\",\"picture_url\":\"https://mla-s2-p.mlstatic.com/985797-MLA40654312205_022020-O.jpg\"},\"registration_identifiers\":[]}\n"
     ]
    }
   ],
   "source": [
    "seller_list = [BUENO_ACCESS, CRIS_ACCESS, MCENTER_ACCESS]\n",
    "\n",
    "for i in seller_list:\n",
    "    url = \"https://api.mercadolibre.com/users/me\"\n",
    "\n",
    "    payload = {}\n",
    "    headers = {\n",
    "        \"Authorization\": f\"Bearer {i}\",\n",
    "    }\n",
    "\n",
    "    response = requests.request(\"GET\", url, headers=headers, data=payload)\n",
    "\n",
    "    print(response.text)"
   ]
  },
  {
   "cell_type": "code",
   "execution_count": null,
   "metadata": {},
   "outputs": [],
   "source": []
  },
  {
   "cell_type": "code",
   "execution_count": null,
   "metadata": {},
   "outputs": [],
   "source": []
  }
 ],
 "metadata": {
  "kernelspec": {
   "display_name": "venv",
   "language": "python",
   "name": "python3"
  },
  "language_info": {
   "codemirror_mode": {
    "name": "ipython",
    "version": 3
   },
   "file_extension": ".py",
   "mimetype": "text/x-python",
   "name": "python",
   "nbconvert_exporter": "python",
   "pygments_lexer": "ipython3",
   "version": "3.12.0"
  }
 },
 "nbformat": 4,
 "nbformat_minor": 2
}
