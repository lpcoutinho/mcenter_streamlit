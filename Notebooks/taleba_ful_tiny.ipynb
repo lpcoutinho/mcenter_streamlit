{
 "cells": [
  {
   "cell_type": "code",
   "execution_count": 1,
   "metadata": {},
   "outputs": [],
   "source": [
    "import os\n",
    "import time\n",
    "from pandas import json_normalize\n",
    "import psycopg2\n",
    "from psycopg2 import sql\n",
    "\n",
    "import pandas as pd\n",
    "from dotenv import load_dotenv\n",
    "\n",
    "load_dotenv()\n",
    "\n",
    "access_token = os.getenv(\"ACCESS_TOKEN\")\n",
    "HOST = os.getenv(\"HOST\")\n",
    "POSTGRES_DB = os.getenv(\"POSTGRES_DB\")\n",
    "POSTGRES_USER = os.getenv(\"POSTGRES_USER\")\n",
    "POSTGRES_PASSWORD = os.getenv(\"POSTGRES_PASSWORD\")\n",
    "\n",
    "\n",
    "# configuarações de conexão com o banco de dados\n",
    "db_config = {\n",
    "    \"host\": HOST,\n",
    "    \"database\": POSTGRES_DB,\n",
    "    \"user\": POSTGRES_USER,\n",
    "    \"password\": POSTGRES_PASSWORD,\n",
    "}"
   ]
  },
  {
   "cell_type": "code",
   "execution_count": 2,
   "metadata": {},
   "outputs": [
    {
     "data": {
      "text/plain": [
       "(872, 13)"
      ]
     },
     "execution_count": 2,
     "metadata": {},
     "output_type": "execute_result"
    }
   ],
   "source": [
    "# Carregando dados do Google Sheets\n",
    "sheet_id = \"1bKChKN304n76zBkZTfBxXrbSvSf2ZC4oXap940x8MNc\"\n",
    "sheet_name = \"Relação Full x Tiny\"\n",
    "url = f\"https://docs.google.com/spreadsheet/ccc?key={sheet_id}&output=xlsx\"\n",
    "\n",
    "\n",
    "df = pd.read_excel(url, sheet_name=sheet_name)\n",
    "\n",
    "col = {\n",
    "    \"Código ML\": \"ml_inventory_id\",\n",
    "    \"ID do anúncio\": \"ml_code\",\n",
    "    \"ID Tiny\": \"tiny_id\",\n",
    "    \"SKU\": \"ml_sku\",\n",
    "    \"SKU Tiny\": \"tiny_sku\",\n",
    "    \"Código Variação\": \"var_code\",\n",
    "    \"Título do anúncio\": \"ad_title\",\n",
    "    \"Quantidade do item\":'qtd_item'\n",
    "}\n",
    "\n",
    "df.rename(columns=col, inplace=True)\n",
    "\n",
    "df.shape"
   ]
  },
  {
   "cell_type": "code",
   "execution_count": 3,
   "metadata": {},
   "outputs": [
    {
     "data": {
      "text/html": [
       "<div>\n",
       "<style scoped>\n",
       "    .dataframe tbody tr th:only-of-type {\n",
       "        vertical-align: middle;\n",
       "    }\n",
       "\n",
       "    .dataframe tbody tr th {\n",
       "        vertical-align: top;\n",
       "    }\n",
       "\n",
       "    .dataframe thead th {\n",
       "        text-align: right;\n",
       "    }\n",
       "</style>\n",
       "<table border=\"1\" class=\"dataframe\">\n",
       "  <thead>\n",
       "    <tr style=\"text-align: right;\">\n",
       "      <th></th>\n",
       "      <th>ml_sku</th>\n",
       "      <th>ml_inventory_id</th>\n",
       "      <th>ml_code</th>\n",
       "      <th>var_code</th>\n",
       "      <th>ad_title</th>\n",
       "      <th>tiny_sku</th>\n",
       "      <th>tiny_id</th>\n",
       "      <th>qtd_item</th>\n",
       "    </tr>\n",
       "  </thead>\n",
       "  <tbody>\n",
       "    <tr>\n",
       "      <th>300</th>\n",
       "      <td>FULLELIXIR3213</td>\n",
       "      <td>PNST39536</td>\n",
       "      <td>1440235101</td>\n",
       "      <td>NaN</td>\n",
       "      <td>Encordoamento .010 Light Bronze 80/20 Nanoweb ...</td>\n",
       "      <td>733132111527</td>\n",
       "      <td>730206692</td>\n",
       "      <td>1</td>\n",
       "    </tr>\n",
       "  </tbody>\n",
       "</table>\n",
       "</div>"
      ],
      "text/plain": [
       "             ml_sku ml_inventory_id     ml_code var_code  \\\n",
       "300  FULLELIXIR3213       PNST39536  1440235101      NaN   \n",
       "\n",
       "                                              ad_title      tiny_sku  \\\n",
       "300  Encordoamento .010 Light Bronze 80/20 Nanoweb ...  733132111527   \n",
       "\n",
       "       tiny_id  qtd_item  \n",
       "300  730206692         1  "
      ]
     },
     "execution_count": 3,
     "metadata": {},
     "output_type": "execute_result"
    }
   ],
   "source": [
    "cols_drop = [\n",
    "    \"Código universal\",\n",
    "    \"Código Categoria\",\n",
    "    \"Unnamed: 10\",\n",
    "    \"Unnamed: 11\",\n",
    "    \"Unnamed: 12\",\n",
    "]\n",
    "df = df.drop(cols_drop, axis=1)\n",
    "df.sample()"
   ]
  },
  {
   "cell_type": "code",
   "execution_count": 4,
   "metadata": {},
   "outputs": [
    {
     "data": {
      "text/plain": [
       "(872, 8)"
      ]
     },
     "execution_count": 4,
     "metadata": {},
     "output_type": "execute_result"
    }
   ],
   "source": [
    "df.shape"
   ]
  },
  {
   "cell_type": "code",
   "execution_count": 5,
   "metadata": {},
   "outputs": [
    {
     "name": "stdout",
     "output_type": "stream",
     "text": [
      "Número de duplicatas: 0\n",
      "Linhas duplicadas:\n"
     ]
    },
    {
     "data": {
      "text/html": [
       "<div>\n",
       "<style scoped>\n",
       "    .dataframe tbody tr th:only-of-type {\n",
       "        vertical-align: middle;\n",
       "    }\n",
       "\n",
       "    .dataframe tbody tr th {\n",
       "        vertical-align: top;\n",
       "    }\n",
       "\n",
       "    .dataframe thead th {\n",
       "        text-align: right;\n",
       "    }\n",
       "</style>\n",
       "<table border=\"1\" class=\"dataframe\">\n",
       "  <thead>\n",
       "    <tr style=\"text-align: right;\">\n",
       "      <th></th>\n",
       "      <th>ml_sku</th>\n",
       "      <th>ml_inventory_id</th>\n",
       "      <th>ml_code</th>\n",
       "      <th>var_code</th>\n",
       "      <th>ad_title</th>\n",
       "      <th>tiny_sku</th>\n",
       "      <th>tiny_id</th>\n",
       "      <th>qtd_item</th>\n",
       "    </tr>\n",
       "  </thead>\n",
       "  <tbody>\n",
       "  </tbody>\n",
       "</table>\n",
       "</div>"
      ],
      "text/plain": [
       "Empty DataFrame\n",
       "Columns: [ml_sku, ml_inventory_id, ml_code, var_code, ad_title, tiny_sku, tiny_id, qtd_item]\n",
       "Index: []"
      ]
     },
     "execution_count": 5,
     "metadata": {},
     "output_type": "execute_result"
    }
   ],
   "source": [
    "duplicatas = df.duplicated()\n",
    "numero_duplicatas = duplicatas.sum()\n",
    "print(f\"Número de duplicatas: {numero_duplicatas}\")\n",
    "\n",
    "df_duplicatas = df[df.duplicated()]\n",
    "print(\"Linhas duplicadas:\")\n",
    "df_duplicatas"
   ]
  },
  {
   "cell_type": "code",
   "execution_count": 6,
   "metadata": {},
   "outputs": [],
   "source": [
    "df_duplicatas.to_excel('duplicatas.xlsx')"
   ]
  },
  {
   "cell_type": "code",
   "execution_count": 7,
   "metadata": {},
   "outputs": [
    {
     "data": {
      "text/html": [
       "<div>\n",
       "<style scoped>\n",
       "    .dataframe tbody tr th:only-of-type {\n",
       "        vertical-align: middle;\n",
       "    }\n",
       "\n",
       "    .dataframe tbody tr th {\n",
       "        vertical-align: top;\n",
       "    }\n",
       "\n",
       "    .dataframe thead th {\n",
       "        text-align: right;\n",
       "    }\n",
       "</style>\n",
       "<table border=\"1\" class=\"dataframe\">\n",
       "  <thead>\n",
       "    <tr style=\"text-align: right;\">\n",
       "      <th></th>\n",
       "      <th>ml_sku</th>\n",
       "      <th>ml_inventory_id</th>\n",
       "      <th>ml_code</th>\n",
       "      <th>var_code</th>\n",
       "      <th>ad_title</th>\n",
       "      <th>tiny_sku</th>\n",
       "      <th>tiny_id</th>\n",
       "      <th>qtd_item</th>\n",
       "    </tr>\n",
       "  </thead>\n",
       "  <tbody>\n",
       "    <tr>\n",
       "      <th>679</th>\n",
       "      <td>FULLTAGIMA27KCOMCAPA</td>\n",
       "      <td>DUCB06017</td>\n",
       "      <td>1557290709</td>\n",
       "      <td>Marrom</td>\n",
       "      <td>Ukulelê Tenor Profissional Tagima 27k Mahogany...</td>\n",
       "      <td>7898563978156</td>\n",
       "      <td>512617044</td>\n",
       "      <td>1</td>\n",
       "    </tr>\n",
       "  </tbody>\n",
       "</table>\n",
       "</div>"
      ],
      "text/plain": [
       "                   ml_sku ml_inventory_id     ml_code var_code  \\\n",
       "679  FULLTAGIMA27KCOMCAPA       DUCB06017  1557290709   Marrom   \n",
       "\n",
       "                                              ad_title       tiny_sku  \\\n",
       "679  Ukulelê Tenor Profissional Tagima 27k Mahogany...  7898563978156   \n",
       "\n",
       "       tiny_id  qtd_item  \n",
       "679  512617044         1  "
      ]
     },
     "execution_count": 7,
     "metadata": {},
     "output_type": "execute_result"
    }
   ],
   "source": [
    "x = 1557290709\n",
    "lines = df[df[\"ml_code\"] == x]\n",
    "line = df_duplicatas[df_duplicatas[\"ml_code\"] == x]\n",
    "lines"
   ]
  },
  {
   "cell_type": "code",
   "execution_count": 8,
   "metadata": {},
   "outputs": [
    {
     "data": {
      "text/html": [
       "<div>\n",
       "<style scoped>\n",
       "    .dataframe tbody tr th:only-of-type {\n",
       "        vertical-align: middle;\n",
       "    }\n",
       "\n",
       "    .dataframe tbody tr th {\n",
       "        vertical-align: top;\n",
       "    }\n",
       "\n",
       "    .dataframe thead th {\n",
       "        text-align: right;\n",
       "    }\n",
       "</style>\n",
       "<table border=\"1\" class=\"dataframe\">\n",
       "  <thead>\n",
       "    <tr style=\"text-align: right;\">\n",
       "      <th></th>\n",
       "      <th>ml_sku</th>\n",
       "      <th>ml_inventory_id</th>\n",
       "      <th>ml_code</th>\n",
       "      <th>var_code</th>\n",
       "      <th>ad_title</th>\n",
       "      <th>tiny_sku</th>\n",
       "      <th>tiny_id</th>\n",
       "      <th>qtd_item</th>\n",
       "    </tr>\n",
       "  </thead>\n",
       "  <tbody>\n",
       "  </tbody>\n",
       "</table>\n",
       "</div>"
      ],
      "text/plain": [
       "Empty DataFrame\n",
       "Columns: [ml_sku, ml_inventory_id, ml_code, var_code, ad_title, tiny_sku, tiny_id, qtd_item]\n",
       "Index: []"
      ]
     },
     "execution_count": 8,
     "metadata": {},
     "output_type": "execute_result"
    }
   ],
   "source": [
    "line"
   ]
  },
  {
   "cell_type": "code",
   "execution_count": 9,
   "metadata": {},
   "outputs": [
    {
     "data": {
      "text/plain": [
       "(872, 8)"
      ]
     },
     "execution_count": 9,
     "metadata": {},
     "output_type": "execute_result"
    }
   ],
   "source": [
    "df = df.drop_duplicates()\n",
    "df.shape"
   ]
  },
  {
   "cell_type": "code",
   "execution_count": 10,
   "metadata": {},
   "outputs": [
    {
     "name": "stdout",
     "output_type": "stream",
     "text": [
      "Dados inseridos com sucesso!\n"
     ]
    }
   ],
   "source": [
    "# Ela contém a relação entre tiny_id e inventory_id do ML\n",
    "# e não permite pares de valores duplicados entre (ml_inventory_id, tiny_id)\n",
    "\n",
    "conn = psycopg2.connect(**db_config)\n",
    "\n",
    "cursor = conn.cursor()\n",
    "\n",
    "for index, row in df.iterrows():\n",
    "    insert_query = sql.SQL(\n",
    "        \"INSERT INTO tiny_fulfillment (ml_sku, ml_inventory_id, ml_code, var_code, ad_title, tiny_sku, tiny_id, qtd_item) VALUES (%s, %s, %s, %s, %s, %s, %s, %s)\"\n",
    "    )\n",
    "    cursor.execute(\n",
    "        insert_query,\n",
    "        (\n",
    "            row[\"ml_sku\"],\n",
    "            row[\"ml_inventory_id\"],\n",
    "            row[\"ml_code\"],\n",
    "            row[\"var_code\"],\n",
    "            row[\"ad_title\"],\n",
    "            row[\"tiny_sku\"],\n",
    "            row[\"tiny_id\"],\n",
    "            row[\"qtd_item\"],\n",
    "        ),\n",
    "    )\n",
    "\n",
    "conn.commit()\n",
    "\n",
    "# Feche o cursor e a conexão\n",
    "cursor.close()\n",
    "conn.close()\n",
    "print(\"Dados inseridos com sucesso!\")"
   ]
  },
  {
   "cell_type": "code",
   "execution_count": 11,
   "metadata": {},
   "outputs": [
    {
     "data": {
      "text/html": [
       "<div>\n",
       "<style scoped>\n",
       "    .dataframe tbody tr th:only-of-type {\n",
       "        vertical-align: middle;\n",
       "    }\n",
       "\n",
       "    .dataframe tbody tr th {\n",
       "        vertical-align: top;\n",
       "    }\n",
       "\n",
       "    .dataframe thead th {\n",
       "        text-align: right;\n",
       "    }\n",
       "</style>\n",
       "<table border=\"1\" class=\"dataframe\">\n",
       "  <thead>\n",
       "    <tr style=\"text-align: right;\">\n",
       "      <th></th>\n",
       "      <th>ml_sku</th>\n",
       "      <th>ml_inventory_id</th>\n",
       "      <th>ml_code</th>\n",
       "      <th>var_code</th>\n",
       "      <th>ad_title</th>\n",
       "      <th>tiny_sku</th>\n",
       "      <th>tiny_id</th>\n",
       "      <th>qtd_item</th>\n",
       "    </tr>\n",
       "  </thead>\n",
       "  <tbody>\n",
       "    <tr>\n",
       "      <th>0</th>\n",
       "      <td>FULLNI5BM</td>\n",
       "      <td>DSGP06967</td>\n",
       "      <td>1992567302</td>\n",
       "      <td>1 Par 5B</td>\n",
       "      <td>1 Par Baquetas De Bateria Liverpool Nirvana 5a...</td>\n",
       "      <td>7897937421021</td>\n",
       "      <td>735947207</td>\n",
       "      <td>1</td>\n",
       "    </tr>\n",
       "    <tr>\n",
       "      <th>1</th>\n",
       "      <td>FULLNI7AM</td>\n",
       "      <td>DSGP06979</td>\n",
       "      <td>1992567302</td>\n",
       "      <td>1 Par 7A</td>\n",
       "      <td>1 Par Baquetas De Bateria Liverpool Nirvana 5a...</td>\n",
       "      <td>7897937421007</td>\n",
       "      <td>747848159</td>\n",
       "      <td>1</td>\n",
       "    </tr>\n",
       "    <tr>\n",
       "      <th>2</th>\n",
       "      <td>FULLNI5AM</td>\n",
       "      <td>JJSZ06277</td>\n",
       "      <td>1992567302</td>\n",
       "      <td>1 Par 5A</td>\n",
       "      <td>1 Par Baquetas De Bateria Liverpool Nirvana 5a...</td>\n",
       "      <td>7897937421014</td>\n",
       "      <td>698412654</td>\n",
       "      <td>1</td>\n",
       "    </tr>\n",
       "    <tr>\n",
       "      <th>3</th>\n",
       "      <td>FULLVANDOREN2CR1015</td>\n",
       "      <td>DGCL82617</td>\n",
       "      <td>2606294854</td>\n",
       "      <td>1,5</td>\n",
       "      <td>2 Palheta Clarinete Vandoren Tradicional 1 1,5...</td>\n",
       "      <td>7897626822009</td>\n",
       "      <td>749528560</td>\n",
       "      <td>2</td>\n",
       "    </tr>\n",
       "    <tr>\n",
       "      <th>4</th>\n",
       "      <td>FULLVANDOREN2CR102</td>\n",
       "      <td>GCYF86172</td>\n",
       "      <td>2606294854</td>\n",
       "      <td>2</td>\n",
       "      <td>2 Palheta Clarinete Vandoren Tradicional 1 1,5...</td>\n",
       "      <td>7897626822016</td>\n",
       "      <td>749530945</td>\n",
       "      <td>2</td>\n",
       "    </tr>\n",
       "    <tr>\n",
       "      <th>...</th>\n",
       "      <td>...</td>\n",
       "      <td>...</td>\n",
       "      <td>...</td>\n",
       "      <td>...</td>\n",
       "      <td>...</td>\n",
       "      <td>...</td>\n",
       "      <td>...</td>\n",
       "      <td>...</td>\n",
       "    </tr>\n",
       "    <tr>\n",
       "      <th>867</th>\n",
       "      <td>MD18SBKIT1PL1</td>\n",
       "      <td>NaN</td>\n",
       "      <td>980377955</td>\n",
       "      <td>NaN</td>\n",
       "      <td>Violão Elétrico Aço Tagima Memphis Md-18 Sunbu...</td>\n",
       "      <td>Palheta</td>\n",
       "      <td>565665071</td>\n",
       "      <td>6</td>\n",
       "    </tr>\n",
       "    <tr>\n",
       "      <th>868</th>\n",
       "      <td>7643D</td>\n",
       "      <td>OYUK51882</td>\n",
       "      <td>1363602423</td>\n",
       "      <td>NaN</td>\n",
       "      <td>Bocal Para Trompete Dolphin 7c Prateado Original</td>\n",
       "      <td>7897626876439</td>\n",
       "      <td>509636083</td>\n",
       "      <td>1</td>\n",
       "    </tr>\n",
       "    <tr>\n",
       "      <th>869</th>\n",
       "      <td>FULLBASSOVTSL52</td>\n",
       "      <td>BLHH53768</td>\n",
       "      <td>2004836143</td>\n",
       "      <td>NaN</td>\n",
       "      <td>Correia Guitarra Violão Baixo Basso Alça Couro...</td>\n",
       "      <td>7898529535775</td>\n",
       "      <td>729127557</td>\n",
       "      <td>1</td>\n",
       "    </tr>\n",
       "    <tr>\n",
       "      <th>870</th>\n",
       "      <td>FULLBASSOECOBASS02</td>\n",
       "      <td>NaN</td>\n",
       "      <td>2006362042</td>\n",
       "      <td>NaN</td>\n",
       "      <td>Correia Para Contra Baixo Basso 9 Cm Eco Couro...</td>\n",
       "      <td>7898529535720</td>\n",
       "      <td>729130774</td>\n",
       "      <td>1</td>\n",
       "    </tr>\n",
       "    <tr>\n",
       "      <th>871</th>\n",
       "      <td>FULLLIVERPOOLNI5AM</td>\n",
       "      <td>RKCI54992</td>\n",
       "      <td>2184288874</td>\n",
       "      <td>NaN</td>\n",
       "      <td>Baqueta Para Bateria Liverpool Nirvana Ecobio ...</td>\n",
       "      <td>7897937421014</td>\n",
       "      <td>698412654</td>\n",
       "      <td>1</td>\n",
       "    </tr>\n",
       "  </tbody>\n",
       "</table>\n",
       "<p>872 rows × 8 columns</p>\n",
       "</div>"
      ],
      "text/plain": [
       "                  ml_sku ml_inventory_id     ml_code  var_code  \\\n",
       "0              FULLNI5BM       DSGP06967  1992567302  1 Par 5B   \n",
       "1              FULLNI7AM       DSGP06979  1992567302  1 Par 7A   \n",
       "2              FULLNI5AM       JJSZ06277  1992567302  1 Par 5A   \n",
       "3    FULLVANDOREN2CR1015       DGCL82617  2606294854       1,5   \n",
       "4     FULLVANDOREN2CR102       GCYF86172  2606294854         2   \n",
       "..                   ...             ...         ...       ...   \n",
       "867        MD18SBKIT1PL1             NaN   980377955       NaN   \n",
       "868                7643D       OYUK51882  1363602423       NaN   \n",
       "869      FULLBASSOVTSL52       BLHH53768  2004836143       NaN   \n",
       "870   FULLBASSOECOBASS02             NaN  2006362042       NaN   \n",
       "871   FULLLIVERPOOLNI5AM       RKCI54992  2184288874       NaN   \n",
       "\n",
       "                                              ad_title       tiny_sku  \\\n",
       "0    1 Par Baquetas De Bateria Liverpool Nirvana 5a...  7897937421021   \n",
       "1    1 Par Baquetas De Bateria Liverpool Nirvana 5a...  7897937421007   \n",
       "2    1 Par Baquetas De Bateria Liverpool Nirvana 5a...  7897937421014   \n",
       "3    2 Palheta Clarinete Vandoren Tradicional 1 1,5...  7897626822009   \n",
       "4    2 Palheta Clarinete Vandoren Tradicional 1 1,5...  7897626822016   \n",
       "..                                                 ...            ...   \n",
       "867  Violão Elétrico Aço Tagima Memphis Md-18 Sunbu...        Palheta   \n",
       "868   Bocal Para Trompete Dolphin 7c Prateado Original  7897626876439   \n",
       "869  Correia Guitarra Violão Baixo Basso Alça Couro...  7898529535775   \n",
       "870  Correia Para Contra Baixo Basso 9 Cm Eco Couro...  7898529535720   \n",
       "871  Baqueta Para Bateria Liverpool Nirvana Ecobio ...  7897937421014   \n",
       "\n",
       "       tiny_id  qtd_item  \n",
       "0    735947207         1  \n",
       "1    747848159         1  \n",
       "2    698412654         1  \n",
       "3    749528560         2  \n",
       "4    749530945         2  \n",
       "..         ...       ...  \n",
       "867  565665071         6  \n",
       "868  509636083         1  \n",
       "869  729127557         1  \n",
       "870  729130774         1  \n",
       "871  698412654         1  \n",
       "\n",
       "[872 rows x 8 columns]"
      ]
     },
     "execution_count": 11,
     "metadata": {},
     "output_type": "execute_result"
    }
   ],
   "source": [
    "df"
   ]
  },
  {
   "cell_type": "code",
   "execution_count": null,
   "metadata": {},
   "outputs": [],
   "source": []
  }
 ],
 "metadata": {
  "kernelspec": {
   "display_name": "venv",
   "language": "python",
   "name": "python3"
  },
  "language_info": {
   "codemirror_mode": {
    "name": "ipython",
    "version": 3
   },
   "file_extension": ".py",
   "mimetype": "text/x-python",
   "name": "python",
   "nbconvert_exporter": "python",
   "pygments_lexer": "ipython3",
   "version": "3.10.12"
  }
 },
 "nbformat": 4,
 "nbformat_minor": 2
}
