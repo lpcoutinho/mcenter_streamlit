{
 "cells": [
  {
   "cell_type": "code",
   "execution_count": 1,
   "metadata": {},
   "outputs": [],
   "source": [
    "import json\n",
    "import os\n",
    "import time\n",
    "from pandas import json_normalize\n",
    "import psycopg2\n",
    "from psycopg2 import sql\n",
    "import math\n",
    "import pandas as pd\n",
    "import requests\n",
    "from dotenv import load_dotenv\n",
    "from datetime import datetime, timedelta\n",
    "import numpy as np\n",
    "\n",
    "load_dotenv()\n",
    "\n",
    "ACCESS_TOKEN = os.getenv(\"ACCESS_TOKEN\")\n",
    "HOST = os.getenv(\"HOST\")\n",
    "POSTGRES_DB = os.getenv(\"POSTGRES_DB\")\n",
    "POSTGRES_USER = os.getenv(\"POSTGRES_USER\")\n",
    "POSTGRES_PASSWORD = os.getenv(\"POSTGRES_PASSWORD\")\n",
    "\n",
    "\n",
    "# Informações de conexão com o banco de dados PostgreSQL\n",
    "db_config = {\n",
    "    \"host\": HOST,\n",
    "    \"database\": POSTGRES_DB,\n",
    "    \"user\": POSTGRES_USER,\n",
    "    \"password\": POSTGRES_PASSWORD,\n",
    "}\n",
    "\n",
    "# Registra o tempo antes da execução\n",
    "start_prog = time.time()"
   ]
  },
  {
   "cell_type": "markdown",
   "metadata": {},
   "source": [
    "#### Verificando dados de usuário"
   ]
  },
  {
   "cell_type": "code",
   "execution_count": 2,
   "metadata": {},
   "outputs": [
    {
     "name": "stdout",
     "output_type": "stream",
     "text": [
      "{\"id\":233632476,\"nickname\":\"MUSICALCENTERPG\",\"registration_date\":\"2016-11-05T17:35:04.000-04:00\",\"first_name\":\"MUSICAL CENTER PONTA\",\"last_name\":\"GROSSA EIRELI -\",\"gender\":\"\",\"country_id\":\"BR\",\"email\":\"musicalc168@gmail.com\",\"identification\":{\"number\":\"10885874000127\",\"type\":\"CNPJ\"},\"address\":{\"address\":\"Estrada da Gruta 775\",\"city\":\"Louveira\",\"state\":\"BR-SP\",\"zip_code\":\"13290431\"},\"phone\":{\"area_code\":\"19\",\"extension\":\"\",\"number\":\"38787702\",\"verified\":false},\"alternative_phone\":{\"area_code\":\"\",\"extension\":\"\",\"number\":\"\"},\"user_type\":\"brand\",\"tags\":[\"brand\",\"large_seller\",\"eshop\",\"mshops\",\"messages_as_seller\"],\"logo\":null,\"points\":4534,\"site_id\":\"MLB\",\"permalink\":\"http://perfil.mercadolivre.com.br/MUSICALCENTERPG\",\"seller_experience\":\"ADVANCED\",\"bill_data\":{\"accept_credit_note\":\"Y\"},\"seller_reputation\":{\"level_id\":\"5_green\",\"power_seller_status\":\"platinum\",\"transactions\":{\"canceled\":1546,\"completed\":33959,\"period\":\"historic\",\"ratings\":{\"negative\":0.05,\"neutral\":0.03,\"positive\":0.92},\"total\":35505},\"metrics\":{\"sales\":{\"period\":\"60 days\",\"completed\":9563},\"claims\":{\"period\":\"60 days\",\"rate\":0.0034,\"value\":34},\"delayed_handling_time\":{\"period\":\"60 days\",\"rate\":0.0026,\"value\":25},\"cancellations\":{\"period\":\"60 days\",\"rate\":0.0008,\"value\":8}}},\"buyer_reputation\":{\"canceled_transactions\":0,\"tags\":[],\"transactions\":{\"canceled\":{\"paid\":null,\"total\":null},\"completed\":null,\"not_yet_rated\":{\"paid\":null,\"total\":null,\"units\":null},\"period\":\"historic\",\"total\":null,\"unrated\":{\"paid\":null,\"total\":null}}},\"status\":{\"billing\":{\"allow\":true,\"codes\":[]},\"buy\":{\"allow\":true,\"codes\":[],\"immediate_payment\":{\"reasons\":[],\"required\":false}},\"confirmed_email\":true,\"shopping_cart\":{\"buy\":\"allowed\",\"sell\":\"allowed\"},\"immediate_payment\":false,\"list\":{\"allow\":true,\"codes\":[],\"immediate_payment\":{\"reasons\":[],\"required\":false}},\"mercadoenvios\":\"not_accepted\",\"mercadopago_account_type\":\"personal\",\"mercadopago_tc_accepted\":true,\"required_action\":null,\"sell\":{\"allow\":true,\"codes\":[],\"immediate_payment\":{\"reasons\":[],\"required\":false}},\"site_status\":\"active\",\"user_type\":\"complete_registration\"},\"secure_email\":\"mmusica.2kmfbv@mail.mercadolivre.com\",\"company\":{\"brand_name\":\"MUSICAL CENTER\",\"city_tax_id\":\"\",\"corporate_name\":\"MUSICAL CENTER PONTA GROSSA EIRELI -\",\"identification\":\"10885874000127\",\"state_tax_id\":\"421102074116\",\"cust_type_id\":\"BU\",\"soft_descriptor\":\"MUSICALCENTER\"},\"credit\":{\"consumed\":8697.3,\"credit_level_id\":\"MLB1\",\"rank\":\"premium\"},\"context\":{\"device\":\"web-desktop\",\"flow\":\"normal\",\"ip_address\":\"177.156.92.94\",\"source\":\"mercadopago\"},\"thumbnail\":{\"picture_id\":\"985797-MLA40654312205_022020\",\"picture_url\":\"https://mla-s2-p.mlstatic.com/985797-MLA40654312205_022020-O.jpg\"},\"registration_identifiers\":[]}\n"
     ]
    }
   ],
   "source": [
    "#### Verificando dados de usuário\n",
    "url = \"https://api.mercadolibre.com/users/me\"\n",
    "\n",
    "payload = {}\n",
    "headers = {\"Authorization\": f\"Bearer {ACCESS_TOKEN}\"}\n",
    "\n",
    "response = requests.request(\"GET\", url, headers=headers, data=payload)\n",
    "response = response.text\n",
    "\n",
    "print(response)"
   ]
  },
  {
   "cell_type": "code",
   "execution_count": 23,
   "metadata": {},
   "outputs": [
    {
     "data": {
      "text/plain": [
       "8.836190476190476"
      ]
     },
     "execution_count": 23,
     "metadata": {},
     "output_type": "execute_result"
    }
   ],
   "source": [
    "tempo_350_item = 10\n",
    "total_item = 18556\n",
    "\n",
    "\n",
    "x = (tempo_350_item*total_item)/350\n",
    "x /60"
   ]
  },
  {
   "cell_type": "code",
   "execution_count": 19,
   "metadata": {},
   "outputs": [
    {
     "data": {
      "text/plain": [
       "8.836190476190476"
      ]
     },
     "execution_count": 19,
     "metadata": {},
     "output_type": "execute_result"
    }
   ],
   "source": []
  },
  {
   "cell_type": "code",
   "execution_count": null,
   "metadata": {},
   "outputs": [],
   "source": [
    "# Selecionar data da pesquisa\n",
    "date_from = \"2023-10-29\"\n",
    "date_to = \"2023-12-25\"\n",
    "\n",
    "# URL base da API\n",
    "base_url = \"https://api.mercadolibre.com/orders/search\"\n",
    "\n",
    "# Parâmetros iniciais\n",
    "params = {\n",
    "    \"seller\": \"233632476\",\n",
    "    \"order.date_closed.from\": f\"{date_from}T00:00:00.000-03:00\",\n",
    "    \"order.date_closed.to\": f\"{date_to}T00:00:00.000-03:00\",\n",
    "    \"limit\": 50,\n",
    "    \"offset\": 0,\n",
    "}\n",
    "\n",
    "headers = {\"Authorization\": f\"Bearer {ACCESS_TOKEN}\"}\n",
    "\n",
    "json_list = []\n",
    "\n",
    "counter = 0\n",
    "\n",
    "# Paginando e coletando dados de orders\n",
    "try:\n",
    "    while True:\n",
    "        response = requests.get(base_url, params=params, headers=headers)\n",
    "        response.raise_for_status()  # Lança uma exceção se a resposta não for bem-sucedida\n",
    "        data = response.json()\n",
    "\n",
    "        if \"results\" in data:\n",
    "            json_list.extend(data[\"results\"])\n",
    "        else:\n",
    "            break\n",
    "\n",
    "        # Verifique se há mais páginas\n",
    "        if \"paging\" in data:\n",
    "            total_paging = data[\"paging\"].get(\"total\")\n",
    "            if total_paging is None:\n",
    "                break\n",
    "\n",
    "            total_pages = math.ceil(total_paging / params[\"limit\"])\n",
    "            print(f\"Total esperado de páginas: {counter}/{total_pages}\")\n",
    "            print(f'Offset atual: {params[\"offset\"]}')\n",
    "\n",
    "            counter += 1\n",
    "            if params[\"offset\"] >= total_paging:\n",
    "                break\n",
    "\n",
    "            params[\"offset\"] += params[\"limit\"]\n",
    "        else:\n",
    "            break\n",
    "\n",
    "except requests.exceptions.RequestException as req_err:\n",
    "    print(f\"Erro ao fazer a requisição para {base_url}: {req_err}\")\n",
    "\n",
    "except Exception as e:\n",
    "    print(f\"Erro não esperado: {e}\")\n",
    "\n",
    "print(f\"Total de dados coletados: {len(json_list)}\")"
   ]
  },
  {
   "cell_type": "code",
   "execution_count": null,
   "metadata": {},
   "outputs": [],
   "source": [
    "print(len(json_list))\n",
    "json_list"
   ]
  },
  {
   "cell_type": "markdown",
   "metadata": {},
   "source": [
    "### Coletando dados de pagamento\n"
   ]
  },
  {
   "cell_type": "code",
   "execution_count": null,
   "metadata": {},
   "outputs": [],
   "source": [
    "meta_cols = [\"date_closed\", \"pack_id\", \"shipping\", \"order_items\", \"fulfilled\"]\n",
    "\n",
    "df_payments = json_normalize(json_list, record_path=[\"payments\"], meta=meta_cols)"
   ]
  },
  {
   "cell_type": "code",
   "execution_count": null,
   "metadata": {},
   "outputs": [],
   "source": [
    "df_payments.columns"
   ]
  },
  {
   "cell_type": "code",
   "execution_count": null,
   "metadata": {},
   "outputs": [],
   "source": [
    "cols = [\"date_approved\", \"status\", \"shipping\", \"fulfilled\"]\n",
    "df_payments = df_payments[cols]\n",
    "\n",
    "col = {\"status\": \"payment_status\"}\n",
    "df_payments.rename(columns=col, inplace=True)"
   ]
  },
  {
   "cell_type": "code",
   "execution_count": null,
   "metadata": {},
   "outputs": [],
   "source": [
    "df_payments.head(1)"
   ]
  },
  {
   "cell_type": "code",
   "execution_count": null,
   "metadata": {},
   "outputs": [],
   "source": [
    "# Removendo valores nulos\n",
    "print(df_payments.shape)\n",
    "df_payments = df_payments.dropna(subset=[\"date_approved\"])\n",
    "print(df_payments.shape)"
   ]
  },
  {
   "cell_type": "code",
   "execution_count": null,
   "metadata": {},
   "outputs": [],
   "source": [
    "# Extraindo shipping_id\n",
    "df_payments[\"shipping_id\"] = df_payments[\"shipping\"].apply(lambda x: x[\"id\"])\n",
    "df_payments[\"shipping_id\"] = (\n",
    "    df_payments[\"shipping_id\"]\n",
    "    .astype(str)\n",
    "    .apply(lambda x: x.split(\".\")[0] if \".\" in x else x)\n",
    ")\n",
    "df_payments = df_payments.drop(\"shipping\", axis=1)\n",
    "df_payments.head(1)"
   ]
  },
  {
   "cell_type": "code",
   "execution_count": null,
   "metadata": {},
   "outputs": [],
   "source": [
    "df_payments[\"shipping_id\"].value_counts()"
   ]
  },
  {
   "cell_type": "code",
   "execution_count": null,
   "metadata": {},
   "outputs": [],
   "source": [
    "print(df_payments.shape)"
   ]
  },
  {
   "cell_type": "code",
   "execution_count": null,
   "metadata": {},
   "outputs": [],
   "source": [
    "df_payments = df_payments.drop_duplicates()\n",
    "df_payments.sample()"
   ]
  },
  {
   "cell_type": "code",
   "execution_count": null,
   "metadata": {},
   "outputs": [],
   "source": [
    "# Encontrando os índices das linhas com a data mais recente para cada shipping_id\n",
    "indices_recentes = df_payments.groupby(\"shipping_id\")[\"date_approved\"].idxmax()\n",
    "indices_recentes"
   ]
  },
  {
   "cell_type": "code",
   "execution_count": null,
   "metadata": {},
   "outputs": [],
   "source": [
    "# Verificando se existe mais de um envio\n",
    "df_payments[\"shipping_id\"].value_counts()[df_payments[\"shipping_id\"].value_counts() > 1]"
   ]
  },
  {
   "cell_type": "code",
   "execution_count": null,
   "metadata": {},
   "outputs": [],
   "source": [
    "# Criando um novo DataFrame com base nos índices de envio encontrados\n",
    "df_payments = df_payments.loc[indices_recentes]\n",
    "df_payments = df_payments.loc[df_payments[\"shipping_id\"] != \"nan\"]\n",
    "\n",
    "df_payments[\"shipping_id\"].value_counts()[df_payments[\"shipping_id\"].value_counts() > 1]"
   ]
  },
  {
   "cell_type": "code",
   "execution_count": null,
   "metadata": {},
   "outputs": [],
   "source": [
    "print(df_payments.shape)\n",
    "df_payments"
   ]
  },
  {
   "cell_type": "code",
   "execution_count": null,
   "metadata": {},
   "outputs": [],
   "source": [
    "df_payments[\"payment_status\"].value_counts()"
   ]
  },
  {
   "cell_type": "code",
   "execution_count": null,
   "metadata": {},
   "outputs": [],
   "source": [
    "df_payments[\"shipping_id\"].value_counts()"
   ]
  },
  {
   "cell_type": "markdown",
   "metadata": {},
   "source": [
    "### Coletando dados de orders"
   ]
  },
  {
   "cell_type": "code",
   "execution_count": null,
   "metadata": {},
   "outputs": [],
   "source": [
    "df_orders = json_normalize(\n",
    "    json_list,\n",
    "    record_path=[\"order_items\"],\n",
    "    meta=[\"date_closed\", \"pack_id\", \"status\", \"shipping\"],\n",
    ")\n",
    "\n",
    "## pd.set_option('display.max_columns', None)\n",
    "df_orders.columns"
   ]
  },
  {
   "cell_type": "code",
   "execution_count": null,
   "metadata": {},
   "outputs": [],
   "source": [
    "df_orders[\"item.variation_id\"].value_counts()"
   ]
  },
  {
   "cell_type": "code",
   "execution_count": null,
   "metadata": {},
   "outputs": [],
   "source": [
    "cols = [\n",
    "    \"quantity\",\n",
    "    \"item.id\",\n",
    "    \"item.title\",\n",
    "    \"item.category_id\",\n",
    "    \"item.variation_id\",\n",
    "    \"item.seller_sku\",\n",
    "    \"date_closed\",\n",
    "    \"pack_id\",\n",
    "    \"status\",\n",
    "    \"shipping\",\n",
    "]\n",
    "\n",
    "df_orders = df_orders[cols]\n",
    "df_orders[\"item.variation_id\"] = (\n",
    "    df_orders[\"item.variation_id\"]\n",
    "    .astype(str)\n",
    "    .apply(lambda x: x.split(\".\")[0] if \".\" in x else x)\n",
    ")\n",
    "\n",
    "df_orders.sample(5)"
   ]
  },
  {
   "cell_type": "code",
   "execution_count": null,
   "metadata": {},
   "outputs": [],
   "source": [
    "# Extraindo shipping_id\n",
    "df_orders[\"shipping_id\"] = df_orders[\"shipping\"].apply(lambda x: x[\"id\"])\n",
    "df_orders[\"shipping_id\"] = (\n",
    "    df_orders[\"shipping_id\"]\n",
    "    .astype(str)\n",
    "    .apply(lambda x: x.split(\".\")[0] if \".\" in x else x)\n",
    ")\n",
    "df_orders = df_orders.drop(\"shipping\", axis=1)"
   ]
  },
  {
   "cell_type": "code",
   "execution_count": null,
   "metadata": {},
   "outputs": [],
   "source": [
    "df_orders.sample(10)"
   ]
  },
  {
   "cell_type": "code",
   "execution_count": null,
   "metadata": {},
   "outputs": [],
   "source": [
    "valores_unicos = df_orders[\"shipping_id\"].value_counts()\n",
    "valores_unicos"
   ]
  },
  {
   "cell_type": "code",
   "execution_count": null,
   "metadata": {},
   "outputs": [],
   "source": [
    "df_orders.shape"
   ]
  },
  {
   "cell_type": "markdown",
   "metadata": {},
   "source": [
    "### Unindo DFs de pagamentos e vendas"
   ]
  },
  {
   "cell_type": "code",
   "execution_count": null,
   "metadata": {},
   "outputs": [],
   "source": [
    "df_resultado = pd.merge(df_orders, df_payments, on=\"shipping_id\", how=\"left\")\n",
    "df_resultado.sample(5)"
   ]
  },
  {
   "cell_type": "code",
   "execution_count": null,
   "metadata": {},
   "outputs": [],
   "source": [
    "df_resultado.shape"
   ]
  },
  {
   "cell_type": "code",
   "execution_count": null,
   "metadata": {},
   "outputs": [],
   "source": [
    "cols = {\n",
    "    \"item.id\": \"ml_code\",\n",
    "    \"item.category_id\": \"category_id\",\n",
    "    \"item.variation_id\": \"variation_id\",\n",
    "    \"item.seller_sku\": \"seller_sku\",\n",
    "    \"item.title\": \"title\",\n",
    "    \"status\": \"order_status\",\n",
    "}\n",
    "df_resultado.rename(columns=cols, inplace=True)\n",
    "df_resultado.sample()"
   ]
  },
  {
   "cell_type": "code",
   "execution_count": null,
   "metadata": {},
   "outputs": [],
   "source": [
    "print(df_resultado.shape)\n",
    "df_resultado = df_resultado.dropna(subset=[\"date_approved\"])\n",
    "print(df_resultado.shape)"
   ]
  },
  {
   "cell_type": "markdown",
   "metadata": {},
   "source": [
    "## Lendo a tabela"
   ]
  },
  {
   "cell_type": "code",
   "execution_count": null,
   "metadata": {},
   "outputs": [],
   "source": [
    "# Buscando histórico de vendas na tabela ml_orders_hist para o período definido\n",
    "try:\n",
    "    conn = psycopg2.connect(**db_config)\n",
    "\n",
    "    # Construa a consulta SQL com a condição de data\n",
    "    sql_query = f\"SELECT * FROM ml_orders_hist\"\n",
    "    print(sql_query)\n",
    "    # Execute a consulta e leia os dados em um DataFrame\n",
    "    df_orders = pd.read_sql(sql_query, conn)\n",
    "\n",
    "except psycopg2.Error as e:\n",
    "    print(f\"Erro do psycopg2 ao consultar ml_orders_hist: {e}\")\n",
    "    # logger.error(f\"Erro do psycopg2 ao consultar ml_orders_hist: {e}\")\n",
    "\n",
    "except Exception as e:\n",
    "    print(f\"Erro ao consultar ml_orders_hist: {e}\")\n",
    "    # logger.error(f\"Erro ao consultar ml_orders_hist: {e}\")\n",
    "\n",
    "finally:\n",
    "    if conn is not None:\n",
    "        conn.close()"
   ]
  },
  {
   "cell_type": "code",
   "execution_count": null,
   "metadata": {},
   "outputs": [],
   "source": [
    "print(df_orders.shape)\n",
    "df_orders.sort_values(by='date_closed', ascending=False).head(3)"
   ]
  },
  {
   "cell_type": "markdown",
   "metadata": {},
   "source": [
    "### Populando a tabela"
   ]
  },
  {
   "cell_type": "code",
   "execution_count": null,
   "metadata": {},
   "outputs": [],
   "source": [
    "cols = ['ml_code','category_id','variation_id','seller_sku','pack_id','quantity','title','order_status','payment_status','shipping_id','date_approved','date_closed','fulfilled']\n",
    "df_resultado = df_resultado[cols]\n",
    "df_resultado.columns"
   ]
  },
  {
   "cell_type": "code",
   "execution_count": null,
   "metadata": {},
   "outputs": [],
   "source": [
    "df_resultado.sort_values(by='date_closed', ascending=False).head(3)"
   ]
  },
  {
   "cell_type": "code",
   "execution_count": null,
   "metadata": {},
   "outputs": [],
   "source": [
    "df_orders.sort_values(by='date_closed', ascending=False).head(3)"
   ]
  },
  {
   "cell_type": "code",
   "execution_count": null,
   "metadata": {},
   "outputs": [],
   "source": [
    "merged_df = pd.merge(df_resultado, df_orders, on='ID', how='left', indicator=True)\n",
    "merged_df"
   ]
  },
  {
   "cell_type": "code",
   "execution_count": null,
   "metadata": {},
   "outputs": [],
   "source": [
    "import pandas as pd\n",
    "\n",
    "# Exemplo de DataFrames\n",
    "data_resultado = {'ID': [1, 2, 3, 4, 5],\n",
    "                  'Resultado': ['A', 'B', 'C', 'D', 'E']}\n",
    "df_resultado = pd.DataFrame(data_resultado)\n",
    "\n",
    "data_orders = {'ID': [2, 4, 6, 8, 10],\n",
    "               'Quantidade': [20, 40, 60, 80, 100]}\n",
    "df_orders = pd.DataFrame(data_orders)\n",
    "\n",
    "# Realizar a comparação\n",
    "merged_df = pd.merge(df_resultado, df_orders, on=['ml_code', 'seller_sku'], how='left', indicator=True)\n",
    "\n",
    "# Filtrar apenas as linhas que estão em df_resultado e não em df_orders\n",
    "resultado_exclusivo = merged_df[merged_df['_merge'] == 'left_only']\n",
    "\n",
    "# Exibir o resultado\n",
    "resultado_exclusivo"
   ]
  },
  {
   "cell_type": "code",
   "execution_count": null,
   "metadata": {},
   "outputs": [],
   "source": []
  },
  {
   "cell_type": "code",
   "execution_count": null,
   "metadata": {},
   "outputs": [],
   "source": [
    "# Ela contém a relação entre tiny_id e inventory_id do ML\n",
    "# e não permite pares de valores duplicados entre (ml_inventory_id, tiny_id)\n",
    "\n",
    "conn = psycopg2.connect(**db_config)\n",
    "\n",
    "cursor = conn.cursor()\n",
    "\n",
    "for index, row in df_resultado.iterrows():\n",
    "    insert_query = sql.SQL(\n",
    "        \"INSERT INTO ml_orders_hist (ml_code,category_id,variation_id,seller_sku,pack_id,quantity,title,order_status,payment_status,shipping_id,date_approved,date_closed,fulfilled) VALUES (%s, %s, %s,%s, %s, %s,%s, %s, %s,%s, %s, %s, %s)\"\n",
    "    )\n",
    "    cursor.execute(\n",
    "        insert_query,\n",
    "        (\n",
    "            row[\"ml_code\"],\n",
    "            row[\"category_id\"],\n",
    "            row[\"variation_id\"],\n",
    "            row[\"seller_sku\"],\n",
    "            row[\"pack_id\"],\n",
    "            row[\"quantity\"],\n",
    "            row[\"title\"],\n",
    "            row[\"order_status\"],\n",
    "            row[\"payment_status\"],\n",
    "            row[\"shipping_id\"],\n",
    "            row[\"date_approved\"],\n",
    "            row[\"date_closed\"],\n",
    "            row[\"fulfilled\"],\n",
    "        ),\n",
    "    )\n",
    "\n",
    "conn.commit()\n",
    "\n",
    "# Feche o cursor e a conexão\n",
    "cursor.close()\n",
    "conn.close()\n",
    "print(\"Dados inseridos com sucesso!\")"
   ]
  },
  {
   "cell_type": "code",
   "execution_count": null,
   "metadata": {},
   "outputs": [],
   "source": []
  }
 ],
 "metadata": {
  "kernelspec": {
   "display_name": "venv",
   "language": "python",
   "name": "python3"
  },
  "language_info": {
   "codemirror_mode": {
    "name": "ipython",
    "version": 3
   },
   "file_extension": ".py",
   "mimetype": "text/x-python",
   "name": "python",
   "nbconvert_exporter": "python",
   "pygments_lexer": "ipython3",
   "version": "3.12.0"
  }
 },
 "nbformat": 4,
 "nbformat_minor": 2
}
