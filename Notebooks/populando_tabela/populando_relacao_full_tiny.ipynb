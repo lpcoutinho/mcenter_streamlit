{
 "cells": [
  {
   "cell_type": "code",
   "execution_count": 18,
   "metadata": {},
   "outputs": [],
   "source": [
    "import os\n",
    "import psycopg2\n",
    "from psycopg2 import sql\n",
    "import pandas as pd\n",
    "from dotenv import load_dotenv\n",
    "from sqlalchemy import create_engine\n",
    "\n",
    "\n",
    "load_dotenv()\n",
    "\n",
    "HOST = os.getenv(\"HOST\")\n",
    "POSTGRES_DB = os.getenv(\"POSTGRES_DB\")\n",
    "POSTGRES_USER = os.getenv(\"POSTGRES_USER\")\n",
    "POSTGRES_PASSWORD = os.getenv(\"POSTGRES_PASSWORD\")\n",
    "\n",
    "\n",
    "# Informações de conexão com o banco de dados PostgreSQL\n",
    "db_config = {\n",
    "    \"host\": HOST,\n",
    "    \"database\": POSTGRES_DB,\n",
    "    \"user\": POSTGRES_USER,\n",
    "    \"password\": POSTGRES_PASSWORD,\n",
    "}"
   ]
  },
  {
   "cell_type": "code",
   "execution_count": 19,
   "metadata": {},
   "outputs": [],
   "source": [
    "# carregando tabela\n",
    "file_path = \"../../Data/Base/relacao_full_tiny.xlsx\"\n",
    "mcenter = \"Musical\"\n",
    "cristiano = \"Cristiano\"\n",
    "bueno = \"M A Bueno\"\n",
    "\n",
    "df_mcenter = pd.read_excel(file_path, sheet_name=mcenter)\n",
    "df_cristiano = pd.read_excel(file_path, sheet_name=cristiano)\n",
    "df_bueno = pd.read_excel(file_path, sheet_name=bueno)"
   ]
  },
  {
   "cell_type": "code",
   "execution_count": 20,
   "metadata": {},
   "outputs": [],
   "source": [
    "# df_mcenter\n",
    "# df_cristiano\n",
    "# df_bueno"
   ]
  },
  {
   "cell_type": "code",
   "execution_count": 21,
   "metadata": {},
   "outputs": [
    {
     "data": {
      "text/plain": [
       "inventory_id          object\n",
       "ml_code               object\n",
       "SKU                   object\n",
       "Título do anúncio     object\n",
       "ID Tiny                int64\n",
       "SKU Tiny              object\n",
       "Quantidade do item     int64\n",
       "Tipo de produto       object\n",
       "dtype: object"
      ]
     },
     "execution_count": 21,
     "metadata": {},
     "output_type": "execute_result"
    }
   ],
   "source": [
    "df_mcenter\n",
    "df_cristiano\n",
    "df_bueno.dtypes"
   ]
  },
  {
   "cell_type": "code",
   "execution_count": 22,
   "metadata": {},
   "outputs": [],
   "source": [
    "df_mcenter[\"ID Tiny\"] = df_mcenter[\"ID Tiny\"].astype(str)\n",
    "df_cristiano[\"ID Tiny\"] = df_cristiano[\"ID Tiny\"].astype(str)\n",
    "df_bueno[\"ID Tiny\"] = df_bueno[\"ID Tiny\"].astype(str)"
   ]
  },
  {
   "cell_type": "code",
   "execution_count": 23,
   "metadata": {},
   "outputs": [
    {
     "data": {
      "text/plain": [
       "inventory_id          object\n",
       "ml_code               object\n",
       "SKU                   object\n",
       "Título do anúncio     object\n",
       "ID Tiny               object\n",
       "SKU Tiny              object\n",
       "Quantidade do item     int64\n",
       "Tipo de produto       object\n",
       "dtype: object"
      ]
     },
     "execution_count": 23,
     "metadata": {},
     "output_type": "execute_result"
    }
   ],
   "source": [
    "df_bueno.dtypes"
   ]
  },
  {
   "cell_type": "code",
   "execution_count": 24,
   "metadata": {},
   "outputs": [],
   "source": [
    "## populando base de dados\n",
    "conn_db = create_engine(\n",
    "    f\"postgresql://{POSTGRES_USER}:{POSTGRES_PASSWORD}@{HOST}/{POSTGRES_DB}\"\n",
    ")"
   ]
  },
  {
   "cell_type": "code",
   "execution_count": 25,
   "metadata": {},
   "outputs": [
    {
     "data": {
      "text/plain": [
       "499"
      ]
     },
     "execution_count": 25,
     "metadata": {},
     "output_type": "execute_result"
    }
   ],
   "source": [
    "# Nome da tabela no PostgreSQL\n",
    "table_mcenter = \"tiny_fulfillment_mcenter\"\n",
    "table_cris = \"tiny_fulfillment_cris\"\n",
    "table_bueno = \"tiny_fulfillment_bueno\"\n",
    "\n",
    "# Inserir dados na tabela\n",
    "df_mcenter.to_sql(table_mcenter, conn_db, index=False, if_exists=\"replace\")\n",
    "df_cristiano.to_sql(table_cris, conn_db, index=False, if_exists=\"replace\")\n",
    "df_bueno.to_sql(table_bueno, conn_db, index=False, if_exists=\"replace\")"
   ]
  },
  {
   "cell_type": "code",
   "execution_count": null,
   "metadata": {},
   "outputs": [],
   "source": [
    "# Confirmar a inserção\n",
    "query = f\"SELECT * FROM {table_mcenter};\"\n",
    "result = pd.read_sql_query(query, conn_db)\n",
    "result"
   ]
  },
  {
   "cell_type": "code",
   "execution_count": null,
   "metadata": {},
   "outputs": [],
   "source": [
    "query = f\"SELECT * FROM {table_cris};\"\n",
    "result = pd.read_sql_query(query, conn_db)\n",
    "result"
   ]
  },
  {
   "cell_type": "code",
   "execution_count": null,
   "metadata": {},
   "outputs": [],
   "source": [
    "query = f\"SELECT * FROM {table_bueno};\"\n",
    "result = pd.read_sql_query(query, conn_db)\n",
    "result"
   ]
  },
  {
   "cell_type": "code",
   "execution_count": null,
   "metadata": {},
   "outputs": [],
   "source": []
  }
 ],
 "metadata": {
  "kernelspec": {
   "display_name": "venv",
   "language": "python",
   "name": "python3"
  },
  "language_info": {
   "codemirror_mode": {
    "name": "ipython",
    "version": 3
   },
   "file_extension": ".py",
   "mimetype": "text/x-python",
   "name": "python",
   "nbconvert_exporter": "python",
   "pygments_lexer": "ipython3",
   "version": "3.12.0"
  }
 },
 "nbformat": 4,
 "nbformat_minor": 2
}
