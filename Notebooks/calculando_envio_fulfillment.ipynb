{
 "cells": [
  {
   "cell_type": "markdown",
   "metadata": {},
   "source": [
    "Depositos para enviar, orderm de preferencia:\n",
    "musical_matriz\n",
    "musical_filal\n",
    "em seguida onde houver mais estoque\n",
    "\n",
    "\n",
    "onde days_available = 0 criar observação onde informa que há muito tempo sem estoque"
   ]
  },
  {
   "cell_type": "code",
   "execution_count": 1,
   "metadata": {},
   "outputs": [],
   "source": [
    "import json\n",
    "import os\n",
    "import time\n",
    "from pandas import json_normalize\n",
    "import psycopg2\n",
    "from psycopg2 import sql\n",
    "import math\n",
    "import pandas as pd\n",
    "import requests\n",
    "from dotenv import load_dotenv\n",
    "from datetime import datetime, timedelta\n",
    "import numpy as np\n",
    "\n",
    "load_dotenv()\n",
    "\n",
    "ACCESS_TOKEN = os.getenv(\"ACCESS_TOKEN\")\n",
    "HOST = os.getenv(\"HOST\")\n",
    "POSTGRES_DB = os.getenv(\"POSTGRES_DB\")\n",
    "POSTGRES_USER = os.getenv(\"POSTGRES_USER\")\n",
    "POSTGRES_PASSWORD = os.getenv(\"POSTGRES_PASSWORD\")\n",
    "\n",
    "\n",
    "# Informações de conexão com o banco de dados PostgreSQL\n",
    "db_config = {\n",
    "    \"host\": HOST,\n",
    "    \"database\": POSTGRES_DB,\n",
    "    \"user\": POSTGRES_USER,\n",
    "    \"password\": POSTGRES_PASSWORD,\n",
    "}"
   ]
  },
  {
   "cell_type": "code",
   "execution_count": 2,
   "metadata": {},
   "outputs": [],
   "source": [
    "def condf(df, coluna, valor):\n",
    "    \"\"\"\n",
    "    Consulta um DataFrame com base em uma coluna e valor específicos.\n",
    "\n",
    "    Parâmetros:\n",
    "    - df: DataFrame a ser consultado.\n",
    "    - coluna: Nome da coluna para a condição de consulta.\n",
    "    - valor: Valor desejado na coluna.\n",
    "\n",
    "    Retorna:\n",
    "    Um DataFrame contendo apenas as linhas que atendem à condição.\n",
    "    \"\"\"\n",
    "    resultado = df[df[coluna] == valor]\n",
    "    return resultado\n",
    "\n",
    "\n",
    "def condf_date(df, coluna_data, data_pesquisada):\n",
    "    \"\"\"\n",
    "    Consulta um DataFrame com base em uma coluna de datas.\n",
    "\n",
    "    Parâmetros:\n",
    "    - df: DataFrame a ser consultado.\n",
    "    - coluna_data: Nome da coluna de datas.\n",
    "    - data_pesquisada: Data desejada para a consulta.\n",
    "\n",
    "    Retorna:\n",
    "    Um DataFrame contendo apenas as linhas que correspondem à data pesquisada.\n",
    "    \"\"\"\n",
    "    resultado = df[pd.to_datetime(df[coluna_data]).dt.date == data_pesquisada]\n",
    "    return resultado"
   ]
  },
  {
   "cell_type": "markdown",
   "metadata": {},
   "source": [
    "### Período a consultar"
   ]
  },
  {
   "cell_type": "code",
   "execution_count": 3,
   "metadata": {},
   "outputs": [
    {
     "name": "stdout",
     "output_type": "stream",
     "text": [
      "2023-12-09\n"
     ]
    }
   ],
   "source": [
    "# Defina as datas de início e fim desejadas\n",
    "data_inicio = datetime(2023, 11, 1).date()\n",
    "data_fim = datetime(2023, 12, 8).date()\n",
    "data_fim = data_fim + timedelta(days=1)  # + 1 dia para pegar a data atual no DB\n",
    "print(data_fim)"
   ]
  },
  {
   "cell_type": "markdown",
   "metadata": {},
   "source": [
    "### Historico de estoque fulfillment"
   ]
  },
  {
   "cell_type": "code",
   "execution_count": 4,
   "metadata": {},
   "outputs": [
    {
     "name": "stdout",
     "output_type": "stream",
     "text": [
      "SELECT * FROM fulfillment_stock WHERE created_at BETWEEN '2023-11-01' AND '2023-12-09;'\n"
     ]
    },
    {
     "name": "stderr",
     "output_type": "stream",
     "text": [
      "C:\\Users\\couti\\AppData\\Local\\Temp\\ipykernel_14708\\2016158527.py:8: UserWarning: pandas only supports SQLAlchemy connectable (engine/connection) or database string URI or sqlite3 DBAPI2 connection. Other DBAPI2 objects are not tested. Please consider using SQLAlchemy.\n",
      "  df_stock = pd.read_sql(sql_query, conn)\n"
     ]
    }
   ],
   "source": [
    "# Buscando histórico de estoque na tabela\n",
    "try:\n",
    "    conn = psycopg2.connect(**db_config)\n",
    "\n",
    "    sql_query = f\"SELECT * FROM fulfillment_stock WHERE created_at BETWEEN '{data_inicio}' AND '{data_fim};'\"\n",
    "    # sql_query = f\"SELECT * FROM fulfillment_stock WHERE created_at BETWEEN '2023-12-04' AND '2023-12-05';\"\n",
    "    print(sql_query)\n",
    "    df_stock = pd.read_sql(sql_query, conn)\n",
    "\n",
    "except psycopg2.Error as e:\n",
    "    print(f\"Erro do psycopg2 ao consultar fulfillment_stock: {e}\")\n",
    "\n",
    "except Exception as e:\n",
    "    print(f\"Erro ao consultar fulfillment_stock: {e}\")\n",
    "\n",
    "finally:\n",
    "    if conn is not None:\n",
    "        conn.close()"
   ]
  },
  {
   "cell_type": "code",
   "execution_count": 5,
   "metadata": {},
   "outputs": [],
   "source": [
    "# df_stock"
   ]
  },
  {
   "cell_type": "code",
   "execution_count": 6,
   "metadata": {},
   "outputs": [],
   "source": [
    "# print(df_stock.shape)\n",
    "# duplicates = df_stock[df_stock.duplicated(keep=False)]\n",
    "# duplicates"
   ]
  },
  {
   "cell_type": "code",
   "execution_count": 7,
   "metadata": {},
   "outputs": [],
   "source": [
    "# # datas consultadas, dias em que um produto pode ou não estar disponível\n",
    "# # df_stock[\"created_at\"].value_counts().index.to_list()\n",
    "# df_stock[\"created_at\"].value_counts().sort_index()\n",
    "# df_stock[\"created_at\"].dt.date.value_counts().sort_index()\n",
    "# # df_stock[\"created_at\"].dt.date.value_counts()\n",
    "\n",
    "# # len(df_stock[\"created_at\"].dt.date.value_counts().sort_index())"
   ]
  },
  {
   "cell_type": "code",
   "execution_count": 8,
   "metadata": {},
   "outputs": [],
   "source": [
    "# df_stock"
   ]
  },
  {
   "cell_type": "code",
   "execution_count": 9,
   "metadata": {},
   "outputs": [],
   "source": [
    "# # buscando anuncio e verificando dias consultados\n",
    "# result = df_stock[df_stock['ml_inventory_id'] == 'FBAY80623']\n",
    "# result = result.sort_values(by='created_at')\n",
    "# result"
   ]
  },
  {
   "cell_type": "code",
   "execution_count": 10,
   "metadata": {},
   "outputs": [],
   "source": [
    "# # encontrando anuncios pela data\n",
    "# df_stock[\"created_at\"] = pd.to_datetime(df_stock[\"created_at\"])\n",
    "# result = df_stock.loc[df_stock['created_at'].dt.date == pd.to_datetime('2023-12-7').date()]\n",
    "# result"
   ]
  },
  {
   "cell_type": "code",
   "execution_count": 11,
   "metadata": {},
   "outputs": [],
   "source": [
    "# df_stock[df_stock['created_at']=='2023-12-07 03:01:03.036386']"
   ]
  },
  {
   "cell_type": "code",
   "execution_count": 12,
   "metadata": {},
   "outputs": [],
   "source": [
    "# Ordenando stock por data\n",
    "df_stock = df_stock.sort_values(by=\"created_at\", ascending=False)\n",
    "df_stock[\"data\"] = df_stock[\"created_at\"].dt.date\n",
    "df_stock = df_stock.drop([\"created_at\"], axis=1)\n",
    "\n",
    "# df_stock"
   ]
  },
  {
   "cell_type": "code",
   "execution_count": 13,
   "metadata": {},
   "outputs": [],
   "source": [
    "# df_stock.dtypes"
   ]
  },
  {
   "cell_type": "code",
   "execution_count": 14,
   "metadata": {},
   "outputs": [],
   "source": [
    "# df_stock['data'] = pd.to_datetime(df_stock['data'])\n",
    "\n",
    "# dfx = condf(df_stock, 'data', '2023-11-1')\n",
    "# dfx"
   ]
  },
  {
   "cell_type": "code",
   "execution_count": 15,
   "metadata": {},
   "outputs": [],
   "source": [
    "# # Supondo que result seja o seu DataFrame\n",
    "# # A linha abaixo conta as ocorrências de cada valor em 'ml_inventory_id'\n",
    "# # value_counts = result['ml_inventory_id'].value_counts()\n",
    "# value_counts = df_stock['ml_inventory_id'].value_counts()\n",
    "\n",
    "# # Filtra para incluir apenas aqueles que ocorrem mais de 2 vezes\n",
    "# filtered_counts = value_counts[value_counts > 1]\n",
    "\n",
    "# filtered_counts.shape\n",
    "# # filtered_counts\n",
    "# value_counts"
   ]
  },
  {
   "cell_type": "code",
   "execution_count": 16,
   "metadata": {},
   "outputs": [],
   "source": [
    "# df_stock[df_stock[\"detail_status\"] == \"transfer\"]"
   ]
  },
  {
   "cell_type": "code",
   "execution_count": 17,
   "metadata": {},
   "outputs": [],
   "source": [
    "# condf(df_stock,'ml_inventory_id','CRMK90073')"
   ]
  },
  {
   "cell_type": "code",
   "execution_count": 18,
   "metadata": {},
   "outputs": [],
   "source": [
    "# condf(df_stock, \"detail_status\", \"transfer\")"
   ]
  },
  {
   "cell_type": "code",
   "execution_count": 19,
   "metadata": {},
   "outputs": [],
   "source": [
    "## Cria coluna has_stock, se available_quantity <= 0, has_stock= False ##\n",
    "df_stock = df_stock.assign(has_stock=lambda x: x[\"available_quantity\"] > 0)\n",
    "df_stock = df_stock.sort_values(by=\"data\", ascending=False).reset_index(drop=True)"
   ]
  },
  {
   "cell_type": "code",
   "execution_count": 20,
   "metadata": {},
   "outputs": [],
   "source": [
    "# df_stock"
   ]
  },
  {
   "cell_type": "code",
   "execution_count": 21,
   "metadata": {},
   "outputs": [],
   "source": [
    "# condf(df_stock, \"ml_inventory_id\", \"DSGP06967\")"
   ]
  },
  {
   "cell_type": "code",
   "execution_count": 22,
   "metadata": {},
   "outputs": [],
   "source": [
    "# print(df_stock.shape)\n",
    "# df_stock = df_stock.drop_duplicates()\n",
    "# print(df_stock.shape)"
   ]
  },
  {
   "cell_type": "markdown",
   "metadata": {},
   "source": [
    "#### Dias em que produto esteve disponível"
   ]
  },
  {
   "cell_type": "code",
   "execution_count": 23,
   "metadata": {},
   "outputs": [],
   "source": [
    "# condf(df_stock,'ml_inventory_id','ABCB20467')"
   ]
  },
  {
   "cell_type": "code",
   "execution_count": 25,
   "metadata": {},
   "outputs": [],
   "source": [
    "## Contando dias em que produto esteve disponível\n",
    "days_available = df_stock.groupby([\"ml_inventory_id\"])[\"has_stock\"].sum().reset_index()\n",
    "days_available = days_available.rename(columns={\"has_stock\": \"days_available\"})"
   ]
  },
  {
   "cell_type": "code",
   "execution_count": 27,
   "metadata": {},
   "outputs": [],
   "source": [
    "# days_available.sort_values(by='days_available',ascending=False)\n",
    "# days_available['days_available'].value_counts()\n",
    "\n",
    "# ## Contando dias em que produto esteve disponível\n",
    "# days_available = df_stock.groupby([\"ml_inventory_id\",\"references_variation_id\"])[\"has_stock\"].sum().reset_index()\n",
    "# days_available = days_available.rename(columns={\"has_stock\": \"days_available\"})\n",
    "# days_available"
   ]
  },
  {
   "cell_type": "code",
   "execution_count": 28,
   "metadata": {},
   "outputs": [],
   "source": [
    "# condf(df_stock, \"ml_inventory_id\", \"MENA66694\")"
   ]
  },
  {
   "cell_type": "code",
   "execution_count": 29,
   "metadata": {},
   "outputs": [],
   "source": [
    "# ## Contando dias em que produto esteve disponível\n",
    "# days_available_ = df_stock.groupby([\"ml_inventory_id\",\"references_variation_id\"])[\"has_stock\"].sum().reset_index()\n",
    "# days_available_ = days_available_.rename(columns={\"has_stock\": \"days_available\"})\n",
    "# days_available_"
   ]
  },
  {
   "cell_type": "code",
   "execution_count": 30,
   "metadata": {},
   "outputs": [],
   "source": [
    "# condf(days_available, \"ml_inventory_id\", \"DSGP06967\")\n",
    "# condf(days_available, \"ml_inventory_id\", \"DSGP06967\")"
   ]
  },
  {
   "cell_type": "code",
   "execution_count": 31,
   "metadata": {},
   "outputs": [],
   "source": [
    "# Unindo DFs\n",
    "df_stock = df_stock.merge(days_available, on=[\"ml_inventory_id\"], how=\"inner\")\n",
    "# df_stock.rename(columns={'days_available_x': 'days_available'}, inplace=True)  # Corrigindo a sintaxe\n",
    "# df_stock = df_stock.drop(columns='days_available_y', axis=1)  # Corrigindo a sintaxe\n",
    "\n",
    "# Verificando o formato após a correção\n",
    "# print(df_stock.shape)\n",
    "#"
   ]
  },
  {
   "cell_type": "code",
   "execution_count": 33,
   "metadata": {},
   "outputs": [],
   "source": [
    "# df_stock"
   ]
  },
  {
   "cell_type": "code",
   "execution_count": 34,
   "metadata": {},
   "outputs": [],
   "source": [
    "# # Unindo DFs\n",
    "# df_stock_ = df_stock.merge(days_available, on=[\"ml_inventory_id\"], how=\"inner\")\n",
    "# # df_stock_.rename(columns={'days_available_x': 'days_available'}, inplace=True)  # Corrigindo a sintaxe\n",
    "# # df_stock_ = df_stock_.drop(columns='days_available_y', axis=1)  # Corrigindo a sintaxe\n",
    "\n",
    "# # Verificando o formato após a correção\n",
    "# print(df_stock_.shape)\n",
    "# df_stock_"
   ]
  },
  {
   "cell_type": "code",
   "execution_count": 35,
   "metadata": {},
   "outputs": [
    {
     "name": "stdout",
     "output_type": "stream",
     "text": [
      "2023-12-07\n"
     ]
    }
   ],
   "source": [
    "# data de hoje\n",
    "# data_de_hoje = datetime.now().date() - timedelta(days=1)\n",
    "# print(data_de_hoje)\n",
    "data_de_hoje = datetime.now().date()\n",
    "print(data_de_hoje)\n",
    "df_stock[\"data\"] = pd.to_datetime(df_stock[\"data\"])\n",
    "# data_de_hoje = data_de_hoje + timedelta(days=1)  # + 1 dia para pegar a data atual no DB\n",
    "\n",
    "# Filtra apenas as linhas onde 'data' é igual à data de hoje\n",
    "df_stock_today = df_stock[df_stock[\"data\"].dt.date == data_de_hoje]\n",
    "df_stock_today = df_stock_today.rename(\n",
    "    columns={\"available_quantity\": \"available_quantity_today\"}\n",
    ")\n",
    "# df_stock_today = df_stock.drop(['has_stock'], axis=1)"
   ]
  },
  {
   "cell_type": "code",
   "execution_count": 37,
   "metadata": {},
   "outputs": [],
   "source": [
    "# df_stock_today"
   ]
  },
  {
   "cell_type": "code",
   "execution_count": 38,
   "metadata": {},
   "outputs": [],
   "source": [
    "# Se detail_status = transfer: available_quantity_today = available_quantity_today + detail_quantity\n",
    "\n",
    "condicao = df_stock_today[\"detail_status\"] == \"transfer\"\n",
    "\n",
    "df_stock_today.loc[condicao, \"available_quantity_today\"] += df_stock_today.loc[\n",
    "    condicao, \"detail_quantity\"\n",
    "]"
   ]
  },
  {
   "cell_type": "code",
   "execution_count": 40,
   "metadata": {},
   "outputs": [],
   "source": [
    "# df_stock_today"
   ]
  },
  {
   "cell_type": "code",
   "execution_count": 41,
   "metadata": {},
   "outputs": [],
   "source": [
    "# condf(df_stock,'ml_inventory_id','FSNB97805')\n",
    "# condf(df_stock_today,'ml_inventory_id','FSNB97805')"
   ]
  },
  {
   "cell_type": "markdown",
   "metadata": {},
   "source": [
    "### Buscando hitorico de orders no BD"
   ]
  },
  {
   "cell_type": "code",
   "execution_count": 42,
   "metadata": {},
   "outputs": [
    {
     "name": "stdout",
     "output_type": "stream",
     "text": [
      "SELECT * FROM ml_orders WHERE date_closed BETWEEN '2023-11-01' AND '2023-12-09'\n"
     ]
    },
    {
     "name": "stderr",
     "output_type": "stream",
     "text": [
      "C:\\Users\\couti\\AppData\\Local\\Temp\\ipykernel_14708\\3275459708.py:7: UserWarning: pandas only supports SQLAlchemy connectable (engine/connection) or database string URI or sqlite3 DBAPI2 connection. Other DBAPI2 objects are not tested. Please consider using SQLAlchemy.\n",
      "  df_orders = pd.read_sql(sql_query, conn)\n"
     ]
    }
   ],
   "source": [
    "# Buscando histórico de vendas na tabela ml_orders_hist para o período definido\n",
    "try:\n",
    "    conn = psycopg2.connect(**db_config)\n",
    "\n",
    "    sql_query = f\"SELECT * FROM ml_orders WHERE date_closed BETWEEN '{data_inicio}' AND '{data_fim}'\"\n",
    "    print(sql_query)\n",
    "    df_orders = pd.read_sql(sql_query, conn)\n",
    "\n",
    "except psycopg2.Error as e:\n",
    "    print(f\"Erro do psycopg2 ao consultar ml_orders_hist: {e}\")\n",
    "    # logger.error(f\"Erro do psycopg2 ao consultar ml_orders_hist: {e}\")\n",
    "\n",
    "except Exception as e:\n",
    "    print(f\"Erro ao consultar ml_orders_hist: {e}\")\n",
    "    # logger.error(f\"Erro ao consultar ml_orders_hist: {e}\")\n",
    "\n",
    "finally:\n",
    "    if conn is not None:\n",
    "        conn.close()\n",
    "\n",
    "# # Ordenando orders por data\n",
    "# df_orders = df_orders.sort_values(by=\"date_approved\", ascending=False)\n",
    "# df_orders[\"data\"] = df_orders[\"date_approved\"].dt.date\n",
    "# df_orders = df_orders.drop([\"date_closed\",\"date_approved\"], axis=1)\n",
    "\n",
    "# filtros\n",
    "df_orders = df_orders[df_orders[\"logistic_type\"] == \"fulfillment\"]\n",
    "# df_orders = df_orders.drop(columns=['category_id','pack_id','variation_attributes_id','variation_name','variation_value_id', 'data'])\n",
    "df_orders = df_orders.drop(\n",
    "    columns=[\n",
    "        \"category_id\",\n",
    "        \"pack_id\",\n",
    "        \"variation_attributes_id\",\n",
    "        \"variation_name\",\n",
    "        \"variation_value_id\",\n",
    "    ]\n",
    ")\n",
    "\n",
    "# change column\n",
    "df_orders[\"variation_id\"] = df_orders[\"variation_id\"].replace(\"nan\", \"0\", regex=True)\n",
    "\n",
    "# df_orders = df_orders[df_orders[\"order_status\"] == \"paid\"]\n",
    "# df_orders = df_orders[df_orders[\"payment_status\"] == \"approved\"]\n",
    "\n",
    "\n",
    "# df_orders = df_orders.drop(\n",
    "#     [\"pack_id\", \"date_approved\", \"order_status\", \"payment_status\"], axis=1\n",
    "# )\n",
    "df_orders.rename(columns={\"quantity\": \"sold_quantity\"}, inplace=True)"
   ]
  },
  {
   "cell_type": "code",
   "execution_count": 43,
   "metadata": {},
   "outputs": [
    {
     "name": "stdout",
     "output_type": "stream",
     "text": [
      "(5352, 13)\n",
      "(4612, 13)\n"
     ]
    }
   ],
   "source": [
    "print(df_orders.shape)\n",
    "df_orders = df_orders.drop_duplicates()\n",
    "print(df_orders.shape)"
   ]
  },
  {
   "cell_type": "code",
   "execution_count": 45,
   "metadata": {},
   "outputs": [],
   "source": [
    "# df_orders.head()"
   ]
  },
  {
   "cell_type": "code",
   "execution_count": 46,
   "metadata": {},
   "outputs": [],
   "source": [
    "# df_orders\n",
    "# df_orders['pack_id'].value_counts()\n",
    "\n",
    "# # condf(df_orders,'pack_id','2000005059931419')"
   ]
  },
  {
   "cell_type": "code",
   "execution_count": 48,
   "metadata": {},
   "outputs": [],
   "source": [
    "# print(df_orders.shape)\n",
    "# df_orders.head(3)"
   ]
  },
  {
   "cell_type": "code",
   "execution_count": 49,
   "metadata": {},
   "outputs": [],
   "source": [
    "# condf(df_orders, \"ml_code\", \"MLB1992541482\")"
   ]
  },
  {
   "cell_type": "markdown",
   "metadata": {},
   "source": [
    "#### Total de vendas por ml_code e variation_id"
   ]
  },
  {
   "cell_type": "code",
   "execution_count": 51,
   "metadata": {},
   "outputs": [],
   "source": [
    "# df_orders.shape"
   ]
  },
  {
   "cell_type": "code",
   "execution_count": 52,
   "metadata": {},
   "outputs": [],
   "source": [
    "# df_orders"
   ]
  },
  {
   "cell_type": "code",
   "execution_count": 53,
   "metadata": {},
   "outputs": [],
   "source": [
    "# condf(df_orders,'ml_code','MLB3516894673')"
   ]
  },
  {
   "cell_type": "code",
   "execution_count": 54,
   "metadata": {},
   "outputs": [],
   "source": [
    "# # Verificar se a coluna variation_id existe\n",
    "# condicao_variation = df_orders[\"variation_id\"].notna()\n",
    "\n",
    "resultado_code_variation = (\n",
    "    df_orders.groupby([\"ml_code\", \"variation_id\"])[\"sold_quantity\"].sum().reset_index()\n",
    ")\n",
    "\n",
    "# Exibir o resultado_ml_code\n",
    "# resultado_ml_code['variation_id'].value_counts()"
   ]
  },
  {
   "cell_type": "code",
   "execution_count": 56,
   "metadata": {},
   "outputs": [],
   "source": [
    "# resultado_code_variation"
   ]
  },
  {
   "cell_type": "code",
   "execution_count": 57,
   "metadata": {},
   "outputs": [],
   "source": [
    "# condf(resultado_code_variation,'ml_code','MLB1363602423')\n",
    "# condf(df_orders,'ml_code','MLB1363602423')\n",
    "\n",
    "# condf(resultado_code_variation,'variation_id','174301393967')\n",
    "# condf(resultado_code_variation,'variation_id','174302125663')\n",
    "# condf(resultado_code_variation,'ml_code','MLB1399101853')\n",
    "# condf(df_orders,'ml_code','MLB1399101853')\n",
    "# condf(resultado_code_variation,'ml_code','MLB4237823132')\n",
    "# condf(df_orders,'ml_code','MLB4237823132')\n",
    "# condf(resultado_code_variation,'ml_code','MLB950214971')\n",
    "# condf(df_orders,'ml_code','MLB950214971')"
   ]
  },
  {
   "cell_type": "code",
   "execution_count": 58,
   "metadata": {},
   "outputs": [],
   "source": [
    "# condf(df_orders,'variation_id','174301393967')"
   ]
  },
  {
   "cell_type": "code",
   "execution_count": 59,
   "metadata": {},
   "outputs": [],
   "source": [
    "# Ordenando orders por data\n",
    "df_orders = df_orders.sort_values(by=\"date_approved\", ascending=False)\n",
    "df_orders[\"data\"] = df_orders[\"date_approved\"].dt.date\n",
    "df_orders = df_orders.drop([\"date_closed\", \"date_approved\"], axis=1)"
   ]
  },
  {
   "cell_type": "code",
   "execution_count": 60,
   "metadata": {},
   "outputs": [],
   "source": [
    "# Acrescentando total de vendas ao DF\n",
    "df_total_sales = pd.merge(\n",
    "    # df_orders, resultado, on=[\"ml_code\", \"variation_id\"], how=\"inner\"\n",
    "    df_orders,\n",
    "    resultado_code_variation,\n",
    "    on=[\"ml_code\", \"variation_id\"],\n",
    "    how=\"inner\",\n",
    ")\n",
    "df_total_sales = df_total_sales.rename(\n",
    "    columns={\"sold_quantity_y\": \"total_sold_quantity\"}\n",
    ")\n",
    "df_total_sales = df_total_sales.drop(\n",
    "    columns=[\"sold_quantity_x\", \"order_status\", \"payment_status\"]\n",
    ")"
   ]
  },
  {
   "cell_type": "code",
   "execution_count": 64,
   "metadata": {},
   "outputs": [],
   "source": [
    "# df_total_sales.shape"
   ]
  },
  {
   "cell_type": "code",
   "execution_count": 65,
   "metadata": {},
   "outputs": [],
   "source": [
    "# df_orders.shape"
   ]
  },
  {
   "cell_type": "code",
   "execution_count": 66,
   "metadata": {},
   "outputs": [],
   "source": [
    "# df_total_sales.columns"
   ]
  },
  {
   "cell_type": "code",
   "execution_count": 67,
   "metadata": {},
   "outputs": [],
   "source": [
    "# df_total_sales.sample()"
   ]
  },
  {
   "cell_type": "code",
   "execution_count": 68,
   "metadata": {},
   "outputs": [],
   "source": [
    "# # # Exibir todas as linhas e colunas\n",
    "# # pd.set_option('display.max_rows', None)\n",
    "# # pd.set_option('display.max_columns', None)\n",
    "\n",
    "# # Voltar ao normal\n",
    "# pd.reset_option('display.max_rows')\n",
    "# pd.reset_option('display.max_columns')\n",
    "\n",
    "\n",
    "# # condf(df_total_sales,'ml_code','MLB3427769549')\n",
    "# # # x = condf(df_orders,'ml_code','MLB3427769549')\n",
    "\n",
    "# # # x = x.sort_values(by='data')\n",
    "# # # x.head(15)\n",
    "# # x = df_orders[df_orders['ml_code']=='MLB3427769549']\n",
    "# # x['data'] = pd.to_datetime(x['data'])\n",
    "# # x[x['data']=='2023-11-22']\n",
    "# # # x['sold_quantity'].value_counts()\n",
    "\n",
    "# # # counts = x[x['sold_quantity'] > 1]['sold_quantity'].value_counts()\n",
    "# # # counts\n",
    "\n",
    "# # y = x.groupby('data')['sold_quantity'].sum().reset_index()\n",
    "# # y\n",
    "\n",
    "# # # # x"
   ]
  },
  {
   "cell_type": "code",
   "execution_count": 69,
   "metadata": {},
   "outputs": [],
   "source": [
    "# x.dtypes"
   ]
  },
  {
   "cell_type": "code",
   "execution_count": 70,
   "metadata": {},
   "outputs": [],
   "source": [
    "# df_total_sales['data'].value_counts()"
   ]
  },
  {
   "cell_type": "code",
   "execution_count": 71,
   "metadata": {},
   "outputs": [],
   "source": [
    "# condf(df_total_sales, \"ml_code\", \"MLB4127982748\")\n",
    "# condf(df_total_sales, \"ml_code\", \"MLB4127982748\")"
   ]
  },
  {
   "cell_type": "code",
   "execution_count": null,
   "metadata": {},
   "outputs": [],
   "source": []
  },
  {
   "cell_type": "code",
   "execution_count": 72,
   "metadata": {},
   "outputs": [],
   "source": [
    "# df_total_sales = df_total_sales.drop([\"sold_quantity_x\", \"shipping_id\", \"data\"], axis=1)\n",
    "# df_total_sales = df_total_sales.drop_duplicates()"
   ]
  },
  {
   "cell_type": "code",
   "execution_count": 73,
   "metadata": {},
   "outputs": [],
   "source": [
    "# condf(df_total_sales, \"ml_code\", \"MLB1992541482\")"
   ]
  },
  {
   "cell_type": "markdown",
   "metadata": {},
   "source": [
    "Neste ponto temos o total de itens vendidos de um anúncio por período e a quantidade de dias em que um produto esteve disponível.\n",
    "precisamos juntar esses dados para calcular, para isso trarei as informações de produtos"
   ]
  },
  {
   "cell_type": "code",
   "execution_count": null,
   "metadata": {},
   "outputs": [],
   "source": [
    "# print(df_total_sales.shape)\n",
    "# df_total_sales.sample()"
   ]
  },
  {
   "cell_type": "code",
   "execution_count": null,
   "metadata": {},
   "outputs": [],
   "source": [
    "# condf(df_total_sales, 'ml_code', 'MLB3461718736')\n",
    "# condf(df_orders, 'ml_code', 'MLB3461718736')\n",
    "# # condf(resultado, 'ml_code', 'MLB3427769549')\n",
    "# # condf(df_stock, 'ml_code', 'MLB3427769549')"
   ]
  },
  {
   "cell_type": "code",
   "execution_count": null,
   "metadata": {},
   "outputs": [],
   "source": [
    "# print(df_stock_today.shape)\n",
    "# df_stock_today.sample()"
   ]
  },
  {
   "cell_type": "markdown",
   "metadata": {},
   "source": [
    "#### Buscando Produtos"
   ]
  },
  {
   "cell_type": "code",
   "execution_count": 74,
   "metadata": {},
   "outputs": [
    {
     "name": "stderr",
     "output_type": "stream",
     "text": [
      "C:\\Users\\couti\\AppData\\Local\\Temp\\ipykernel_14708\\2324179030.py:6: UserWarning: pandas only supports SQLAlchemy connectable (engine/connection) or database string URI or sqlite3 DBAPI2 connection. Other DBAPI2 objects are not tested. Please consider using SQLAlchemy.\n",
      "  df_codes = pd.read_sql(sql_query, conn)\n"
     ]
    }
   ],
   "source": [
    "# Buscando dados de produtos na tabela tiny_fulfillment\n",
    "try:\n",
    "    conn = psycopg2.connect(**db_config)\n",
    "\n",
    "    sql_query = \"SELECT * FROM items\"\n",
    "    df_codes = pd.read_sql(sql_query, conn)\n",
    "except psycopg2.Error as e:\n",
    "    # logger.error(f\"Erro do psycopg2 ao consultar fulfillment_stock: {e}\")\n",
    "    print(f\"Erro do psycopg2 ao consultar tiny_fulfillment: {e}\")\n",
    "\n",
    "except Exception as e:\n",
    "    # logger.error(f\"Erro ao consultar tabela tiny_fulfillment: {e}\")\n",
    "    print(f\"Erro ao consultar tabela tiny_fulfillment: {e}\")\n",
    "\n",
    "finally:\n",
    "    if conn is not None:\n",
    "        conn.close()\n",
    "\n",
    "# df_codes[\"ml_code\"] = df_codes[\"ml_code\"].apply(lambda x: \"MLB\" + str(x))\n",
    "df_codes.rename(columns={\"inventory_id\": \"ml_inventory_id\"}, inplace=True)\n",
    "df_codes = df_codes.drop([\"created_at\", \"updated_at\"], axis=1)"
   ]
  },
  {
   "cell_type": "code",
   "execution_count": 75,
   "metadata": {},
   "outputs": [],
   "source": [
    "df_not_catalogo = df_codes[df_codes[\"catalog_listing\"] == False]\n",
    "df_catalogo = df_codes[df_codes[\"catalog_listing\"] == True]"
   ]
  },
  {
   "cell_type": "code",
   "execution_count": 76,
   "metadata": {},
   "outputs": [],
   "source": [
    "# df_not_catalogo.sample()"
   ]
  },
  {
   "cell_type": "code",
   "execution_count": 77,
   "metadata": {},
   "outputs": [],
   "source": [
    "# df_catalogo.sample()"
   ]
  },
  {
   "cell_type": "code",
   "execution_count": 78,
   "metadata": {},
   "outputs": [],
   "source": [
    "# df_orders.sample()"
   ]
  },
  {
   "cell_type": "code",
   "execution_count": 79,
   "metadata": {},
   "outputs": [],
   "source": [
    "df_total_sales_cat = pd.merge(\n",
    "    df_catalogo,\n",
    "    df_total_sales,\n",
    "    left_on=[\"ml_code\"],\n",
    "    right_on=[\"ml_code\"],\n",
    "    how=\"inner\",\n",
    ")\n",
    "df_total_sales_cat = df_total_sales_cat.drop_duplicates()\n",
    "\n",
    "df_total_sales_not_cat = pd.merge(\n",
    "    df_not_catalogo,\n",
    "    df_total_sales,\n",
    "    left_on=[\"ml_code\", \"variation_id\"],\n",
    "    right_on=[\"ml_code\", \"variation_id\"],\n",
    "    how=\"inner\",\n",
    ")\n",
    "df_total_sales_not_cat = df_total_sales_not_cat.drop_duplicates()"
   ]
  },
  {
   "cell_type": "code",
   "execution_count": 80,
   "metadata": {},
   "outputs": [
    {
     "name": "stdout",
     "output_type": "stream",
     "text": [
      "(2681, 15)\n",
      "(119, 11)\n"
     ]
    }
   ],
   "source": [
    "print(df_total_sales_cat.shape)\n",
    "df_total_sales_cat = df_total_sales_cat.drop(\n",
    "    columns=[\"data\", \"shipping_id\", \"variation_id_x\", \"order_id\"]\n",
    ")\n",
    "df_total_sales_cat = df_total_sales_cat.drop_duplicates()\n",
    "print(df_total_sales_cat.shape)"
   ]
  },
  {
   "cell_type": "code",
   "execution_count": null,
   "metadata": {},
   "outputs": [],
   "source": [
    "# df_total_sales_cat['value_name'].value_counts()"
   ]
  },
  {
   "cell_type": "code",
   "execution_count": 81,
   "metadata": {},
   "outputs": [],
   "source": [
    "# condf(df_total_sales_cat, 'ml_code','MLB3427769549')"
   ]
  },
  {
   "cell_type": "code",
   "execution_count": 82,
   "metadata": {},
   "outputs": [],
   "source": [
    "# df_vendas_total_sales_not_cat"
   ]
  },
  {
   "cell_type": "code",
   "execution_count": 83,
   "metadata": {},
   "outputs": [
    {
     "name": "stdout",
     "output_type": "stream",
     "text": [
      "(1385, 14)\n",
      "(115, 11)\n"
     ]
    }
   ],
   "source": [
    "print(df_total_sales_not_cat.shape)\n",
    "df_total_sales_not_cat = df_total_sales_not_cat.drop(\n",
    "    columns=[\"data\", \"shipping_id\", \"order_id\"]\n",
    ")\n",
    "df_total_sales_not_cat = df_total_sales_not_cat.drop_duplicates()\n",
    "print(df_total_sales_not_cat.shape)"
   ]
  },
  {
   "cell_type": "code",
   "execution_count": 84,
   "metadata": {},
   "outputs": [],
   "source": [
    "# df_total_sales_cat['ml_inventory_id'].value_counts()"
   ]
  },
  {
   "cell_type": "code",
   "execution_count": 85,
   "metadata": {},
   "outputs": [],
   "source": [
    "# Antes de desabilitar\n",
    "# pd.set_option('display.max_rows', None)\n",
    "# pd.set_option('display.max_columns', None)\n",
    "# pd.set_option('display.max_colwidth', None)\n",
    "\n",
    "# Seu código para exibir o DataFrame\n",
    "\n",
    "# # Depois de desabilitar\n",
    "# pd.reset_option('display.max_rows')\n",
    "# pd.reset_option('display.max_columns')\n",
    "# pd.reset_option('display.max_colwidth')\n",
    "\n",
    "\n",
    "# df_total_sales_cat = df_total_sales_cat.drop_duplicates()\n",
    "\n",
    "df_total_sales_cat = df_total_sales_cat.drop_duplicates(\n",
    "    subset=[\"ml_code\", \"ml_inventory_id\"]\n",
    ")\n",
    "df_total_sales_not_cat = df_total_sales_not_cat.drop_duplicates(\n",
    "    subset=[\"ml_code\", \"ml_inventory_id\"]\n",
    ")"
   ]
  },
  {
   "cell_type": "code",
   "execution_count": 86,
   "metadata": {},
   "outputs": [],
   "source": [
    "# condf(df_total_sales_cat,'ml_inventory_id','WTHI04163')\n",
    "# condf(y,'ml_inventory_id','WTHI04163')"
   ]
  },
  {
   "cell_type": "code",
   "execution_count": 87,
   "metadata": {},
   "outputs": [],
   "source": [
    "# condf(df_total_sales_cat,'ml_inventory_id','AWAZ99732')"
   ]
  },
  {
   "cell_type": "markdown",
   "metadata": {},
   "source": [
    "## Até aqui ok"
   ]
  },
  {
   "cell_type": "code",
   "execution_count": 88,
   "metadata": {},
   "outputs": [],
   "source": [
    "df_total_cat = df_total_sales_cat.copy()\n",
    "df_total_not_cat = df_total_sales_not_cat.copy()"
   ]
  },
  {
   "cell_type": "code",
   "execution_count": 89,
   "metadata": {},
   "outputs": [],
   "source": [
    "# Somando total de vendas por inventory_id\n",
    "df_sum_qt_sold_cat = (\n",
    "    df_total_cat.groupby(\"ml_inventory_id\")[\"total_sold_quantity\"].sum().reset_index()\n",
    ")\n",
    "df_sum_qt_sold_cat = df_sum_qt_sold_cat.rename(\n",
    "    columns={\"total_sold_quantity\": \"total_sold_catalog\"}\n",
    ")\n",
    "\n",
    "df_total_cat = pd.merge(\n",
    "    df_total_cat, df_sum_qt_sold_cat, on=\"ml_inventory_id\", how=\"left\"\n",
    ")\n",
    "\n",
    "df_total_cat.rename(columns={\"variation_id_y\": \"variation_id_\"})\n",
    "\n",
    "\n",
    "df_sum_qt_sold_not_cat = (\n",
    "    df_total_not_cat.groupby(\"ml_inventory_id\")[\"total_sold_quantity\"]\n",
    "    .sum()\n",
    "    .reset_index()\n",
    ")\n",
    "df_sum_qt_sold_not_cat = df_sum_qt_sold_not_cat.rename(\n",
    "    columns={\"total_sold_quantity\": \"total_sold_not_catalog\"}\n",
    ")\n",
    "df_total_not_cat = pd.merge(\n",
    "    df_total_not_cat, df_sum_qt_sold_not_cat, on=\"ml_inventory_id\", how=\"left\"\n",
    ")"
   ]
  },
  {
   "cell_type": "code",
   "execution_count": 90,
   "metadata": {},
   "outputs": [],
   "source": [
    "df_total_cat.rename(columns={\"variation_id_y\": \"variation_id\"}, inplace=True)\n",
    "# df_total_cat.sample(2)"
   ]
  },
  {
   "cell_type": "code",
   "execution_count": null,
   "metadata": {},
   "outputs": [],
   "source": [
    "# condf(df_total_cat,'ml_inventory_id','WTHI04163')"
   ]
  },
  {
   "cell_type": "code",
   "execution_count": 91,
   "metadata": {},
   "outputs": [],
   "source": [
    "df_total_cat = df_total_cat.drop_duplicates(subset=[\"ml_inventory_id\"])\n",
    "\n",
    "# df_total_cat[df_total_cat['ml_inventory_id']=='WTHI04163']"
   ]
  },
  {
   "cell_type": "markdown",
   "metadata": {},
   "source": [
    "pergar ml_inventory_id e sum_total e acrescesntar essas informações no df de não catalogo pelo ml_inventory_id\n",
    "ao fim deixar somatório do catalogo e não catalogo\n"
   ]
  },
  {
   "cell_type": "code",
   "execution_count": 92,
   "metadata": {},
   "outputs": [],
   "source": [
    "# cols=['ml_inventory_id','total_sold_catalog']\n",
    "# df_total_cat = df_total_cat[cols]\n",
    "# df_total_cat.sample()"
   ]
  },
  {
   "cell_type": "code",
   "execution_count": 93,
   "metadata": {},
   "outputs": [],
   "source": [
    "df_combined = pd.merge(\n",
    "    df_total_not_cat,\n",
    "    df_total_cat[[\"ml_inventory_id\", \"total_sold_catalog\"]],\n",
    "    on=\"ml_inventory_id\",\n",
    "    how=\"left\",\n",
    ")\n",
    "# df_combined.sample()"
   ]
  },
  {
   "cell_type": "code",
   "execution_count": 94,
   "metadata": {},
   "outputs": [],
   "source": [
    "# df_total_not_cat.shape"
   ]
  },
  {
   "cell_type": "code",
   "execution_count": 95,
   "metadata": {},
   "outputs": [],
   "source": [
    "# condf(df_combined,'ml_inventory_id','UIUW89800')"
   ]
  },
  {
   "cell_type": "code",
   "execution_count": 96,
   "metadata": {},
   "outputs": [],
   "source": [
    "# condf(df_combined,'ml_inventory_id','UIUW89800')"
   ]
  },
  {
   "cell_type": "code",
   "execution_count": 97,
   "metadata": {},
   "outputs": [],
   "source": [
    "# df_combined['ml_inventory_id'].value_counts()"
   ]
  },
  {
   "cell_type": "code",
   "execution_count": 98,
   "metadata": {},
   "outputs": [],
   "source": [
    "df = pd.merge(df_combined, df_stock_today, on=\"ml_inventory_id\", how=\"inner\")\n",
    "df[\"total_sold_catalog\"] = df[\"total_sold_catalog\"].fillna(0).astype(\"int64\")"
   ]
  },
  {
   "cell_type": "code",
   "execution_count": 99,
   "metadata": {},
   "outputs": [
    {
     "data": {
      "text/html": [
       "<div>\n",
       "<style scoped>\n",
       "    .dataframe tbody tr th:only-of-type {\n",
       "        vertical-align: middle;\n",
       "    }\n",
       "\n",
       "    .dataframe tbody tr th {\n",
       "        vertical-align: top;\n",
       "    }\n",
       "\n",
       "    .dataframe thead th {\n",
       "        text-align: right;\n",
       "    }\n",
       "</style>\n",
       "<table border=\"1\" class=\"dataframe\">\n",
       "  <thead>\n",
       "    <tr style=\"text-align: right;\">\n",
       "      <th></th>\n",
       "      <th>ml_code</th>\n",
       "      <th>ml_inventory_id</th>\n",
       "      <th>value_name</th>\n",
       "      <th>variation_id</th>\n",
       "      <th>status</th>\n",
       "      <th>catalog_listing</th>\n",
       "      <th>seller_sku</th>\n",
       "      <th>title</th>\n",
       "      <th>variation_value_name</th>\n",
       "      <th>logistic_type</th>\n",
       "      <th>...</th>\n",
       "      <th>total_sold_not_catalog</th>\n",
       "      <th>total_sold_catalog</th>\n",
       "      <th>available_quantity_today</th>\n",
       "      <th>detail_status</th>\n",
       "      <th>detail_quantity</th>\n",
       "      <th>references_id</th>\n",
       "      <th>references_variation_id</th>\n",
       "      <th>data</th>\n",
       "      <th>has_stock</th>\n",
       "      <th>days_available</th>\n",
       "    </tr>\n",
       "  </thead>\n",
       "  <tbody>\n",
       "    <tr>\n",
       "      <th>49</th>\n",
       "      <td>MLB2075516288</td>\n",
       "      <td>FHRY37807</td>\n",
       "      <td>6 PARES 7A</td>\n",
       "      <td>173887022579</td>\n",
       "      <td>active</td>\n",
       "      <td>False</td>\n",
       "      <td>FULLLIVERPOOL6NI7AM</td>\n",
       "      <td>Kit 6 Pares De Baquetas D Bateria Liverpool Ni...</td>\n",
       "      <td>6 PARES 7A</td>\n",
       "      <td>fulfillment</td>\n",
       "      <td>...</td>\n",
       "      <td>23</td>\n",
       "      <td>0</td>\n",
       "      <td>15</td>\n",
       "      <td>None</td>\n",
       "      <td>NaN</td>\n",
       "      <td>MLB2075516288</td>\n",
       "      <td>173887022579</td>\n",
       "      <td>2023-12-07</td>\n",
       "      <td>True</td>\n",
       "      <td>36</td>\n",
       "    </tr>\n",
       "  </tbody>\n",
       "</table>\n",
       "<p>1 rows × 21 columns</p>\n",
       "</div>"
      ],
      "text/plain": [
       "          ml_code ml_inventory_id  value_name  variation_id  status  \\\n",
       "49  MLB2075516288       FHRY37807  6 PARES 7A  173887022579  active   \n",
       "\n",
       "    catalog_listing           seller_sku  \\\n",
       "49            False  FULLLIVERPOOL6NI7AM   \n",
       "\n",
       "                                                title variation_value_name  \\\n",
       "49  Kit 6 Pares De Baquetas D Bateria Liverpool Ni...           6 PARES 7A   \n",
       "\n",
       "   logistic_type  ...  total_sold_not_catalog  total_sold_catalog  \\\n",
       "49   fulfillment  ...                      23                   0   \n",
       "\n",
       "    available_quantity_today  detail_status detail_quantity  references_id  \\\n",
       "49                        15           None             NaN  MLB2075516288   \n",
       "\n",
       "   references_variation_id       data has_stock  days_available  \n",
       "49            173887022579 2023-12-07      True              36  \n",
       "\n",
       "[1 rows x 21 columns]"
      ]
     },
     "execution_count": 99,
     "metadata": {},
     "output_type": "execute_result"
    }
   ],
   "source": [
    "# df.sample()"
   ]
  },
  {
   "cell_type": "code",
   "execution_count": 100,
   "metadata": {},
   "outputs": [],
   "source": [
    "days = 30\n",
    "\n",
    "df[\"total_sold\"] = df[\"total_sold_catalog\"] + df[\"total_sold_not_catalog\"]\n",
    "# qtd de produtos a enviar no período, caso seja valor negativo produto está acima do esperado para envio(sobrando)\n",
    "df[\"period_send_fulfillment\"] = np.ceil(\n",
    "    (df[\"total_sold\"] / df[\"days_available\"]) * days - df[\"available_quantity_today\"]\n",
    ")\n",
    "\n",
    "df[\"period_send_fulfillment\"] = df[\"period_send_fulfillment\"].fillna(0)"
   ]
  },
  {
   "cell_type": "code",
   "execution_count": 101,
   "metadata": {},
   "outputs": [
    {
     "data": {
      "text/html": [
       "<div>\n",
       "<style scoped>\n",
       "    .dataframe tbody tr th:only-of-type {\n",
       "        vertical-align: middle;\n",
       "    }\n",
       "\n",
       "    .dataframe tbody tr th {\n",
       "        vertical-align: top;\n",
       "    }\n",
       "\n",
       "    .dataframe thead th {\n",
       "        text-align: right;\n",
       "    }\n",
       "</style>\n",
       "<table border=\"1\" class=\"dataframe\">\n",
       "  <thead>\n",
       "    <tr style=\"text-align: right;\">\n",
       "      <th></th>\n",
       "      <th>ml_code</th>\n",
       "      <th>ml_inventory_id</th>\n",
       "      <th>value_name</th>\n",
       "      <th>variation_id</th>\n",
       "      <th>status</th>\n",
       "      <th>catalog_listing</th>\n",
       "      <th>seller_sku</th>\n",
       "      <th>title</th>\n",
       "      <th>variation_value_name</th>\n",
       "      <th>logistic_type</th>\n",
       "      <th>...</th>\n",
       "      <th>available_quantity_today</th>\n",
       "      <th>detail_status</th>\n",
       "      <th>detail_quantity</th>\n",
       "      <th>references_id</th>\n",
       "      <th>references_variation_id</th>\n",
       "      <th>data</th>\n",
       "      <th>has_stock</th>\n",
       "      <th>days_available</th>\n",
       "      <th>total_sold</th>\n",
       "      <th>period_send_fulfillment</th>\n",
       "    </tr>\n",
       "  </thead>\n",
       "  <tbody>\n",
       "    <tr>\n",
       "      <th>25</th>\n",
       "      <td>MLB1992541482</td>\n",
       "      <td>CLMF99895</td>\n",
       "      <td>0.12</td>\n",
       "      <td>173552533267</td>\n",
       "      <td>active</td>\n",
       "      <td>False</td>\n",
       "      <td>FULLSG6687</td>\n",
       "      <td>Encordoamento 0.09 0.10 0.11 0.12 Violão Aço 8...</td>\n",
       "      <td>0.12</td>\n",
       "      <td>fulfillment</td>\n",
       "      <td>...</td>\n",
       "      <td>11</td>\n",
       "      <td>lost</td>\n",
       "      <td>2.0</td>\n",
       "      <td>MLB1992541482</td>\n",
       "      <td>173552533267</td>\n",
       "      <td>2023-12-07</td>\n",
       "      <td>True</td>\n",
       "      <td>36</td>\n",
       "      <td>20</td>\n",
       "      <td>6.0</td>\n",
       "    </tr>\n",
       "    <tr>\n",
       "      <th>10</th>\n",
       "      <td>MLB1478212260</td>\n",
       "      <td>ENML56386</td>\n",
       "      <td>Preto/Amarelo</td>\n",
       "      <td>52917805648</td>\n",
       "      <td>active</td>\n",
       "      <td>False</td>\n",
       "      <td>FULLHERCULESGS302B</td>\n",
       "      <td>Suporte Profissi Travlite Hércules P/ Guitarra...</td>\n",
       "      <td>Preto/Amarelo</td>\n",
       "      <td>fulfillment</td>\n",
       "      <td>...</td>\n",
       "      <td>2</td>\n",
       "      <td>None</td>\n",
       "      <td>NaN</td>\n",
       "      <td>MLB1478212260</td>\n",
       "      <td>52917805648</td>\n",
       "      <td>2023-12-07</td>\n",
       "      <td>True</td>\n",
       "      <td>36</td>\n",
       "      <td>3</td>\n",
       "      <td>1.0</td>\n",
       "    </tr>\n",
       "  </tbody>\n",
       "</table>\n",
       "<p>2 rows × 23 columns</p>\n",
       "</div>"
      ],
      "text/plain": [
       "          ml_code ml_inventory_id     value_name  variation_id  status  \\\n",
       "25  MLB1992541482       CLMF99895           0.12  173552533267  active   \n",
       "10  MLB1478212260       ENML56386  Preto/Amarelo   52917805648  active   \n",
       "\n",
       "    catalog_listing          seller_sku  \\\n",
       "25            False          FULLSG6687   \n",
       "10            False  FULLHERCULESGS302B   \n",
       "\n",
       "                                                title variation_value_name  \\\n",
       "25  Encordoamento 0.09 0.10 0.11 0.12 Violão Aço 8...                 0.12   \n",
       "10  Suporte Profissi Travlite Hércules P/ Guitarra...        Preto/Amarelo   \n",
       "\n",
       "   logistic_type  ...  available_quantity_today  detail_status  \\\n",
       "25   fulfillment  ...                        11           lost   \n",
       "10   fulfillment  ...                         2           None   \n",
       "\n",
       "    detail_quantity  references_id references_variation_id       data  \\\n",
       "25              2.0  MLB1992541482            173552533267 2023-12-07   \n",
       "10              NaN  MLB1478212260             52917805648 2023-12-07   \n",
       "\n",
       "   has_stock days_available total_sold  period_send_fulfillment  \n",
       "25      True             36         20                      6.0  \n",
       "10      True             36          3                      1.0  \n",
       "\n",
       "[2 rows x 23 columns]"
      ]
     },
     "execution_count": 101,
     "metadata": {},
     "output_type": "execute_result"
    }
   ],
   "source": [
    "df_have_itens = df[df[\"days_available\"] > 0]\n",
    "df_have_itens.sample(2)"
   ]
  },
  {
   "cell_type": "code",
   "execution_count": 102,
   "metadata": {},
   "outputs": [
    {
     "data": {
      "text/html": [
       "<div>\n",
       "<style scoped>\n",
       "    .dataframe tbody tr th:only-of-type {\n",
       "        vertical-align: middle;\n",
       "    }\n",
       "\n",
       "    .dataframe tbody tr th {\n",
       "        vertical-align: top;\n",
       "    }\n",
       "\n",
       "    .dataframe thead th {\n",
       "        text-align: right;\n",
       "    }\n",
       "</style>\n",
       "<table border=\"1\" class=\"dataframe\">\n",
       "  <thead>\n",
       "    <tr style=\"text-align: right;\">\n",
       "      <th></th>\n",
       "      <th>ml_code</th>\n",
       "      <th>ml_inventory_id</th>\n",
       "      <th>value_name</th>\n",
       "      <th>variation_id</th>\n",
       "      <th>status</th>\n",
       "      <th>catalog_listing</th>\n",
       "      <th>seller_sku</th>\n",
       "      <th>title</th>\n",
       "      <th>variation_value_name</th>\n",
       "      <th>logistic_type</th>\n",
       "      <th>...</th>\n",
       "      <th>total_sold_catalog</th>\n",
       "      <th>available_quantity_today</th>\n",
       "      <th>detail_status</th>\n",
       "      <th>detail_quantity</th>\n",
       "      <th>references_id</th>\n",
       "      <th>references_variation_id</th>\n",
       "      <th>data</th>\n",
       "      <th>has_stock</th>\n",
       "      <th>days_available</th>\n",
       "      <th>total_sold</th>\n",
       "    </tr>\n",
       "  </thead>\n",
       "  <tbody>\n",
       "    <tr>\n",
       "      <th>93</th>\n",
       "      <td>MLB2986538160</td>\n",
       "      <td>PPWL59058</td>\n",
       "      <td>Vermelho</td>\n",
       "      <td>175887797708</td>\n",
       "      <td>active</td>\n",
       "      <td>False</td>\n",
       "      <td>FULLLIVERPOOLPML001V</td>\n",
       "      <td>Pandeiro Profissional Meia Lua Diversas Cores ...</td>\n",
       "      <td>Vermelho</td>\n",
       "      <td>fulfillment</td>\n",
       "      <td>...</td>\n",
       "      <td>21</td>\n",
       "      <td>0</td>\n",
       "      <td>lost</td>\n",
       "      <td>1.0</td>\n",
       "      <td>MLB2986538160</td>\n",
       "      <td>175887797708</td>\n",
       "      <td>2023-12-07</td>\n",
       "      <td>False</td>\n",
       "      <td>0</td>\n",
       "      <td>24</td>\n",
       "    </tr>\n",
       "    <tr>\n",
       "      <th>14</th>\n",
       "      <td>MLB1662816343</td>\n",
       "      <td>GDCT87609</td>\n",
       "      <td>Vermelho</td>\n",
       "      <td>64488024031</td>\n",
       "      <td>paused</td>\n",
       "      <td>False</td>\n",
       "      <td>FULLIZZO6493</td>\n",
       "      <td>Pandeiro Original 10 Pol Abs Vermelho C/pele M...</td>\n",
       "      <td>Vermelho</td>\n",
       "      <td>fulfillment</td>\n",
       "      <td>...</td>\n",
       "      <td>0</td>\n",
       "      <td>0</td>\n",
       "      <td>None</td>\n",
       "      <td>NaN</td>\n",
       "      <td>MLB1662816343</td>\n",
       "      <td>64488024031</td>\n",
       "      <td>2023-12-07</td>\n",
       "      <td>False</td>\n",
       "      <td>0</td>\n",
       "      <td>1</td>\n",
       "    </tr>\n",
       "  </tbody>\n",
       "</table>\n",
       "<p>2 rows × 22 columns</p>\n",
       "</div>"
      ],
      "text/plain": [
       "          ml_code ml_inventory_id value_name  variation_id  status  \\\n",
       "93  MLB2986538160       PPWL59058   Vermelho  175887797708  active   \n",
       "14  MLB1662816343       GDCT87609   Vermelho   64488024031  paused   \n",
       "\n",
       "    catalog_listing            seller_sku  \\\n",
       "93            False  FULLLIVERPOOLPML001V   \n",
       "14            False          FULLIZZO6493   \n",
       "\n",
       "                                                title variation_value_name  \\\n",
       "93  Pandeiro Profissional Meia Lua Diversas Cores ...             Vermelho   \n",
       "14  Pandeiro Original 10 Pol Abs Vermelho C/pele M...             Vermelho   \n",
       "\n",
       "   logistic_type  ...  total_sold_catalog  available_quantity_today  \\\n",
       "93   fulfillment  ...                  21                         0   \n",
       "14   fulfillment  ...                   0                         0   \n",
       "\n",
       "    detail_status  detail_quantity  references_id  references_variation_id  \\\n",
       "93           lost              1.0  MLB2986538160             175887797708   \n",
       "14           None              NaN  MLB1662816343              64488024031   \n",
       "\n",
       "         data has_stock days_available  total_sold  \n",
       "93 2023-12-07     False              0          24  \n",
       "14 2023-12-07     False              0           1  \n",
       "\n",
       "[2 rows x 22 columns]"
      ]
     },
     "execution_count": 102,
     "metadata": {},
     "output_type": "execute_result"
    }
   ],
   "source": [
    "# produtos sem estoque no período\n",
    "df_no_itens = df[df[\"days_available\"] <= 0]\n",
    "df_no_itens = df_no_itens.drop(columns=[\"period_send_fulfillment\"])\n",
    "df_no_itens.sample(2)"
   ]
  },
  {
   "cell_type": "code",
   "execution_count": 103,
   "metadata": {},
   "outputs": [],
   "source": [
    "# df_have_itens.sample()"
   ]
  },
  {
   "cell_type": "code",
   "execution_count": 104,
   "metadata": {},
   "outputs": [],
   "source": [
    "dfx = df_have_itens.copy()"
   ]
  },
  {
   "cell_type": "code",
   "execution_count": 105,
   "metadata": {},
   "outputs": [],
   "source": [
    "# dfx.columns"
   ]
  },
  {
   "cell_type": "code",
   "execution_count": 106,
   "metadata": {},
   "outputs": [
    {
     "data": {
      "text/html": [
       "<div>\n",
       "<style scoped>\n",
       "    .dataframe tbody tr th:only-of-type {\n",
       "        vertical-align: middle;\n",
       "    }\n",
       "\n",
       "    .dataframe tbody tr th {\n",
       "        vertical-align: top;\n",
       "    }\n",
       "\n",
       "    .dataframe thead th {\n",
       "        text-align: right;\n",
       "    }\n",
       "</style>\n",
       "<table border=\"1\" class=\"dataframe\">\n",
       "  <thead>\n",
       "    <tr style=\"text-align: right;\">\n",
       "      <th></th>\n",
       "      <th>ml_code</th>\n",
       "      <th>ml_inventory_id</th>\n",
       "      <th>value_name</th>\n",
       "      <th>variation_id</th>\n",
       "      <th>status</th>\n",
       "      <th>catalog_listing</th>\n",
       "      <th>seller_sku</th>\n",
       "      <th>title</th>\n",
       "      <th>variation_value_name</th>\n",
       "      <th>logistic_type</th>\n",
       "      <th>...</th>\n",
       "      <th>available_quantity_today</th>\n",
       "      <th>transfer_status</th>\n",
       "      <th>transfer_quantity</th>\n",
       "      <th>references_id</th>\n",
       "      <th>references_variation_id</th>\n",
       "      <th>data</th>\n",
       "      <th>has_stock</th>\n",
       "      <th>days_available</th>\n",
       "      <th>total_sold</th>\n",
       "      <th>period_send_fulfillment</th>\n",
       "    </tr>\n",
       "  </thead>\n",
       "  <tbody>\n",
       "    <tr>\n",
       "      <th>0</th>\n",
       "      <td>MLB1398114866</td>\n",
       "      <td>DXJZ75064</td>\n",
       "      <td>0.010</td>\n",
       "      <td>174302125663</td>\n",
       "      <td>active</td>\n",
       "      <td>False</td>\n",
       "      <td>FULLELIXIR12052</td>\n",
       "      <td>Encordoamento Guitarra Elixir Nanoweb Original...</td>\n",
       "      <td>0.010</td>\n",
       "      <td>fulfillment</td>\n",
       "      <td>...</td>\n",
       "      <td>1</td>\n",
       "      <td>None</td>\n",
       "      <td>NaN</td>\n",
       "      <td>MLB1398114866</td>\n",
       "      <td>174302125663</td>\n",
       "      <td>2023-12-07</td>\n",
       "      <td>True</td>\n",
       "      <td>36</td>\n",
       "      <td>2</td>\n",
       "      <td>1.0</td>\n",
       "    </tr>\n",
       "    <tr>\n",
       "      <th>1</th>\n",
       "      <td>MLB1398114866</td>\n",
       "      <td>JDMV76187</td>\n",
       "      <td>0.009</td>\n",
       "      <td>174301393967</td>\n",
       "      <td>active</td>\n",
       "      <td>False</td>\n",
       "      <td>FULLELIXIR12002</td>\n",
       "      <td>Encordoamento Guitarra Elixir Nanoweb Original...</td>\n",
       "      <td>0.009</td>\n",
       "      <td>fulfillment</td>\n",
       "      <td>...</td>\n",
       "      <td>2</td>\n",
       "      <td>None</td>\n",
       "      <td>NaN</td>\n",
       "      <td>MLB1398114866</td>\n",
       "      <td>174301393967</td>\n",
       "      <td>2023-12-07</td>\n",
       "      <td>True</td>\n",
       "      <td>36</td>\n",
       "      <td>1</td>\n",
       "      <td>-1.0</td>\n",
       "    </tr>\n",
       "    <tr>\n",
       "      <th>2</th>\n",
       "      <td>MLB1418532096</td>\n",
       "      <td>SCVF31712</td>\n",
       "      <td>Preto/Madeira</td>\n",
       "      <td>49773918421</td>\n",
       "      <td>active</td>\n",
       "      <td>False</td>\n",
       "      <td>FULLHERCULESGSP38WB</td>\n",
       "      <td>Suporte P/ Guitarra De Parede Com Trava Ags He...</td>\n",
       "      <td>Preto/Madeira</td>\n",
       "      <td>fulfillment</td>\n",
       "      <td>...</td>\n",
       "      <td>36</td>\n",
       "      <td>None</td>\n",
       "      <td>NaN</td>\n",
       "      <td>MLB1418532096</td>\n",
       "      <td>49773918421</td>\n",
       "      <td>2023-12-07</td>\n",
       "      <td>True</td>\n",
       "      <td>36</td>\n",
       "      <td>3</td>\n",
       "      <td>-33.0</td>\n",
       "    </tr>\n",
       "    <tr>\n",
       "      <th>3</th>\n",
       "      <td>MLB1425113746</td>\n",
       "      <td>XDTG30724</td>\n",
       "      <td>Preto</td>\n",
       "      <td>50098452016</td>\n",
       "      <td>active</td>\n",
       "      <td>False</td>\n",
       "      <td>FULLHERCULESGSP39WB</td>\n",
       "      <td>Suporte Guitarra Baixo Violão Para Parede Herc...</td>\n",
       "      <td>Preto</td>\n",
       "      <td>fulfillment</td>\n",
       "      <td>...</td>\n",
       "      <td>1</td>\n",
       "      <td>lost</td>\n",
       "      <td>1.0</td>\n",
       "      <td>MLB1425113746</td>\n",
       "      <td>50098452016</td>\n",
       "      <td>2023-12-07</td>\n",
       "      <td>True</td>\n",
       "      <td>36</td>\n",
       "      <td>58</td>\n",
       "      <td>48.0</td>\n",
       "    </tr>\n",
       "    <tr>\n",
       "      <th>4</th>\n",
       "      <td>MLB1461203307</td>\n",
       "      <td>CNHG47042</td>\n",
       "      <td>Marrom</td>\n",
       "      <td>51909128584</td>\n",
       "      <td>paused</td>\n",
       "      <td>False</td>\n",
       "      <td>FULLKALANI15421</td>\n",
       "      <td>Ukulele Concerto 24 Kayke Mogno Kal 320 Cm Com...</td>\n",
       "      <td>Marrom</td>\n",
       "      <td>fulfillment</td>\n",
       "      <td>...</td>\n",
       "      <td>0</td>\n",
       "      <td>None</td>\n",
       "      <td>NaN</td>\n",
       "      <td>MLB1461203307</td>\n",
       "      <td>51909128584</td>\n",
       "      <td>2023-12-07</td>\n",
       "      <td>False</td>\n",
       "      <td>0</td>\n",
       "      <td>6</td>\n",
       "      <td>inf</td>\n",
       "    </tr>\n",
       "    <tr>\n",
       "      <th>...</th>\n",
       "      <td>...</td>\n",
       "      <td>...</td>\n",
       "      <td>...</td>\n",
       "      <td>...</td>\n",
       "      <td>...</td>\n",
       "      <td>...</td>\n",
       "      <td>...</td>\n",
       "      <td>...</td>\n",
       "      <td>...</td>\n",
       "      <td>...</td>\n",
       "      <td>...</td>\n",
       "      <td>...</td>\n",
       "      <td>...</td>\n",
       "      <td>...</td>\n",
       "      <td>...</td>\n",
       "      <td>...</td>\n",
       "      <td>...</td>\n",
       "      <td>...</td>\n",
       "      <td>...</td>\n",
       "      <td>...</td>\n",
       "      <td>...</td>\n",
       "    </tr>\n",
       "    <tr>\n",
       "      <th>110</th>\n",
       "      <td>MLB3339660079</td>\n",
       "      <td>ARDK78657</td>\n",
       "      <td>2</td>\n",
       "      <td>178533059697</td>\n",
       "      <td>active</td>\n",
       "      <td>False</td>\n",
       "      <td>FULLVANDOREN2SR212</td>\n",
       "      <td>2 Palheta Sax Alto Vandoren Tradicional 1 1,5 ...</td>\n",
       "      <td>2</td>\n",
       "      <td>fulfillment</td>\n",
       "      <td>...</td>\n",
       "      <td>15</td>\n",
       "      <td>None</td>\n",
       "      <td>NaN</td>\n",
       "      <td>MLB3339660079</td>\n",
       "      <td>178533059697</td>\n",
       "      <td>2023-12-07</td>\n",
       "      <td>True</td>\n",
       "      <td>36</td>\n",
       "      <td>13</td>\n",
       "      <td>-4.0</td>\n",
       "    </tr>\n",
       "    <tr>\n",
       "      <th>111</th>\n",
       "      <td>MLB3339660079</td>\n",
       "      <td>IDSV51539</td>\n",
       "      <td>2,5</td>\n",
       "      <td>178533059699</td>\n",
       "      <td>active</td>\n",
       "      <td>False</td>\n",
       "      <td>FULLVANDOREN2SR2125</td>\n",
       "      <td>2 Palheta Sax Alto Vandoren Tradicional 1 1,5 ...</td>\n",
       "      <td>2,5</td>\n",
       "      <td>fulfillment</td>\n",
       "      <td>...</td>\n",
       "      <td>64</td>\n",
       "      <td>None</td>\n",
       "      <td>NaN</td>\n",
       "      <td>MLB3339660079</td>\n",
       "      <td>178533059699</td>\n",
       "      <td>2023-12-07</td>\n",
       "      <td>True</td>\n",
       "      <td>36</td>\n",
       "      <td>4</td>\n",
       "      <td>-60.0</td>\n",
       "    </tr>\n",
       "    <tr>\n",
       "      <th>112</th>\n",
       "      <td>MLB3339660079</td>\n",
       "      <td>BZGW51616</td>\n",
       "      <td>1,5</td>\n",
       "      <td>178533059701</td>\n",
       "      <td>active</td>\n",
       "      <td>False</td>\n",
       "      <td>FULLVANDOREN2SR2115</td>\n",
       "      <td>2 Palheta Sax Alto Vandoren Tradicional 1 1,5 ...</td>\n",
       "      <td>1,5</td>\n",
       "      <td>fulfillment</td>\n",
       "      <td>...</td>\n",
       "      <td>25</td>\n",
       "      <td>None</td>\n",
       "      <td>NaN</td>\n",
       "      <td>MLB3339660079</td>\n",
       "      <td>178533059701</td>\n",
       "      <td>2023-12-07</td>\n",
       "      <td>True</td>\n",
       "      <td>36</td>\n",
       "      <td>10</td>\n",
       "      <td>-16.0</td>\n",
       "    </tr>\n",
       "    <tr>\n",
       "      <th>113</th>\n",
       "      <td>MLB1662970458</td>\n",
       "      <td>UIUW89800</td>\n",
       "      <td>Preto</td>\n",
       "      <td>64498487033</td>\n",
       "      <td>active</td>\n",
       "      <td>False</td>\n",
       "      <td>FULLIZZO6480</td>\n",
       "      <td>Pandeiro Original 10 Pol Abs Preto Com Pele Pr...</td>\n",
       "      <td>Preto</td>\n",
       "      <td>fulfillment</td>\n",
       "      <td>...</td>\n",
       "      <td>12</td>\n",
       "      <td>transfer</td>\n",
       "      <td>12.0</td>\n",
       "      <td>MLB1662970458</td>\n",
       "      <td>64498487033</td>\n",
       "      <td>2023-12-07</td>\n",
       "      <td>False</td>\n",
       "      <td>0</td>\n",
       "      <td>581</td>\n",
       "      <td>inf</td>\n",
       "    </tr>\n",
       "    <tr>\n",
       "      <th>114</th>\n",
       "      <td>MLB1662862664</td>\n",
       "      <td>CRMK90073</td>\n",
       "      <td>Azul</td>\n",
       "      <td>64489869774</td>\n",
       "      <td>active</td>\n",
       "      <td>False</td>\n",
       "      <td>FULLIZZO6489</td>\n",
       "      <td>Pandeiro Original 10 Pol Abs Azul C/pele Metal...</td>\n",
       "      <td>Azul</td>\n",
       "      <td>fulfillment</td>\n",
       "      <td>...</td>\n",
       "      <td>18</td>\n",
       "      <td>transfer</td>\n",
       "      <td>18.0</td>\n",
       "      <td>MLB1662862664</td>\n",
       "      <td>64489869774</td>\n",
       "      <td>2023-12-07</td>\n",
       "      <td>False</td>\n",
       "      <td>0</td>\n",
       "      <td>22</td>\n",
       "      <td>inf</td>\n",
       "    </tr>\n",
       "  </tbody>\n",
       "</table>\n",
       "<p>115 rows × 23 columns</p>\n",
       "</div>"
      ],
      "text/plain": [
       "           ml_code ml_inventory_id     value_name  variation_id  status  \\\n",
       "0    MLB1398114866       DXJZ75064          0.010  174302125663  active   \n",
       "1    MLB1398114866       JDMV76187          0.009  174301393967  active   \n",
       "2    MLB1418532096       SCVF31712  Preto/Madeira   49773918421  active   \n",
       "3    MLB1425113746       XDTG30724          Preto   50098452016  active   \n",
       "4    MLB1461203307       CNHG47042         Marrom   51909128584  paused   \n",
       "..             ...             ...            ...           ...     ...   \n",
       "110  MLB3339660079       ARDK78657              2  178533059697  active   \n",
       "111  MLB3339660079       IDSV51539            2,5  178533059699  active   \n",
       "112  MLB3339660079       BZGW51616            1,5  178533059701  active   \n",
       "113  MLB1662970458       UIUW89800          Preto   64498487033  active   \n",
       "114  MLB1662862664       CRMK90073           Azul   64489869774  active   \n",
       "\n",
       "     catalog_listing           seller_sku  \\\n",
       "0              False      FULLELIXIR12052   \n",
       "1              False      FULLELIXIR12002   \n",
       "2              False  FULLHERCULESGSP38WB   \n",
       "3              False  FULLHERCULESGSP39WB   \n",
       "4              False      FULLKALANI15421   \n",
       "..               ...                  ...   \n",
       "110            False   FULLVANDOREN2SR212   \n",
       "111            False  FULLVANDOREN2SR2125   \n",
       "112            False  FULLVANDOREN2SR2115   \n",
       "113            False         FULLIZZO6480   \n",
       "114            False         FULLIZZO6489   \n",
       "\n",
       "                                                 title variation_value_name  \\\n",
       "0    Encordoamento Guitarra Elixir Nanoweb Original...                0.010   \n",
       "1    Encordoamento Guitarra Elixir Nanoweb Original...                0.009   \n",
       "2    Suporte P/ Guitarra De Parede Com Trava Ags He...        Preto/Madeira   \n",
       "3    Suporte Guitarra Baixo Violão Para Parede Herc...                Preto   \n",
       "4    Ukulele Concerto 24 Kayke Mogno Kal 320 Cm Com...               Marrom   \n",
       "..                                                 ...                  ...   \n",
       "110  2 Palheta Sax Alto Vandoren Tradicional 1 1,5 ...                    2   \n",
       "111  2 Palheta Sax Alto Vandoren Tradicional 1 1,5 ...                  2,5   \n",
       "112  2 Palheta Sax Alto Vandoren Tradicional 1 1,5 ...                  1,5   \n",
       "113  Pandeiro Original 10 Pol Abs Preto Com Pele Pr...                Preto   \n",
       "114  Pandeiro Original 10 Pol Abs Azul C/pele Metal...                 Azul   \n",
       "\n",
       "    logistic_type  ...  available_quantity_today  transfer_status  \\\n",
       "0     fulfillment  ...                         1             None   \n",
       "1     fulfillment  ...                         2             None   \n",
       "2     fulfillment  ...                        36             None   \n",
       "3     fulfillment  ...                         1             lost   \n",
       "4     fulfillment  ...                         0             None   \n",
       "..            ...  ...                       ...              ...   \n",
       "110   fulfillment  ...                        15             None   \n",
       "111   fulfillment  ...                        64             None   \n",
       "112   fulfillment  ...                        25             None   \n",
       "113   fulfillment  ...                        12         transfer   \n",
       "114   fulfillment  ...                        18         transfer   \n",
       "\n",
       "     transfer_quantity  references_id references_variation_id       data  \\\n",
       "0                  NaN  MLB1398114866            174302125663 2023-12-07   \n",
       "1                  NaN  MLB1398114866            174301393967 2023-12-07   \n",
       "2                  NaN  MLB1418532096             49773918421 2023-12-07   \n",
       "3                  1.0  MLB1425113746             50098452016 2023-12-07   \n",
       "4                  NaN  MLB1461203307             51909128584 2023-12-07   \n",
       "..                 ...            ...                     ...        ...   \n",
       "110                NaN  MLB3339660079            178533059697 2023-12-07   \n",
       "111                NaN  MLB3339660079            178533059699 2023-12-07   \n",
       "112                NaN  MLB3339660079            178533059701 2023-12-07   \n",
       "113               12.0  MLB1662970458             64498487033 2023-12-07   \n",
       "114               18.0  MLB1662862664             64489869774 2023-12-07   \n",
       "\n",
       "    has_stock days_available total_sold  period_send_fulfillment  \n",
       "0        True             36          2                      1.0  \n",
       "1        True             36          1                     -1.0  \n",
       "2        True             36          3                    -33.0  \n",
       "3        True             36         58                     48.0  \n",
       "4       False              0          6                      inf  \n",
       "..        ...            ...        ...                      ...  \n",
       "110      True             36         13                     -4.0  \n",
       "111      True             36          4                    -60.0  \n",
       "112      True             36         10                    -16.0  \n",
       "113     False              0        581                      inf  \n",
       "114     False              0         22                      inf  \n",
       "\n",
       "[115 rows x 23 columns]"
      ]
     },
     "execution_count": 106,
     "metadata": {},
     "output_type": "execute_result"
    }
   ],
   "source": [
    "# # Exibir todas as linhas e colunas\n",
    "# pd.set_option('display.max_rows', None)\n",
    "# pd.set_option('display.max_columns', None)\n",
    "\n",
    "# Voltar ao normal\n",
    "# pd.reset_option('display.max_rows')\n",
    "# pd.reset_option('display.max_columns')\n",
    "\n",
    "# dfx = dfx.drop(columns=['catalog_listing','variation_value_name','variation_id','logistic_type','references_id','has_stock','total_sold_quantity',\n",
    "#                         'references_variation_id'])\n",
    "\n",
    "cols = [\n",
    "    \"ml_code\",\n",
    "    \"seller_sku\",\n",
    "    \"ml_inventory_id\",\n",
    "    \"value_name\",\n",
    "    \"status\",\n",
    "    \"title\",\n",
    "    \"available_quantity_today\",\n",
    "    \"detail_status\",\n",
    "    \"detail_quantity\",\n",
    "    \"days_available\",\n",
    "    \"total_sold_not_catalog\",\n",
    "    \"total_sold_catalog\",\n",
    "    \"total_sold\",\n",
    "    \"period_send_fulfillment\",\n",
    "]\n",
    "\n",
    "dfx = dfx[cols]\n",
    "df.rename(\n",
    "    columns={\"detail_status\": \"transfer_status\", \"detail_quantity\": \"transfer_quantity\"}\n",
    ")\n",
    "# dfx.sample()"
   ]
  },
  {
   "cell_type": "markdown",
   "metadata": {},
   "source": [
    "## Acabou!"
   ]
  },
  {
   "cell_type": "code",
   "execution_count": null,
   "metadata": {},
   "outputs": [],
   "source": [
    "# # media de produtos disponiveis no período\n",
    "# df_vendas_total_sales_not_cat[\"media_prod_days_available\"] = (\n",
    "#     df_vendas_total_sales_not_cat[\"total_sold_quantity\"] / df_vendas_total_sales_not_cat[\"days_available\"]\n",
    "# )\n",
    "# df_vendas_total_sales_not_cat[\"media_prod_days_available\"] = df_vendas_total_sales_not_cat[\"media_prod_days_available\"].fillna(0)\n",
    "\n",
    "# days = 30\n",
    "\n",
    "# # qtd de produtos a enviar no período, caso seja valor negativo produto está acima do esperado para envio(sobrando)\n",
    "# df_vendas_total_sales_not_cat[\"period_send_fulfillment\"] = np.ceil(\n",
    "#     (df_vendas_total_sales_not_cat[\"total_sold_quantity\"] / df_vendas_total_sales_not_cat[\"days_available\"]) * days\n",
    "#     - df_vendas_total_sales_not_cat[\"available_quantity_today\"]\n",
    "# )\n",
    "# df_vendas_total_sales_not_cat[\"period_send_fulfillment\"] = df_vendas_total_sales_not_cat[\"period_send_fulfillment\"].fillna(0)\n",
    "\n",
    "# # qtd de produtos a enviar hoje, caso seja valor negativo produto está acima do esperado para envio(sobrando)\n",
    "# df_vendas_total_sales_not_cat[\"today_send_fulfillment\"] = np.ceil(\n",
    "#     (df_vendas_total_sales_not_cat[\"total_sold_quantity\"] / df_vendas_total_sales_not_cat[\"days_available\"])\n",
    "#     - df_vendas_total_sales_not_cat[\"available_quantity_today\"]\n",
    "# )\n",
    "# df_vendas_total_sales_not_cat[\"today_send_fulfillment\"] = df_vendas_total_sales_not_cat[\"today_send_fulfillment\"].fillna(0)"
   ]
  },
  {
   "cell_type": "code",
   "execution_count": null,
   "metadata": {},
   "outputs": [],
   "source": [
    "# resultado_cat = (\n",
    "#     df_vendas_cat.groupby(\"ml_inventory_id\")[\"sold_quantity\"].sum().reset_index()\n",
    "# )\n",
    "\n",
    "# resultado_cat"
   ]
  },
  {
   "cell_type": "code",
   "execution_count": null,
   "metadata": {},
   "outputs": [],
   "source": [
    "# resultado_not_cat = (\n",
    "#     df_vendas_not_cat.groupby(\"ml_inventory_id\")[\"sold_quantity\"].sum().reset_index()\n",
    "# )\n",
    "# resultado_not_cat"
   ]
  },
  {
   "cell_type": "code",
   "execution_count": null,
   "metadata": {},
   "outputs": [],
   "source": [
    "# resultado = pd.merge(\n",
    "#     resultado_cat, resultado_not_cat, on=[\"ml_inventory_id\"], how=\"outer\"\n",
    "# )\n",
    "# resultado = resultado.fillna(0)\n",
    "# # pd.set_option('display.max_rows', None)\n",
    "# pd.reset_option(\"display.max_rows\")\n",
    "\n",
    "# resultado[\"sold_quantity_sum\"] = resultado[\"sold_quantity_x\"].fillna(0) + resultado[\n",
    "#     \"sold_quantity_y\"\n",
    "# ].fillna(0)\n",
    "# df_total_sales = resultado.copy()"
   ]
  },
  {
   "cell_type": "markdown",
   "metadata": {},
   "source": [
    "### Produtos + Dias disponíveis"
   ]
  },
  {
   "cell_type": "code",
   "execution_count": null,
   "metadata": {},
   "outputs": [],
   "source": [
    "# print(df_codes.shape)\n",
    "# print(df_stock_today.shape)\n",
    "\n",
    "# print(df_codes.columns)\n",
    "# print(df_stock_today.columns)"
   ]
  },
  {
   "cell_type": "code",
   "execution_count": null,
   "metadata": {},
   "outputs": [],
   "source": [
    "# condf(prod_day, 'ml_code', 'MLB2003190501')"
   ]
  },
  {
   "cell_type": "code",
   "execution_count": null,
   "metadata": {},
   "outputs": [],
   "source": [
    "prod_day = pd.merge(df_codes, df_stock_today, on=\"ml_inventory_id\", how=\"inner\")\n",
    "# prod_day = pd.merge(df_codes, df_stock_today, on=\"ml_inventory_id\", how=\"outer\")\n",
    "prod_day = prod_day[prod_day[\"catalog_listing\"] == False]\n",
    "prod_day.shape\n",
    "prod_day"
   ]
  },
  {
   "cell_type": "markdown",
   "metadata": {},
   "source": [
    "### Prod_Day + Total_sales"
   ]
  },
  {
   "cell_type": "code",
   "execution_count": null,
   "metadata": {},
   "outputs": [],
   "source": [
    "# print(df_total_sales.shape)\n",
    "# df_total_sales = df_total_sales.drop([\"sold_quantity_x\", \"sold_quantity_y\"], axis=1)\n",
    "# df_total_sales.sample()"
   ]
  },
  {
   "cell_type": "code",
   "execution_count": null,
   "metadata": {},
   "outputs": [],
   "source": [
    "# # df_sales = pd.merge(\n",
    "# #     df_total_sales,\n",
    "# #     prod_day,\n",
    "# #     left_on=[\"ml_code\", \"variation_id\"],\n",
    "# #     right_on=[\"ml_code\", \"variation_id\"],\n",
    "# #     how=\"inner\",\n",
    "# # )\n",
    "\n",
    "# df_sales = pd.merge(\n",
    "#     df_total_sales,\n",
    "#     prod_day,\n",
    "#     left_on=[\"ml_inventory_id\"],\n",
    "#     right_on=[\"ml_inventory_id\"],\n",
    "#     how=\"inner\",\n",
    "# )\n",
    "\n",
    "# cols = [\n",
    "#     \"ml_code\",\n",
    "#     \"ml_inventory_id\",\n",
    "#     \"sold_quantity_sum\",\n",
    "#     \"value_name\",\n",
    "#     \"variation_id\",\n",
    "#     \"status\",\n",
    "#     \"catalog_listing\",\n",
    "#     \"available_quantity_today\",\n",
    "#     \"detail_status\",\n",
    "#     \"detail_quantity\",\n",
    "#     \"references_id\",\n",
    "#     \"references_variation_id\",\n",
    "#     \"data\",\n",
    "#     \"has_stock\",\n",
    "#     \"days_available\",\n",
    "# ]\n",
    "\n",
    "# # df_sales = df_sales[cols]\n",
    "# # df_sales = df_sales.rename(columns={'days_available_x':'days_available'})\n",
    "# print(df_total_sales.shape)\n",
    "# print(prod_day.shape)\n",
    "# # print(x.shape)\n",
    "# print(df_sales.shape)"
   ]
  },
  {
   "cell_type": "code",
   "execution_count": null,
   "metadata": {},
   "outputs": [],
   "source": [
    "# df_sales.columns"
   ]
  },
  {
   "cell_type": "code",
   "execution_count": null,
   "metadata": {},
   "outputs": [],
   "source": [
    "# df_not_sales = pd.merge(\n",
    "#     df_total_sales,\n",
    "#     prod_day,\n",
    "#     left_on=[\"ml_inventory_id\"],\n",
    "#     right_on=[\"ml_inventory_id\"],\n",
    "#     how=\"inner\",\n",
    "# )\n",
    "# # df_not_sales = df_not_sales[df_not_sales['days_available']==0]\n",
    "\n",
    "# cols = [\n",
    "#     \"ml_code\",\n",
    "#     \"ml_inventory_id\",\n",
    "#     \"sold_quantity_sum\",\n",
    "#     \"value_name\",\n",
    "#     \"variation_id\",\n",
    "#     \"status\",\n",
    "#     \"catalog_listing\",\n",
    "#     \"available_quantity_today\",\n",
    "#     \"detail_status\",\n",
    "#     \"detail_quantity\",\n",
    "#     \"references_id\",\n",
    "#     \"references_variation_id\",\n",
    "#     \"data\",\n",
    "#     \"has_stock\",\n",
    "#     \"days_available\",\n",
    "# ]\n",
    "\n",
    "# df_not_sales = df_not_sales[cols]\n",
    "# # df_not_sales = df_not_sales.rename(columns={'days_available_x':'days_available'})\n",
    "# print(df_total_sales.shape)\n",
    "# print(prod_day.shape)\n",
    "# # print(x.shape)\n",
    "# print(df_not_sales.shape)"
   ]
  },
  {
   "cell_type": "code",
   "execution_count": null,
   "metadata": {},
   "outputs": [],
   "source": [
    "# # df_not_sales\n",
    "# df_sales.shape"
   ]
  },
  {
   "cell_type": "code",
   "execution_count": null,
   "metadata": {},
   "outputs": [],
   "source": [
    "# condf(df_sales, \"ml_code\", \"MLB1992541482\")"
   ]
  },
  {
   "cell_type": "code",
   "execution_count": null,
   "metadata": {},
   "outputs": [],
   "source": [
    "# x = pd.merge(x, df_sales, how='outer', indicator=True)\n",
    "# x = x[x['_merge'] == 'right_only']\n",
    "\n",
    "# x"
   ]
  },
  {
   "cell_type": "markdown",
   "metadata": {},
   "source": [
    "### Calculando métricas"
   ]
  },
  {
   "cell_type": "code",
   "execution_count": null,
   "metadata": {},
   "outputs": [],
   "source": [
    "x = df_sales[df_sales[\"ml_inventory_id\"] == \"AGDL67547\"]\n",
    "x"
   ]
  },
  {
   "cell_type": "code",
   "execution_count": null,
   "metadata": {},
   "outputs": [],
   "source": []
  },
  {
   "cell_type": "code",
   "execution_count": null,
   "metadata": {},
   "outputs": [],
   "source": [
    "df_sales.sample(10)"
   ]
  },
  {
   "cell_type": "code",
   "execution_count": null,
   "metadata": {},
   "outputs": [],
   "source": [
    "# media de produtos disponiveis no período\n",
    "df_sales[\"media_prod_days_available\"] = (\n",
    "    df_sales[\"sold_quantity_sum\"] / df_sales[\"days_available\"]\n",
    ")\n",
    "df_sales[\"media_prod_days_available\"] = df_sales[\"media_prod_days_available\"].fillna(0)\n",
    "\n",
    "days = 30\n",
    "\n",
    "# qtd de produtos a enviar no período, caso seja valor negativo produto está acima do esperado para envio(sobrando)\n",
    "df_sales[\"period_send_fulfillment\"] = np.ceil(\n",
    "    (df_sales[\"sold_quantity_sum\"] / df_sales[\"days_available\"]) * days\n",
    "    - df_sales[\"available_quantity_today\"]\n",
    ")\n",
    "df_sales[\"period_send_fulfillment\"] = df_sales[\"period_send_fulfillment\"].fillna(0)\n",
    "\n",
    "# qtd de produtos a enviar hoje, caso seja valor negativo produto está acima do esperado para envio(sobrando)\n",
    "df_sales[\"today_send_fulfillment\"] = np.ceil(\n",
    "    (df_sales[\"sold_quantity_sum\"] / df_sales[\"days_available\"])\n",
    "    - df_sales[\"available_quantity_today\"]\n",
    ")\n",
    "df_sales[\"today_send_fulfillment\"] = df_sales[\"today_send_fulfillment\"].fillna(0)"
   ]
  },
  {
   "cell_type": "code",
   "execution_count": null,
   "metadata": {},
   "outputs": [],
   "source": [
    "pd.set_option(\"display.max_columns\", None)"
   ]
  },
  {
   "cell_type": "code",
   "execution_count": null,
   "metadata": {},
   "outputs": [],
   "source": [
    "import pandas as pd\n",
    "\n",
    "# DataFrame da esquerda\n",
    "df_esquerda = pd.DataFrame({\"ID\": [1, 2, 3, 4], \"Valor_esquerda\": [\"A\", \"B\", \"C\", \"D\"]})\n",
    "\n",
    "# DataFrame da direita\n",
    "df_direita = pd.DataFrame({\"ID\": [3, 4, 5, 6], \"Valor_direita\": [\"X\", \"Y\", \"Z\", \"W\"]})\n",
    "\n",
    "# Realizando a junção anti-esquerda\n",
    "resultado = pd.merge(\n",
    "    df_esquerda, df_direita, on=\"ID\", how=\"left\", indicator=True\n",
    ").query('_merge == \"left_only\"')\n",
    "\n",
    "# Removendo a coluna de indicador (_merge)\n",
    "resultado = resultado.drop(columns=[\"_merge\"])\n",
    "\n",
    "print(resultado)"
   ]
  },
  {
   "cell_type": "code",
   "execution_count": null,
   "metadata": {},
   "outputs": [],
   "source": []
  },
  {
   "cell_type": "code",
   "execution_count": null,
   "metadata": {},
   "outputs": [],
   "source": []
  },
  {
   "cell_type": "code",
   "execution_count": null,
   "metadata": {},
   "outputs": [],
   "source": [
    "cols = [\n",
    "    \"ml_code\",\n",
    "    \"ml_inventory_id\",\n",
    "    \"value_name\",\n",
    "    \"status\",\n",
    "    \"available_quantity_today\",\n",
    "    \"sold_quantity_sum\",\n",
    "    \"days_available\",\n",
    "    \"media_prod_days_available\",\n",
    "    \"period_send_fulfillment\",\n",
    "    \"today_send_fulfillment\",\n",
    "]\n",
    "df_sales = df_sales[cols]\n",
    "df_sales"
   ]
  },
  {
   "cell_type": "code",
   "execution_count": null,
   "metadata": {},
   "outputs": [],
   "source": [
    "df_sales[\"days_available\"].value_counts()"
   ]
  },
  {
   "cell_type": "code",
   "execution_count": null,
   "metadata": {},
   "outputs": [],
   "source": [
    "df_sales.sample(2)"
   ]
  },
  {
   "cell_type": "code",
   "execution_count": null,
   "metadata": {},
   "outputs": [],
   "source": [
    "x = \"MLB1629379059\"\n",
    "y = df_sales[df_sales[\"ml_code\"] == x]\n",
    "y"
   ]
  },
  {
   "cell_type": "code",
   "execution_count": null,
   "metadata": {},
   "outputs": [],
   "source": [
    "condf(df_sales, \"ml_code\", \"MLB1992541482\")"
   ]
  },
  {
   "cell_type": "markdown",
   "metadata": {},
   "source": [
    "Pergunta:\n",
    "\n",
    "Caso em seja necessário enviar produtos de um kit e apenas um dos produtos estiver em falta, o que fazer?"
   ]
  },
  {
   "cell_type": "markdown",
   "metadata": {},
   "source": []
  }
 ],
 "metadata": {
  "kernelspec": {
   "display_name": "venv",
   "language": "python",
   "name": "python3"
  },
  "language_info": {
   "codemirror_mode": {
    "name": "ipython",
    "version": 3
   },
   "file_extension": ".py",
   "mimetype": "text/x-python",
   "name": "python",
   "nbconvert_exporter": "python",
   "pygments_lexer": "ipython3",
   "version": "3.12.0"
  }
 },
 "nbformat": 4,
 "nbformat_minor": 2
}
