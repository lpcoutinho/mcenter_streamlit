{
 "cells": [
  {
   "cell_type": "markdown",
   "metadata": {},
   "source": [
    "Depositos para enviar, orderm de preferencia:\n",
    "musical_matriz\n",
    "musical_filal\n",
    "em seguida onde houver mais estoque\n",
    "\n",
    "\n",
    "onde days_available = 0 criar observação onde informa que há muito tempo sem estoque"
   ]
  },
  {
   "cell_type": "code",
   "execution_count": 1,
   "metadata": {},
   "outputs": [],
   "source": [
    "import json\n",
    "import os\n",
    "from pandas import json_normalize\n",
    "import psycopg2\n",
    "import pandas as pd\n",
    "import requests\n",
    "from dotenv import load_dotenv\n",
    "from datetime import datetime, timedelta\n",
    "import numpy as np\n",
    "\n",
    "load_dotenv()\n",
    "\n",
    "ACCESS_TOKEN_MCENTER = os.getenv(\"ACCESS_TOKEN_MCENTER\")\n",
    "ACCESS_TOKEN_BUENOSHOPS = os.getenv(\"ACCESS_TOKEN_BUENOSHOPS\")\n",
    "ACCESS_TOKEN_MUSICALCRIS = os.getenv(\"ACCESS_TOKEN_MUSICALCRIS\")\n",
    "\n",
    "HOST = os.getenv(\"HOST\")\n",
    "POSTGRES_DB = os.getenv(\"POSTGRES_DB\")\n",
    "POSTGRES_USER = os.getenv(\"POSTGRES_USER\")\n",
    "POSTGRES_PASSWORD = os.getenv(\"POSTGRES_PASSWORD\")\n",
    "\n",
    "SMARTGO_TOKEN = os.getenv(\"SMARTGO_TOKEN\")\n",
    "\n",
    "# Informações de conexão com o banco de dados PostgreSQL\n",
    "db_config = {\n",
    "    \"host\": HOST,\n",
    "    \"database\": POSTGRES_DB,\n",
    "    \"user\": POSTGRES_USER,\n",
    "    \"password\": POSTGRES_PASSWORD,\n",
    "}"
   ]
  },
  {
   "cell_type": "code",
   "execution_count": 2,
   "metadata": {},
   "outputs": [],
   "source": [
    "def condf(df, coluna, valor):\n",
    "    \"\"\"\n",
    "    Consulta um DataFrame com base em uma coluna e valor específicos.\n",
    "\n",
    "    Parâmetros:\n",
    "    - df: DataFrame a ser consultado.\n",
    "    - coluna: Nome da coluna para a condição de consulta.\n",
    "    - valor: Valor desejado na coluna.\n",
    "\n",
    "    Retorna:\n",
    "    Um DataFrame contendo apenas as linhas que atendem à condição.\n",
    "    \"\"\"\n",
    "    resultado = df[df[coluna] == valor]\n",
    "    return resultado\n",
    "\n",
    "\n",
    "def condf_date(df, coluna_data, data_pesquisada):\n",
    "    \"\"\"\n",
    "    Consulta um DataFrame com base em uma coluna de datas.\n",
    "\n",
    "    Parâmetros:\n",
    "    - df: DataFrame a ser consultado.\n",
    "    - coluna_data: Nome da coluna de datas.\n",
    "    - data_pesquisada: Data desejada para a consulta.\n",
    "\n",
    "    Retorna:\n",
    "    Um DataFrame contendo apenas as linhas que correspondem à data pesquisada.\n",
    "    \"\"\"\n",
    "    resultado = df[pd.to_datetime(df[coluna_data]).dt.date == data_pesquisada]\n",
    "    return resultado"
   ]
  },
  {
   "cell_type": "code",
   "execution_count": 3,
   "metadata": {},
   "outputs": [],
   "source": [
    "def get_wms_data(SMARTGO_TOKEN):\n",
    "    try:\n",
    "        url = \"https://apigateway.smartgo.com.br/estoque/saldo\"\n",
    "\n",
    "        payload = {}\n",
    "        headers = {\"api_key\": SMARTGO_TOKEN}\n",
    "\n",
    "        response = requests.request(\"GET\", url, headers=headers, data=payload)\n",
    "\n",
    "        if response.status_code == 200:\n",
    "            data = json.loads(response.text)\n",
    "\n",
    "            items = data.get(\"model\", {}).get(\"items\", [])\n",
    "\n",
    "            result_list = []\n",
    "\n",
    "            for item in items:\n",
    "                result_dict = {\n",
    "                    \"id_depositante\": item.get(\"idDepositante\"),\n",
    "                    \"depositante\": item.get(\"depositante\"),\n",
    "                    \"area\": item.get(\"area\"),\n",
    "                    \"areaComputaSaldo\": item.get(\"areaComputaSaldo\"),\n",
    "                    \"idProduto\": item.get(\"idProduto\"),\n",
    "                    \"produto_nome\": item.get(\"produtoNome\"),\n",
    "                    \"produtoCodigoInterno\": item.get(\"produtoCodigoInterno\"),\n",
    "                    \"produtoCodigoExterno\": item.get(\"produtoCodigoExterno\"),\n",
    "                    \"quantidade\": item.get(\"quantidade\"),\n",
    "                    \"quantidadeProduto\": item.get(\"quantidadeProduto\"),\n",
    "                    \"quantidadeDeMovimentacao\": item.get(\"quantidadeDeMovimentacao\"),\n",
    "                    \"quantidadeProdutosEmbalagem\": item.get(\n",
    "                        \"quantidadeProdutosEmbalagem\"\n",
    "                    ),\n",
    "                    \"tipoUnidadeEmbalagem\": item.get(\"tipoUnidadeEmbalagem\"),\n",
    "                    \"tipoUnidadeMovimentacao\": item.get(\"tipoUnidadeMovimentacao\"),\n",
    "                    \"tipoUnidadeProduto\": item.get(\"tipoUnidadeProduto\"),\n",
    "                    \"quantidadeEnderecos\": item.get(\"quantidadeEnderecos\"),\n",
    "                    \"quantidade_disponivel\": item.get(\"quantidadeDisponivel\"),\n",
    "                    \"quantidadeEmExpedicao\": item.get(\"quantidadeEmExpedicao\"),\n",
    "                    \"pedidosCodigosExternos\": item.get(\"pedidosCodigosExternos\"),\n",
    "                    \"codigosDeIdentificacao\": item.get(\"codigosDeIdentificacao\"),\n",
    "                    \"notasFiscais\": item.get(\"notasFiscais\"),\n",
    "                    \"depositos\": item.get(\"depositos\"),\n",
    "                }\n",
    "                result_list.append(result_dict)\n",
    "\n",
    "            df = pd.DataFrame(result_list)\n",
    "            cols = [\n",
    "                \"id_depositante\",\n",
    "                \"depositante\",\n",
    "                \"idProduto\",\n",
    "                \"produto_nome\",\n",
    "                \"produtoCodigoInterno\",\n",
    "                \"produtoCodigoExterno\",\n",
    "                \"quantidade_disponivel\",\n",
    "            ]\n",
    "            df = df[cols]\n",
    "            return df\n",
    "\n",
    "    except requests.exceptions.RequestException as e:\n",
    "        print(f\"Request Exception: {e}\")\n",
    "        return None\n",
    "\n",
    "    except json.JSONDecodeError as e:\n",
    "        print(f\"JSON Decode Error: {e}\")\n",
    "        return None\n",
    "\n",
    "    except Exception as e:\n",
    "        print(f\"An unexpected error occurred: {e}\")\n",
    "        return None"
   ]
  },
  {
   "cell_type": "markdown",
   "metadata": {},
   "source": [
    "### Período a consultar"
   ]
  },
  {
   "cell_type": "code",
   "execution_count": 4,
   "metadata": {},
   "outputs": [
    {
     "name": "stdout",
     "output_type": "stream",
     "text": [
      "data_inicio:  2023-12-01\n",
      "data_fim:  2024-01-03\n"
     ]
    }
   ],
   "source": [
    "# Defina as datas de início e fim desejadas\n",
    "data_inicio = datetime(2023, 12, 1).date()\n",
    "data_fim = datetime(2024, 1, 3).date()\n",
    "# data_fim = data_fim + timedelta(days=1)  # + 1 dia para pegar a data atual no DB\n",
    "# data_fim = data_fim - timedelta(days=1)  # + 1 dia para pegar a data atual no DB\n",
    "print(\"data_inicio: \", data_inicio)\n",
    "print(\"data_fim: \", data_fim)"
   ]
  },
  {
   "cell_type": "markdown",
   "metadata": {},
   "source": [
    "### Historico de estoque fulfillment"
   ]
  },
  {
   "cell_type": "code",
   "execution_count": 5,
   "metadata": {},
   "outputs": [
    {
     "name": "stdout",
     "output_type": "stream",
     "text": [
      "SELECT * FROM mcenter_fulfillment_stock WHERE created_at BETWEEN '2023-12-01' AND '2024-01-03;'\n"
     ]
    },
    {
     "name": "stderr",
     "output_type": "stream",
     "text": [
      "C:\\Users\\couti\\AppData\\Local\\Temp\\ipykernel_20156\\1935300295.py:8: UserWarning: pandas only supports SQLAlchemy connectable (engine/connection) or database string URI or sqlite3 DBAPI2 connection. Other DBAPI2 objects are not tested. Please consider using SQLAlchemy.\n",
      "  df_stock = pd.read_sql(sql_query, conn)\n"
     ]
    }
   ],
   "source": [
    "# Buscando histórico de estoque na tabela\n",
    "try:\n",
    "    conn = psycopg2.connect(**db_config)\n",
    "\n",
    "    sql_query = f\"SELECT * FROM mcenter_fulfillment_stock WHERE created_at BETWEEN '{data_inicio}' AND '{data_fim};'\"\n",
    "    # sql_query = f\"SELECT * FROM fulfillment_stock WHERE created_at BETWEEN '2023-12-04' AND '2023-12-05';\"\n",
    "    print(sql_query)\n",
    "    df_stock = pd.read_sql(sql_query, conn)\n",
    "\n",
    "except psycopg2.Error as e:\n",
    "    print(f\"Erro do psycopg2 ao consultar fulfillment_stock: {e}\")\n",
    "\n",
    "except Exception as e:\n",
    "    print(f\"Erro ao consultar fulfillment_stock: {e}\")\n",
    "\n",
    "finally:\n",
    "    if conn is not None:\n",
    "        conn.close()"
   ]
  },
  {
   "cell_type": "code",
   "execution_count": 6,
   "metadata": {},
   "outputs": [],
   "source": [
    "# df_stock\n",
    "# print(df_stock.shape)\n",
    "# duplicates = df_stock[df_stock.duplicated(keep=False)]\n",
    "# duplicates"
   ]
  },
  {
   "cell_type": "code",
   "execution_count": 7,
   "metadata": {},
   "outputs": [],
   "source": [
    "# # datas consultadas, dias em que um produto pode ou não estar disponível\n",
    "# # df_stock[\"created_at\"].value_counts().index.to_list()\n",
    "# df_stock[\"created_at\"].value_counts().sort_index()\n",
    "# df_stock[\"created_at\"].dt.date.value_counts().sort_index()\n",
    "# # df_stock[\"created_at\"].dt.date.value_counts()\n",
    "\n",
    "# # len(df_stock[\"created_at\"].dt.date.value_counts().sort_index())"
   ]
  },
  {
   "cell_type": "code",
   "execution_count": 8,
   "metadata": {},
   "outputs": [],
   "source": [
    "# df_stock"
   ]
  },
  {
   "cell_type": "code",
   "execution_count": 9,
   "metadata": {},
   "outputs": [],
   "source": [
    "# # buscando anuncio e verificando dias consultados\n",
    "# result = df_stock[df_stock['ml_inventory_id'] == 'FBAY80623']\n",
    "# result = result.sort_values(by='created_at')\n",
    "# result"
   ]
  },
  {
   "cell_type": "code",
   "execution_count": 10,
   "metadata": {},
   "outputs": [],
   "source": [
    "# # encontrando anuncios pela data\n",
    "# df_stock[\"created_at\"] = pd.to_datetime(df_stock[\"created_at\"])\n",
    "# result = df_stock.loc[df_stock['created_at'].dt.date == pd.to_datetime('2023-12-7').date()]\n",
    "# result"
   ]
  },
  {
   "cell_type": "code",
   "execution_count": 11,
   "metadata": {},
   "outputs": [],
   "source": [
    "# df_stock[df_stock['created_at']=='2023-12-07 03:01:03.036386']"
   ]
  },
  {
   "cell_type": "markdown",
   "metadata": {},
   "source": [
    "### Ordenando stock por data"
   ]
  },
  {
   "cell_type": "code",
   "execution_count": 12,
   "metadata": {},
   "outputs": [],
   "source": [
    "# Ordenando stock por data\n",
    "df_stock = df_stock.sort_values(by=\"created_at\", ascending=False)\n",
    "df_stock[\"data\"] = df_stock[\"created_at\"].dt.date\n",
    "df_stock = df_stock.drop([\"created_at\"], axis=1)"
   ]
  },
  {
   "cell_type": "code",
   "execution_count": 13,
   "metadata": {},
   "outputs": [],
   "source": [
    "# df_stock"
   ]
  },
  {
   "cell_type": "code",
   "execution_count": 14,
   "metadata": {},
   "outputs": [],
   "source": [
    "# df_stock.dtypes"
   ]
  },
  {
   "cell_type": "code",
   "execution_count": 15,
   "metadata": {},
   "outputs": [],
   "source": [
    "# df_stock['data'] = pd.to_datetime(df_stock['data'])\n",
    "\n",
    "# dfx = condf(df_stock, 'data', '2023-11-1')\n",
    "# dfx"
   ]
  },
  {
   "cell_type": "code",
   "execution_count": 16,
   "metadata": {},
   "outputs": [],
   "source": [
    "# # A linha abaixo conta as ocorrências de cada valor em 'ml_inventory_id'\n",
    "# # value_counts = result['ml_inventory_id'].value_counts()\n",
    "# value_counts = df_stock['ml_inventory_id'].value_counts()\n",
    "\n",
    "# # Filtra para incluir apenas aqueles que ocorrem mais de 2 vezes\n",
    "# filtered_counts = value_counts[value_counts > 1]\n",
    "\n",
    "# filtered_counts.shape\n",
    "# # filtered_counts\n",
    "# value_counts"
   ]
  },
  {
   "cell_type": "markdown",
   "metadata": {},
   "source": [
    "### Cria coluna has_stock"
   ]
  },
  {
   "cell_type": "code",
   "execution_count": 17,
   "metadata": {},
   "outputs": [],
   "source": [
    "# df_stock[df_stock[\"detail_status\"] == \"transfer\"]"
   ]
  },
  {
   "cell_type": "code",
   "execution_count": 18,
   "metadata": {},
   "outputs": [],
   "source": [
    "# condf(df_stock,'ml_inventory_id','CRMK90073')"
   ]
  },
  {
   "cell_type": "code",
   "execution_count": 19,
   "metadata": {},
   "outputs": [],
   "source": [
    "# condf(df_stock, \"detail_status\", \"transfer\")"
   ]
  },
  {
   "cell_type": "code",
   "execution_count": 20,
   "metadata": {},
   "outputs": [],
   "source": [
    "## Cria coluna has_stock, se available_quantity <= 0, has_stock= False ##\n",
    "df_stock = df_stock.assign(has_stock=lambda x: x[\"available_quantity\"] > 0)\n",
    "df_stock = df_stock.sort_values(by=\"data\", ascending=False).reset_index(drop=True)"
   ]
  },
  {
   "cell_type": "code",
   "execution_count": 21,
   "metadata": {},
   "outputs": [],
   "source": [
    "# df_stock"
   ]
  },
  {
   "cell_type": "code",
   "execution_count": 22,
   "metadata": {},
   "outputs": [],
   "source": [
    "# condf(df_stock, \"ml_inventory_id\", \"DSGP06967\")"
   ]
  },
  {
   "cell_type": "code",
   "execution_count": 23,
   "metadata": {},
   "outputs": [],
   "source": [
    "# print(df_stock.shape)\n",
    "# df_stock = df_stock.drop_duplicates()\n",
    "# print(df_stock.shape)"
   ]
  },
  {
   "cell_type": "markdown",
   "metadata": {},
   "source": [
    "#### Dias em que produto esteve disponível"
   ]
  },
  {
   "cell_type": "code",
   "execution_count": 24,
   "metadata": {},
   "outputs": [],
   "source": [
    "# condf(df_stock,'ml_inventory_id','ABCB20467')"
   ]
  },
  {
   "cell_type": "code",
   "execution_count": 25,
   "metadata": {},
   "outputs": [],
   "source": [
    "## Contando dias em que produto esteve disponível\n",
    "days_available = df_stock.groupby([\"ml_inventory_id\"])[\"has_stock\"].sum().reset_index()\n",
    "days_available = days_available.rename(columns={\"has_stock\": \"days_available\"})"
   ]
  },
  {
   "cell_type": "code",
   "execution_count": 26,
   "metadata": {},
   "outputs": [],
   "source": [
    "# days_available"
   ]
  },
  {
   "cell_type": "code",
   "execution_count": 27,
   "metadata": {},
   "outputs": [],
   "source": [
    "# days_available.sort_values(by='days_available',ascending=False)\n",
    "# days_available['days_available'].value_counts()\n",
    "\n",
    "# ## Contando dias em que produto esteve disponível\n",
    "# days_available = df_stock.groupby([\"ml_inventory_id\",\"references_variation_id\"])[\"has_stock\"].sum().reset_index()\n",
    "# days_available = days_available.rename(columns={\"has_stock\": \"days_available\"})\n",
    "# days_available"
   ]
  },
  {
   "cell_type": "code",
   "execution_count": 28,
   "metadata": {},
   "outputs": [],
   "source": [
    "# condf(df_stock, \"ml_inventory_id\", \"MENA66694\")"
   ]
  },
  {
   "cell_type": "code",
   "execution_count": 29,
   "metadata": {},
   "outputs": [],
   "source": [
    "# ## Contando dias em que produto esteve disponível\n",
    "# days_available_ = df_stock.groupby([\"ml_inventory_id\",\"references_variation_id\"])[\"has_stock\"].sum().reset_index()\n",
    "# days_available_ = days_available_.rename(columns={\"has_stock\": \"days_available\"})\n",
    "# days_available_"
   ]
  },
  {
   "cell_type": "code",
   "execution_count": 30,
   "metadata": {},
   "outputs": [],
   "source": [
    "# condf(days_available, \"ml_inventory_id\", \"DSGP06967\")\n",
    "# condf(days_available, \"ml_inventory_id\", \"DSGP06967\")"
   ]
  },
  {
   "cell_type": "code",
   "execution_count": 31,
   "metadata": {},
   "outputs": [],
   "source": [
    "# Unindo DFs\n",
    "df_stock_days = df_stock.merge(days_available, on=[\"ml_inventory_id\"], how=\"inner\")\n",
    "# df_stock_days_left = df_stock.merge(days_available, on=[\"ml_inventory_id\"], how=\"left\")\n",
    "# df_stock.rename(columns={'days_available_x': 'days_available'}, inplace=True)  # Corrigindo a sintaxe\n",
    "# df_stock = df_stock.drop(columns='days_available_y', axis=1)  # Corrigindo a sintaxe\n",
    "\n",
    "# Verificando o formato após a correção\n",
    "# print(df_stock.shape)\n",
    "#"
   ]
  },
  {
   "cell_type": "code",
   "execution_count": 32,
   "metadata": {},
   "outputs": [],
   "source": [
    "# print(df_stock.shape)\n",
    "# print(df_stock_days.shape)\n",
    "# print(df_stock_days_left.shape)\n",
    "# df_stock_days.sample(3)"
   ]
  },
  {
   "cell_type": "code",
   "execution_count": 33,
   "metadata": {},
   "outputs": [],
   "source": [
    "# # Unindo DFs\n",
    "# df_stock_ = df_stock.merge(days_available, on=[\"ml_inventory_id\"], how=\"inner\")\n",
    "# # df_stock_.rename(columns={'days_available_x': 'days_available'}, inplace=True)  # Corrigindo a sintaxe\n",
    "# # df_stock_ = df_stock_.drop(columns='days_available_y', axis=1)  # Corrigindo a sintaxe\n",
    "\n",
    "# # Verificando o formato após a correção\n",
    "# print(df_stock_.shape)\n",
    "# df_stock_"
   ]
  },
  {
   "cell_type": "code",
   "execution_count": 34,
   "metadata": {},
   "outputs": [],
   "source": [
    "# data de hoje\n",
    "data_de_hoje = datetime.now().date()\n",
    "data_de_hoje = data_de_hoje - timedelta(days=1)\n",
    "# print(data_de_hoje)\n",
    "\n",
    "df_stock_days[\"data\"] = pd.to_datetime(df_stock_days[\"data\"])\n",
    "\n",
    "# Filtra apenas as linhas onde 'data' é igual à data de hoje\n",
    "df_stock_today = df_stock_days[df_stock_days[\"data\"].dt.date == data_de_hoje]\n",
    "df_stock_today = df_stock_today.rename(\n",
    "    columns={\"available_quantity\": \"available_quantity_today\"}\n",
    ")\n",
    "\n",
    "# Se detail_status = transfer: available_quantity_today = available_quantity_today + detail_quantity\n",
    "df_stock_today[\"total_available_quantity\"] = df_stock_today.apply(\n",
    "    lambda row: row[\"detail_quantity\"] + row[\"available_quantity_today\"]\n",
    "    if row[\"detail_status\"] == \"transfer\"\n",
    "    else row[\"available_quantity_today\"],\n",
    "    axis=1,\n",
    ")\n",
    "\n",
    "df_stock_today[\"total_available_quantity\"] = df_stock_today[\n",
    "    \"total_available_quantity\"\n",
    "].astype(\"int64\")"
   ]
  },
  {
   "cell_type": "code",
   "execution_count": 35,
   "metadata": {},
   "outputs": [
    {
     "data": {
      "text/html": [
       "<div>\n",
       "<style scoped>\n",
       "    .dataframe tbody tr th:only-of-type {\n",
       "        vertical-align: middle;\n",
       "    }\n",
       "\n",
       "    .dataframe tbody tr th {\n",
       "        vertical-align: top;\n",
       "    }\n",
       "\n",
       "    .dataframe thead th {\n",
       "        text-align: right;\n",
       "    }\n",
       "</style>\n",
       "<table border=\"1\" class=\"dataframe\">\n",
       "  <thead>\n",
       "    <tr style=\"text-align: right;\">\n",
       "      <th></th>\n",
       "      <th>ml_inventory_id</th>\n",
       "      <th>available_quantity_today</th>\n",
       "      <th>detail_status</th>\n",
       "      <th>detail_quantity</th>\n",
       "      <th>references_id</th>\n",
       "      <th>references_variation_id</th>\n",
       "      <th>data</th>\n",
       "      <th>has_stock</th>\n",
       "      <th>days_available</th>\n",
       "      <th>total_available_quantity</th>\n",
       "    </tr>\n",
       "  </thead>\n",
       "  <tbody>\n",
       "    <tr>\n",
       "      <th>0</th>\n",
       "      <td>WQLG77218</td>\n",
       "      <td>0</td>\n",
       "      <td>transfer</td>\n",
       "      <td>6.0</td>\n",
       "      <td>MLB1942106803</td>\n",
       "      <td>nan</td>\n",
       "      <td>2024-01-02</td>\n",
       "      <td>False</td>\n",
       "      <td>0</td>\n",
       "      <td>6</td>\n",
       "    </tr>\n",
       "    <tr>\n",
       "      <th>33</th>\n",
       "      <td>NOMF53205</td>\n",
       "      <td>1</td>\n",
       "      <td>None</td>\n",
       "      <td>NaN</td>\n",
       "      <td>MLB1629586589</td>\n",
       "      <td>nan</td>\n",
       "      <td>2024-01-02</td>\n",
       "      <td>True</td>\n",
       "      <td>33</td>\n",
       "      <td>1</td>\n",
       "    </tr>\n",
       "    <tr>\n",
       "      <th>66</th>\n",
       "      <td>HGRL10383</td>\n",
       "      <td>2</td>\n",
       "      <td>None</td>\n",
       "      <td>NaN</td>\n",
       "      <td>MLB2003270402</td>\n",
       "      <td>nan</td>\n",
       "      <td>2024-01-02</td>\n",
       "      <td>True</td>\n",
       "      <td>31</td>\n",
       "      <td>2</td>\n",
       "    </tr>\n",
       "    <tr>\n",
       "      <th>99</th>\n",
       "      <td>BPGQ10723</td>\n",
       "      <td>12</td>\n",
       "      <td>noFiscalCoverage</td>\n",
       "      <td>12.0</td>\n",
       "      <td>MLB2001140622</td>\n",
       "      <td>nan</td>\n",
       "      <td>2024-01-02</td>\n",
       "      <td>True</td>\n",
       "      <td>22</td>\n",
       "      <td>12</td>\n",
       "    </tr>\n",
       "    <tr>\n",
       "      <th>132</th>\n",
       "      <td>KBOK48388</td>\n",
       "      <td>2</td>\n",
       "      <td>None</td>\n",
       "      <td>NaN</td>\n",
       "      <td>MLB1459771919</td>\n",
       "      <td>51818479775</td>\n",
       "      <td>2024-01-02</td>\n",
       "      <td>True</td>\n",
       "      <td>33</td>\n",
       "      <td>2</td>\n",
       "    </tr>\n",
       "    <tr>\n",
       "      <th>...</th>\n",
       "      <td>...</td>\n",
       "      <td>...</td>\n",
       "      <td>...</td>\n",
       "      <td>...</td>\n",
       "      <td>...</td>\n",
       "      <td>...</td>\n",
       "      <td>...</td>\n",
       "      <td>...</td>\n",
       "      <td>...</td>\n",
       "      <td>...</td>\n",
       "    </tr>\n",
       "    <tr>\n",
       "      <th>11847</th>\n",
       "      <td>CDBO10673</td>\n",
       "      <td>8</td>\n",
       "      <td>None</td>\n",
       "      <td>NaN</td>\n",
       "      <td>MLB2006338750</td>\n",
       "      <td>nan</td>\n",
       "      <td>2024-01-02</td>\n",
       "      <td>True</td>\n",
       "      <td>33</td>\n",
       "      <td>8</td>\n",
       "    </tr>\n",
       "    <tr>\n",
       "      <th>11880</th>\n",
       "      <td>NZGA07022</td>\n",
       "      <td>2</td>\n",
       "      <td>None</td>\n",
       "      <td>NaN</td>\n",
       "      <td>MLB2006323551</td>\n",
       "      <td>nan</td>\n",
       "      <td>2024-01-02</td>\n",
       "      <td>True</td>\n",
       "      <td>30</td>\n",
       "      <td>2</td>\n",
       "    </tr>\n",
       "    <tr>\n",
       "      <th>11913</th>\n",
       "      <td>PMPX06029</td>\n",
       "      <td>9</td>\n",
       "      <td>None</td>\n",
       "      <td>NaN</td>\n",
       "      <td>MLB2006353434</td>\n",
       "      <td>nan</td>\n",
       "      <td>2024-01-02</td>\n",
       "      <td>True</td>\n",
       "      <td>33</td>\n",
       "      <td>9</td>\n",
       "    </tr>\n",
       "    <tr>\n",
       "      <th>11946</th>\n",
       "      <td>VUJI10625</td>\n",
       "      <td>13</td>\n",
       "      <td>transfer</td>\n",
       "      <td>1.0</td>\n",
       "      <td>MLB2006357183</td>\n",
       "      <td>nan</td>\n",
       "      <td>2024-01-02</td>\n",
       "      <td>True</td>\n",
       "      <td>33</td>\n",
       "      <td>14</td>\n",
       "    </tr>\n",
       "    <tr>\n",
       "      <th>11979</th>\n",
       "      <td>RVHF10897</td>\n",
       "      <td>9</td>\n",
       "      <td>None</td>\n",
       "      <td>NaN</td>\n",
       "      <td>MLB2006357721</td>\n",
       "      <td>nan</td>\n",
       "      <td>2024-01-02</td>\n",
       "      <td>True</td>\n",
       "      <td>33</td>\n",
       "      <td>9</td>\n",
       "    </tr>\n",
       "  </tbody>\n",
       "</table>\n",
       "<p>364 rows × 10 columns</p>\n",
       "</div>"
      ],
      "text/plain": [
       "      ml_inventory_id  available_quantity_today     detail_status  \\\n",
       "0           WQLG77218                         0          transfer   \n",
       "33          NOMF53205                         1              None   \n",
       "66          HGRL10383                         2              None   \n",
       "99          BPGQ10723                        12  noFiscalCoverage   \n",
       "132         KBOK48388                         2              None   \n",
       "...               ...                       ...               ...   \n",
       "11847       CDBO10673                         8              None   \n",
       "11880       NZGA07022                         2              None   \n",
       "11913       PMPX06029                         9              None   \n",
       "11946       VUJI10625                        13          transfer   \n",
       "11979       RVHF10897                         9              None   \n",
       "\n",
       "       detail_quantity  references_id references_variation_id       data  \\\n",
       "0                  6.0  MLB1942106803                     nan 2024-01-02   \n",
       "33                 NaN  MLB1629586589                     nan 2024-01-02   \n",
       "66                 NaN  MLB2003270402                     nan 2024-01-02   \n",
       "99                12.0  MLB2001140622                     nan 2024-01-02   \n",
       "132                NaN  MLB1459771919             51818479775 2024-01-02   \n",
       "...                ...            ...                     ...        ...   \n",
       "11847              NaN  MLB2006338750                     nan 2024-01-02   \n",
       "11880              NaN  MLB2006323551                     nan 2024-01-02   \n",
       "11913              NaN  MLB2006353434                     nan 2024-01-02   \n",
       "11946              1.0  MLB2006357183                     nan 2024-01-02   \n",
       "11979              NaN  MLB2006357721                     nan 2024-01-02   \n",
       "\n",
       "       has_stock  days_available  total_available_quantity  \n",
       "0          False               0                         6  \n",
       "33          True              33                         1  \n",
       "66          True              31                         2  \n",
       "99          True              22                        12  \n",
       "132         True              33                         2  \n",
       "...          ...             ...                       ...  \n",
       "11847       True              33                         8  \n",
       "11880       True              30                         2  \n",
       "11913       True              33                         9  \n",
       "11946       True              33                        14  \n",
       "11979       True              33                         9  \n",
       "\n",
       "[364 rows x 10 columns]"
      ]
     },
     "execution_count": 35,
     "metadata": {},
     "output_type": "execute_result"
    }
   ],
   "source": [
    "df_stock_today"
   ]
  },
  {
   "cell_type": "code",
   "execution_count": 36,
   "metadata": {},
   "outputs": [],
   "source": [
    "# Se detail_status = transfer: available_quantity_today = available_quantity_today + detail_quantity\n",
    "df_stock_today[\"total_available_quantity\"] = df_stock_today.apply(\n",
    "    lambda row: row[\"detail_quantity\"] + row[\"available_quantity_today\"]\n",
    "    if row[\"detail_status\"] == \"transfer\"\n",
    "    else row[\"available_quantity_today\"],\n",
    "    axis=1,\n",
    ")\n",
    "\n",
    "df_stock_today[\"total_available_quantity\"] = df_stock_today[\n",
    "    \"total_available_quantity\"\n",
    "].astype(\"int64\")"
   ]
  },
  {
   "cell_type": "code",
   "execution_count": 37,
   "metadata": {},
   "outputs": [],
   "source": [
    "# df_stock_today.sample(5)"
   ]
  },
  {
   "cell_type": "code",
   "execution_count": 38,
   "metadata": {},
   "outputs": [],
   "source": [
    "# condf(df_stock,'ml_inventory_id','FSNB97805')\n",
    "# condf(df_stock_today,'ml_inventory_id','FSNB97805')"
   ]
  },
  {
   "cell_type": "markdown",
   "metadata": {},
   "source": [
    "### Buscando hitorico de orders no BD"
   ]
  },
  {
   "cell_type": "code",
   "execution_count": 39,
   "metadata": {},
   "outputs": [
    {
     "name": "stdout",
     "output_type": "stream",
     "text": [
      "SELECT * FROM mcenter_ml_orders WHERE date_closed BETWEEN '2023-12-01' AND '2024-01-03'\n"
     ]
    },
    {
     "name": "stderr",
     "output_type": "stream",
     "text": [
      "C:\\Users\\couti\\AppData\\Local\\Temp\\ipykernel_20156\\2680549919.py:7: UserWarning: pandas only supports SQLAlchemy connectable (engine/connection) or database string URI or sqlite3 DBAPI2 connection. Other DBAPI2 objects are not tested. Please consider using SQLAlchemy.\n",
      "  df_orders = pd.read_sql(sql_query, conn)\n"
     ]
    }
   ],
   "source": [
    "# Buscando histórico de vendas na tabela ml_orders_hist para o período definido\n",
    "try:\n",
    "    conn = psycopg2.connect(**db_config)\n",
    "\n",
    "    sql_query = f\"SELECT * FROM mcenter_ml_orders WHERE date_closed BETWEEN '{data_inicio}' AND '{data_fim}'\"\n",
    "    print(sql_query)\n",
    "    df_orders = pd.read_sql(sql_query, conn)\n",
    "\n",
    "except psycopg2.Error as e:\n",
    "    print(f\"Erro do psycopg2 ao consultar ml_orders_hist: {e}\")\n",
    "    # logger.error(f\"Erro do psycopg2 ao consultar ml_orders_hist: {e}\")\n",
    "\n",
    "except Exception as e:\n",
    "    print(f\"Erro ao consultar ml_orders_hist: {e}\")\n",
    "    # logger.error(f\"Erro ao consultar ml_orders_hist: {e}\")\n",
    "\n",
    "finally:\n",
    "    if conn is not None:\n",
    "        conn.close()\n",
    "\n",
    "# # Ordenando orders por data\n",
    "# df_orders = df_orders.sort_values(by=\"date_approved\", ascending=False)\n",
    "# df_orders[\"data\"] = df_orders[\"date_approved\"].dt.date\n",
    "# df_orders = df_orders.drop([\"date_closed\",\"date_approved\"], axis=1)\n",
    "\n",
    "# filtros\n",
    "df_orders = df_orders[df_orders[\"logistic_type\"] == \"fulfillment\"]\n",
    "# df_orders = df_orders.drop(columns=['category_id','pack_id','variation_attributes_id','variation_name','variation_value_id', 'data'])\n",
    "df_orders = df_orders.drop(\n",
    "    columns=[\n",
    "        \"category_id\",\n",
    "        \"pack_id\",\n",
    "        \"variation_attributes_id\",\n",
    "        \"variation_name\",\n",
    "        \"variation_value_id\",\n",
    "    ]\n",
    ")\n",
    "\n",
    "# change column\n",
    "df_orders[\"variation_id\"] = df_orders[\"variation_id\"].replace(\"nan\", \"0\", regex=True)\n",
    "\n",
    "# df_orders = df_orders[df_orders[\"order_status\"] == \"paid\"]\n",
    "# df_orders = df_orders[df_orders[\"payment_status\"] == \"approved\"]\n",
    "\n",
    "\n",
    "# df_orders = df_orders.drop(\n",
    "#     [\"pack_id\", \"date_approved\", \"order_status\", \"payment_status\"], axis=1\n",
    "# )\n",
    "df_orders.rename(columns={\"quantity\": \"sold_quantity\"}, inplace=True)"
   ]
  },
  {
   "cell_type": "code",
   "execution_count": 40,
   "metadata": {},
   "outputs": [
    {
     "name": "stdout",
     "output_type": "stream",
     "text": [
      "(3833, 13)\n",
      "(3518, 13)\n"
     ]
    }
   ],
   "source": [
    "print(df_orders.shape)\n",
    "df_orders = df_orders.drop_duplicates()\n",
    "print(df_orders.shape)"
   ]
  },
  {
   "cell_type": "code",
   "execution_count": 41,
   "metadata": {},
   "outputs": [],
   "source": [
    "# Ordenando orders por data\n",
    "df_orders = df_orders.sort_values(by=\"date_approved\", ascending=False)\n",
    "df_orders[\"data\"] = df_orders[\"date_approved\"].dt.date\n",
    "df_orders = df_orders.drop([\"date_closed\", \"date_approved\"], axis=1)"
   ]
  },
  {
   "cell_type": "code",
   "execution_count": 42,
   "metadata": {},
   "outputs": [
    {
     "data": {
      "text/html": [
       "<div>\n",
       "<style scoped>\n",
       "    .dataframe tbody tr th:only-of-type {\n",
       "        vertical-align: middle;\n",
       "    }\n",
       "\n",
       "    .dataframe tbody tr th {\n",
       "        vertical-align: top;\n",
       "    }\n",
       "\n",
       "    .dataframe thead th {\n",
       "        text-align: right;\n",
       "    }\n",
       "</style>\n",
       "<table border=\"1\" class=\"dataframe\">\n",
       "  <thead>\n",
       "    <tr style=\"text-align: right;\">\n",
       "      <th></th>\n",
       "      <th>ml_code</th>\n",
       "      <th>variation_id</th>\n",
       "      <th>seller_sku</th>\n",
       "      <th>order_id</th>\n",
       "      <th>sold_quantity</th>\n",
       "      <th>title</th>\n",
       "      <th>order_status</th>\n",
       "      <th>payment_status</th>\n",
       "      <th>shipping_id</th>\n",
       "      <th>variation_value_name</th>\n",
       "      <th>logistic_type</th>\n",
       "      <th>data</th>\n",
       "    </tr>\n",
       "  </thead>\n",
       "  <tbody>\n",
       "    <tr>\n",
       "      <th>4595</th>\n",
       "      <td>MLB1992889189</td>\n",
       "      <td>173551307782</td>\n",
       "      <td>FULLLIVERPOOL3NI5AM</td>\n",
       "      <td>2000007243806700</td>\n",
       "      <td>1</td>\n",
       "      <td>Kit 3 Pares De Baquetas D Bateria Liverpool Ni...</td>\n",
       "      <td>paid</td>\n",
       "      <td>approved</td>\n",
       "      <td>42949405454</td>\n",
       "      <td>3 PARES 5A</td>\n",
       "      <td>fulfillment</td>\n",
       "      <td>2023-12-26</td>\n",
       "    </tr>\n",
       "    <tr>\n",
       "      <th>3538</th>\n",
       "      <td>MLB1662862664</td>\n",
       "      <td>64489869774</td>\n",
       "      <td>FULLIZZO6489</td>\n",
       "      <td>2000007177455598</td>\n",
       "      <td>1</td>\n",
       "      <td>Pandeiro Original 10 Pol Abs Azul C/pele Metal...</td>\n",
       "      <td>paid</td>\n",
       "      <td>approved</td>\n",
       "      <td>42920751550</td>\n",
       "      <td>Azul</td>\n",
       "      <td>fulfillment</td>\n",
       "      <td>2023-12-17</td>\n",
       "    </tr>\n",
       "    <tr>\n",
       "      <th>57</th>\n",
       "      <td>MLB3427769549</td>\n",
       "      <td>0</td>\n",
       "      <td>FULLIZZO6480</td>\n",
       "      <td>2000007031210902</td>\n",
       "      <td>1</td>\n",
       "      <td>Pandeiro Profissional Izzo Pele Preta 10 Corpo...</td>\n",
       "      <td>paid</td>\n",
       "      <td>approved</td>\n",
       "      <td>42858210990</td>\n",
       "      <td>None</td>\n",
       "      <td>fulfillment</td>\n",
       "      <td>2023-12-01</td>\n",
       "    </tr>\n",
       "  </tbody>\n",
       "</table>\n",
       "</div>"
      ],
      "text/plain": [
       "            ml_code  variation_id           seller_sku          order_id  \\\n",
       "4595  MLB1992889189  173551307782  FULLLIVERPOOL3NI5AM  2000007243806700   \n",
       "3538  MLB1662862664   64489869774         FULLIZZO6489  2000007177455598   \n",
       "57    MLB3427769549             0         FULLIZZO6480  2000007031210902   \n",
       "\n",
       "      sold_quantity                                              title  \\\n",
       "4595              1  Kit 3 Pares De Baquetas D Bateria Liverpool Ni...   \n",
       "3538              1  Pandeiro Original 10 Pol Abs Azul C/pele Metal...   \n",
       "57                1  Pandeiro Profissional Izzo Pele Preta 10 Corpo...   \n",
       "\n",
       "     order_status payment_status  shipping_id variation_value_name  \\\n",
       "4595         paid       approved  42949405454           3 PARES 5A   \n",
       "3538         paid       approved  42920751550                 Azul   \n",
       "57           paid       approved  42858210990                 None   \n",
       "\n",
       "     logistic_type        data  \n",
       "4595   fulfillment  2023-12-26  \n",
       "3538   fulfillment  2023-12-17  \n",
       "57     fulfillment  2023-12-01  "
      ]
     },
     "execution_count": 42,
     "metadata": {},
     "output_type": "execute_result"
    }
   ],
   "source": [
    "df_orders.sample(3)"
   ]
  },
  {
   "cell_type": "code",
   "execution_count": 43,
   "metadata": {},
   "outputs": [],
   "source": [
    "# df_orders.head()"
   ]
  },
  {
   "cell_type": "code",
   "execution_count": 44,
   "metadata": {},
   "outputs": [],
   "source": [
    "# df_orders\n",
    "# df_orders['pack_id'].value_counts()\n",
    "\n",
    "# # condf(df_orders,'pack_id','2000005059931419')"
   ]
  },
  {
   "cell_type": "code",
   "execution_count": 45,
   "metadata": {},
   "outputs": [],
   "source": [
    "# print(df_orders.shape)\n",
    "# df_orders.head(3)"
   ]
  },
  {
   "cell_type": "code",
   "execution_count": 46,
   "metadata": {},
   "outputs": [],
   "source": [
    "# condf(df_orders, \"ml_code\", \"MLB1992541482\")"
   ]
  },
  {
   "cell_type": "markdown",
   "metadata": {},
   "source": [
    "#### Total de vendas por ml_code e variation_id"
   ]
  },
  {
   "cell_type": "code",
   "execution_count": 47,
   "metadata": {},
   "outputs": [],
   "source": [
    "# df_orders.shape"
   ]
  },
  {
   "cell_type": "code",
   "execution_count": 48,
   "metadata": {},
   "outputs": [],
   "source": [
    "# df_orders"
   ]
  },
  {
   "cell_type": "code",
   "execution_count": 49,
   "metadata": {},
   "outputs": [],
   "source": [
    "# condf(df_orders,'ml_code','MLB3516894673')"
   ]
  },
  {
   "cell_type": "code",
   "execution_count": 50,
   "metadata": {},
   "outputs": [],
   "source": [
    "# Total de vendas por ml_code e id de variação\n",
    "df_orders_quantity = (\n",
    "    df_orders.groupby([\"ml_code\", \"variation_id\"])[\"sold_quantity\"].sum().reset_index()\n",
    ")"
   ]
  },
  {
   "cell_type": "code",
   "execution_count": 51,
   "metadata": {},
   "outputs": [
    {
     "data": {
      "text/html": [
       "<div>\n",
       "<style scoped>\n",
       "    .dataframe tbody tr th:only-of-type {\n",
       "        vertical-align: middle;\n",
       "    }\n",
       "\n",
       "    .dataframe tbody tr th {\n",
       "        vertical-align: top;\n",
       "    }\n",
       "\n",
       "    .dataframe thead th {\n",
       "        text-align: right;\n",
       "    }\n",
       "</style>\n",
       "<table border=\"1\" class=\"dataframe\">\n",
       "  <thead>\n",
       "    <tr style=\"text-align: right;\">\n",
       "      <th></th>\n",
       "      <th>ml_code</th>\n",
       "      <th>variation_id</th>\n",
       "      <th>sold_quantity</th>\n",
       "    </tr>\n",
       "  </thead>\n",
       "  <tbody>\n",
       "    <tr>\n",
       "      <th>0</th>\n",
       "      <td>MLB1363602423</td>\n",
       "      <td>0</td>\n",
       "      <td>13</td>\n",
       "    </tr>\n",
       "    <tr>\n",
       "      <th>1</th>\n",
       "      <td>MLB1400355425</td>\n",
       "      <td>0</td>\n",
       "      <td>30</td>\n",
       "    </tr>\n",
       "    <tr>\n",
       "      <th>2</th>\n",
       "      <td>MLB1401946009</td>\n",
       "      <td>0</td>\n",
       "      <td>6</td>\n",
       "    </tr>\n",
       "    <tr>\n",
       "      <th>3</th>\n",
       "      <td>MLB1403147752</td>\n",
       "      <td>48946752091</td>\n",
       "      <td>1</td>\n",
       "    </tr>\n",
       "    <tr>\n",
       "      <th>4</th>\n",
       "      <td>MLB1403763907</td>\n",
       "      <td>0</td>\n",
       "      <td>4</td>\n",
       "    </tr>\n",
       "    <tr>\n",
       "      <th>...</th>\n",
       "      <td>...</td>\n",
       "      <td>...</td>\n",
       "      <td>...</td>\n",
       "    </tr>\n",
       "    <tr>\n",
       "      <th>264</th>\n",
       "      <td>MLB4200104102</td>\n",
       "      <td>0</td>\n",
       "      <td>1</td>\n",
       "    </tr>\n",
       "    <tr>\n",
       "      <th>265</th>\n",
       "      <td>MLB4202595608</td>\n",
       "      <td>0</td>\n",
       "      <td>44</td>\n",
       "    </tr>\n",
       "    <tr>\n",
       "      <th>266</th>\n",
       "      <td>MLB4217370456</td>\n",
       "      <td>0</td>\n",
       "      <td>1</td>\n",
       "    </tr>\n",
       "    <tr>\n",
       "      <th>267</th>\n",
       "      <td>MLB4237823132</td>\n",
       "      <td>0</td>\n",
       "      <td>5</td>\n",
       "    </tr>\n",
       "    <tr>\n",
       "      <th>268</th>\n",
       "      <td>MLB4297958304</td>\n",
       "      <td>0</td>\n",
       "      <td>4</td>\n",
       "    </tr>\n",
       "  </tbody>\n",
       "</table>\n",
       "<p>269 rows × 3 columns</p>\n",
       "</div>"
      ],
      "text/plain": [
       "           ml_code variation_id  sold_quantity\n",
       "0    MLB1363602423            0             13\n",
       "1    MLB1400355425            0             30\n",
       "2    MLB1401946009            0              6\n",
       "3    MLB1403147752  48946752091              1\n",
       "4    MLB1403763907            0              4\n",
       "..             ...          ...            ...\n",
       "264  MLB4200104102            0              1\n",
       "265  MLB4202595608            0             44\n",
       "266  MLB4217370456            0              1\n",
       "267  MLB4237823132            0              5\n",
       "268  MLB4297958304            0              4\n",
       "\n",
       "[269 rows x 3 columns]"
      ]
     },
     "execution_count": 51,
     "metadata": {},
     "output_type": "execute_result"
    }
   ],
   "source": [
    "df_orders_quantity"
   ]
  },
  {
   "cell_type": "code",
   "execution_count": 52,
   "metadata": {},
   "outputs": [
    {
     "name": "stdout",
     "output_type": "stream",
     "text": [
      "Número de ml_code únicos: 216\n",
      "Número de variation_id únicos: 97\n"
     ]
    }
   ],
   "source": [
    "print(f\"Número de ml_code únicos: {len(df_orders_quantity['ml_code'].unique())}\")\n",
    "print(\n",
    "    f\"Número de variation_id únicos: {len(df_orders_quantity['variation_id'].unique())}\"\n",
    ")"
   ]
  },
  {
   "cell_type": "code",
   "execution_count": 53,
   "metadata": {},
   "outputs": [],
   "source": [
    "# condf(df_orders_quantity,'ml_code','MLB2075516288')\n",
    "# df_orders_quantity['ml_code'].value_counts()"
   ]
  },
  {
   "cell_type": "code",
   "execution_count": 54,
   "metadata": {},
   "outputs": [],
   "source": [
    "# Acrescentando total de vendas ao DF\n",
    "df_total_sales = pd.merge(\n",
    "    # df_orders, resultado, on=[\"ml_code\", \"variation_id\"], how=\"inner\"\n",
    "    df_orders,\n",
    "    df_orders_quantity,\n",
    "    on=[\"ml_code\", \"variation_id\"],\n",
    "    how=\"inner\",\n",
    ")\n",
    "df_total_sales = df_total_sales.rename(\n",
    "    columns={\"sold_quantity_y\": \"total_sold_quantity\"}\n",
    ")\n",
    "df_total_sales = df_total_sales.drop(\n",
    "    columns=[\"sold_quantity_x\", \"order_status\", \"payment_status\"]\n",
    ")"
   ]
  },
  {
   "cell_type": "code",
   "execution_count": 55,
   "metadata": {},
   "outputs": [
    {
     "name": "stdout",
     "output_type": "stream",
     "text": [
      "Total de vendas = 3518\n"
     ]
    }
   ],
   "source": [
    "print(f\"Total de vendas = {df_total_sales.shape[0]}\")"
   ]
  },
  {
   "cell_type": "code",
   "execution_count": 56,
   "metadata": {},
   "outputs": [],
   "source": [
    "# df_orders.shape"
   ]
  },
  {
   "cell_type": "code",
   "execution_count": 57,
   "metadata": {},
   "outputs": [],
   "source": [
    "# df_total_sales.columns"
   ]
  },
  {
   "cell_type": "code",
   "execution_count": 58,
   "metadata": {},
   "outputs": [],
   "source": [
    "# df_total_sales.sample()"
   ]
  },
  {
   "cell_type": "code",
   "execution_count": 59,
   "metadata": {},
   "outputs": [],
   "source": [
    "# # # Exibir todas as linhas e colunas\n",
    "# # pd.set_option('display.max_rows', None)\n",
    "# # pd.set_option('display.max_columns', None)\n",
    "\n",
    "# # Voltar ao normal\n",
    "# pd.reset_option('display.max_rows')\n",
    "# pd.reset_option('display.max_columns')\n",
    "\n",
    "\n",
    "# # condf(df_total_sales,'ml_code','MLB3427769549')\n",
    "# # # x = condf(df_orders,'ml_code','MLB3427769549')\n",
    "\n",
    "# # # x = x.sort_values(by='data')\n",
    "# # # x.head(15)\n",
    "# # x = df_orders[df_orders['ml_code']=='MLB3427769549']\n",
    "# # x['data'] = pd.to_datetime(x['data'])\n",
    "# # x[x['data']=='2023-11-22']\n",
    "# # # x['sold_quantity'].value_counts()\n",
    "\n",
    "# # # counts = x[x['sold_quantity'] > 1]['sold_quantity'].value_counts()\n",
    "# # # counts\n",
    "\n",
    "# # y = x.groupby('data')['sold_quantity'].sum().reset_index()\n",
    "# # y\n",
    "\n",
    "# # # # x"
   ]
  },
  {
   "cell_type": "code",
   "execution_count": 60,
   "metadata": {},
   "outputs": [],
   "source": [
    "# x.dtypes"
   ]
  },
  {
   "cell_type": "code",
   "execution_count": 61,
   "metadata": {},
   "outputs": [],
   "source": [
    "# df_total_sales['data'].value_counts()"
   ]
  },
  {
   "cell_type": "code",
   "execution_count": 62,
   "metadata": {},
   "outputs": [],
   "source": [
    "# condf(df_total_sales, \"ml_code\", \"MLB4127982748\")\n",
    "# condf(df_total_sales, \"ml_code\", \"MLB4127982748\")"
   ]
  },
  {
   "cell_type": "code",
   "execution_count": null,
   "metadata": {},
   "outputs": [],
   "source": []
  },
  {
   "cell_type": "code",
   "execution_count": 63,
   "metadata": {},
   "outputs": [],
   "source": [
    "# df_total_sales = df_total_sales.drop([\"sold_quantity_x\", \"shipping_id\", \"data\"], axis=1)\n",
    "# df_total_sales = df_total_sales.drop_duplicates()"
   ]
  },
  {
   "cell_type": "code",
   "execution_count": 64,
   "metadata": {},
   "outputs": [],
   "source": [
    "# condf(df_total_sales, \"ml_code\", \"MLB1992541482\")"
   ]
  },
  {
   "cell_type": "markdown",
   "metadata": {},
   "source": [
    "Neste ponto temos o total de itens vendidos de um anúncio por período e a quantidade de dias em que um produto esteve disponível.\n",
    "precisamos juntar esses dados para calcular, para isso trarei as informações de produtos"
   ]
  },
  {
   "cell_type": "code",
   "execution_count": 65,
   "metadata": {},
   "outputs": [],
   "source": [
    "# print(df_total_sales.shape)\n",
    "# df_total_sales.sample()"
   ]
  },
  {
   "cell_type": "code",
   "execution_count": 66,
   "metadata": {},
   "outputs": [],
   "source": [
    "# condf(df_total_sales, 'ml_code', 'MLB3461718736')\n",
    "# condf(df_orders, 'ml_code', 'MLB3461718736')\n",
    "# # condf(resultado, 'ml_code', 'MLB3427769549')\n",
    "# # condf(df_stock, 'ml_code', 'MLB3427769549')"
   ]
  },
  {
   "cell_type": "code",
   "execution_count": 67,
   "metadata": {},
   "outputs": [],
   "source": [
    "# print(df_stock_today.shape)\n",
    "# df_stock_today.sample()"
   ]
  },
  {
   "cell_type": "markdown",
   "metadata": {},
   "source": [
    "#### Buscando Produtos"
   ]
  },
  {
   "cell_type": "code",
   "execution_count": 68,
   "metadata": {},
   "outputs": [
    {
     "name": "stderr",
     "output_type": "stream",
     "text": [
      "C:\\Users\\couti\\AppData\\Local\\Temp\\ipykernel_20156\\3854357628.py:5: UserWarning: pandas only supports SQLAlchemy connectable (engine/connection) or database string URI or sqlite3 DBAPI2 connection. Other DBAPI2 objects are not tested. Please consider using SQLAlchemy.\n",
      "  df_codes = pd.read_sql(sql_query, conn)\n"
     ]
    }
   ],
   "source": [
    "# Buscando dados de produtos na tabela tiny_fulfillment\n",
    "try:\n",
    "    conn = psycopg2.connect(**db_config)\n",
    "    sql_query = \"SELECT * FROM mcenter_items\"\n",
    "    df_codes = pd.read_sql(sql_query, conn)\n",
    "except psycopg2.Error as e:\n",
    "    # logger.error(f\"Erro do psycopg2 ao consultar fulfillment_stock: {e}\")\n",
    "    print(f\"Erro do psycopg2 ao consultar tiny_fulfillment: {e}\")\n",
    "\n",
    "except Exception as e:\n",
    "    # logger.error(f\"Erro ao consultar tabela tiny_fulfillment: {e}\")\n",
    "    print(f\"Erro ao consultar tabela tiny_fulfillment: {e}\")\n",
    "\n",
    "finally:\n",
    "    if conn is not None:\n",
    "        conn.close()\n",
    "\n",
    "# df_codes[\"ml_code\"] = df_codes[\"ml_code\"].apply(lambda x: \"MLB\" + str(x))\n",
    "df_codes.rename(columns={\"inventory_id\": \"ml_inventory_id\"}, inplace=True)\n",
    "df_codes = df_codes.drop([\"created_at\", \"updated_at\"], axis=1)"
   ]
  },
  {
   "cell_type": "markdown",
   "metadata": {},
   "source": [
    "### separando itens que são catálogos dos que não são"
   ]
  },
  {
   "cell_type": "code",
   "execution_count": 69,
   "metadata": {},
   "outputs": [],
   "source": [
    "df_not_catalogo = df_codes[df_codes[\"catalog_listing\"] == False]\n",
    "df_catalogo = df_codes[df_codes[\"catalog_listing\"] == True]"
   ]
  },
  {
   "cell_type": "code",
   "execution_count": 70,
   "metadata": {},
   "outputs": [
    {
     "data": {
      "text/html": [
       "<div>\n",
       "<style scoped>\n",
       "    .dataframe tbody tr th:only-of-type {\n",
       "        vertical-align: middle;\n",
       "    }\n",
       "\n",
       "    .dataframe tbody tr th {\n",
       "        vertical-align: top;\n",
       "    }\n",
       "\n",
       "    .dataframe thead th {\n",
       "        text-align: right;\n",
       "    }\n",
       "</style>\n",
       "<table border=\"1\" class=\"dataframe\">\n",
       "  <thead>\n",
       "    <tr style=\"text-align: right;\">\n",
       "      <th></th>\n",
       "      <th>ml_code</th>\n",
       "      <th>ml_inventory_id</th>\n",
       "      <th>value_name</th>\n",
       "      <th>variation_id</th>\n",
       "      <th>status</th>\n",
       "      <th>catalog_listing</th>\n",
       "      <th>logistic_type</th>\n",
       "    </tr>\n",
       "  </thead>\n",
       "  <tbody>\n",
       "    <tr>\n",
       "      <th>352</th>\n",
       "      <td>MLB2216644379</td>\n",
       "      <td>XYRN86487</td>\n",
       "      <td>3,5</td>\n",
       "      <td>174350503084</td>\n",
       "      <td>active</td>\n",
       "      <td>False</td>\n",
       "      <td>fulfillment</td>\n",
       "    </tr>\n",
       "  </tbody>\n",
       "</table>\n",
       "</div>"
      ],
      "text/plain": [
       "           ml_code ml_inventory_id value_name  variation_id  status  \\\n",
       "352  MLB2216644379       XYRN86487        3,5  174350503084  active   \n",
       "\n",
       "     catalog_listing logistic_type  \n",
       "352            False   fulfillment  "
      ]
     },
     "execution_count": 70,
     "metadata": {},
     "output_type": "execute_result"
    }
   ],
   "source": [
    "df_not_catalogo.sample()"
   ]
  },
  {
   "cell_type": "code",
   "execution_count": 71,
   "metadata": {},
   "outputs": [
    {
     "data": {
      "text/html": [
       "<div>\n",
       "<style scoped>\n",
       "    .dataframe tbody tr th:only-of-type {\n",
       "        vertical-align: middle;\n",
       "    }\n",
       "\n",
       "    .dataframe tbody tr th {\n",
       "        vertical-align: top;\n",
       "    }\n",
       "\n",
       "    .dataframe thead th {\n",
       "        text-align: right;\n",
       "    }\n",
       "</style>\n",
       "<table border=\"1\" class=\"dataframe\">\n",
       "  <thead>\n",
       "    <tr style=\"text-align: right;\">\n",
       "      <th></th>\n",
       "      <th>ml_code</th>\n",
       "      <th>ml_inventory_id</th>\n",
       "      <th>value_name</th>\n",
       "      <th>variation_id</th>\n",
       "      <th>status</th>\n",
       "      <th>catalog_listing</th>\n",
       "      <th>logistic_type</th>\n",
       "    </tr>\n",
       "  </thead>\n",
       "  <tbody>\n",
       "    <tr>\n",
       "      <th>438</th>\n",
       "      <td>MLB3778548962</td>\n",
       "      <td>HFEB10246</td>\n",
       "      <td>NaN</td>\n",
       "      <td>NaN</td>\n",
       "      <td>active</td>\n",
       "      <td>True</td>\n",
       "      <td>fulfillment</td>\n",
       "    </tr>\n",
       "  </tbody>\n",
       "</table>\n",
       "</div>"
      ],
      "text/plain": [
       "           ml_code ml_inventory_id value_name variation_id  status  \\\n",
       "438  MLB3778548962       HFEB10246        NaN          NaN  active   \n",
       "\n",
       "     catalog_listing logistic_type  \n",
       "438             True   fulfillment  "
      ]
     },
     "execution_count": 71,
     "metadata": {},
     "output_type": "execute_result"
    }
   ],
   "source": [
    "df_catalogo.sample()"
   ]
  },
  {
   "cell_type": "code",
   "execution_count": 72,
   "metadata": {},
   "outputs": [
    {
     "data": {
      "text/html": [
       "<div>\n",
       "<style scoped>\n",
       "    .dataframe tbody tr th:only-of-type {\n",
       "        vertical-align: middle;\n",
       "    }\n",
       "\n",
       "    .dataframe tbody tr th {\n",
       "        vertical-align: top;\n",
       "    }\n",
       "\n",
       "    .dataframe thead th {\n",
       "        text-align: right;\n",
       "    }\n",
       "</style>\n",
       "<table border=\"1\" class=\"dataframe\">\n",
       "  <thead>\n",
       "    <tr style=\"text-align: right;\">\n",
       "      <th></th>\n",
       "      <th>ml_code</th>\n",
       "      <th>ml_inventory_id</th>\n",
       "      <th>value_name</th>\n",
       "      <th>variation_id</th>\n",
       "      <th>status</th>\n",
       "      <th>catalog_listing</th>\n",
       "      <th>logistic_type</th>\n",
       "    </tr>\n",
       "  </thead>\n",
       "  <tbody>\n",
       "    <tr>\n",
       "      <th>0</th>\n",
       "      <td>MLB1435852259</td>\n",
       "      <td>TLCG38735</td>\n",
       "      <td>NaN</td>\n",
       "      <td>NaN</td>\n",
       "      <td>active</td>\n",
       "      <td>False</td>\n",
       "      <td>fulfillment</td>\n",
       "    </tr>\n",
       "    <tr>\n",
       "      <th>1</th>\n",
       "      <td>MLB1435836214</td>\n",
       "      <td>PUOF38682</td>\n",
       "      <td>NaN</td>\n",
       "      <td>NaN</td>\n",
       "      <td>active</td>\n",
       "      <td>False</td>\n",
       "      <td>fulfillment</td>\n",
       "    </tr>\n",
       "    <tr>\n",
       "      <th>2</th>\n",
       "      <td>MLB1400355425</td>\n",
       "      <td>ZXFT21237</td>\n",
       "      <td>NaN</td>\n",
       "      <td>NaN</td>\n",
       "      <td>active</td>\n",
       "      <td>False</td>\n",
       "      <td>fulfillment</td>\n",
       "    </tr>\n",
       "    <tr>\n",
       "      <th>3</th>\n",
       "      <td>MLB1440291959</td>\n",
       "      <td>JGRW38703</td>\n",
       "      <td>NaN</td>\n",
       "      <td>NaN</td>\n",
       "      <td>active</td>\n",
       "      <td>False</td>\n",
       "      <td>fulfillment</td>\n",
       "    </tr>\n",
       "    <tr>\n",
       "      <th>4</th>\n",
       "      <td>MLB1564998298</td>\n",
       "      <td>OVRP11252</td>\n",
       "      <td>NaN</td>\n",
       "      <td>NaN</td>\n",
       "      <td>paused</td>\n",
       "      <td>False</td>\n",
       "      <td>fulfillment</td>\n",
       "    </tr>\n",
       "    <tr>\n",
       "      <th>...</th>\n",
       "      <td>...</td>\n",
       "      <td>...</td>\n",
       "      <td>...</td>\n",
       "      <td>...</td>\n",
       "      <td>...</td>\n",
       "      <td>...</td>\n",
       "      <td>...</td>\n",
       "    </tr>\n",
       "    <tr>\n",
       "      <th>527</th>\n",
       "      <td>MLB1490210934</td>\n",
       "      <td>SPKV63227</td>\n",
       "      <td>nan</td>\n",
       "      <td>NaN</td>\n",
       "      <td>paused</td>\n",
       "      <td>False</td>\n",
       "      <td>fulfillment</td>\n",
       "    </tr>\n",
       "    <tr>\n",
       "      <th>528</th>\n",
       "      <td>MLB1556975175</td>\n",
       "      <td>DZVJ05686</td>\n",
       "      <td>Marrom</td>\n",
       "      <td>57895096313</td>\n",
       "      <td>active</td>\n",
       "      <td>False</td>\n",
       "      <td>fulfillment</td>\n",
       "    </tr>\n",
       "    <tr>\n",
       "      <th>529</th>\n",
       "      <td>MLB950338822</td>\n",
       "      <td>MAEG54107</td>\n",
       "      <td>nan</td>\n",
       "      <td>NaN</td>\n",
       "      <td>paused</td>\n",
       "      <td>False</td>\n",
       "      <td>fulfillment</td>\n",
       "    </tr>\n",
       "    <tr>\n",
       "      <th>530</th>\n",
       "      <td>MLB1662970458</td>\n",
       "      <td>UIUW89800</td>\n",
       "      <td>Preto</td>\n",
       "      <td>64498487033</td>\n",
       "      <td>paused</td>\n",
       "      <td>False</td>\n",
       "      <td>fulfillment</td>\n",
       "    </tr>\n",
       "    <tr>\n",
       "      <th>531</th>\n",
       "      <td>MLB1942106803</td>\n",
       "      <td>WQLG77218</td>\n",
       "      <td>nan</td>\n",
       "      <td>NaN</td>\n",
       "      <td>paused</td>\n",
       "      <td>False</td>\n",
       "      <td>fulfillment</td>\n",
       "    </tr>\n",
       "  </tbody>\n",
       "</table>\n",
       "<p>361 rows × 7 columns</p>\n",
       "</div>"
      ],
      "text/plain": [
       "           ml_code ml_inventory_id value_name variation_id  status  \\\n",
       "0    MLB1435852259       TLCG38735        NaN          NaN  active   \n",
       "1    MLB1435836214       PUOF38682        NaN          NaN  active   \n",
       "2    MLB1400355425       ZXFT21237        NaN          NaN  active   \n",
       "3    MLB1440291959       JGRW38703        NaN          NaN  active   \n",
       "4    MLB1564998298       OVRP11252        NaN          NaN  paused   \n",
       "..             ...             ...        ...          ...     ...   \n",
       "527  MLB1490210934       SPKV63227        nan          NaN  paused   \n",
       "528  MLB1556975175       DZVJ05686     Marrom  57895096313  active   \n",
       "529   MLB950338822       MAEG54107        nan          NaN  paused   \n",
       "530  MLB1662970458       UIUW89800      Preto  64498487033  paused   \n",
       "531  MLB1942106803       WQLG77218        nan          NaN  paused   \n",
       "\n",
       "     catalog_listing logistic_type  \n",
       "0              False   fulfillment  \n",
       "1              False   fulfillment  \n",
       "2              False   fulfillment  \n",
       "3              False   fulfillment  \n",
       "4              False   fulfillment  \n",
       "..               ...           ...  \n",
       "527            False   fulfillment  \n",
       "528            False   fulfillment  \n",
       "529            False   fulfillment  \n",
       "530            False   fulfillment  \n",
       "531            False   fulfillment  \n",
       "\n",
       "[361 rows x 7 columns]"
      ]
     },
     "execution_count": 72,
     "metadata": {},
     "output_type": "execute_result"
    }
   ],
   "source": [
    "df_not_catalogo"
   ]
  },
  {
   "cell_type": "code",
   "execution_count": 73,
   "metadata": {},
   "outputs": [
    {
     "name": "stdout",
     "output_type": "stream",
     "text": [
      "(361, 7)\n",
      "(171, 7)\n"
     ]
    }
   ],
   "source": [
    "print(df_not_catalogo.shape)\n",
    "print(df_catalogo.shape)"
   ]
  },
  {
   "cell_type": "code",
   "execution_count": 74,
   "metadata": {},
   "outputs": [
    {
     "data": {
      "text/html": [
       "<div>\n",
       "<style scoped>\n",
       "    .dataframe tbody tr th:only-of-type {\n",
       "        vertical-align: middle;\n",
       "    }\n",
       "\n",
       "    .dataframe tbody tr th {\n",
       "        vertical-align: top;\n",
       "    }\n",
       "\n",
       "    .dataframe thead th {\n",
       "        text-align: right;\n",
       "    }\n",
       "</style>\n",
       "<table border=\"1\" class=\"dataframe\">\n",
       "  <thead>\n",
       "    <tr style=\"text-align: right;\">\n",
       "      <th></th>\n",
       "      <th>ml_code</th>\n",
       "      <th>ml_inventory_id</th>\n",
       "      <th>value_name</th>\n",
       "      <th>variation_id</th>\n",
       "      <th>status</th>\n",
       "      <th>catalog_listing</th>\n",
       "      <th>logistic_type</th>\n",
       "    </tr>\n",
       "  </thead>\n",
       "  <tbody>\n",
       "    <tr>\n",
       "      <th>19</th>\n",
       "      <td>MLB2170026503</td>\n",
       "      <td>ZNFW24350</td>\n",
       "      <td>NaN</td>\n",
       "      <td>NaN</td>\n",
       "      <td>paused</td>\n",
       "      <td>True</td>\n",
       "      <td>fulfillment</td>\n",
       "    </tr>\n",
       "    <tr>\n",
       "      <th>26</th>\n",
       "      <td>MLB3435374559</td>\n",
       "      <td>RYWV54124</td>\n",
       "      <td>NaN</td>\n",
       "      <td>NaN</td>\n",
       "      <td>paused</td>\n",
       "      <td>True</td>\n",
       "      <td>fulfillment</td>\n",
       "    </tr>\n",
       "    <tr>\n",
       "      <th>27</th>\n",
       "      <td>MLB3435352761</td>\n",
       "      <td>QYGO52123</td>\n",
       "      <td>NaN</td>\n",
       "      <td>NaN</td>\n",
       "      <td>paused</td>\n",
       "      <td>True</td>\n",
       "      <td>fulfillment</td>\n",
       "    </tr>\n",
       "    <tr>\n",
       "      <th>28</th>\n",
       "      <td>MLB3435350955</td>\n",
       "      <td>HGVR43626</td>\n",
       "      <td>NaN</td>\n",
       "      <td>NaN</td>\n",
       "      <td>active</td>\n",
       "      <td>True</td>\n",
       "      <td>fulfillment</td>\n",
       "    </tr>\n",
       "    <tr>\n",
       "      <th>29</th>\n",
       "      <td>MLB3435245361</td>\n",
       "      <td>PKNN52962</td>\n",
       "      <td>NaN</td>\n",
       "      <td>NaN</td>\n",
       "      <td>paused</td>\n",
       "      <td>True</td>\n",
       "      <td>fulfillment</td>\n",
       "    </tr>\n",
       "    <tr>\n",
       "      <th>...</th>\n",
       "      <td>...</td>\n",
       "      <td>...</td>\n",
       "      <td>...</td>\n",
       "      <td>...</td>\n",
       "      <td>...</td>\n",
       "      <td>...</td>\n",
       "      <td>...</td>\n",
       "    </tr>\n",
       "    <tr>\n",
       "      <th>519</th>\n",
       "      <td>MLB4127982748</td>\n",
       "      <td>RLJX42857</td>\n",
       "      <td>nan</td>\n",
       "      <td>NaN</td>\n",
       "      <td>paused</td>\n",
       "      <td>True</td>\n",
       "      <td>fulfillment</td>\n",
       "    </tr>\n",
       "    <tr>\n",
       "      <th>520</th>\n",
       "      <td>MLB3497394073</td>\n",
       "      <td>XGSW66673</td>\n",
       "      <td>nan</td>\n",
       "      <td>NaN</td>\n",
       "      <td>paused</td>\n",
       "      <td>True</td>\n",
       "      <td>fulfillment</td>\n",
       "    </tr>\n",
       "    <tr>\n",
       "      <th>521</th>\n",
       "      <td>MLB4191526348</td>\n",
       "      <td>LXOO59456</td>\n",
       "      <td>nan</td>\n",
       "      <td>NaN</td>\n",
       "      <td>paused</td>\n",
       "      <td>True</td>\n",
       "      <td>fulfillment</td>\n",
       "    </tr>\n",
       "    <tr>\n",
       "      <th>522</th>\n",
       "      <td>MLB3521778415</td>\n",
       "      <td>PSMV02965</td>\n",
       "      <td>nan</td>\n",
       "      <td>NaN</td>\n",
       "      <td>paused</td>\n",
       "      <td>True</td>\n",
       "      <td>fulfillment</td>\n",
       "    </tr>\n",
       "    <tr>\n",
       "      <th>523</th>\n",
       "      <td>MLB3529585309</td>\n",
       "      <td>ESVG06709</td>\n",
       "      <td>nan</td>\n",
       "      <td>NaN</td>\n",
       "      <td>paused</td>\n",
       "      <td>True</td>\n",
       "      <td>fulfillment</td>\n",
       "    </tr>\n",
       "  </tbody>\n",
       "</table>\n",
       "<p>171 rows × 7 columns</p>\n",
       "</div>"
      ],
      "text/plain": [
       "           ml_code ml_inventory_id value_name variation_id  status  \\\n",
       "19   MLB2170026503       ZNFW24350        NaN          NaN  paused   \n",
       "26   MLB3435374559       RYWV54124        NaN          NaN  paused   \n",
       "27   MLB3435352761       QYGO52123        NaN          NaN  paused   \n",
       "28   MLB3435350955       HGVR43626        NaN          NaN  active   \n",
       "29   MLB3435245361       PKNN52962        NaN          NaN  paused   \n",
       "..             ...             ...        ...          ...     ...   \n",
       "519  MLB4127982748       RLJX42857        nan          NaN  paused   \n",
       "520  MLB3497394073       XGSW66673        nan          NaN  paused   \n",
       "521  MLB4191526348       LXOO59456        nan          NaN  paused   \n",
       "522  MLB3521778415       PSMV02965        nan          NaN  paused   \n",
       "523  MLB3529585309       ESVG06709        nan          NaN  paused   \n",
       "\n",
       "     catalog_listing logistic_type  \n",
       "19              True   fulfillment  \n",
       "26              True   fulfillment  \n",
       "27              True   fulfillment  \n",
       "28              True   fulfillment  \n",
       "29              True   fulfillment  \n",
       "..               ...           ...  \n",
       "519             True   fulfillment  \n",
       "520             True   fulfillment  \n",
       "521             True   fulfillment  \n",
       "522             True   fulfillment  \n",
       "523             True   fulfillment  \n",
       "\n",
       "[171 rows x 7 columns]"
      ]
     },
     "execution_count": 74,
     "metadata": {},
     "output_type": "execute_result"
    }
   ],
   "source": [
    "df_catalogo"
   ]
  },
  {
   "cell_type": "code",
   "execution_count": 75,
   "metadata": {},
   "outputs": [],
   "source": [
    "# df_orders.sample()"
   ]
  },
  {
   "cell_type": "code",
   "execution_count": 76,
   "metadata": {},
   "outputs": [],
   "source": [
    "df_total_sales_cat = pd.merge(\n",
    "    df_catalogo,\n",
    "    df_total_sales,\n",
    "    left_on=[\"ml_code\"],\n",
    "    right_on=[\"ml_code\"],\n",
    "    how=\"left\",\n",
    ")\n",
    "df_total_sales_cat = df_total_sales_cat.drop_duplicates()\n",
    "\n",
    "df_total_sales_not_cat = pd.merge(\n",
    "    df_not_catalogo,\n",
    "    df_total_sales,\n",
    "    left_on=[\"ml_code\", \"variation_id\"],\n",
    "    right_on=[\"ml_code\", \"variation_id\"],\n",
    "    how=\"left\",\n",
    ")\n",
    "df_total_sales_not_cat = df_total_sales_not_cat.drop_duplicates()"
   ]
  },
  {
   "cell_type": "code",
   "execution_count": 77,
   "metadata": {},
   "outputs": [],
   "source": [
    "df_total_sales_not_cat[\"total_sold_quantity\"] = df_total_sales_not_cat[\n",
    "    \"total_sold_quantity\"\n",
    "].fillna(0)\n",
    "df_total_sales_cat[\"total_sold_quantity\"] = df_total_sales_cat[\n",
    "    \"total_sold_quantity\"\n",
    "].fillna(0)\n",
    "\n",
    "df_total_sales_not_cat[\"total_sold_quantity\"] = df_total_sales_not_cat[\n",
    "    \"total_sold_quantity\"\n",
    "].astype(\"int64\")\n",
    "df_total_sales_cat[\"total_sold_quantity\"] = df_total_sales_cat[\n",
    "    \"total_sold_quantity\"\n",
    "].astype(\"int64\")"
   ]
  },
  {
   "cell_type": "code",
   "execution_count": 78,
   "metadata": {},
   "outputs": [],
   "source": [
    "# df_total_sales_cat.sample(5)\n",
    "# df_total_sales_not_cat['total_sold_quantity'].value_counts()\n",
    "# df_total_sales_cat['total_sold_quantity'].value_counts()"
   ]
  },
  {
   "cell_type": "code",
   "execution_count": null,
   "metadata": {},
   "outputs": [],
   "source": []
  },
  {
   "cell_type": "code",
   "execution_count": 79,
   "metadata": {},
   "outputs": [
    {
     "name": "stdout",
     "output_type": "stream",
     "text": [
      "(1999, 16)\n",
      "(1443, 15)\n"
     ]
    }
   ],
   "source": [
    "print(df_total_sales_cat.shape)\n",
    "print(df_total_sales_not_cat.shape)"
   ]
  },
  {
   "cell_type": "code",
   "execution_count": 80,
   "metadata": {},
   "outputs": [],
   "source": [
    "# df_total_sales_cat"
   ]
  },
  {
   "cell_type": "code",
   "execution_count": 81,
   "metadata": {},
   "outputs": [
    {
     "data": {
      "text/plain": [
       "(172, 12)"
      ]
     },
     "execution_count": 81,
     "metadata": {},
     "output_type": "execute_result"
    }
   ],
   "source": [
    "# df_total_sales_cat = df_total_sales_cat.drop(\n",
    "#     columns=[\"data\", \"shipping_id\", \"variation_id_x\", \"order_id\"]\n",
    "# )\n",
    "df_total_sales_cat_x = df_total_sales_cat.drop(\n",
    "    columns=[\"data\", \"shipping_id\", \"variation_id_x\", \"order_id\"]\n",
    ")\n",
    "df_total_sales_cat_x = df_total_sales_cat_x.drop_duplicates()\n",
    "df_total_sales_cat_x.shape"
   ]
  },
  {
   "cell_type": "code",
   "execution_count": 82,
   "metadata": {},
   "outputs": [],
   "source": [
    "# df_total_sales_cat_x"
   ]
  },
  {
   "cell_type": "code",
   "execution_count": 83,
   "metadata": {},
   "outputs": [],
   "source": [
    "# df_total_sales_cat['value_name'].value_counts()"
   ]
  },
  {
   "cell_type": "code",
   "execution_count": 84,
   "metadata": {},
   "outputs": [],
   "source": [
    "# condf(df_total_sales_cat, 'ml_code','MLB3427769549')"
   ]
  },
  {
   "cell_type": "code",
   "execution_count": 85,
   "metadata": {},
   "outputs": [],
   "source": [
    "# df_vendas_total_sales_not_cat"
   ]
  },
  {
   "cell_type": "code",
   "execution_count": 86,
   "metadata": {},
   "outputs": [
    {
     "name": "stdout",
     "output_type": "stream",
     "text": [
      "(1443, 15)\n"
     ]
    }
   ],
   "source": [
    "print(df_total_sales_not_cat.shape)"
   ]
  },
  {
   "cell_type": "code",
   "execution_count": 87,
   "metadata": {},
   "outputs": [
    {
     "name": "stdout",
     "output_type": "stream",
     "text": [
      "(1443, 15)\n",
      "(361, 12)\n"
     ]
    }
   ],
   "source": [
    "print(df_total_sales_not_cat.shape)\n",
    "df_total_sales_not_cat_x = df_total_sales_not_cat.drop(\n",
    "    columns=[\"data\", \"shipping_id\", \"order_id\"]\n",
    ")\n",
    "df_total_sales_not_cat_x = df_total_sales_not_cat_x.drop_duplicates()\n",
    "print(df_total_sales_not_cat_x.shape)"
   ]
  },
  {
   "cell_type": "code",
   "execution_count": 88,
   "metadata": {},
   "outputs": [],
   "source": [
    "# df_total_sales_cat_x"
   ]
  },
  {
   "cell_type": "code",
   "execution_count": 89,
   "metadata": {},
   "outputs": [
    {
     "name": "stdout",
     "output_type": "stream",
     "text": [
      "(172, 12)\n",
      "(361, 12)\n"
     ]
    }
   ],
   "source": [
    "print(df_total_sales_cat_x.shape)\n",
    "print(df_total_sales_not_cat_x.shape)"
   ]
  },
  {
   "cell_type": "code",
   "execution_count": 90,
   "metadata": {},
   "outputs": [],
   "source": [
    "# df_total_sales_cat['ml_inventory_id'].value_counts()"
   ]
  },
  {
   "cell_type": "code",
   "execution_count": 91,
   "metadata": {},
   "outputs": [],
   "source": [
    "# Antes de desabilitar\n",
    "# pd.set_option('display.max_rows', None)\n",
    "# pd.set_option('display.max_columns', None)\n",
    "# pd.set_option('display.max_colwidth', None)\n",
    "\n",
    "# Seu código para exibir o DataFrame\n",
    "\n",
    "# # Depois de desabilitar\n",
    "# pd.reset_option('display.max_rows')\n",
    "# pd.reset_option('display.max_columns')\n",
    "# pd.reset_option('display.max_colwidth')\n",
    "\n",
    "\n",
    "# df_total_sales_cat = df_total_sales_cat.drop_duplicates()\n",
    "\n",
    "df_total_sales_cat_x = df_total_sales_cat.drop_duplicates(\n",
    "    subset=[\"ml_code\", \"ml_inventory_id\"]\n",
    ")\n",
    "df_total_sales_not_cat_x = df_total_sales_not_cat.drop_duplicates(\n",
    "    subset=[\"ml_code\", \"ml_inventory_id\"]\n",
    ")"
   ]
  },
  {
   "cell_type": "code",
   "execution_count": 92,
   "metadata": {},
   "outputs": [],
   "source": [
    "# df_orders.shape"
   ]
  },
  {
   "cell_type": "code",
   "execution_count": 93,
   "metadata": {},
   "outputs": [],
   "source": [
    "# condf(df_total_sales_cat,'ml_inventory_id','WTHI04163')\n",
    "# condf(y,'ml_inventory_id','WTHI04163')"
   ]
  },
  {
   "cell_type": "code",
   "execution_count": 94,
   "metadata": {},
   "outputs": [],
   "source": [
    "# condf(df_total_sales_cat,'ml_inventory_id','AWAZ99732')"
   ]
  },
  {
   "cell_type": "code",
   "execution_count": 95,
   "metadata": {},
   "outputs": [],
   "source": [
    "df_total_cat = df_total_sales_cat_x.copy()\n",
    "df_total_not_cat = df_total_sales_not_cat_x.copy()"
   ]
  },
  {
   "cell_type": "code",
   "execution_count": 96,
   "metadata": {},
   "outputs": [
    {
     "data": {
      "text/plain": [
       "Index(['ml_code', 'ml_inventory_id', 'value_name', 'variation_id_x', 'status',\n",
       "       'catalog_listing', 'logistic_type_x', 'variation_id_y', 'seller_sku',\n",
       "       'order_id', 'title', 'shipping_id', 'variation_value_name',\n",
       "       'logistic_type_y', 'data', 'total_sold_quantity'],\n",
       "      dtype='object')"
      ]
     },
     "execution_count": 96,
     "metadata": {},
     "output_type": "execute_result"
    }
   ],
   "source": [
    "df_total_cat.columns"
   ]
  },
  {
   "cell_type": "code",
   "execution_count": 97,
   "metadata": {},
   "outputs": [],
   "source": [
    "# Somando total de vendas por inventory_id\n",
    "df_sum_qt_sold_cat = (\n",
    "    df_total_cat.groupby(\"ml_inventory_id\")[\"total_sold_quantity\"].sum().reset_index()\n",
    ")\n",
    "df_sum_qt_sold_cat = df_sum_qt_sold_cat.rename(\n",
    "    columns={\"total_sold_quantity\": \"total_sold_catalog\"}\n",
    ")\n",
    "\n",
    "df_total_cat = pd.merge(\n",
    "    df_total_cat,\n",
    "    df_sum_qt_sold_cat[[\"ml_inventory_id\", \"total_sold_catalog\"]],\n",
    "    on=\"ml_inventory_id\",\n",
    "    how=\"left\",\n",
    ")\n",
    "\n",
    "df_total_cat.rename(columns={\"variation_id_y\": \"variation_id_\"})\n",
    "\n",
    "\n",
    "df_sum_qt_sold_not_cat = (\n",
    "    df_total_not_cat.groupby(\"ml_inventory_id\")[\"total_sold_quantity\"]\n",
    "    .sum()\n",
    "    .reset_index()\n",
    ")\n",
    "df_sum_qt_sold_not_cat = df_sum_qt_sold_not_cat.rename(\n",
    "    columns={\"total_sold_quantity\": \"total_sold_not_catalog\"}\n",
    ")\n",
    "df_total_not_cat = pd.merge(\n",
    "    df_total_not_cat,\n",
    "    df_sum_qt_sold_not_cat[[\"ml_inventory_id\", \"total_sold_not_catalog\"]],\n",
    "    on=\"ml_inventory_id\",\n",
    "    how=\"left\",\n",
    ")"
   ]
  },
  {
   "cell_type": "code",
   "execution_count": 98,
   "metadata": {},
   "outputs": [
    {
     "name": "stdout",
     "output_type": "stream",
     "text": [
      "(170, 17)\n",
      "(361, 16)\n"
     ]
    }
   ],
   "source": [
    "print(df_total_cat.shape)\n",
    "print(df_total_not_cat.shape)"
   ]
  },
  {
   "cell_type": "code",
   "execution_count": 99,
   "metadata": {},
   "outputs": [
    {
     "data": {
      "text/plain": [
       "(170, 17)"
      ]
     },
     "execution_count": 99,
     "metadata": {},
     "output_type": "execute_result"
    }
   ],
   "source": [
    "df_total_cat.rename(columns={\"variation_id_y\": \"variation_id\"}, inplace=True)\n",
    "df_total_cat.shape"
   ]
  },
  {
   "cell_type": "code",
   "execution_count": 100,
   "metadata": {},
   "outputs": [],
   "source": [
    "# condf(df_total_cat,'ml_inventory_id','WTHI04163')"
   ]
  },
  {
   "cell_type": "code",
   "execution_count": 101,
   "metadata": {},
   "outputs": [],
   "source": [
    "df_total_cat = df_total_cat.drop_duplicates(subset=[\"ml_inventory_id\"])\n",
    "\n",
    "# df_total_cat[df_total_cat['ml_inventory_id']=='WTHI04163']"
   ]
  },
  {
   "cell_type": "markdown",
   "metadata": {},
   "source": [
    "pergar ml_inventory_id e sum_total e acrescesntar essas informações no df de não catalogo pelo ml_inventory_id\n",
    "ao fim deixar somatório do catalogo e não catalogo\n"
   ]
  },
  {
   "cell_type": "code",
   "execution_count": 102,
   "metadata": {},
   "outputs": [],
   "source": [
    "# cols=['ml_inventory_id','total_sold_catalog']\n",
    "# df_total_cat = df_total_cat[cols]\n",
    "# df_total_cat.sample()"
   ]
  },
  {
   "cell_type": "code",
   "execution_count": 103,
   "metadata": {},
   "outputs": [],
   "source": [
    "df_combined = pd.merge(\n",
    "    df_total_not_cat,\n",
    "    df_total_cat[[\"ml_inventory_id\", \"total_sold_catalog\"]],\n",
    "    on=\"ml_inventory_id\",\n",
    "    how=\"left\",\n",
    ")\n",
    "# df_combined.sample()"
   ]
  },
  {
   "cell_type": "code",
   "execution_count": 104,
   "metadata": {},
   "outputs": [],
   "source": [
    "# df_total_not_cat.shape"
   ]
  },
  {
   "cell_type": "code",
   "execution_count": 105,
   "metadata": {},
   "outputs": [],
   "source": [
    "# condf(df_combined,'ml_inventory_id','UIUW89800')"
   ]
  },
  {
   "cell_type": "code",
   "execution_count": 106,
   "metadata": {},
   "outputs": [],
   "source": [
    "# condf(df_combined,'ml_inventory_id','UIUW89800')"
   ]
  },
  {
   "cell_type": "code",
   "execution_count": 107,
   "metadata": {},
   "outputs": [],
   "source": [
    "# df_combined['ml_inventory_id'].value_counts()"
   ]
  },
  {
   "cell_type": "code",
   "execution_count": 108,
   "metadata": {},
   "outputs": [
    {
     "name": "stdout",
     "output_type": "stream",
     "text": [
      "(361, 17)\n"
     ]
    }
   ],
   "source": [
    "print(df_combined.shape)"
   ]
  },
  {
   "cell_type": "code",
   "execution_count": 109,
   "metadata": {},
   "outputs": [],
   "source": [
    "df = pd.merge(df_combined, df_stock_today, on=\"ml_inventory_id\", how=\"left\")\n",
    "df[\"total_sold_catalog\"] = df[\"total_sold_catalog\"].fillna(0).astype(\"int64\")"
   ]
  },
  {
   "cell_type": "code",
   "execution_count": 110,
   "metadata": {},
   "outputs": [],
   "source": [
    "# df_combined"
   ]
  },
  {
   "cell_type": "code",
   "execution_count": 111,
   "metadata": {},
   "outputs": [
    {
     "data": {
      "text/plain": [
       "(361, 26)"
      ]
     },
     "execution_count": 111,
     "metadata": {},
     "output_type": "execute_result"
    }
   ],
   "source": [
    "df.shape"
   ]
  },
  {
   "cell_type": "code",
   "execution_count": 112,
   "metadata": {},
   "outputs": [],
   "source": [
    "days = 30\n",
    "\n",
    "df[\"total_sold\"] = df[\"total_sold_catalog\"] + df[\"total_sold_not_catalog\"]\n",
    "# qtd de produtos a enviar no período, caso seja valor negativo produto está acima do esperado para envio(sobrando)\n",
    "df[\"period_send_fulfillment\"] = np.ceil(\n",
    "    (df[\"total_sold\"] / df[\"days_available\"]) * days - df[\"total_available_quantity\"]\n",
    ")\n",
    "\n",
    "df[\"period_send_fulfillment\"] = df[\"period_send_fulfillment\"].fillna(0)"
   ]
  },
  {
   "cell_type": "code",
   "execution_count": 113,
   "metadata": {},
   "outputs": [],
   "source": [
    "def calculate_percentual_send(row):\n",
    "    if row[\"days_available\"] != 0:\n",
    "        if np.ceil(\n",
    "            (row[\"total_sold\"] / row[\"days_available\"]) * days * 0.7\n",
    "            > row[\"total_available_quantity\"]\n",
    "        ):\n",
    "            # return (np.ceil(row[\"total_sold\"] / row[\"days_available\"]) * days - row[\"total_available_quantity\"])\n",
    "            return np.ceil(\n",
    "                (row[\"total_sold\"] / row[\"days_available\"]) * days\n",
    "                - row[\"total_available_quantity\"]\n",
    "            )\n",
    "\n",
    "    return 0"
   ]
  },
  {
   "cell_type": "code",
   "execution_count": 114,
   "metadata": {},
   "outputs": [],
   "source": [
    "# Aplicando a função à coluna \"percentual_send\"\n",
    "df[\"stock_replenishment\"] = df.apply(calculate_percentual_send, axis=1)"
   ]
  },
  {
   "cell_type": "code",
   "execution_count": 115,
   "metadata": {},
   "outputs": [],
   "source": [
    "# df.sample(5)"
   ]
  },
  {
   "cell_type": "code",
   "execution_count": 116,
   "metadata": {},
   "outputs": [],
   "source": [
    "# df.columns"
   ]
  },
  {
   "cell_type": "code",
   "execution_count": 117,
   "metadata": {},
   "outputs": [],
   "source": [
    "# df.shape"
   ]
  },
  {
   "cell_type": "code",
   "execution_count": 118,
   "metadata": {},
   "outputs": [],
   "source": [
    "# df"
   ]
  },
  {
   "cell_type": "code",
   "execution_count": 119,
   "metadata": {},
   "outputs": [],
   "source": [
    "df_have_itens = df[df[\"days_available\"] > 0]\n",
    "# df_have_itens.shape\n",
    "# df_have_itens"
   ]
  },
  {
   "cell_type": "code",
   "execution_count": 120,
   "metadata": {},
   "outputs": [],
   "source": [
    "# produtos sem estoque no período\n",
    "df_no_itens = df[df[\"days_available\"] <= 0]\n",
    "# df_no_itens = df_no_itens.drop(columns=[\"period_send_fulfillment\"])\n",
    "# df_no_itens.shape"
   ]
  },
  {
   "cell_type": "code",
   "execution_count": 121,
   "metadata": {},
   "outputs": [],
   "source": [
    "df_sold_zero = df_have_itens[df_have_itens[\"total_sold\"] == 0]\n",
    "df_sold = df_have_itens[df_have_itens[\"total_sold\"] > 0]"
   ]
  },
  {
   "cell_type": "code",
   "execution_count": 122,
   "metadata": {},
   "outputs": [],
   "source": [
    "# print(df_no_itens.shape)\n",
    "# print(df_sold.shape)\n",
    "# print(df_sold_zero.shape)"
   ]
  },
  {
   "cell_type": "code",
   "execution_count": 123,
   "metadata": {},
   "outputs": [],
   "source": [
    "# df_sold_zero.sample(3)"
   ]
  },
  {
   "cell_type": "code",
   "execution_count": 124,
   "metadata": {},
   "outputs": [],
   "source": [
    "# df_sold.sample(3)"
   ]
  },
  {
   "cell_type": "code",
   "execution_count": 125,
   "metadata": {},
   "outputs": [],
   "source": [
    "dfx = df_have_itens.copy()"
   ]
  },
  {
   "cell_type": "code",
   "execution_count": 126,
   "metadata": {},
   "outputs": [],
   "source": [
    "# df_sold_zero.columns"
   ]
  },
  {
   "cell_type": "code",
   "execution_count": 127,
   "metadata": {},
   "outputs": [],
   "source": [
    "# dfx.columns"
   ]
  },
  {
   "cell_type": "code",
   "execution_count": 128,
   "metadata": {},
   "outputs": [],
   "source": [
    "cols = [\n",
    "    \"ml_code\",\n",
    "    \"seller_sku\",\n",
    "    \"ml_inventory_id\",\n",
    "    \"value_name\",\n",
    "    \"status\",\n",
    "    \"title\",\n",
    "    \"available_quantity_today\",\n",
    "    \"detail_status\",\n",
    "    \"detail_quantity\",\n",
    "    \"total_available_quantity\",\n",
    "    \"days_available\",\n",
    "    \"total_sold_not_catalog\",\n",
    "    \"total_sold_catalog\",\n",
    "    \"total_sold\",\n",
    "    \"period_send_fulfillment\",\n",
    "    \"stock_replenishment\",\n",
    "]\n",
    "\n",
    "df_sold_zero = df_sold_zero[cols]\n",
    "df_sold = df_sold[cols]\n",
    "df_no_itens = df_no_itens[cols]"
   ]
  },
  {
   "cell_type": "code",
   "execution_count": 129,
   "metadata": {},
   "outputs": [],
   "source": [
    "def rename_columns(df):\n",
    "    return df.rename(\n",
    "        columns={\n",
    "            \"detail_status\": \"transfer_status\",\n",
    "            \"detail_quantity\": \"transfer_quantity\",\n",
    "        }\n",
    "    )\n",
    "\n",
    "\n",
    "df_sold_zero = rename_columns(df_sold_zero)\n",
    "df_sold = rename_columns(df_sold)\n",
    "df_no_itens = rename_columns(df_no_itens)"
   ]
  },
  {
   "cell_type": "code",
   "execution_count": 130,
   "metadata": {},
   "outputs": [],
   "source": [
    "# df_no_itens.columns"
   ]
  },
  {
   "cell_type": "code",
   "execution_count": 131,
   "metadata": {},
   "outputs": [],
   "source": [
    "# dfx = dfx.rename(\n",
    "#     columns={\"detail_status\": \"transfer_status\", \"detail_quantity\": \"transfer_quantity\"}\n",
    "# )"
   ]
  },
  {
   "cell_type": "code",
   "execution_count": 132,
   "metadata": {},
   "outputs": [],
   "source": [
    "# dfx.sample()\n",
    "# dfx.shape"
   ]
  },
  {
   "cell_type": "code",
   "execution_count": 133,
   "metadata": {},
   "outputs": [],
   "source": [
    "# dfx"
   ]
  },
  {
   "cell_type": "markdown",
   "metadata": {},
   "source": [
    "### Agrupando por categoria de produto para enviar"
   ]
  },
  {
   "cell_type": "code",
   "execution_count": 134,
   "metadata": {},
   "outputs": [
    {
     "data": {
      "text/plain": [
       "(66, 2)"
      ]
     },
     "execution_count": 134,
     "metadata": {},
     "output_type": "execute_result"
    }
   ],
   "source": [
    "df_itens_to_send = df_sold[df_sold[\"stock_replenishment\"] > 0]\n",
    "df_itens_to_send = df_itens_to_send[[\"ml_inventory_id\", \"stock_replenishment\"]]\n",
    "df_itens_to_send = df_itens_to_send.rename(columns={\"ml_inventory_id\": \"inventory_id\"})\n",
    "\n",
    "df_itens_to_send.shape"
   ]
  },
  {
   "cell_type": "code",
   "execution_count": 135,
   "metadata": {},
   "outputs": [],
   "source": [
    "# df_itens_to_send.sample()"
   ]
  },
  {
   "cell_type": "code",
   "execution_count": 136,
   "metadata": {},
   "outputs": [
    {
     "name": "stdout",
     "output_type": "stream",
     "text": [
      "SELECT * FROM tiny_fulfillment_mcenter\n"
     ]
    },
    {
     "name": "stderr",
     "output_type": "stream",
     "text": [
      "C:\\Users\\couti\\AppData\\Local\\Temp\\ipykernel_20156\\1370134452.py:7: UserWarning: pandas only supports SQLAlchemy connectable (engine/connection) or database string URI or sqlite3 DBAPI2 connection. Other DBAPI2 objects are not tested. Please consider using SQLAlchemy.\n",
      "  df_tiny_fulfillment = pd.read_sql(sql_query, conn)\n"
     ]
    }
   ],
   "source": [
    "# Buscando relação fulfillment X tiny\n",
    "try:\n",
    "    conn = psycopg2.connect(**db_config)\n",
    "\n",
    "    sql_query = f\"SELECT * FROM tiny_fulfillment_mcenter\"\n",
    "    print(sql_query)\n",
    "    df_tiny_fulfillment = pd.read_sql(sql_query, conn)\n",
    "\n",
    "except psycopg2.Error as e:\n",
    "    print(f\"Erro do psycopg2 ao consultar ml_orders_hist: {e}\")\n",
    "    # logger.error(f\"Erro do psycopg2 ao consultar ml_orders_hist: {e}\")\n",
    "\n",
    "except Exception as e:\n",
    "    print(f\"Erro ao consultar ml_orders_hist: {e}\")\n",
    "    # logger.error(f\"Erro ao consultar ml_orders_hist: {e}\")\n",
    "\n",
    "finally:\n",
    "    if conn is not None:\n",
    "        conn.close()"
   ]
  },
  {
   "cell_type": "code",
   "execution_count": 137,
   "metadata": {},
   "outputs": [
    {
     "name": "stdout",
     "output_type": "stream",
     "text": [
      "SELECT * FROM mcenter_types\n"
     ]
    },
    {
     "name": "stderr",
     "output_type": "stream",
     "text": [
      "C:\\Users\\couti\\AppData\\Local\\Temp\\ipykernel_20156\\2421984111.py:7: UserWarning: pandas only supports SQLAlchemy connectable (engine/connection) or database string URI or sqlite3 DBAPI2 connection. Other DBAPI2 objects are not tested. Please consider using SQLAlchemy.\n",
      "  df_types = pd.read_sql(sql_query, conn)\n"
     ]
    }
   ],
   "source": [
    "# Buscando categorias dos produtos\n",
    "try:\n",
    "    conn = psycopg2.connect(**db_config)\n",
    "\n",
    "    sql_query = f\"SELECT * FROM mcenter_types\"\n",
    "    print(sql_query)\n",
    "    df_types = pd.read_sql(sql_query, conn)\n",
    "\n",
    "except psycopg2.Error as e:\n",
    "    print(f\"Erro do psycopg2 ao consultar ml_orders_hist: {e}\")\n",
    "    # logger.error(f\"Erro do psycopg2 ao consultar ml_orders_hist: {e}\")\n",
    "\n",
    "except Exception as e:\n",
    "    print(f\"Erro ao consultar ml_orders_hist: {e}\")\n",
    "    # logger.error(f\"Erro ao consultar ml_orders_hist: {e}\")\n",
    "\n",
    "finally:\n",
    "    if conn is not None:\n",
    "        conn.close()"
   ]
  },
  {
   "cell_type": "code",
   "execution_count": 138,
   "metadata": {},
   "outputs": [
    {
     "data": {
      "text/plain": [
       "(361, 2)"
      ]
     },
     "execution_count": 138,
     "metadata": {},
     "output_type": "execute_result"
    }
   ],
   "source": [
    "df_types.shape"
   ]
  },
  {
   "cell_type": "code",
   "execution_count": 139,
   "metadata": {},
   "outputs": [],
   "source": [
    "# Agrupando itens a enviar com tipo de itens\n",
    "\n",
    "df_send_types = pd.merge(df_itens_to_send, df_types, on=\"inventory_id\", how=\"inner\")"
   ]
  },
  {
   "cell_type": "code",
   "execution_count": 140,
   "metadata": {},
   "outputs": [
    {
     "name": "stdout",
     "output_type": "stream",
     "text": [
      "(66, 3)\n",
      "(66, 2)\n"
     ]
    }
   ],
   "source": [
    "print(df_send_types.shape)\n",
    "print(df_itens_to_send.shape)"
   ]
  },
  {
   "cell_type": "code",
   "execution_count": 141,
   "metadata": {},
   "outputs": [
    {
     "data": {
      "text/html": [
       "<div>\n",
       "<style scoped>\n",
       "    .dataframe tbody tr th:only-of-type {\n",
       "        vertical-align: middle;\n",
       "    }\n",
       "\n",
       "    .dataframe tbody tr th {\n",
       "        vertical-align: top;\n",
       "    }\n",
       "\n",
       "    .dataframe thead th {\n",
       "        text-align: right;\n",
       "    }\n",
       "</style>\n",
       "<table border=\"1\" class=\"dataframe\">\n",
       "  <thead>\n",
       "    <tr style=\"text-align: right;\">\n",
       "      <th></th>\n",
       "      <th>inventory_id</th>\n",
       "      <th>stock_replenishment</th>\n",
       "      <th>type</th>\n",
       "    </tr>\n",
       "  </thead>\n",
       "  <tbody>\n",
       "    <tr>\n",
       "      <th>0</th>\n",
       "      <td>JGED44177</td>\n",
       "      <td>10.0</td>\n",
       "      <td>Pandeiro</td>\n",
       "    </tr>\n",
       "    <tr>\n",
       "      <th>1</th>\n",
       "      <td>GLMK21133</td>\n",
       "      <td>5.0</td>\n",
       "      <td>Pandeiro</td>\n",
       "    </tr>\n",
       "    <tr>\n",
       "      <th>2</th>\n",
       "      <td>FXMN50419</td>\n",
       "      <td>70.0</td>\n",
       "      <td>Cabo</td>\n",
       "    </tr>\n",
       "    <tr>\n",
       "      <th>3</th>\n",
       "      <td>KRJP31426</td>\n",
       "      <td>4.0</td>\n",
       "      <td>Suporte Sopro</td>\n",
       "    </tr>\n",
       "    <tr>\n",
       "      <th>4</th>\n",
       "      <td>HFNJ52229</td>\n",
       "      <td>372.0</td>\n",
       "      <td>Cabo</td>\n",
       "    </tr>\n",
       "    <tr>\n",
       "      <th>...</th>\n",
       "      <td>...</td>\n",
       "      <td>...</td>\n",
       "      <td>...</td>\n",
       "    </tr>\n",
       "    <tr>\n",
       "      <th>61</th>\n",
       "      <td>CIKE94068</td>\n",
       "      <td>5.0</td>\n",
       "      <td>Cabo rolo</td>\n",
       "    </tr>\n",
       "    <tr>\n",
       "      <th>62</th>\n",
       "      <td>RLJX42857</td>\n",
       "      <td>113.0</td>\n",
       "      <td>Pandeiro</td>\n",
       "    </tr>\n",
       "    <tr>\n",
       "      <th>63</th>\n",
       "      <td>GPGU38258</td>\n",
       "      <td>3.0</td>\n",
       "      <td>Encordoamento</td>\n",
       "    </tr>\n",
       "    <tr>\n",
       "      <th>64</th>\n",
       "      <td>DZVJ05686</td>\n",
       "      <td>20.0</td>\n",
       "      <td>Ukulele</td>\n",
       "    </tr>\n",
       "    <tr>\n",
       "      <th>65</th>\n",
       "      <td>MAEG54107</td>\n",
       "      <td>65.0</td>\n",
       "      <td>Cabo</td>\n",
       "    </tr>\n",
       "  </tbody>\n",
       "</table>\n",
       "<p>66 rows × 3 columns</p>\n",
       "</div>"
      ],
      "text/plain": [
       "   inventory_id  stock_replenishment           type\n",
       "0     JGED44177                 10.0       Pandeiro\n",
       "1     GLMK21133                  5.0       Pandeiro\n",
       "2     FXMN50419                 70.0           Cabo\n",
       "3     KRJP31426                  4.0  Suporte Sopro\n",
       "4     HFNJ52229                372.0           Cabo\n",
       "..          ...                  ...            ...\n",
       "61    CIKE94068                  5.0      Cabo rolo\n",
       "62    RLJX42857                113.0       Pandeiro\n",
       "63    GPGU38258                  3.0  Encordoamento\n",
       "64    DZVJ05686                 20.0        Ukulele\n",
       "65    MAEG54107                 65.0           Cabo\n",
       "\n",
       "[66 rows x 3 columns]"
      ]
     },
     "execution_count": 141,
     "metadata": {},
     "output_type": "execute_result"
    }
   ],
   "source": [
    "df_send_types"
   ]
  },
  {
   "cell_type": "code",
   "execution_count": 142,
   "metadata": {},
   "outputs": [
    {
     "name": "stdout",
     "output_type": "stream",
     "text": [
      "Grupo 1:\n",
      "   inventory_id  stock_replenishment      type\n",
      "0     JGED44177                 10.0  Pandeiro\n",
      "1     GLMK21133                  5.0  Pandeiro\n",
      "5     LKXA87678                  8.0  Pandeiro\n",
      "9     CRMK90073                 38.0  Pandeiro\n",
      "23    MAEG89052                 21.0  Pandeiro\n",
      "43    WOJB37093                 18.0  Pandeiro\n",
      "54    RKDM61361                 23.0  Pandeiro\n",
      "55    RXXA58942                 94.0  Pandeiro\n",
      "56    PPWL59058                114.0  Pandeiro\n",
      "58    QOVS42512                135.0  Pandeiro\n",
      "62    RLJX42857                113.0  Pandeiro\n",
      "\n",
      "Grupo 2:\n",
      "   inventory_id  stock_replenishment  type\n",
      "2     FXMN50419                 70.0  Cabo\n",
      "4     HFNJ52229                372.0  Cabo\n",
      "8     TDFV51283                  6.0  Cabo\n",
      "19    HVCS52763                210.0  Cabo\n",
      "20    RBUB53192                165.0  Cabo\n",
      "22    JFGN34621                 99.0  Cabo\n",
      "27    QHVP51310                 40.0  Cabo\n",
      "29    YWET52700                155.0  Cabo\n",
      "45    ELUM57266                  3.0  Cabo\n",
      "48    DGLC52390                509.0  Cabo\n",
      "65    MAEG54107                 65.0  Cabo\n",
      "\n",
      "Grupo 3:\n",
      "   inventory_id  stock_replenishment           type\n",
      "3     KRJP31426                  4.0  Suporte Sopro\n",
      "14    CJBY66878                  3.0  Suporte Sopro\n",
      "49    SJIT31691                  5.0  Suporte Sopro\n",
      "\n",
      "Grupo 4:\n",
      "   inventory_id  stock_replenishment     type\n",
      "6     PSMV02965                 35.0  Correia\n",
      "7     HSDO10298                 29.0  Correia\n",
      "30    ITQQ97036                103.0  Correia\n",
      "31    WEPI04061                 30.0  Correia\n",
      "32    ZJCO04233                 19.0  Correia\n",
      "33    NHQO05910                 21.0  Correia\n",
      "34    PZZB07005                 24.0  Correia\n",
      "35    AJZG23550                  5.0  Correia\n",
      "36    MSPZ76749                  2.0  Correia\n",
      "37    RVHF10897                  5.0  Correia\n",
      "38    VUJI10625                  8.0  Correia\n",
      "39    SMGF52530                  4.0  Correia\n",
      "53    LXQV54406                  4.0  Correia\n",
      "\n",
      "Grupo 5:\n",
      "   inventory_id  stock_replenishment           type\n",
      "10    IPQB89761                 87.0  Encordoamento\n",
      "24    TPDH38567                 18.0  Encordoamento\n",
      "26    XGNL04251                  4.0  Encordoamento\n",
      "40    VFZN11384                 17.0  Encordoamento\n",
      "41    CDBO11155                 18.0  Encordoamento\n",
      "46    YJSN05311                  2.0  Encordoamento\n",
      "63    GPGU38258                  3.0  Encordoamento\n",
      "\n",
      "Grupo 6:\n",
      "   inventory_id  stock_replenishment       type\n",
      "11    TXWS20511                 25.0  Percussão\n",
      "12    STLG62905                  9.0  Percussão\n",
      "17    CMXV62869                  7.0  Percussão\n",
      "\n",
      "Grupo 7:\n",
      "   inventory_id  stock_replenishment      type\n",
      "13    WOXA67988                 42.0  Escaleta\n",
      "\n",
      "Grupo 8:\n",
      "   inventory_id  stock_replenishment     type\n",
      "15    JJMG49643                  9.0  Ukulele\n",
      "16    DJDL49028                  4.0  Ukulele\n",
      "18    FFIA05428                 29.0  Ukulele\n",
      "47    TPGO05400                 39.0  Ukulele\n",
      "60    TALW87873                 94.0  Ukulele\n",
      "64    DZVJ05686                 20.0  Ukulele\n",
      "\n",
      "Grupo 9:\n",
      "   inventory_id  stock_replenishment       type\n",
      "21    MNSV53924                 12.0  Cabo rolo\n",
      "28    OXVU12317                 54.0  Cabo rolo\n",
      "61    CIKE94068                  5.0  Cabo rolo\n",
      "\n",
      "Grupo 10:\n",
      "   inventory_id  stock_replenishment     type\n",
      "25    DSGP06979                 15.0  Baqueta\n",
      "42    HSDO37848                 20.0  Baqueta\n",
      "57    XQUC46318                  5.0  Baqueta\n",
      "\n",
      "Grupo 11:\n",
      "   inventory_id  stock_replenishment     type\n",
      "44    TAPQ85749                  4.0  Palheta\n",
      "50    ZUKG50028                 32.0  Palheta\n",
      "51    ICRX50305                 11.0  Palheta\n",
      "52    EXBI53687                  3.0  Palheta\n",
      "\n",
      "Grupo 12:\n",
      "   inventory_id  stock_replenishment           type\n",
      "59    WYFB54549                  9.0  Suporte Corda\n",
      "\n"
     ]
    }
   ],
   "source": [
    "# Identificar todos os tipos únicos\n",
    "unique_types = df_send_types[\"type\"].unique()\n",
    "\n",
    "# Criar grupos onde cada grupo contém todas as instâncias associadas a um tipo\n",
    "result_dfs = []\n",
    "\n",
    "for unique_type in unique_types:\n",
    "    type_group = df_send_types[df_send_types[\"type\"] == unique_type]\n",
    "    result_dfs.append(type_group)\n",
    "\n",
    "# Exibir os DataFrames resultantes\n",
    "for i, result_df in enumerate(result_dfs):\n",
    "    print(f\"Grupo {i + 1}:\\n{result_df}\\n\")\n",
    "#     result_df"
   ]
  },
  {
   "cell_type": "code",
   "execution_count": 143,
   "metadata": {},
   "outputs": [
    {
     "name": "stdout",
     "output_type": "stream",
     "text": [
      "DataFrame vazio encontrado após extrair a primeira linha:\n",
      "   inventory_id  stock_replenishment      type\n",
      "13    WOXA67988                 42.0  Escaleta\n",
      "DataFrame vazio encontrado após extrair a primeira linha:\n",
      "   inventory_id  stock_replenishment           type\n",
      "59    WYFB54549                  9.0  Suporte Corda\n",
      "DataFrame vazio encontrado após extrair a primeira linha:\n",
      "   inventory_id  stock_replenishment           type\n",
      "49    SJIT31691                  5.0  Suporte Sopro\n",
      "DataFrame vazio encontrado após extrair a primeira linha:\n",
      "   inventory_id  stock_replenishment       type\n",
      "17    CMXV62869                  7.0  Percussão\n",
      "DataFrame vazio encontrado após extrair a primeira linha:\n",
      "   inventory_id  stock_replenishment       type\n",
      "61    CIKE94068                  5.0  Cabo rolo\n",
      "DataFrame vazio encontrado após extrair a primeira linha:\n",
      "   inventory_id  stock_replenishment     type\n",
      "57    XQUC46318                  5.0  Baqueta\n",
      "DataFrame vazio encontrado após extrair a primeira linha:\n",
      "   inventory_id  stock_replenishment     type\n",
      "52    EXBI53687                  3.0  Palheta\n",
      "DataFrame vazio encontrado após extrair a primeira linha:\n",
      "   inventory_id  stock_replenishment     type\n",
      "64    DZVJ05686                 20.0  Ukulele\n",
      "DataFrame vazio encontrado após extrair a primeira linha:\n",
      "   inventory_id  stock_replenishment           type\n",
      "63    GPGU38258                  3.0  Encordoamento\n",
      "DataFrame vazio encontrado após extrair a primeira linha:\n",
      "   inventory_id  stock_replenishment      type\n",
      "62    RLJX42857                113.0  Pandeiro\n",
      "DataFrame vazio encontrado após extrair a primeira linha:\n",
      "   inventory_id  stock_replenishment  type\n",
      "65    MAEG54107                 65.0  Cabo\n",
      "DataFrame vazio encontrado após extrair a primeira linha:\n",
      "   inventory_id  stock_replenishment     type\n",
      "53    LXQV54406                  4.0  Correia\n",
      "Novo DataFrame do Agrupamento 1:\n",
      "    inventory_id        ml_code           seller_sku  \\\n",
      "0     JGED44177  MLB1618733551       FULLTIMBRA8630   \n",
      "1     FXMN50419   MLB950296037      FULLLWNINJA25FT   \n",
      "2     KRJP31426  MLB1418014629  FULLHERCULESDS530BB   \n",
      "3     PSMV02965  MLB1991139411       FULLBASSOCLA04   \n",
      "4     IPQB89761  MLB1965265311         FULLSG5145TP   \n",
      "5     TXWS20511  MLB1403934211       FULLTIMBRA8252   \n",
      "6     WOXA67988  MLB1461223727     FULLDOLPHIN10716   \n",
      "7     JJMG49643  MLB1464478537      FULLKALANI15416   \n",
      "8     MNSV53924  MLB1629577482             FULLSC30   \n",
      "9     DSGP06979  MLB1992567302            FULLNI7AM   \n",
      "10    TAPQ85749  MLB2606294854   FULLVANDOREN2CR103   \n",
      "11    WYFB54549  MLB2128901371         FULLC4SMJ19A   \n",
      "\n",
      "                                                title  stock_replenishment  \\\n",
      "0   Pandeiro Profissional Timbra De 12 Pol. Em Fór...                 10.0   \n",
      "1   Cabo Santo Angelo Ninja Lw Series Xlr X Xlr - ...                 70.0   \n",
      "2   Suporte Dobravel Para Saxofone Alto - Tenor He...                  4.0   \n",
      "3   Correia Guitarra Violão Baixo Basso Cla 04 Cam...                 35.0   \n",
      "4   Kit 3 Encordoamentos 0.09 Para Guitarra  Aço E...                 87.0   \n",
      "5   Tan-tan Reto Timbra 12 Pol X 50 Cm De Alumínio...                 25.0   \n",
      "6   Escaleta Profissional 37 Teclas Com Case Preta...                 42.0   \n",
      "7   Ukulele Tenor 26 Tribes Natural Sapele Kal 220...                  9.0   \n",
      "8   Cabo Em Rolo De Microfone Santo Angelo 0,30mm ...                 12.0   \n",
      "9   1 Par Baquetas De Bateria Liverpool Nirvana 5a...                 15.0   \n",
      "10  2 Palheta Clarinete Vandoren Tradicional 1 1,5...                  4.0   \n",
      "11  Suporte Para Violão Guitarra Baixo Parede Auto...                  9.0   \n",
      "\n",
      "      tiny_id       tiny_sku  qtd_item  qtd_to_send           type  \n",
      "0   741808286  7897626803053         1           10       Pandeiro  \n",
      "1   730206769  7899028808803         1           70           Cabo  \n",
      "2   558251174  7897626853119         1            4  Suporte Sopro  \n",
      "3   729129072  7898942136085         1           35        Correia  \n",
      "4   695806136  7899574331794         1           87  Encordoamento  \n",
      "5   579932492  7897626882522         1           25      Percussão  \n",
      "6   604583080  7899574318290         1           42       Escaleta  \n",
      "7   643372554  7899574325892         1            9        Ukulele  \n",
      "8   660367769  7899028803778         1           12      Cabo rolo  \n",
      "9   747848159  7897937421007         1           15        Baqueta  \n",
      "10  749528930  7897626822030         2            8        Palheta  \n",
      "11  737198861  7891088100019         1            9  Suporte Corda  \n",
      "Novo DataFrame do Agrupamento 2:\n",
      "    inventory_id        ml_code                       seller_sku  \\\n",
      "0     GLMK21133  MLB1403147752                   FULLTIMBRA8631   \n",
      "1     HFNJ52229  MLB1629329134                FULLP10LNINJA15FT   \n",
      "2     CJBY66878  MLB1461518341               FULLHERCULESDS460B   \n",
      "3     HSDO10298  MLB2004848109                  FULLBASSOVTSL60   \n",
      "4     TPDH38567  MLB1435969309                   FULLELIXIR5338   \n",
      "5     STLG62905  MLB1457193551                   FULLTIMBRA8254   \n",
      "6     DJDL49028  MLB1464498239                  FULLKALANI15439   \n",
      "7     OXVU12317  MLB1565008518              FULLDATALINKMICECOC   \n",
      "8     HSDO37848  MLB2075516288  FULLLIVERPOOL2NI5AM2NI5BM2NI7AM   \n",
      "9     HSDO37848  MLB2075516288  FULLLIVERPOOL2NI5AM2NI5BM2NI7AM   \n",
      "10    HSDO37848  MLB2075516288  FULLLIVERPOOL2NI5AM2NI5BM2NI7AM   \n",
      "11    ZUKG50028  MLB2770292345               FULLVANDOREN2SR212   \n",
      "\n",
      "                                                title  stock_replenishment  \\\n",
      "0   Pandeiro Profissional 12 Pol. Fórmica Pele Pri...                  5.0   \n",
      "1   Cabo P10 X P10l Santo Angelo Ninja L 15ft - 4.57m                372.0   \n",
      "2   Suporte Profissional Travlite Para Flauta  Ds4...                  3.0   \n",
      "3   Correia Guitarra Violão Baixo Basso Alça Couro...                 29.0   \n",
      "4   Encordoamento .011 Phosphor Bronze Nanoweb Par...                 18.0   \n",
      "5   Tan-tan Cônico Timbra 12 Pol. X 50 Cm Alumínio...                  9.0   \n",
      "6   Ukulele Concerto 24 Maori Koa Kal 420 Ck C/ Eq...                  4.0   \n",
      "7   Cabo Microfone Balanceado Estereo Dmx Rolo Com...                 54.0   \n",
      "8   Kit 6 Pares De Baquetas D Bateria Liverpool Ni...                 20.0   \n",
      "9   Kit 6 Pares De Baquetas D Bateria Liverpool Ni...                 20.0   \n",
      "10  Kit 6 Pares De Baquetas D Bateria Liverpool Ni...                 20.0   \n",
      "11  2 Palheta Sax Alto Vandoren Tradicional 1 1,5 ...                 32.0   \n",
      "\n",
      "      tiny_id       tiny_sku  qtd_item  qtd_to_send           type  \n",
      "0   741808113  7897626886315         1            5       Pandeiro  \n",
      "1   598806000  7899028824414         1          372           Cabo  \n",
      "2   747854517  7897626879829         1            3  Suporte Sopro  \n",
      "3   729132044  7898529535850         1           29        Correia  \n",
      "4   749761697  7897626853386         1           18  Encordoamento  \n",
      "5   579922816  7897626882546         1            9      Percussão  \n",
      "6   604594809  7899574326653         1            4        Ukulele  \n",
      "7   754085190  7898571083767         1           54      Cabo rolo  \n",
      "8   698412654  7897937421014         2           40        Baqueta  \n",
      "9   735947207  7897937421021         2           40        Baqueta  \n",
      "10  747848159  7897937421007         2           40        Baqueta  \n",
      "11  748837541  7897626822115         2           64        Palheta  \n",
      "Novo DataFrame do Agrupamento 3:\n",
      "    inventory_id        ml_code            seller_sku  \\\n",
      "0     LKXA87678  MLB1662872906          FULLIZZO6481   \n",
      "1     TDFV51283   MLB950297972          LWNINJA15FT1   \n",
      "2     SJIT31691  MLB1416824733    FULLHERCULESDS602B   \n",
      "3     ITQQ97036  MLB2001015502        FULLBASSOCLA14   \n",
      "4     XGNL04251  MLB1992541482            FULLSG6686   \n",
      "5     CMXV62869  MLB1490245796        FULLTIMBRA8252   \n",
      "6     FFIA05428  MLB1556962508  FULLTAGIMA21KCOMCAPA   \n",
      "7     FFIA05428  MLB1556962508  FULLTAGIMA21KCOMCAPA   \n",
      "8     CIKE94068  MLB1399101853                  SC30   \n",
      "9     XQUC46318  MLB3337214843   FULLLIVERPOOL6NI7AM   \n",
      "10    ICRX50305  MLB2770292345   FULLVANDOREN2SR2125   \n",
      "\n",
      "                                                title  stock_replenishment  \\\n",
      "0   Pandeiro Original 10 Pol Abs Vermelho C/pele P...                  8.0   \n",
      "1   Cabo Santo Angelo Ninja Lw Series Xlr X Xlr - ...                  6.0   \n",
      "2   Estaca Deluxe Para Flauta E Clarinete Hercules...                  5.0   \n",
      "3   Correia Guitarra Violão Baixo Alça Basso Cla 1...                103.0   \n",
      "4   Encordoamento 0.09 0.10 0.11 0.12 Violão Aço 8...                  4.0   \n",
      "5   Tan-tan Reto Timbra 12 Pol X 50 Cm De Alumínio...                  7.0   \n",
      "6   Ukulelê Soprano Profissional Tagima 21k Mahoga...                 29.0   \n",
      "7   Ukulelê Soprano Profissional Tagima 21k Mahoga...                 29.0   \n",
      "8   Cabo Em Rolo De Microfone Santo Angelo 0,30mm ...                  5.0   \n",
      "9   Kit 6 Pares De Baquetas D Bateria Liverpool Ni...                  5.0   \n",
      "10  2 Palheta Sax Alto Vandoren Tradicional 1 1,5 ...                 11.0   \n",
      "\n",
      "      tiny_id       tiny_sku  qtd_item  qtd_to_send           type  \n",
      "0   741799804  7897626864818         1            8       Pandeiro  \n",
      "1   565409748  7899028808780         1            6           Cabo  \n",
      "2   558683624  7897626884168         1            5  Suporte Sopro  \n",
      "3   729129880  7898529535461         1          103        Correia  \n",
      "4   723638523  7897626866867         1            4  Encordoamento  \n",
      "5   579932492  7897626882522         1            7      Percussão  \n",
      "6   510044277  7898563976213         1           29        Ukulele  \n",
      "7   759523162            A90         1           29        Ukulele  \n",
      "8   660367769  7899028803778         1            5      Cabo rolo  \n",
      "9   747848159  7897937421007         6           30        Baqueta  \n",
      "10  748837756  7897626822122         2           22        Palheta  \n",
      "Novo DataFrame do Agrupamento 4:\n",
      "   inventory_id        ml_code          seller_sku  \\\n",
      "0    CRMK90073  MLB1662862664        FULLIZZO6489   \n",
      "1    HVCS52763   MLB950214971     FULLLWNINJA10FT   \n",
      "2    WEPI04061  MLB2000969658   FULLBASSOCLA13KIT   \n",
      "3    WEPI04061  MLB2000969658   FULLBASSOCLA13KIT   \n",
      "4    WEPI04061  MLB2000969658   FULLBASSOCLA13KIT   \n",
      "5    WEPI04061  MLB2000969658   FULLBASSOCLA13KIT   \n",
      "6    VFZN11384  MLB2022465762         FULLKP02006   \n",
      "7    TPGO05400  MLB1557018312       FULLTAGIMA21K   \n",
      "8    EXBI53687  MLB2774332756  FULLVANDOREN1SR272   \n",
      "\n",
      "                                               title  stock_replenishment  \\\n",
      "0  Pandeiro Original 10 Pol Abs Azul C/pele Metal...                 38.0   \n",
      "1  Cabo Santo Angelo Ninja Lw Series Xlr X Xlr - ...                210.0   \n",
      "2  Correia Guitarra Violão Baixo Alça Basso Cla 1...                 30.0   \n",
      "3  Correia Guitarra Violão Baixo Alça Basso Cla 1...                 30.0   \n",
      "4  Correia Guitarra Violão Baixo Alça Basso Cla 1...                 30.0   \n",
      "5  Correia Guitarra Violão Baixo Alça Basso Cla 1...                 30.0   \n",
      "6  Cordas 10 11 12 Violao Aco Earthwood 80/20 Bro...                 17.0   \n",
      "7   Ukulelê Soprano Profissional Tagima 21k Mahogany                 39.0   \n",
      "8  1 Palheta Sax Tenor Vandoren Java Original 1 1...                  3.0   \n",
      "\n",
      "     tiny_id       tiny_sku  qtd_item  qtd_to_send           type  \n",
      "0  753647204  7897626864894         1           38       Pandeiro  \n",
      "1  565287467  7899028808773         1          210           Cabo  \n",
      "2  565663877       PPalheta         1           30        Correia  \n",
      "3  565665071        Palheta         6          180        Correia  \n",
      "4  729129794  7898942136160         1           30        Correia  \n",
      "5  746248920        RH-01BK         2           60        Correia  \n",
      "6  693267131   749699120063         1           17  Encordoamento  \n",
      "7  510044277  7898563976213         1           39        Ukulele  \n",
      "8  748836965  7897626822344         1            3        Palheta  \n",
      "Novo DataFrame do Agrupamento 5:\n",
      "   inventory_id        ml_code       seller_sku  \\\n",
      "0    MAEG89052  MLB1662794479     FULLIZZO6469   \n",
      "1    RBUB53192   MLB950295955  FULLLWNINJA20FT   \n",
      "2    ZJCO04233  MLB2000966185   FULLBASSOCLA09   \n",
      "3    CDBO11155  MLB2022465762      FULLKP02004   \n",
      "4    TALW87873  MLB2171831134      FULLC423KNS   \n",
      "\n",
      "                                               title  stock_replenishment  \\\n",
      "0  Pandeiro Original 10 Pol Abs Preto Com Pele Le...                 21.0   \n",
      "1  Cabo Santo Angelo Ninja Lw Series Xlr X Xlr - ...                165.0   \n",
      "2  Correia Guitarra Violão Baixo Alça Basso Cla09...                 19.0   \n",
      "3  Cordas 10 11 12 Violao Aco Earthwood 80/20 Bro...                 18.0   \n",
      "4  Ukulele Concert Acústico Tagima Natural Mahoga...                 94.0   \n",
      "\n",
      "     tiny_id       tiny_sku  qtd_item  qtd_to_send           type  \n",
      "0  749761863  7897626864696         1           21       Pandeiro  \n",
      "1  566317152  7899028808797         1          165           Cabo  \n",
      "2  729129329  7898942136139         1           19        Correia  \n",
      "3  693267123   749699120049         1           18  Encordoamento  \n",
      "4  552156281  7898563976220         1           94        Ukulele  \n",
      "Novo DataFrame do Agrupamento 6:\n",
      "   inventory_id        ml_code            seller_sku  \\\n",
      "0    WOJB37093  MLB1971185030        FULLBRANCO3440   \n",
      "1    JFGN34621   MLB924922735     FULLP10NINJA10FTC   \n",
      "2    NHQO05910  MLB2003138943         FULLBASSOSF86   \n",
      "3    YJSN05311  MLB2660440797              C4V11027   \n",
      "4    DZVJ05686  MLB1556975175  FULLTAGIMA21KCOMCAPA   \n",
      "5    DZVJ05686  MLB1556975175  FULLTAGIMA21KCOMCAPA   \n",
      "\n",
      "                                               title  stock_replenishment  \\\n",
      "0  Pandeiro Izzo 10 Pol Abs Branco C/pele Preta 3440                 18.0   \n",
      "1   Cabo Santo Angelo Ninja P10 X P10 - 10ft / 3,05m                 99.0   \n",
      "2  Correia Guitarra Violão Baixo Basso Sf 86 Alça...                 21.0   \n",
      "3  Encordoamento Violão Aço Bronze Nanoweb Elixir...                  2.0   \n",
      "4  Ukulelê Soprano Profissional Tagima 21k Mahoga...                 20.0   \n",
      "5  Ukulelê Soprano Profissional Tagima 21k Mahoga...                 20.0   \n",
      "\n",
      "     tiny_id       tiny_sku  qtd_item  qtd_to_send           type  \n",
      "0  741799597  7897626802353         1           18       Pandeiro  \n",
      "1  509517168  7899028808537         1           99           Cabo  \n",
      "2  729131688  7898942138652         1           21        Correia  \n",
      "3  632364112  7897626832114         1            2  Encordoamento  \n",
      "4  510044277  7898563976213         1           20        Ukulele  \n",
      "5  759523162            A90         1           20        Ukulele  \n",
      "Novo DataFrame do Agrupamento 7:\n",
      "   inventory_id        ml_code             seller_sku  \\\n",
      "0    RKDM61361  MLB2986538160  FULLLIVERPOOLPML001VD   \n",
      "1    QHVP51310  MLB1627481446       FULLP10NINJA10FT   \n",
      "2    PZZB07005  MLB2004858209        FULLBASSOVTSL59   \n",
      "3    GPGU38258  MLB1440247563         FULLELIXIR3215   \n",
      "\n",
      "                                               title  stock_replenishment  \\\n",
      "0  Pandeiro Profissional Meia Lua Diversas Cores ...                 23.0   \n",
      "1     Cabo P10 X P10 Santo Angelo Ninja 10ft - 3.05m                 40.0   \n",
      "2  Correia Guitarra Violão Baixo Basso Couro Croc...                 24.0   \n",
      "3  Encordoamento Elixir .009 Custom Light Nanoweb...                  3.0   \n",
      "\n",
      "     tiny_id       tiny_sku  qtd_item  qtd_to_send           type  \n",
      "0  698412791  7897937428013         1           23       Pandeiro  \n",
      "1  509517168  7899028808537         1           40           Cabo  \n",
      "2  729127547  7898529535843         1           24        Correia  \n",
      "3  632364098  7897626832152         1            3  Encordoamento  \n",
      "Novo DataFrame do Agrupamento 8:\n",
      "   inventory_id        ml_code            seller_sku  \\\n",
      "0    RXXA58942  MLB2986538160  FULLLIVERPOOLPML001A   \n",
      "1    YWET52700  MLB1629366886     FULLP10LNINJA30FT   \n",
      "2    AJZG23550  MLB2004843162       FULLBASSOVTSL87   \n",
      "\n",
      "                                               title  stock_replenishment  \\\n",
      "0  Pandeiro Profissional Meia Lua Diversas Cores ...                 94.0   \n",
      "1  Cabo P10 X P10l Santo Angelo Ninja L 30ft - 9.10m                155.0   \n",
      "2  Correia Guitarra Violão Baixo Basso Couro Flor...                  5.0   \n",
      "\n",
      "     tiny_id       tiny_sku  qtd_item  qtd_to_send      type  \n",
      "0  698412706  7897937427696         1           94  Pandeiro  \n",
      "1  724202643  7899028824551         1          155      Cabo  \n",
      "2  729132100  7898529537328         1            5   Correia  \n",
      "Novo DataFrame do Agrupamento 9:\n",
      "   inventory_id        ml_code            seller_sku  \\\n",
      "0    PPWL59058  MLB2986538160  FULLLIVERPOOLPML001V   \n",
      "1    ELUM57266  MLB2635409628   FULLERNIEBALLP06085   \n",
      "2    MSPZ76749  MLB2004757564    FULLBASSOVTSL82KIT   \n",
      "3    MSPZ76749  MLB2004757564    FULLBASSOVTSL82KIT   \n",
      "4    MSPZ76749  MLB2004757564    FULLBASSOVTSL82KIT   \n",
      "5    MSPZ76749  MLB2004757564    FULLBASSOVTSL82KIT   \n",
      "\n",
      "                                               title  stock_replenishment  \\\n",
      "0  Pandeiro Profissional Meia Lua Diversas Cores ...                114.0   \n",
      "1  Cabo P10xp10 Guitarra Trançado Amarelo Neon 5,...                  3.0   \n",
      "2  Correia Guitarra Violão Baixo Basso Couro Flor...                  2.0   \n",
      "3  Correia Guitarra Violão Baixo Basso Couro Flor...                  2.0   \n",
      "4  Correia Guitarra Violão Baixo Basso Couro Flor...                  2.0   \n",
      "5  Correia Guitarra Violão Baixo Basso Couro Flor...                  2.0   \n",
      "\n",
      "     tiny_id       tiny_sku  qtd_item  qtd_to_send      type  \n",
      "0  698412771  7897937427849         1          114  Pandeiro  \n",
      "1  697445295   749699100393         1            3      Cabo  \n",
      "2  565663877       PPalheta         1            2   Correia  \n",
      "3  565665071        Palheta         6           12   Correia  \n",
      "4  729132059  7898529537274         1            2   Correia  \n",
      "5  746248920        RH-01BK         2            4   Correia  \n",
      "Novo DataFrame do Agrupamento 10:\n",
      "   inventory_id        ml_code       seller_sku  \\\n",
      "0    QOVS42512  MLB3339539255     FULLIZZO6480   \n",
      "1    DGLC52390  MLB1629501336  FULLLWNINJA30FT   \n",
      "2    RVHF10897  MLB2006357721   FULLBASSOVTL01   \n",
      "\n",
      "                                               title  stock_replenishment  \\\n",
      "0  Pandeiro Original 10 Pol Abs Preto Com Pele Pr...                135.0   \n",
      "1  Cabo Xlr X Xlr Santo Angelo Ninja Lw Series 30...                509.0   \n",
      "2  Correia Para Guitarra Violão Baixo Basso Alça ...                  5.0   \n",
      "\n",
      "     tiny_id       tiny_sku  qtd_item  qtd_to_send      type  \n",
      "0  741799625  7897626864801         1          135  Pandeiro  \n",
      "1  730206805  7899028808810         1          509      Cabo  \n",
      "2  729131916  7898529531128         1            5   Correia  \n",
      "Novo DataFrame do Agrupamento 11:\n",
      "   inventory_id        ml_code            seller_sku  \\\n",
      "0    RLJX42857  MLB3696114466  FULLLIVERPOOLPMLTENC   \n",
      "1    MAEG54107   MLB950338822       FULLHGNINJA25FT   \n",
      "2    VUJI10625  MLB2006357183    FULLBASSOECOBASS01   \n",
      "\n",
      "                                               title  stock_replenishment  \\\n",
      "0  Pandeiro Meia Lua Pandeirola Liverpool Preto T...                113.0   \n",
      "1  Cabo Santo Angelo Ninja Hg Series P10 X Xlr - ...                 65.0   \n",
      "2  Correia Para Contra Baixo Basso 9 Cm Eco Couro...                  8.0   \n",
      "\n",
      "     tiny_id       tiny_sku  qtd_item  qtd_to_send      type  \n",
      "0  698412887  7897937416799         1          113  Pandeiro  \n",
      "1  730206884  7899028808742         1           65      Cabo  \n",
      "2  729130725  7898529535713         1            8   Correia  \n",
      "Novo DataFrame do Agrupamento 12:\n",
      "   inventory_id        ml_code      seller_sku  \\\n",
      "0    SMGF52530  MLB2006341063  FULLBASSOECO03   \n",
      "\n",
      "                                               title  stock_replenishment  \\\n",
      "0  Correia Guitarra Violão Baixo Basso Eco Couro ...                  4.0   \n",
      "\n",
      "     tiny_id       tiny_sku  qtd_item  qtd_to_send     type  \n",
      "0  729130694  7898529535669         1            4  Correia  \n",
      "Novo DataFrame do Agrupamento 13:\n",
      "   inventory_id        ml_code           seller_sku  \\\n",
      "0    LXQV54406  MLB2777157690  FULLERNIEBALLP04052   \n",
      "\n",
      "                                               title  stock_replenishment  \\\n",
      "0  Correia P/ Violão Guitarra Polypro Marrom P040...                  4.0   \n",
      "\n",
      "     tiny_id      tiny_sku  qtd_item  qtd_to_send     type  \n",
      "0  745431564  749699140528         1            4  Correia  \n"
     ]
    }
   ],
   "source": [
    "# Lista para armazenar os DataFrames resultantes de cada agrupamento\n",
    "result_dfs_list = []\n",
    "\n",
    "while any(result_df.shape[0] > 0 for result_df in result_dfs):\n",
    "    first_rows_dfs = []\n",
    "    remaining_rows_dfs = []\n",
    "\n",
    "    for result_df in result_dfs:\n",
    "        if not result_df.empty:\n",
    "            # Pega a primeira linha do DataFrame\n",
    "            first_row_df = result_df.head(1)\n",
    "            first_rows_dfs.append(first_row_df)\n",
    "\n",
    "            # Pega as linhas restantes do DataFrame\n",
    "            remaining_rows_df = result_df.iloc[1:]\n",
    "            if not remaining_rows_df.empty:\n",
    "                remaining_rows_dfs.append(remaining_rows_df)\n",
    "            else:\n",
    "                print(\n",
    "                    f\"DataFrame vazio encontrado após extrair a primeira linha:\\n{result_df}\"\n",
    "                )\n",
    "\n",
    "    # Adiciona o DataFrame resultante de cada agrupamento à lista\n",
    "    result_dfs_list.append(pd.concat(first_rows_dfs, ignore_index=True))\n",
    "\n",
    "    # Atualiza a lista result_dfs com os DataFrames restantes\n",
    "    result_dfs = remaining_rows_dfs.copy()\n",
    "\n",
    "# cols = ['inventory_id', 'ml_code', 'seller_sku', 'title', 'tiny_id', 'tiny_sku', 'stock_replenishment', 'qtd_to_send', 'type']\n",
    "cols = [\n",
    "    \"inventory_id\",\n",
    "    \"ml_code\",\n",
    "    \"seller_sku\",\n",
    "    \"title\",\n",
    "    \"stock_replenishment\",\n",
    "    \"tiny_id\",\n",
    "    \"tiny_sku\",\n",
    "    \"qtd_item\",\n",
    "    \"qtd_to_send\",\n",
    "    \"type\",\n",
    "]\n",
    "\n",
    "# Exibir os DataFrames resultantes de cada agrupamento\n",
    "for i, result_df in enumerate(result_dfs_list):\n",
    "    result_df = pd.merge(result_df, df_tiny_fulfillment, on=\"inventory_id\", how=\"inner\")\n",
    "    result_df = result_df.drop([\"Tipo de produto\"], axis=1)\n",
    "    result_df = result_df.rename(\n",
    "        columns={\n",
    "            \"Quantidade do item\": \"qtd_item\",\n",
    "            \"SKU\": \"seller_sku\",\n",
    "            \"Título do anúncio\": \"title\",\n",
    "            \"ID Tiny\": \"tiny_id\",\n",
    "            \"SKU Tiny\": \"tiny_sku\",\n",
    "        }\n",
    "    )\n",
    "\n",
    "    result_df[\"qtd_to_send\"] = result_df[\"stock_replenishment\"] * result_df[\"qtd_item\"]\n",
    "    result_df[\"qtd_item\"] = result_df[\"qtd_item\"].astype(\"int64\")\n",
    "    result_df[\"qtd_to_send\"] = result_df[\"qtd_to_send\"].astype(\"int64\")\n",
    "\n",
    "    result_df = result_df[cols]\n",
    "    print(f\"Novo DataFrame do Agrupamento {i + 1}:\\n\", result_df)"
   ]
  },
  {
   "cell_type": "code",
   "execution_count": 144,
   "metadata": {},
   "outputs": [
    {
     "data": {
      "text/html": [
       "<div>\n",
       "<style scoped>\n",
       "    .dataframe tbody tr th:only-of-type {\n",
       "        vertical-align: middle;\n",
       "    }\n",
       "\n",
       "    .dataframe tbody tr th {\n",
       "        vertical-align: top;\n",
       "    }\n",
       "\n",
       "    .dataframe thead th {\n",
       "        text-align: right;\n",
       "    }\n",
       "</style>\n",
       "<table border=\"1\" class=\"dataframe\">\n",
       "  <thead>\n",
       "    <tr style=\"text-align: right;\">\n",
       "      <th></th>\n",
       "      <th>inventory_id</th>\n",
       "      <th>stock_replenishment</th>\n",
       "      <th>type</th>\n",
       "    </tr>\n",
       "  </thead>\n",
       "  <tbody>\n",
       "    <tr>\n",
       "      <th>0</th>\n",
       "      <td>JGED44177</td>\n",
       "      <td>10.0</td>\n",
       "      <td>Pandeiro</td>\n",
       "    </tr>\n",
       "    <tr>\n",
       "      <th>1</th>\n",
       "      <td>FXMN50419</td>\n",
       "      <td>70.0</td>\n",
       "      <td>Cabo</td>\n",
       "    </tr>\n",
       "    <tr>\n",
       "      <th>2</th>\n",
       "      <td>KRJP31426</td>\n",
       "      <td>4.0</td>\n",
       "      <td>Suporte Sopro</td>\n",
       "    </tr>\n",
       "    <tr>\n",
       "      <th>3</th>\n",
       "      <td>PSMV02965</td>\n",
       "      <td>35.0</td>\n",
       "      <td>Correia</td>\n",
       "    </tr>\n",
       "    <tr>\n",
       "      <th>4</th>\n",
       "      <td>IPQB89761</td>\n",
       "      <td>87.0</td>\n",
       "      <td>Encordoamento</td>\n",
       "    </tr>\n",
       "    <tr>\n",
       "      <th>5</th>\n",
       "      <td>TXWS20511</td>\n",
       "      <td>25.0</td>\n",
       "      <td>Percussão</td>\n",
       "    </tr>\n",
       "    <tr>\n",
       "      <th>6</th>\n",
       "      <td>WOXA67988</td>\n",
       "      <td>42.0</td>\n",
       "      <td>Escaleta</td>\n",
       "    </tr>\n",
       "    <tr>\n",
       "      <th>7</th>\n",
       "      <td>JJMG49643</td>\n",
       "      <td>9.0</td>\n",
       "      <td>Ukulele</td>\n",
       "    </tr>\n",
       "    <tr>\n",
       "      <th>8</th>\n",
       "      <td>MNSV53924</td>\n",
       "      <td>12.0</td>\n",
       "      <td>Cabo rolo</td>\n",
       "    </tr>\n",
       "    <tr>\n",
       "      <th>9</th>\n",
       "      <td>DSGP06979</td>\n",
       "      <td>15.0</td>\n",
       "      <td>Baqueta</td>\n",
       "    </tr>\n",
       "    <tr>\n",
       "      <th>10</th>\n",
       "      <td>TAPQ85749</td>\n",
       "      <td>4.0</td>\n",
       "      <td>Palheta</td>\n",
       "    </tr>\n",
       "    <tr>\n",
       "      <th>11</th>\n",
       "      <td>WYFB54549</td>\n",
       "      <td>9.0</td>\n",
       "      <td>Suporte Corda</td>\n",
       "    </tr>\n",
       "  </tbody>\n",
       "</table>\n",
       "</div>"
      ],
      "text/plain": [
       "   inventory_id  stock_replenishment           type\n",
       "0     JGED44177                 10.0       Pandeiro\n",
       "1     FXMN50419                 70.0           Cabo\n",
       "2     KRJP31426                  4.0  Suporte Sopro\n",
       "3     PSMV02965                 35.0        Correia\n",
       "4     IPQB89761                 87.0  Encordoamento\n",
       "5     TXWS20511                 25.0      Percussão\n",
       "6     WOXA67988                 42.0       Escaleta\n",
       "7     JJMG49643                  9.0        Ukulele\n",
       "8     MNSV53924                 12.0      Cabo rolo\n",
       "9     DSGP06979                 15.0        Baqueta\n",
       "10    TAPQ85749                  4.0        Palheta\n",
       "11    WYFB54549                  9.0  Suporte Corda"
      ]
     },
     "execution_count": 144,
     "metadata": {},
     "output_type": "execute_result"
    }
   ],
   "source": [
    "result_dfs_list[0]"
   ]
  },
  {
   "cell_type": "code",
   "execution_count": 145,
   "metadata": {},
   "outputs": [
    {
     "data": {
      "text/plain": [
       "[   inventory_id  stock_replenishment           type\n",
       " 0     JGED44177                 10.0       Pandeiro\n",
       " 1     FXMN50419                 70.0           Cabo\n",
       " 2     KRJP31426                  4.0  Suporte Sopro\n",
       " 3     PSMV02965                 35.0        Correia\n",
       " 4     IPQB89761                 87.0  Encordoamento\n",
       " 5     TXWS20511                 25.0      Percussão\n",
       " 6     WOXA67988                 42.0       Escaleta\n",
       " 7     JJMG49643                  9.0        Ukulele\n",
       " 8     MNSV53924                 12.0      Cabo rolo\n",
       " 9     DSGP06979                 15.0        Baqueta\n",
       " 10    TAPQ85749                  4.0        Palheta\n",
       " 11    WYFB54549                  9.0  Suporte Corda,\n",
       "   inventory_id  stock_replenishment           type\n",
       " 0    GLMK21133                  5.0       Pandeiro\n",
       " 1    HFNJ52229                372.0           Cabo\n",
       " 2    CJBY66878                  3.0  Suporte Sopro\n",
       " 3    HSDO10298                 29.0        Correia\n",
       " 4    TPDH38567                 18.0  Encordoamento\n",
       " 5    STLG62905                  9.0      Percussão\n",
       " 6    DJDL49028                  4.0        Ukulele\n",
       " 7    OXVU12317                 54.0      Cabo rolo\n",
       " 8    HSDO37848                 20.0        Baqueta\n",
       " 9    ZUKG50028                 32.0        Palheta,\n",
       "   inventory_id  stock_replenishment           type\n",
       " 0    LKXA87678                  8.0       Pandeiro\n",
       " 1    TDFV51283                  6.0           Cabo\n",
       " 2    SJIT31691                  5.0  Suporte Sopro\n",
       " 3    ITQQ97036                103.0        Correia\n",
       " 4    XGNL04251                  4.0  Encordoamento\n",
       " 5    CMXV62869                  7.0      Percussão\n",
       " 6    FFIA05428                 29.0        Ukulele\n",
       " 7    CIKE94068                  5.0      Cabo rolo\n",
       " 8    XQUC46318                  5.0        Baqueta\n",
       " 9    ICRX50305                 11.0        Palheta,\n",
       "   inventory_id  stock_replenishment           type\n",
       " 0    CRMK90073                 38.0       Pandeiro\n",
       " 1    HVCS52763                210.0           Cabo\n",
       " 2    WEPI04061                 30.0        Correia\n",
       " 3    VFZN11384                 17.0  Encordoamento\n",
       " 4    TPGO05400                 39.0        Ukulele\n",
       " 5    EXBI53687                  3.0        Palheta,\n",
       "   inventory_id  stock_replenishment           type\n",
       " 0    MAEG89052                 21.0       Pandeiro\n",
       " 1    RBUB53192                165.0           Cabo\n",
       " 2    ZJCO04233                 19.0        Correia\n",
       " 3    CDBO11155                 18.0  Encordoamento\n",
       " 4    TALW87873                 94.0        Ukulele,\n",
       "   inventory_id  stock_replenishment           type\n",
       " 0    WOJB37093                 18.0       Pandeiro\n",
       " 1    JFGN34621                 99.0           Cabo\n",
       " 2    NHQO05910                 21.0        Correia\n",
       " 3    YJSN05311                  2.0  Encordoamento\n",
       " 4    DZVJ05686                 20.0        Ukulele,\n",
       "   inventory_id  stock_replenishment           type\n",
       " 0    RKDM61361                 23.0       Pandeiro\n",
       " 1    QHVP51310                 40.0           Cabo\n",
       " 2    PZZB07005                 24.0        Correia\n",
       " 3    GPGU38258                  3.0  Encordoamento,\n",
       "   inventory_id  stock_replenishment      type\n",
       " 0    RXXA58942                 94.0  Pandeiro\n",
       " 1    YWET52700                155.0      Cabo\n",
       " 2    AJZG23550                  5.0   Correia,\n",
       "   inventory_id  stock_replenishment      type\n",
       " 0    PPWL59058                114.0  Pandeiro\n",
       " 1    ELUM57266                  3.0      Cabo\n",
       " 2    MSPZ76749                  2.0   Correia,\n",
       "   inventory_id  stock_replenishment      type\n",
       " 0    QOVS42512                135.0  Pandeiro\n",
       " 1    DGLC52390                509.0      Cabo\n",
       " 2    RVHF10897                  5.0   Correia,\n",
       "   inventory_id  stock_replenishment      type\n",
       " 0    RLJX42857                113.0  Pandeiro\n",
       " 1    MAEG54107                 65.0      Cabo\n",
       " 2    VUJI10625                  8.0   Correia,\n",
       "   inventory_id  stock_replenishment     type\n",
       " 0    SMGF52530                  4.0  Correia,\n",
       "   inventory_id  stock_replenishment     type\n",
       " 0    LXQV54406                  4.0  Correia]"
      ]
     },
     "execution_count": 145,
     "metadata": {},
     "output_type": "execute_result"
    }
   ],
   "source": [
    "result_dfs_list"
   ]
  },
  {
   "cell_type": "code",
   "execution_count": 146,
   "metadata": {},
   "outputs": [
    {
     "data": {
      "text/html": [
       "<div>\n",
       "<style scoped>\n",
       "    .dataframe tbody tr th:only-of-type {\n",
       "        vertical-align: middle;\n",
       "    }\n",
       "\n",
       "    .dataframe tbody tr th {\n",
       "        vertical-align: top;\n",
       "    }\n",
       "\n",
       "    .dataframe thead th {\n",
       "        text-align: right;\n",
       "    }\n",
       "</style>\n",
       "<table border=\"1\" class=\"dataframe\">\n",
       "  <thead>\n",
       "    <tr style=\"text-align: right;\">\n",
       "      <th></th>\n",
       "      <th>inventory_id</th>\n",
       "      <th>ml_code</th>\n",
       "      <th>seller_sku</th>\n",
       "      <th>title</th>\n",
       "      <th>stock_replenishment</th>\n",
       "      <th>tiny_id</th>\n",
       "      <th>tiny_sku</th>\n",
       "      <th>qtd_item</th>\n",
       "      <th>qtd_to_send</th>\n",
       "      <th>type</th>\n",
       "    </tr>\n",
       "  </thead>\n",
       "  <tbody>\n",
       "    <tr>\n",
       "      <th>0</th>\n",
       "      <td>LXQV54406</td>\n",
       "      <td>MLB2777157690</td>\n",
       "      <td>FULLERNIEBALLP04052</td>\n",
       "      <td>Correia P/ Violão Guitarra Polypro Marrom P040...</td>\n",
       "      <td>4.0</td>\n",
       "      <td>745431564</td>\n",
       "      <td>749699140528</td>\n",
       "      <td>1</td>\n",
       "      <td>4</td>\n",
       "      <td>Correia</td>\n",
       "    </tr>\n",
       "  </tbody>\n",
       "</table>\n",
       "</div>"
      ],
      "text/plain": [
       "  inventory_id        ml_code           seller_sku  \\\n",
       "0    LXQV54406  MLB2777157690  FULLERNIEBALLP04052   \n",
       "\n",
       "                                               title  stock_replenishment  \\\n",
       "0  Correia P/ Violão Guitarra Polypro Marrom P040...                  4.0   \n",
       "\n",
       "     tiny_id      tiny_sku  qtd_item  qtd_to_send     type  \n",
       "0  745431564  749699140528         1            4  Correia  "
      ]
     },
     "execution_count": 146,
     "metadata": {},
     "output_type": "execute_result"
    }
   ],
   "source": [
    "result_df"
   ]
  },
  {
   "cell_type": "markdown",
   "metadata": {},
   "source": [
    "### Contando estoque da WMS em Produtos sem estoque no período"
   ]
  },
  {
   "cell_type": "code",
   "execution_count": 147,
   "metadata": {},
   "outputs": [],
   "source": [
    "df_wms = get_wms_data(SMARTGO_TOKEN)"
   ]
  },
  {
   "cell_type": "code",
   "execution_count": 148,
   "metadata": {},
   "outputs": [
    {
     "data": {
      "text/html": [
       "<div>\n",
       "<style scoped>\n",
       "    .dataframe tbody tr th:only-of-type {\n",
       "        vertical-align: middle;\n",
       "    }\n",
       "\n",
       "    .dataframe tbody tr th {\n",
       "        vertical-align: top;\n",
       "    }\n",
       "\n",
       "    .dataframe thead th {\n",
       "        text-align: right;\n",
       "    }\n",
       "</style>\n",
       "<table border=\"1\" class=\"dataframe\">\n",
       "  <thead>\n",
       "    <tr style=\"text-align: right;\">\n",
       "      <th></th>\n",
       "      <th>id_depositante</th>\n",
       "      <th>depositante</th>\n",
       "      <th>idProduto</th>\n",
       "      <th>produto_nome</th>\n",
       "      <th>produtoCodigoInterno</th>\n",
       "      <th>produtoCodigoExterno</th>\n",
       "      <th>quantidade_disponivel</th>\n",
       "    </tr>\n",
       "  </thead>\n",
       "  <tbody>\n",
       "    <tr>\n",
       "      <th>0</th>\n",
       "      <td>4804</td>\n",
       "      <td>001 - Cristiano Padilha Instrumentos Musicais ...</td>\n",
       "      <td>1056192</td>\n",
       "      <td>ALAVANCA DE GUITARRA FLOYD C/ROSCA CROMO (6 UN...</td>\n",
       "      <td>7899548645179</td>\n",
       "      <td>103CR</td>\n",
       "      <td>5</td>\n",
       "    </tr>\n",
       "    <tr>\n",
       "      <th>1</th>\n",
       "      <td>4804</td>\n",
       "      <td>001 - Cristiano Padilha Instrumentos Musicais ...</td>\n",
       "      <td>1056203</td>\n",
       "      <td>BAG PHX PERSONALIZADO P/ CONJ. PRATO E BAQUETA...</td>\n",
       "      <td>7899548630373</td>\n",
       "      <td>PAA130</td>\n",
       "      <td>77</td>\n",
       "    </tr>\n",
       "    <tr>\n",
       "      <th>2</th>\n",
       "      <td>4804</td>\n",
       "      <td>001 - Cristiano Padilha Instrumentos Musicais ...</td>\n",
       "      <td>1056204</td>\n",
       "      <td>Bateria Infantil Profissional Para Criança Tur...</td>\n",
       "      <td>7898475680628</td>\n",
       "      <td>TURBINHO-JZ</td>\n",
       "      <td>1</td>\n",
       "    </tr>\n",
       "    <tr>\n",
       "      <th>3</th>\n",
       "      <td>4804</td>\n",
       "      <td>001 - Cristiano Padilha Instrumentos Musicais ...</td>\n",
       "      <td>1056205</td>\n",
       "      <td>BATERIA PHX DISNEY INFANTIL PRINCESAS MOSAICO ...</td>\n",
       "      <td>7899548641836</td>\n",
       "      <td>BID-P1</td>\n",
       "      <td>2</td>\n",
       "    </tr>\n",
       "    <tr>\n",
       "      <th>4</th>\n",
       "      <td>4804</td>\n",
       "      <td>001 - Cristiano Padilha Instrumentos Musicais ...</td>\n",
       "      <td>1056206</td>\n",
       "      <td>Bateria PHX Infantil 16\" Preta DS516C BK</td>\n",
       "      <td>7899548605579</td>\n",
       "      <td>DS516C BK</td>\n",
       "      <td>4</td>\n",
       "    </tr>\n",
       "    <tr>\n",
       "      <th>...</th>\n",
       "      <td>...</td>\n",
       "      <td>...</td>\n",
       "      <td>...</td>\n",
       "      <td>...</td>\n",
       "      <td>...</td>\n",
       "      <td>...</td>\n",
       "      <td>...</td>\n",
       "    </tr>\n",
       "    <tr>\n",
       "      <th>1723</th>\n",
       "      <td>4808</td>\n",
       "      <td>005 - Rogerio de Souza Instrumentos Musicais LTDA</td>\n",
       "      <td>1056885</td>\n",
       "      <td>PANDEIRO PROFISSIONAL 11 POL FORMICA FREIJO PR...</td>\n",
       "      <td>7897626803022</td>\n",
       "      <td>8291F</td>\n",
       "      <td>14</td>\n",
       "    </tr>\n",
       "    <tr>\n",
       "      <th>1724</th>\n",
       "      <td>4808</td>\n",
       "      <td>005 - Rogerio de Souza Instrumentos Musicais LTDA</td>\n",
       "      <td>1056884</td>\n",
       "      <td>PANDEIRO PROFISSIONAL 11 POL FORMICA FREIJO PR...</td>\n",
       "      <td>7897626802971</td>\n",
       "      <td>8198F</td>\n",
       "      <td>2</td>\n",
       "    </tr>\n",
       "    <tr>\n",
       "      <th>1725</th>\n",
       "      <td>4808</td>\n",
       "      <td>005 - Rogerio de Souza Instrumentos Musicais LTDA</td>\n",
       "      <td>1056877</td>\n",
       "      <td>PANDEIRO 10 POL ABS VERDE C/PELE PRETA IZZO 3440s</td>\n",
       "      <td>7897626802360</td>\n",
       "      <td>3440VD</td>\n",
       "      <td>125</td>\n",
       "    </tr>\n",
       "    <tr>\n",
       "      <th>1726</th>\n",
       "      <td>5094</td>\n",
       "      <td>007 - LIVERPOOL INSTRUMENTOS E ACESSORIOS MUSI...</td>\n",
       "      <td>1114387</td>\n",
       "      <td>NIRVANA ECO BIO 7A MADEIRA</td>\n",
       "      <td>NI 7AM</td>\n",
       "      <td>7897937421007</td>\n",
       "      <td>1000</td>\n",
       "    </tr>\n",
       "    <tr>\n",
       "      <th>1727</th>\n",
       "      <td>5094</td>\n",
       "      <td>007 - LIVERPOOL INSTRUMENTOS E ACESSORIOS MUSI...</td>\n",
       "      <td>1114388</td>\n",
       "      <td>NIRVANA ECOBIO 5B MADEIRA</td>\n",
       "      <td>NI 5BM</td>\n",
       "      <td>7897937421021</td>\n",
       "      <td>1000</td>\n",
       "    </tr>\n",
       "  </tbody>\n",
       "</table>\n",
       "<p>1728 rows × 7 columns</p>\n",
       "</div>"
      ],
      "text/plain": [
       "      id_depositante                                        depositante  \\\n",
       "0               4804  001 - Cristiano Padilha Instrumentos Musicais ...   \n",
       "1               4804  001 - Cristiano Padilha Instrumentos Musicais ...   \n",
       "2               4804  001 - Cristiano Padilha Instrumentos Musicais ...   \n",
       "3               4804  001 - Cristiano Padilha Instrumentos Musicais ...   \n",
       "4               4804  001 - Cristiano Padilha Instrumentos Musicais ...   \n",
       "...              ...                                                ...   \n",
       "1723            4808  005 - Rogerio de Souza Instrumentos Musicais LTDA   \n",
       "1724            4808  005 - Rogerio de Souza Instrumentos Musicais LTDA   \n",
       "1725            4808  005 - Rogerio de Souza Instrumentos Musicais LTDA   \n",
       "1726            5094  007 - LIVERPOOL INSTRUMENTOS E ACESSORIOS MUSI...   \n",
       "1727            5094  007 - LIVERPOOL INSTRUMENTOS E ACESSORIOS MUSI...   \n",
       "\n",
       "      idProduto                                       produto_nome  \\\n",
       "0       1056192  ALAVANCA DE GUITARRA FLOYD C/ROSCA CROMO (6 UN...   \n",
       "1       1056203  BAG PHX PERSONALIZADO P/ CONJ. PRATO E BAQUETA...   \n",
       "2       1056204  Bateria Infantil Profissional Para Criança Tur...   \n",
       "3       1056205  BATERIA PHX DISNEY INFANTIL PRINCESAS MOSAICO ...   \n",
       "4       1056206           Bateria PHX Infantil 16\" Preta DS516C BK   \n",
       "...         ...                                                ...   \n",
       "1723    1056885  PANDEIRO PROFISSIONAL 11 POL FORMICA FREIJO PR...   \n",
       "1724    1056884  PANDEIRO PROFISSIONAL 11 POL FORMICA FREIJO PR...   \n",
       "1725    1056877  PANDEIRO 10 POL ABS VERDE C/PELE PRETA IZZO 3440s   \n",
       "1726    1114387                         NIRVANA ECO BIO 7A MADEIRA   \n",
       "1727    1114388                          NIRVANA ECOBIO 5B MADEIRA   \n",
       "\n",
       "     produtoCodigoInterno produtoCodigoExterno  quantidade_disponivel  \n",
       "0           7899548645179                103CR                      5  \n",
       "1           7899548630373               PAA130                     77  \n",
       "2           7898475680628          TURBINHO-JZ                      1  \n",
       "3           7899548641836               BID-P1                      2  \n",
       "4           7899548605579            DS516C BK                      4  \n",
       "...                   ...                  ...                    ...  \n",
       "1723        7897626803022                8291F                     14  \n",
       "1724        7897626802971                8198F                      2  \n",
       "1725        7897626802360               3440VD                    125  \n",
       "1726               NI 7AM        7897937421007                   1000  \n",
       "1727               NI 5BM        7897937421021                   1000  \n",
       "\n",
       "[1728 rows x 7 columns]"
      ]
     },
     "execution_count": 148,
     "metadata": {},
     "output_type": "execute_result"
    }
   ],
   "source": [
    "df_wms"
   ]
  },
  {
   "cell_type": "code",
   "execution_count": 179,
   "metadata": {},
   "outputs": [],
   "source": [
    "dic_column_name = {\"ml_inventory_id\": \"inventory_id\"}\n",
    "df_no_itens = df_no_itens.rename(columns=dic_column_name)\n",
    "df_sold_zero = df_sold_zero.rename(columns=dic_column_name)"
   ]
  },
  {
   "cell_type": "code",
   "execution_count": 150,
   "metadata": {},
   "outputs": [
    {
     "data": {
      "text/html": [
       "<div>\n",
       "<style scoped>\n",
       "    .dataframe tbody tr th:only-of-type {\n",
       "        vertical-align: middle;\n",
       "    }\n",
       "\n",
       "    .dataframe tbody tr th {\n",
       "        vertical-align: top;\n",
       "    }\n",
       "\n",
       "    .dataframe thead th {\n",
       "        text-align: right;\n",
       "    }\n",
       "</style>\n",
       "<table border=\"1\" class=\"dataframe\">\n",
       "  <thead>\n",
       "    <tr style=\"text-align: right;\">\n",
       "      <th></th>\n",
       "      <th>inventory_id</th>\n",
       "      <th>ml_code</th>\n",
       "      <th>SKU</th>\n",
       "      <th>Título do anúncio</th>\n",
       "      <th>ID Tiny</th>\n",
       "      <th>SKU Tiny</th>\n",
       "      <th>Quantidade do item</th>\n",
       "      <th>Tipo de produto</th>\n",
       "    </tr>\n",
       "  </thead>\n",
       "  <tbody>\n",
       "    <tr>\n",
       "      <th>414</th>\n",
       "      <td>XVUA60406</td>\n",
       "      <td>MLB2986538160</td>\n",
       "      <td>FULLLIVERPOOLPML001LA</td>\n",
       "      <td>Pandeiro Profissional Meia Lua Diversas Cores ...</td>\n",
       "      <td>698412714</td>\n",
       "      <td>7897937428013LA</td>\n",
       "      <td>1</td>\n",
       "      <td>Pandeiro</td>\n",
       "    </tr>\n",
       "  </tbody>\n",
       "</table>\n",
       "</div>"
      ],
      "text/plain": [
       "    inventory_id        ml_code                    SKU  \\\n",
       "414    XVUA60406  MLB2986538160  FULLLIVERPOOLPML001LA   \n",
       "\n",
       "                                     Título do anúncio    ID Tiny  \\\n",
       "414  Pandeiro Profissional Meia Lua Diversas Cores ...  698412714   \n",
       "\n",
       "            SKU Tiny  Quantidade do item Tipo de produto  \n",
       "414  7897937428013LA                   1        Pandeiro  "
      ]
     },
     "execution_count": 150,
     "metadata": {},
     "output_type": "execute_result"
    }
   ],
   "source": [
    "df_tiny_fulfillment.sample()"
   ]
  },
  {
   "cell_type": "code",
   "execution_count": 196,
   "metadata": {},
   "outputs": [],
   "source": [
    "df_tiny_fulfillment_no_itens = pd.merge(\n",
    "    df_no_itens, df_tiny_fulfillment, on=\"inventory_id\", how=\"inner\"\n",
    ")"
   ]
  },
  {
   "cell_type": "code",
   "execution_count": 197,
   "metadata": {},
   "outputs": [
    {
     "name": "stdout",
     "output_type": "stream",
     "text": [
      "(79, 16)\n",
      "(499, 8)\n",
      "(132, 23)\n"
     ]
    }
   ],
   "source": [
    "print(df_no_itens.shape)\n",
    "print(df_tiny_fulfillment.shape)\n",
    "print(df_tiny_fulfillment_no_itens.shape)"
   ]
  },
  {
   "cell_type": "code",
   "execution_count": 198,
   "metadata": {},
   "outputs": [
    {
     "data": {
      "text/plain": [
       "Index(['ml_code_x', 'seller_sku', 'inventory_id', 'value_name', 'status',\n",
       "       'title', 'available_quantity_today', 'transfer_status',\n",
       "       'transfer_quantity', 'total_available_quantity', 'days_available',\n",
       "       'total_sold_not_catalog', 'total_sold_catalog', 'total_sold',\n",
       "       'period_send_fulfillment', 'stock_replenishment', 'ml_code_y', 'SKU',\n",
       "       'Título do anúncio', 'ID Tiny', 'SKU Tiny', 'Quantidade do item',\n",
       "       'Tipo de produto'],\n",
       "      dtype='object')"
      ]
     },
     "execution_count": 198,
     "metadata": {},
     "output_type": "execute_result"
    }
   ],
   "source": [
    "df_tiny_fulfillment_no_itens.columns"
   ]
  },
  {
   "cell_type": "code",
   "execution_count": 199,
   "metadata": {},
   "outputs": [],
   "source": [
    "# df_tiny_fulfillment_no_itens[['ml_code_x','ml_code_y']]\n",
    "# df_tiny_fulfillment_no_itens[['ml_code_x','seller_sku','SKU', 'Título do anúncio']]"
   ]
  },
  {
   "cell_type": "code",
   "execution_count": 200,
   "metadata": {},
   "outputs": [],
   "source": [
    "df_tiny_fulfillment_no_itens = df_tiny_fulfillment_no_itens.drop(\n",
    "    columns=[\"ml_code_y\", \"seller_sku\", \"title\"]\n",
    ")"
   ]
  },
  {
   "cell_type": "code",
   "execution_count": 201,
   "metadata": {},
   "outputs": [],
   "source": [
    "dic_new_names = {\n",
    "    \"ml_code_x\": \"ml_code\",\n",
    "    \"SKU\": \"seller_sku\",\n",
    "    \"Título do anúncio\": \"title\",\n",
    "    \"Quantidade do item\": \"qtd_item\",\n",
    "    \"ID Tiny\": \"tiny_id\",\n",
    "    \"SKU Tiny\": \"tiny_sku\",\n",
    "    \"Tipo de produto\": \"type\",\n",
    "}\n",
    "df_tiny_fulfillment_no_itens = df_tiny_fulfillment_no_itens.rename(\n",
    "    columns=dic_new_names\n",
    ")\n",
    "\n",
    "cols = [\n",
    "    \"inventory_id\",\n",
    "    \"ml_code\",\n",
    "    \"seller_sku\",\n",
    "    \"title\",\n",
    "    \"tiny_id\",\n",
    "    \"tiny_sku\",\n",
    "    \"qtd_item\",\n",
    "    \"type\",\n",
    "    \"stock_replenishment\",\n",
    "    \"status\",\n",
    "]"
   ]
  },
  {
   "cell_type": "code",
   "execution_count": 202,
   "metadata": {},
   "outputs": [
    {
     "data": {
      "text/html": [
       "<div>\n",
       "<style scoped>\n",
       "    .dataframe tbody tr th:only-of-type {\n",
       "        vertical-align: middle;\n",
       "    }\n",
       "\n",
       "    .dataframe tbody tr th {\n",
       "        vertical-align: top;\n",
       "    }\n",
       "\n",
       "    .dataframe thead th {\n",
       "        text-align: right;\n",
       "    }\n",
       "</style>\n",
       "<table border=\"1\" class=\"dataframe\">\n",
       "  <thead>\n",
       "    <tr style=\"text-align: right;\">\n",
       "      <th></th>\n",
       "      <th>ml_code</th>\n",
       "      <th>inventory_id</th>\n",
       "      <th>value_name</th>\n",
       "      <th>status</th>\n",
       "      <th>available_quantity_today</th>\n",
       "      <th>transfer_status</th>\n",
       "      <th>transfer_quantity</th>\n",
       "      <th>total_available_quantity</th>\n",
       "      <th>days_available</th>\n",
       "      <th>total_sold_not_catalog</th>\n",
       "      <th>total_sold_catalog</th>\n",
       "      <th>total_sold</th>\n",
       "      <th>period_send_fulfillment</th>\n",
       "      <th>stock_replenishment</th>\n",
       "      <th>seller_sku</th>\n",
       "      <th>title</th>\n",
       "      <th>tiny_id</th>\n",
       "      <th>tiny_sku</th>\n",
       "      <th>qtd_item</th>\n",
       "      <th>type</th>\n",
       "    </tr>\n",
       "  </thead>\n",
       "  <tbody>\n",
       "    <tr>\n",
       "      <th>126</th>\n",
       "      <td>MLB1490210934</td>\n",
       "      <td>SPKV63227</td>\n",
       "      <td>nan</td>\n",
       "      <td>paused</td>\n",
       "      <td>0</td>\n",
       "      <td>transfer</td>\n",
       "      <td>7.0</td>\n",
       "      <td>7</td>\n",
       "      <td>0</td>\n",
       "      <td>0</td>\n",
       "      <td>0</td>\n",
       "      <td>0</td>\n",
       "      <td>0.0</td>\n",
       "      <td>0.0</td>\n",
       "      <td>FULLTIMBRA8228C</td>\n",
       "      <td>Repique De Mão Timbra 10 Pol X 30 Cm Em Alumín...</td>\n",
       "      <td>579968053</td>\n",
       "      <td>7897626882287</td>\n",
       "      <td>1</td>\n",
       "      <td>Percussão</td>\n",
       "    </tr>\n",
       "  </tbody>\n",
       "</table>\n",
       "</div>"
      ],
      "text/plain": [
       "           ml_code inventory_id value_name  status  available_quantity_today  \\\n",
       "126  MLB1490210934    SPKV63227        nan  paused                         0   \n",
       "\n",
       "    transfer_status  transfer_quantity  total_available_quantity  \\\n",
       "126        transfer                7.0                         7   \n",
       "\n",
       "     days_available  total_sold_not_catalog  total_sold_catalog  total_sold  \\\n",
       "126               0                       0                   0           0   \n",
       "\n",
       "     period_send_fulfillment  stock_replenishment       seller_sku  \\\n",
       "126                      0.0                  0.0  FULLTIMBRA8228C   \n",
       "\n",
       "                                                 title    tiny_id  \\\n",
       "126  Repique De Mão Timbra 10 Pol X 30 Cm Em Alumín...  579968053   \n",
       "\n",
       "          tiny_sku  qtd_item       type  \n",
       "126  7897626882287         1  Percussão  "
      ]
     },
     "execution_count": 202,
     "metadata": {},
     "output_type": "execute_result"
    }
   ],
   "source": [
    "df_tiny_fulfillment_no_itens.sample()"
   ]
  },
  {
   "cell_type": "code",
   "execution_count": 204,
   "metadata": {},
   "outputs": [
    {
     "data": {
      "text/html": [
       "<div>\n",
       "<style scoped>\n",
       "    .dataframe tbody tr th:only-of-type {\n",
       "        vertical-align: middle;\n",
       "    }\n",
       "\n",
       "    .dataframe tbody tr th {\n",
       "        vertical-align: top;\n",
       "    }\n",
       "\n",
       "    .dataframe thead th {\n",
       "        text-align: right;\n",
       "    }\n",
       "</style>\n",
       "<table border=\"1\" class=\"dataframe\">\n",
       "  <thead>\n",
       "    <tr style=\"text-align: right;\">\n",
       "      <th></th>\n",
       "      <th>inventory_id</th>\n",
       "      <th>ml_code</th>\n",
       "      <th>seller_sku</th>\n",
       "      <th>title</th>\n",
       "      <th>tiny_id</th>\n",
       "      <th>tiny_sku</th>\n",
       "      <th>qtd_item</th>\n",
       "      <th>type</th>\n",
       "      <th>stock_replenishment</th>\n",
       "      <th>status</th>\n",
       "    </tr>\n",
       "  </thead>\n",
       "  <tbody>\n",
       "    <tr>\n",
       "      <th>0</th>\n",
       "      <td>OVRP11252</td>\n",
       "      <td>MLB1564998298</td>\n",
       "      <td>FULLDATALINKMICECOC</td>\n",
       "      <td>Cabo Microfone Balanceado Estereo Dmx Rolo Com...</td>\n",
       "      <td>754085190</td>\n",
       "      <td>7898571083767</td>\n",
       "      <td>1</td>\n",
       "      <td>Cabo rolo</td>\n",
       "      <td>0.0</td>\n",
       "      <td>paused</td>\n",
       "    </tr>\n",
       "    <tr>\n",
       "      <th>1</th>\n",
       "      <td>JJMG39331</td>\n",
       "      <td>MLB1440293157</td>\n",
       "      <td>FULLWINNER11014</td>\n",
       "      <td>Ukulele Soprano 21  Abs Tampo Sapele Vermelho ...</td>\n",
       "      <td>687918940</td>\n",
       "      <td>7899574332890</td>\n",
       "      <td>1</td>\n",
       "      <td>Ukulele</td>\n",
       "      <td>0.0</td>\n",
       "      <td>paused</td>\n",
       "    </tr>\n",
       "    <tr>\n",
       "      <th>2</th>\n",
       "      <td>LKXA44509</td>\n",
       "      <td>MLB1618249173</td>\n",
       "      <td>FULLTIMBRA8629C</td>\n",
       "      <td>Pandeiro 10  Profissional  Aro Dourado Pele Pr...</td>\n",
       "      <td>616465636</td>\n",
       "      <td>7897626886292</td>\n",
       "      <td>1</td>\n",
       "      <td>Pandeiro</td>\n",
       "      <td>0.0</td>\n",
       "      <td>paused</td>\n",
       "    </tr>\n",
       "    <tr>\n",
       "      <th>3</th>\n",
       "      <td>SSGO43954</td>\n",
       "      <td>MLB1488916154</td>\n",
       "      <td>FULLTIMBRA8291C</td>\n",
       "      <td>Pandeiro 11  Profissional Prat Duplas Pele Pri...</td>\n",
       "      <td>616472756</td>\n",
       "      <td>7897626882911</td>\n",
       "      <td>1</td>\n",
       "      <td>Pandeiro</td>\n",
       "      <td>0.0</td>\n",
       "      <td>paused</td>\n",
       "    </tr>\n",
       "    <tr>\n",
       "      <th>4</th>\n",
       "      <td>ERIM51807</td>\n",
       "      <td>MLB949788598</td>\n",
       "      <td>P10LNINJA10FT</td>\n",
       "      <td>Cabo Santo Angelo Ninja L P10 X P10l - 10ft/3.05m</td>\n",
       "      <td>598796832</td>\n",
       "      <td>7899028824407</td>\n",
       "      <td>1</td>\n",
       "      <td>Cabo</td>\n",
       "      <td>0.0</td>\n",
       "      <td>paused</td>\n",
       "    </tr>\n",
       "    <tr>\n",
       "      <th>...</th>\n",
       "      <td>...</td>\n",
       "      <td>...</td>\n",
       "      <td>...</td>\n",
       "      <td>...</td>\n",
       "      <td>...</td>\n",
       "      <td>...</td>\n",
       "      <td>...</td>\n",
       "      <td>...</td>\n",
       "      <td>...</td>\n",
       "      <td>...</td>\n",
       "    </tr>\n",
       "    <tr>\n",
       "      <th>127</th>\n",
       "      <td>UIUW89800</td>\n",
       "      <td>MLB1662970458</td>\n",
       "      <td>FULLIZZO6480</td>\n",
       "      <td>Pandeiro Original 10 Pol Abs Preto Com Pele Pr...</td>\n",
       "      <td>741799625</td>\n",
       "      <td>7897626864801</td>\n",
       "      <td>1</td>\n",
       "      <td>Pandeiro</td>\n",
       "      <td>0.0</td>\n",
       "      <td>paused</td>\n",
       "    </tr>\n",
       "    <tr>\n",
       "      <th>128</th>\n",
       "      <td>WQLG77218</td>\n",
       "      <td>MLB1942106803</td>\n",
       "      <td>FULLKITPPPCA</td>\n",
       "      <td>Kit 6 Palhetas + 1 Porta Palheta + 1 Capotrast...</td>\n",
       "      <td>509978212</td>\n",
       "      <td>Bracadeirakits</td>\n",
       "      <td>1</td>\n",
       "      <td>Kit</td>\n",
       "      <td>0.0</td>\n",
       "      <td>paused</td>\n",
       "    </tr>\n",
       "    <tr>\n",
       "      <th>129</th>\n",
       "      <td>WQLG77218</td>\n",
       "      <td>MLB1942106803</td>\n",
       "      <td>FULLKITPPPCA</td>\n",
       "      <td>Kit 6 Palhetas + 1 Porta Palheta + 1 Capotrast...</td>\n",
       "      <td>565663877</td>\n",
       "      <td>PPalheta</td>\n",
       "      <td>1</td>\n",
       "      <td>Kit</td>\n",
       "      <td>0.0</td>\n",
       "      <td>paused</td>\n",
       "    </tr>\n",
       "    <tr>\n",
       "      <th>130</th>\n",
       "      <td>WQLG77218</td>\n",
       "      <td>MLB1942106803</td>\n",
       "      <td>FULLKITPPPCA</td>\n",
       "      <td>Kit 6 Palhetas + 1 Porta Palheta + 1 Capotrast...</td>\n",
       "      <td>565665071</td>\n",
       "      <td>Palheta</td>\n",
       "      <td>6</td>\n",
       "      <td>Kit</td>\n",
       "      <td>0.0</td>\n",
       "      <td>paused</td>\n",
       "    </tr>\n",
       "    <tr>\n",
       "      <th>131</th>\n",
       "      <td>WQLG77218</td>\n",
       "      <td>MLB1942106803</td>\n",
       "      <td>FULLKITPPPCA</td>\n",
       "      <td>Kit 6 Palhetas + 1 Porta Palheta + 1 Capotrast...</td>\n",
       "      <td>597415799</td>\n",
       "      <td>AFINADORKIT</td>\n",
       "      <td>1</td>\n",
       "      <td>Kit</td>\n",
       "      <td>0.0</td>\n",
       "      <td>paused</td>\n",
       "    </tr>\n",
       "  </tbody>\n",
       "</table>\n",
       "<p>132 rows × 10 columns</p>\n",
       "</div>"
      ],
      "text/plain": [
       "    inventory_id        ml_code           seller_sku  \\\n",
       "0      OVRP11252  MLB1564998298  FULLDATALINKMICECOC   \n",
       "1      JJMG39331  MLB1440293157      FULLWINNER11014   \n",
       "2      LKXA44509  MLB1618249173      FULLTIMBRA8629C   \n",
       "3      SSGO43954  MLB1488916154      FULLTIMBRA8291C   \n",
       "4      ERIM51807   MLB949788598        P10LNINJA10FT   \n",
       "..           ...            ...                  ...   \n",
       "127    UIUW89800  MLB1662970458         FULLIZZO6480   \n",
       "128    WQLG77218  MLB1942106803         FULLKITPPPCA   \n",
       "129    WQLG77218  MLB1942106803         FULLKITPPPCA   \n",
       "130    WQLG77218  MLB1942106803         FULLKITPPPCA   \n",
       "131    WQLG77218  MLB1942106803         FULLKITPPPCA   \n",
       "\n",
       "                                                 title    tiny_id  \\\n",
       "0    Cabo Microfone Balanceado Estereo Dmx Rolo Com...  754085190   \n",
       "1    Ukulele Soprano 21  Abs Tampo Sapele Vermelho ...  687918940   \n",
       "2    Pandeiro 10  Profissional  Aro Dourado Pele Pr...  616465636   \n",
       "3    Pandeiro 11  Profissional Prat Duplas Pele Pri...  616472756   \n",
       "4    Cabo Santo Angelo Ninja L P10 X P10l - 10ft/3.05m  598796832   \n",
       "..                                                 ...        ...   \n",
       "127  Pandeiro Original 10 Pol Abs Preto Com Pele Pr...  741799625   \n",
       "128  Kit 6 Palhetas + 1 Porta Palheta + 1 Capotrast...  509978212   \n",
       "129  Kit 6 Palhetas + 1 Porta Palheta + 1 Capotrast...  565663877   \n",
       "130  Kit 6 Palhetas + 1 Porta Palheta + 1 Capotrast...  565665071   \n",
       "131  Kit 6 Palhetas + 1 Porta Palheta + 1 Capotrast...  597415799   \n",
       "\n",
       "           tiny_sku  qtd_item       type  stock_replenishment  status  \n",
       "0     7898571083767         1  Cabo rolo                  0.0  paused  \n",
       "1     7899574332890         1    Ukulele                  0.0  paused  \n",
       "2     7897626886292         1   Pandeiro                  0.0  paused  \n",
       "3     7897626882911         1   Pandeiro                  0.0  paused  \n",
       "4     7899028824407         1       Cabo                  0.0  paused  \n",
       "..              ...       ...        ...                  ...     ...  \n",
       "127   7897626864801         1   Pandeiro                  0.0  paused  \n",
       "128  Bracadeirakits         1        Kit                  0.0  paused  \n",
       "129        PPalheta         1        Kit                  0.0  paused  \n",
       "130         Palheta         6        Kit                  0.0  paused  \n",
       "131     AFINADORKIT         1        Kit                  0.0  paused  \n",
       "\n",
       "[132 rows x 10 columns]"
      ]
     },
     "execution_count": 204,
     "metadata": {},
     "output_type": "execute_result"
    }
   ],
   "source": [
    "df_tiny_fulfillment_no_itens = df_tiny_fulfillment_no_itens[cols]\n",
    "df_tiny_fulfillment_no_itens"
   ]
  },
  {
   "cell_type": "code",
   "execution_count": 205,
   "metadata": {},
   "outputs": [
    {
     "data": {
      "text/html": [
       "<div>\n",
       "<style scoped>\n",
       "    .dataframe tbody tr th:only-of-type {\n",
       "        vertical-align: middle;\n",
       "    }\n",
       "\n",
       "    .dataframe tbody tr th {\n",
       "        vertical-align: top;\n",
       "    }\n",
       "\n",
       "    .dataframe thead th {\n",
       "        text-align: right;\n",
       "    }\n",
       "</style>\n",
       "<table border=\"1\" class=\"dataframe\">\n",
       "  <thead>\n",
       "    <tr style=\"text-align: right;\">\n",
       "      <th></th>\n",
       "      <th>inventory_id</th>\n",
       "      <th>ml_code</th>\n",
       "      <th>seller_sku</th>\n",
       "      <th>title</th>\n",
       "      <th>tiny_id</th>\n",
       "      <th>tiny_sku</th>\n",
       "      <th>qtd_item</th>\n",
       "      <th>type</th>\n",
       "      <th>stock_replenishment</th>\n",
       "      <th>status</th>\n",
       "    </tr>\n",
       "  </thead>\n",
       "  <tbody>\n",
       "  </tbody>\n",
       "</table>\n",
       "</div>"
      ],
      "text/plain": [
       "Empty DataFrame\n",
       "Columns: [inventory_id, ml_code, seller_sku, title, tiny_id, tiny_sku, qtd_item, type, stock_replenishment, status]\n",
       "Index: []"
      ]
     },
     "execution_count": 205,
     "metadata": {},
     "output_type": "execute_result"
    }
   ],
   "source": [
    "df_tiny_fulfillment_no_itens[df_tiny_fulfillment_no_itens[\"tiny_id\"] == \"1056269\"]"
   ]
  },
  {
   "cell_type": "code",
   "execution_count": 206,
   "metadata": {},
   "outputs": [
    {
     "data": {
      "text/html": [
       "<div>\n",
       "<style scoped>\n",
       "    .dataframe tbody tr th:only-of-type {\n",
       "        vertical-align: middle;\n",
       "    }\n",
       "\n",
       "    .dataframe tbody tr th {\n",
       "        vertical-align: top;\n",
       "    }\n",
       "\n",
       "    .dataframe thead th {\n",
       "        text-align: right;\n",
       "    }\n",
       "</style>\n",
       "<table border=\"1\" class=\"dataframe\">\n",
       "  <thead>\n",
       "    <tr style=\"text-align: right;\">\n",
       "      <th></th>\n",
       "      <th>id_depositante</th>\n",
       "      <th>depositante</th>\n",
       "      <th>idProduto</th>\n",
       "      <th>produto_nome</th>\n",
       "      <th>produtoCodigoInterno</th>\n",
       "      <th>produtoCodigoExterno</th>\n",
       "      <th>quantidade_disponivel</th>\n",
       "    </tr>\n",
       "  </thead>\n",
       "  <tbody>\n",
       "    <tr>\n",
       "      <th>1638</th>\n",
       "      <td>4808</td>\n",
       "      <td>005 - Rogerio de Souza Instrumentos Musicais LTDA</td>\n",
       "      <td>1117628</td>\n",
       "      <td>ESTEIRA REPIQUE 10 COM 18 FIOS CARBONO CROM LUEN</td>\n",
       "      <td>7898580481318</td>\n",
       "      <td>7898580481318</td>\n",
       "      <td>5</td>\n",
       "    </tr>\n",
       "    <tr>\n",
       "      <th>170</th>\n",
       "      <td>4805</td>\n",
       "      <td>002 - Musical Center Ponta Grossa - Ltda - Matriz</td>\n",
       "      <td>1057669</td>\n",
       "      <td>CORREIA INST CORDA NY 01 SINT DEUS E FIEL BASSO</td>\n",
       "      <td>7898529534259</td>\n",
       "      <td>7898529534259</td>\n",
       "      <td>23</td>\n",
       "    </tr>\n",
       "  </tbody>\n",
       "</table>\n",
       "</div>"
      ],
      "text/plain": [
       "      id_depositante                                        depositante  \\\n",
       "1638            4808  005 - Rogerio de Souza Instrumentos Musicais LTDA   \n",
       "170             4805  002 - Musical Center Ponta Grossa - Ltda - Matriz   \n",
       "\n",
       "      idProduto                                      produto_nome  \\\n",
       "1638    1117628  ESTEIRA REPIQUE 10 COM 18 FIOS CARBONO CROM LUEN   \n",
       "170     1057669   CORREIA INST CORDA NY 01 SINT DEUS E FIEL BASSO   \n",
       "\n",
       "     produtoCodigoInterno produtoCodigoExterno  quantidade_disponivel  \n",
       "1638        7898580481318        7898580481318                      5  \n",
       "170         7898529534259        7898529534259                     23  "
      ]
     },
     "execution_count": 206,
     "metadata": {},
     "output_type": "execute_result"
    }
   ],
   "source": [
    "df_wms.sample(2)"
   ]
  },
  {
   "cell_type": "code",
   "execution_count": 207,
   "metadata": {},
   "outputs": [],
   "source": [
    "df_wms_tf_no_itens_ci = pd.merge(\n",
    "    df_tiny_fulfillment_no_itens,\n",
    "    df_wms,\n",
    "    left_on=\"tiny_sku\",\n",
    "    right_on=\"produtoCodigoInterno\",\n",
    ")\n",
    "df_wms_tf_no_itens_ce = pd.merge(\n",
    "    df_tiny_fulfillment_no_itens,\n",
    "    df_wms,\n",
    "    left_on=\"tiny_sku\",\n",
    "    right_on=\"produtoCodigoExterno\",\n",
    ")"
   ]
  },
  {
   "cell_type": "code",
   "execution_count": 208,
   "metadata": {},
   "outputs": [
    {
     "name": "stdout",
     "output_type": "stream",
     "text": [
      "(244, 17)\n",
      "(27, 17)\n"
     ]
    }
   ],
   "source": [
    "print(df_wms_tf_no_itens_ci.shape)\n",
    "print(df_wms_tf_no_itens_ce.shape)"
   ]
  },
  {
   "cell_type": "code",
   "execution_count": 209,
   "metadata": {},
   "outputs": [
    {
     "data": {
      "text/html": [
       "<div>\n",
       "<style scoped>\n",
       "    .dataframe tbody tr th:only-of-type {\n",
       "        vertical-align: middle;\n",
       "    }\n",
       "\n",
       "    .dataframe tbody tr th {\n",
       "        vertical-align: top;\n",
       "    }\n",
       "\n",
       "    .dataframe thead th {\n",
       "        text-align: right;\n",
       "    }\n",
       "</style>\n",
       "<table border=\"1\" class=\"dataframe\">\n",
       "  <thead>\n",
       "    <tr style=\"text-align: right;\">\n",
       "      <th></th>\n",
       "      <th>inventory_id</th>\n",
       "      <th>ml_code</th>\n",
       "      <th>seller_sku</th>\n",
       "      <th>title</th>\n",
       "      <th>tiny_id</th>\n",
       "      <th>tiny_sku</th>\n",
       "      <th>qtd_item</th>\n",
       "      <th>type</th>\n",
       "      <th>stock_replenishment</th>\n",
       "      <th>status</th>\n",
       "      <th>id_depositante</th>\n",
       "      <th>depositante</th>\n",
       "      <th>idProduto</th>\n",
       "      <th>produto_nome</th>\n",
       "      <th>produtoCodigoInterno</th>\n",
       "      <th>produtoCodigoExterno</th>\n",
       "      <th>quantidade_disponivel</th>\n",
       "    </tr>\n",
       "  </thead>\n",
       "  <tbody>\n",
       "    <tr>\n",
       "      <th>43</th>\n",
       "      <td>PNZZ04589</td>\n",
       "      <td>MLB2001019290</td>\n",
       "      <td>7891088010073</td>\n",
       "      <td>Correia Guitarra Violão Baixo Alça Basso Cla 1...</td>\n",
       "      <td>746248920</td>\n",
       "      <td>RH-01BK</td>\n",
       "      <td>2</td>\n",
       "      <td>Correia</td>\n",
       "      <td>0.0</td>\n",
       "      <td>paused</td>\n",
       "      <td>4807</td>\n",
       "      <td>004 - M. A. Bueno Frederico Sonorizacao Ltda</td>\n",
       "      <td>1056525</td>\n",
       "      <td>Straplock Rhino RH-01BK Preto</td>\n",
       "      <td>RH-01BK</td>\n",
       "      <td>2202584438001002BK</td>\n",
       "      <td>1936</td>\n",
       "    </tr>\n",
       "  </tbody>\n",
       "</table>\n",
       "</div>"
      ],
      "text/plain": [
       "   inventory_id        ml_code     seller_sku  \\\n",
       "43    PNZZ04589  MLB2001019290  7891088010073   \n",
       "\n",
       "                                                title    tiny_id tiny_sku  \\\n",
       "43  Correia Guitarra Violão Baixo Alça Basso Cla 1...  746248920  RH-01BK   \n",
       "\n",
       "    qtd_item     type  stock_replenishment  status  id_depositante  \\\n",
       "43         2  Correia                  0.0  paused            4807   \n",
       "\n",
       "                                     depositante  idProduto  \\\n",
       "43  004 - M. A. Bueno Frederico Sonorizacao Ltda    1056525   \n",
       "\n",
       "                     produto_nome produtoCodigoInterno produtoCodigoExterno  \\\n",
       "43  Straplock Rhino RH-01BK Preto              RH-01BK   2202584438001002BK   \n",
       "\n",
       "    quantidade_disponivel  \n",
       "43                   1936  "
      ]
     },
     "execution_count": 209,
     "metadata": {},
     "output_type": "execute_result"
    }
   ],
   "source": [
    "df_wms_tf_no_itens_ci.sample()"
   ]
  },
  {
   "cell_type": "code",
   "execution_count": 210,
   "metadata": {},
   "outputs": [
    {
     "name": "stdout",
     "output_type": "stream",
     "text": [
      "(271, 17)\n"
     ]
    }
   ],
   "source": [
    "# df_junto = pd.merge(df_wms_tf_no_itens_ci, df_wms_tf_no_itens_ce, on='coluna_comum', how='outer')\n",
    "\n",
    "df_wms_tf_no_itens = pd.concat(\n",
    "    [df_wms_tf_no_itens_ci, df_wms_tf_no_itens_ce], ignore_index=True\n",
    ")\n",
    "\n",
    "print(df_wms_tf_no_itens.shape)"
   ]
  },
  {
   "cell_type": "code",
   "execution_count": 211,
   "metadata": {},
   "outputs": [],
   "source": [
    "df_wms_tf_no_itens = df_wms_tf_no_itens.drop_duplicates()"
   ]
  },
  {
   "cell_type": "code",
   "execution_count": 212,
   "metadata": {},
   "outputs": [],
   "source": [
    "# df_wms_tf_no_itens.columns"
   ]
  },
  {
   "cell_type": "code",
   "execution_count": 213,
   "metadata": {},
   "outputs": [
    {
     "name": "stdout",
     "output_type": "stream",
     "text": [
      "(244, 17)\n"
     ]
    },
    {
     "data": {
      "text/html": [
       "<div>\n",
       "<style scoped>\n",
       "    .dataframe tbody tr th:only-of-type {\n",
       "        vertical-align: middle;\n",
       "    }\n",
       "\n",
       "    .dataframe tbody tr th {\n",
       "        vertical-align: top;\n",
       "    }\n",
       "\n",
       "    .dataframe thead th {\n",
       "        text-align: right;\n",
       "    }\n",
       "</style>\n",
       "<table border=\"1\" class=\"dataframe\">\n",
       "  <thead>\n",
       "    <tr style=\"text-align: right;\">\n",
       "      <th></th>\n",
       "      <th>inventory_id</th>\n",
       "      <th>ml_code</th>\n",
       "      <th>seller_sku</th>\n",
       "      <th>title</th>\n",
       "      <th>tiny_id</th>\n",
       "      <th>tiny_sku</th>\n",
       "      <th>qtd_item</th>\n",
       "      <th>stock_replenishment</th>\n",
       "      <th>status</th>\n",
       "      <th>produtoCodigoInterno</th>\n",
       "      <th>produtoCodigoExterno</th>\n",
       "      <th>quantidade_disponivel</th>\n",
       "    </tr>\n",
       "  </thead>\n",
       "  <tbody>\n",
       "    <tr>\n",
       "      <th>0</th>\n",
       "      <td>OVRP11252</td>\n",
       "      <td>MLB1564998298</td>\n",
       "      <td>FULLDATALINKMICECOC</td>\n",
       "      <td>Cabo Microfone Balanceado Estereo Dmx Rolo Com...</td>\n",
       "      <td>754085190</td>\n",
       "      <td>7898571083767</td>\n",
       "      <td>1</td>\n",
       "      <td>0.0</td>\n",
       "      <td>paused</td>\n",
       "      <td>7898571083767</td>\n",
       "      <td>MIC-002-100</td>\n",
       "      <td>65</td>\n",
       "    </tr>\n",
       "    <tr>\n",
       "      <th>1</th>\n",
       "      <td>OVRP11252</td>\n",
       "      <td>MLB1564998298</td>\n",
       "      <td>FULLDATALINKMICECOC</td>\n",
       "      <td>Cabo Microfone Balanceado Estereo Dmx Rolo Com...</td>\n",
       "      <td>754085190</td>\n",
       "      <td>7898571083767</td>\n",
       "      <td>1</td>\n",
       "      <td>0.0</td>\n",
       "      <td>paused</td>\n",
       "      <td>7898571083767</td>\n",
       "      <td>MIC-002-100</td>\n",
       "      <td>23</td>\n",
       "    </tr>\n",
       "    <tr>\n",
       "      <th>2</th>\n",
       "      <td>YWET11585</td>\n",
       "      <td>MLB1567958596</td>\n",
       "      <td>FULLDATALINK2MICECO</td>\n",
       "      <td>Cabo Microfone Balanceado Estereo Dmx Rolo Com...</td>\n",
       "      <td>754085190</td>\n",
       "      <td>7898571083767</td>\n",
       "      <td>2</td>\n",
       "      <td>0.0</td>\n",
       "      <td>paused</td>\n",
       "      <td>7898571083767</td>\n",
       "      <td>MIC-002-100</td>\n",
       "      <td>65</td>\n",
       "    </tr>\n",
       "    <tr>\n",
       "      <th>3</th>\n",
       "      <td>YWET11585</td>\n",
       "      <td>MLB1567958596</td>\n",
       "      <td>FULLDATALINK2MICECO</td>\n",
       "      <td>Cabo Microfone Balanceado Estereo Dmx Rolo Com...</td>\n",
       "      <td>754085190</td>\n",
       "      <td>7898571083767</td>\n",
       "      <td>2</td>\n",
       "      <td>0.0</td>\n",
       "      <td>paused</td>\n",
       "      <td>7898571083767</td>\n",
       "      <td>MIC-002-100</td>\n",
       "      <td>23</td>\n",
       "    </tr>\n",
       "    <tr>\n",
       "      <th>4</th>\n",
       "      <td>ERIM51807</td>\n",
       "      <td>MLB949788598</td>\n",
       "      <td>P10LNINJA10FT</td>\n",
       "      <td>Cabo Santo Angelo Ninja L P10 X P10l - 10ft/3.05m</td>\n",
       "      <td>598796832</td>\n",
       "      <td>7899028824407</td>\n",
       "      <td>1</td>\n",
       "      <td>0.0</td>\n",
       "      <td>paused</td>\n",
       "      <td>7899028824407</td>\n",
       "      <td>4.5.20.232.330</td>\n",
       "      <td>3</td>\n",
       "    </tr>\n",
       "    <tr>\n",
       "      <th>...</th>\n",
       "      <td>...</td>\n",
       "      <td>...</td>\n",
       "      <td>...</td>\n",
       "      <td>...</td>\n",
       "      <td>...</td>\n",
       "      <td>...</td>\n",
       "      <td>...</td>\n",
       "      <td>...</td>\n",
       "      <td>...</td>\n",
       "      <td>...</td>\n",
       "      <td>...</td>\n",
       "      <td>...</td>\n",
       "    </tr>\n",
       "    <tr>\n",
       "      <th>239</th>\n",
       "      <td>QTPB03410</td>\n",
       "      <td>MLB1992512780</td>\n",
       "      <td>None</td>\n",
       "      <td>Encordoamento 0.11 P/ Violão Aço 85/15 Bronze ...</td>\n",
       "      <td>730228363</td>\n",
       "      <td>7897626866874</td>\n",
       "      <td>1</td>\n",
       "      <td>0.0</td>\n",
       "      <td>paused</td>\n",
       "      <td>7897626866874</td>\n",
       "      <td>6687</td>\n",
       "      <td>600</td>\n",
       "    </tr>\n",
       "    <tr>\n",
       "      <th>240</th>\n",
       "      <td>VXCN97101</td>\n",
       "      <td>MLB1992506451</td>\n",
       "      <td>None</td>\n",
       "      <td>Encordoamento 0.11 P/ Violão Aço 85/15 Bronze ...</td>\n",
       "      <td>730228363</td>\n",
       "      <td>7897626866874</td>\n",
       "      <td>1</td>\n",
       "      <td>0.0</td>\n",
       "      <td>paused</td>\n",
       "      <td>7897626866874</td>\n",
       "      <td>6687</td>\n",
       "      <td>600</td>\n",
       "    </tr>\n",
       "    <tr>\n",
       "      <th>241</th>\n",
       "      <td>XGSW66673</td>\n",
       "      <td>MLB1461705752</td>\n",
       "      <td>FULLHERCULESMS120B</td>\n",
       "      <td>Pedestal Profissioanl Girafa Para Microfone  M...</td>\n",
       "      <td>736605323</td>\n",
       "      <td>7897626844452</td>\n",
       "      <td>1</td>\n",
       "      <td>0.0</td>\n",
       "      <td>paused</td>\n",
       "      <td>7897626844452</td>\n",
       "      <td>7897626844452</td>\n",
       "      <td>2</td>\n",
       "    </tr>\n",
       "    <tr>\n",
       "      <th>242</th>\n",
       "      <td>UIUW89800</td>\n",
       "      <td>MLB1662970458</td>\n",
       "      <td>FULLIZZO6480</td>\n",
       "      <td>Pandeiro Original 10 Pol Abs Preto Com Pele Pr...</td>\n",
       "      <td>741799625</td>\n",
       "      <td>7897626864801</td>\n",
       "      <td>1</td>\n",
       "      <td>0.0</td>\n",
       "      <td>paused</td>\n",
       "      <td>7897626864801</td>\n",
       "      <td>7897626864801</td>\n",
       "      <td>1</td>\n",
       "    </tr>\n",
       "    <tr>\n",
       "      <th>243</th>\n",
       "      <td>UIUW89800</td>\n",
       "      <td>MLB1662970458</td>\n",
       "      <td>FULLIZZO6480</td>\n",
       "      <td>Pandeiro Original 10 Pol Abs Preto Com Pele Pr...</td>\n",
       "      <td>741799625</td>\n",
       "      <td>7897626864801</td>\n",
       "      <td>1</td>\n",
       "      <td>0.0</td>\n",
       "      <td>paused</td>\n",
       "      <td>7897626864801</td>\n",
       "      <td>3440P</td>\n",
       "      <td>10</td>\n",
       "    </tr>\n",
       "  </tbody>\n",
       "</table>\n",
       "<p>244 rows × 12 columns</p>\n",
       "</div>"
      ],
      "text/plain": [
       "    inventory_id        ml_code           seller_sku  \\\n",
       "0      OVRP11252  MLB1564998298  FULLDATALINKMICECOC   \n",
       "1      OVRP11252  MLB1564998298  FULLDATALINKMICECOC   \n",
       "2      YWET11585  MLB1567958596  FULLDATALINK2MICECO   \n",
       "3      YWET11585  MLB1567958596  FULLDATALINK2MICECO   \n",
       "4      ERIM51807   MLB949788598        P10LNINJA10FT   \n",
       "..           ...            ...                  ...   \n",
       "239    QTPB03410  MLB1992512780                 None   \n",
       "240    VXCN97101  MLB1992506451                 None   \n",
       "241    XGSW66673  MLB1461705752   FULLHERCULESMS120B   \n",
       "242    UIUW89800  MLB1662970458         FULLIZZO6480   \n",
       "243    UIUW89800  MLB1662970458         FULLIZZO6480   \n",
       "\n",
       "                                                 title    tiny_id  \\\n",
       "0    Cabo Microfone Balanceado Estereo Dmx Rolo Com...  754085190   \n",
       "1    Cabo Microfone Balanceado Estereo Dmx Rolo Com...  754085190   \n",
       "2    Cabo Microfone Balanceado Estereo Dmx Rolo Com...  754085190   \n",
       "3    Cabo Microfone Balanceado Estereo Dmx Rolo Com...  754085190   \n",
       "4    Cabo Santo Angelo Ninja L P10 X P10l - 10ft/3.05m  598796832   \n",
       "..                                                 ...        ...   \n",
       "239  Encordoamento 0.11 P/ Violão Aço 85/15 Bronze ...  730228363   \n",
       "240  Encordoamento 0.11 P/ Violão Aço 85/15 Bronze ...  730228363   \n",
       "241  Pedestal Profissioanl Girafa Para Microfone  M...  736605323   \n",
       "242  Pandeiro Original 10 Pol Abs Preto Com Pele Pr...  741799625   \n",
       "243  Pandeiro Original 10 Pol Abs Preto Com Pele Pr...  741799625   \n",
       "\n",
       "          tiny_sku  qtd_item  stock_replenishment  status  \\\n",
       "0    7898571083767         1                  0.0  paused   \n",
       "1    7898571083767         1                  0.0  paused   \n",
       "2    7898571083767         2                  0.0  paused   \n",
       "3    7898571083767         2                  0.0  paused   \n",
       "4    7899028824407         1                  0.0  paused   \n",
       "..             ...       ...                  ...     ...   \n",
       "239  7897626866874         1                  0.0  paused   \n",
       "240  7897626866874         1                  0.0  paused   \n",
       "241  7897626844452         1                  0.0  paused   \n",
       "242  7897626864801         1                  0.0  paused   \n",
       "243  7897626864801         1                  0.0  paused   \n",
       "\n",
       "    produtoCodigoInterno produtoCodigoExterno  quantidade_disponivel  \n",
       "0          7898571083767          MIC-002-100                     65  \n",
       "1          7898571083767          MIC-002-100                     23  \n",
       "2          7898571083767          MIC-002-100                     65  \n",
       "3          7898571083767          MIC-002-100                     23  \n",
       "4          7899028824407       4.5.20.232.330                      3  \n",
       "..                   ...                  ...                    ...  \n",
       "239        7897626866874                 6687                    600  \n",
       "240        7897626866874                 6687                    600  \n",
       "241        7897626844452        7897626844452                      2  \n",
       "242        7897626864801        7897626864801                      1  \n",
       "243        7897626864801                3440P                     10  \n",
       "\n",
       "[244 rows x 12 columns]"
      ]
     },
     "execution_count": 213,
     "metadata": {},
     "output_type": "execute_result"
    }
   ],
   "source": [
    "print(df_wms_tf_no_itens.shape)\n",
    "\n",
    "cols = [\n",
    "    \"inventory_id\",\n",
    "    \"ml_code\",\n",
    "    \"seller_sku\",\n",
    "    \"title\",\n",
    "    \"tiny_id\",\n",
    "    \"tiny_sku\",\n",
    "    \"qtd_item\",\n",
    "    \"stock_replenishment\",\n",
    "    \"status\",\n",
    "    \"produtoCodigoInterno\",\n",
    "    \"produtoCodigoExterno\",\n",
    "    \"quantidade_disponivel\",\n",
    "]\n",
    "\n",
    "df_wms_tf_no_itens = df_wms_tf_no_itens[cols]\n",
    "df_wms_tf_no_itens"
   ]
  },
  {
   "cell_type": "markdown",
   "metadata": {},
   "source": [
    "### Contando estoque da WMS em Produtos sem vendas no período"
   ]
  },
  {
   "cell_type": "code",
   "execution_count": 214,
   "metadata": {},
   "outputs": [],
   "source": [
    "df_tiny_fulfillment_sold_zero = pd.merge(\n",
    "    df_sold_zero, df_tiny_fulfillment, on=\"inventory_id\", how=\"inner\"\n",
    ")"
   ]
  },
  {
   "cell_type": "code",
   "execution_count": 215,
   "metadata": {},
   "outputs": [
    {
     "data": {
      "text/html": [
       "<div>\n",
       "<style scoped>\n",
       "    .dataframe tbody tr th:only-of-type {\n",
       "        vertical-align: middle;\n",
       "    }\n",
       "\n",
       "    .dataframe tbody tr th {\n",
       "        vertical-align: top;\n",
       "    }\n",
       "\n",
       "    .dataframe thead th {\n",
       "        text-align: right;\n",
       "    }\n",
       "</style>\n",
       "<table border=\"1\" class=\"dataframe\">\n",
       "  <thead>\n",
       "    <tr style=\"text-align: right;\">\n",
       "      <th></th>\n",
       "      <th>ml_code_x</th>\n",
       "      <th>seller_sku</th>\n",
       "      <th>inventory_id</th>\n",
       "      <th>value_name</th>\n",
       "      <th>status</th>\n",
       "      <th>title</th>\n",
       "      <th>available_quantity_today</th>\n",
       "      <th>transfer_status</th>\n",
       "      <th>transfer_quantity</th>\n",
       "      <th>total_available_quantity</th>\n",
       "      <th>...</th>\n",
       "      <th>total_sold</th>\n",
       "      <th>period_send_fulfillment</th>\n",
       "      <th>stock_replenishment</th>\n",
       "      <th>ml_code_y</th>\n",
       "      <th>SKU</th>\n",
       "      <th>Título do anúncio</th>\n",
       "      <th>ID Tiny</th>\n",
       "      <th>SKU Tiny</th>\n",
       "      <th>Quantidade do item</th>\n",
       "      <th>Tipo de produto</th>\n",
       "    </tr>\n",
       "  </thead>\n",
       "  <tbody>\n",
       "    <tr>\n",
       "      <th>62</th>\n",
       "      <td>MLB1991139259</td>\n",
       "      <td>NaN</td>\n",
       "      <td>AOLT03050</td>\n",
       "      <td>NaN</td>\n",
       "      <td>active</td>\n",
       "      <td>NaN</td>\n",
       "      <td>10</td>\n",
       "      <td>None</td>\n",
       "      <td>NaN</td>\n",
       "      <td>10</td>\n",
       "      <td>...</td>\n",
       "      <td>0</td>\n",
       "      <td>-10.0</td>\n",
       "      <td>0.0</td>\n",
       "      <td>MLB1991139259</td>\n",
       "      <td>7891088010028</td>\n",
       "      <td>Correia Guitarra Violão Baixo Basso Cla04 Camu...</td>\n",
       "      <td>729129072</td>\n",
       "      <td>7898942136085</td>\n",
       "      <td>1</td>\n",
       "      <td>Correia</td>\n",
       "    </tr>\n",
       "  </tbody>\n",
       "</table>\n",
       "<p>1 rows × 23 columns</p>\n",
       "</div>"
      ],
      "text/plain": [
       "        ml_code_x seller_sku inventory_id value_name  status title  \\\n",
       "62  MLB1991139259        NaN    AOLT03050        NaN  active   NaN   \n",
       "\n",
       "    available_quantity_today transfer_status  transfer_quantity  \\\n",
       "62                        10            None                NaN   \n",
       "\n",
       "    total_available_quantity  ...  total_sold  period_send_fulfillment  \\\n",
       "62                        10  ...           0                    -10.0   \n",
       "\n",
       "    stock_replenishment      ml_code_y            SKU  \\\n",
       "62                  0.0  MLB1991139259  7891088010028   \n",
       "\n",
       "                                    Título do anúncio    ID Tiny  \\\n",
       "62  Correia Guitarra Violão Baixo Basso Cla04 Camu...  729129072   \n",
       "\n",
       "         SKU Tiny Quantidade do item Tipo de produto  \n",
       "62  7898942136085                  1         Correia  \n",
       "\n",
       "[1 rows x 23 columns]"
      ]
     },
     "execution_count": 215,
     "metadata": {},
     "output_type": "execute_result"
    }
   ],
   "source": [
    "df_tiny_fulfillment_sold_zero.sample()"
   ]
  },
  {
   "cell_type": "code",
   "execution_count": 216,
   "metadata": {},
   "outputs": [
    {
     "data": {
      "text/plain": [
       "Index(['ml_code_x', 'seller_sku', 'inventory_id', 'value_name', 'status',\n",
       "       'title', 'available_quantity_today', 'transfer_status',\n",
       "       'transfer_quantity', 'total_available_quantity', 'days_available',\n",
       "       'total_sold_not_catalog', 'total_sold_catalog', 'total_sold',\n",
       "       'period_send_fulfillment', 'stock_replenishment', 'ml_code_y', 'SKU',\n",
       "       'Título do anúncio', 'ID Tiny', 'SKU Tiny', 'Quantidade do item',\n",
       "       'Tipo de produto'],\n",
       "      dtype='object')"
      ]
     },
     "execution_count": 216,
     "metadata": {},
     "output_type": "execute_result"
    }
   ],
   "source": [
    "df_tiny_fulfillment_sold_zero.columns"
   ]
  },
  {
   "cell_type": "code",
   "execution_count": 217,
   "metadata": {},
   "outputs": [],
   "source": [
    "# df_tiny_fulfillment_sold_zero[['ml_code_x','ml_code_y']]\n",
    "# df_tiny_fulfillment_sold_zero[['ml_code_x','seller_sku','SKU', 'Título do anúncio']]"
   ]
  },
  {
   "cell_type": "code",
   "execution_count": 218,
   "metadata": {},
   "outputs": [],
   "source": [
    "df_tiny_fulfillment_sold_zero = df_tiny_fulfillment_sold_zero.drop(\n",
    "    columns=[\"ml_code_y\", \"seller_sku\", \"title\"]\n",
    ")"
   ]
  },
  {
   "cell_type": "code",
   "execution_count": 224,
   "metadata": {},
   "outputs": [],
   "source": [
    "dic_new_names = {\n",
    "    \"ml_code_x\": \"ml_code\",\n",
    "    \"SKU\": \"seller_sku\",\n",
    "    \"Título do anúncio\": \"title\",\n",
    "    \"Quantidade do item\": \"qtd_item\",\n",
    "    \"ID Tiny\": \"tiny_id\",\n",
    "    \"SKU Tiny\": \"tiny_sku\",\n",
    "    \"Tipo de produto\": \"type\",\n",
    "}\n",
    "df_tiny_fulfillment_sold_zero = df_tiny_fulfillment_sold_zero.rename(\n",
    "    columns=dic_new_names\n",
    ")\n",
    "\n",
    "cols = [\n",
    "    \"inventory_id\",\n",
    "    \"ml_code\",\n",
    "    \"seller_sku\",\n",
    "    \"title\",\n",
    "    \"tiny_id\",\n",
    "    \"tiny_sku\",\n",
    "    \"qtd_item\",\n",
    "    \"type\",\n",
    "    \"stock_replenishment\",\n",
    "    \"status\",\n",
    "]"
   ]
  },
  {
   "cell_type": "code",
   "execution_count": 225,
   "metadata": {},
   "outputs": [
    {
     "data": {
      "text/html": [
       "<div>\n",
       "<style scoped>\n",
       "    .dataframe tbody tr th:only-of-type {\n",
       "        vertical-align: middle;\n",
       "    }\n",
       "\n",
       "    .dataframe tbody tr th {\n",
       "        vertical-align: top;\n",
       "    }\n",
       "\n",
       "    .dataframe thead th {\n",
       "        text-align: right;\n",
       "    }\n",
       "</style>\n",
       "<table border=\"1\" class=\"dataframe\">\n",
       "  <thead>\n",
       "    <tr style=\"text-align: right;\">\n",
       "      <th></th>\n",
       "      <th>ml_code</th>\n",
       "      <th>inventory_id</th>\n",
       "      <th>value_name</th>\n",
       "      <th>status</th>\n",
       "      <th>available_quantity_today</th>\n",
       "      <th>transfer_status</th>\n",
       "      <th>transfer_quantity</th>\n",
       "      <th>total_available_quantity</th>\n",
       "      <th>days_available</th>\n",
       "      <th>total_sold_not_catalog</th>\n",
       "      <th>total_sold_catalog</th>\n",
       "      <th>total_sold</th>\n",
       "      <th>period_send_fulfillment</th>\n",
       "      <th>stock_replenishment</th>\n",
       "      <th>seller_sku</th>\n",
       "      <th>title</th>\n",
       "      <th>tiny_id</th>\n",
       "      <th>tiny_sku</th>\n",
       "      <th>qtd_item</th>\n",
       "      <th>type</th>\n",
       "    </tr>\n",
       "  </thead>\n",
       "  <tbody>\n",
       "    <tr>\n",
       "      <th>120</th>\n",
       "      <td>MLB2642201611</td>\n",
       "      <td>PPWL54078</td>\n",
       "      <td>NaN</td>\n",
       "      <td>active</td>\n",
       "      <td>3</td>\n",
       "      <td>None</td>\n",
       "      <td>NaN</td>\n",
       "      <td>3</td>\n",
       "      <td>33</td>\n",
       "      <td>0</td>\n",
       "      <td>0</td>\n",
       "      <td>0</td>\n",
       "      <td>-3.0</td>\n",
       "      <td>0.0</td>\n",
       "      <td>FULLERNIEBALLP09601</td>\n",
       "      <td>Capotraste Violão &amp; Guitarra Axis Prata Profis...</td>\n",
       "      <td>742000940</td>\n",
       "      <td>749699100744</td>\n",
       "      <td>1</td>\n",
       "      <td>Capotraste</td>\n",
       "    </tr>\n",
       "  </tbody>\n",
       "</table>\n",
       "</div>"
      ],
      "text/plain": [
       "           ml_code inventory_id value_name  status  available_quantity_today  \\\n",
       "120  MLB2642201611    PPWL54078        NaN  active                         3   \n",
       "\n",
       "    transfer_status  transfer_quantity  total_available_quantity  \\\n",
       "120            None                NaN                         3   \n",
       "\n",
       "     days_available  total_sold_not_catalog  total_sold_catalog  total_sold  \\\n",
       "120              33                       0                   0           0   \n",
       "\n",
       "     period_send_fulfillment  stock_replenishment           seller_sku  \\\n",
       "120                     -3.0                  0.0  FULLERNIEBALLP09601   \n",
       "\n",
       "                                                 title    tiny_id  \\\n",
       "120  Capotraste Violão & Guitarra Axis Prata Profis...  742000940   \n",
       "\n",
       "         tiny_sku  qtd_item        type  \n",
       "120  749699100744         1  Capotraste  "
      ]
     },
     "execution_count": 225,
     "metadata": {},
     "output_type": "execute_result"
    }
   ],
   "source": [
    "df_tiny_fulfillment_sold_zero.sample()"
   ]
  },
  {
   "cell_type": "code",
   "execution_count": 227,
   "metadata": {},
   "outputs": [],
   "source": [
    "df_tiny_fulfillment_sold_zero = df_tiny_fulfillment_sold_zero[cols]"
   ]
  },
  {
   "cell_type": "code",
   "execution_count": 228,
   "metadata": {},
   "outputs": [
    {
     "data": {
      "text/html": [
       "<div>\n",
       "<style scoped>\n",
       "    .dataframe tbody tr th:only-of-type {\n",
       "        vertical-align: middle;\n",
       "    }\n",
       "\n",
       "    .dataframe tbody tr th {\n",
       "        vertical-align: top;\n",
       "    }\n",
       "\n",
       "    .dataframe thead th {\n",
       "        text-align: right;\n",
       "    }\n",
       "</style>\n",
       "<table border=\"1\" class=\"dataframe\">\n",
       "  <thead>\n",
       "    <tr style=\"text-align: right;\">\n",
       "      <th></th>\n",
       "      <th>inventory_id</th>\n",
       "      <th>ml_code</th>\n",
       "      <th>seller_sku</th>\n",
       "      <th>title</th>\n",
       "      <th>tiny_id</th>\n",
       "      <th>tiny_sku</th>\n",
       "      <th>qtd_item</th>\n",
       "      <th>type</th>\n",
       "      <th>stock_replenishment</th>\n",
       "      <th>status</th>\n",
       "    </tr>\n",
       "  </thead>\n",
       "  <tbody>\n",
       "    <tr>\n",
       "      <th>90</th>\n",
       "      <td>AVOX05934</td>\n",
       "      <td>MLB2003190501</td>\n",
       "      <td>FULLBASSOSF80</td>\n",
       "      <td>Correia Guitarra Violão Baixo Basso Alça Exérc...</td>\n",
       "      <td>729131555</td>\n",
       "      <td>7898942138676</td>\n",
       "      <td>1</td>\n",
       "      <td>Correia</td>\n",
       "      <td>0.0</td>\n",
       "      <td>active</td>\n",
       "    </tr>\n",
       "  </tbody>\n",
       "</table>\n",
       "</div>"
      ],
      "text/plain": [
       "   inventory_id        ml_code     seller_sku  \\\n",
       "90    AVOX05934  MLB2003190501  FULLBASSOSF80   \n",
       "\n",
       "                                                title    tiny_id  \\\n",
       "90  Correia Guitarra Violão Baixo Basso Alça Exérc...  729131555   \n",
       "\n",
       "         tiny_sku  qtd_item     type  stock_replenishment  status  \n",
       "90  7898942138676         1  Correia                  0.0  active  "
      ]
     },
     "execution_count": 228,
     "metadata": {},
     "output_type": "execute_result"
    }
   ],
   "source": [
    "df_tiny_fulfillment_sold_zero.sample()"
   ]
  },
  {
   "cell_type": "code",
   "execution_count": 229,
   "metadata": {},
   "outputs": [],
   "source": [
    "df_wms_tf_sold_zero_ci = pd.merge(\n",
    "    df_tiny_fulfillment_sold_zero,\n",
    "    df_wms,\n",
    "    left_on=\"tiny_sku\",\n",
    "    right_on=\"produtoCodigoInterno\",\n",
    ")\n",
    "df_wms_tf_sold_zero_ce = pd.merge(\n",
    "    df_tiny_fulfillment_sold_zero,\n",
    "    df_wms,\n",
    "    left_on=\"tiny_sku\",\n",
    "    right_on=\"produtoCodigoExterno\",\n",
    ")"
   ]
  },
  {
   "cell_type": "code",
   "execution_count": 230,
   "metadata": {},
   "outputs": [
    {
     "name": "stdout",
     "output_type": "stream",
     "text": [
      "(331, 17)\n",
      "(80, 17)\n"
     ]
    }
   ],
   "source": [
    "print(df_wms_tf_sold_zero_ci.shape)\n",
    "print(df_wms_tf_sold_zero_ce.shape)"
   ]
  },
  {
   "cell_type": "code",
   "execution_count": 231,
   "metadata": {},
   "outputs": [
    {
     "name": "stdout",
     "output_type": "stream",
     "text": [
      "(411, 17)\n"
     ]
    }
   ],
   "source": [
    "# df_junto = pd.merge(df_wms_tf_no_itens_ci, df_wms_tf_no_itens_ce, on='coluna_comum', how='outer')\n",
    "\n",
    "df_wms_tf_sold_zero = pd.concat(\n",
    "    [df_wms_tf_sold_zero_ci, df_wms_tf_sold_zero_ce], ignore_index=True\n",
    ")\n",
    "\n",
    "print(df_wms_tf_sold_zero.shape)"
   ]
  },
  {
   "cell_type": "code",
   "execution_count": 233,
   "metadata": {},
   "outputs": [
    {
     "name": "stdout",
     "output_type": "stream",
     "text": [
      "(336, 17)\n"
     ]
    }
   ],
   "source": [
    "df_wms_tf_sold_zero = df_wms_tf_sold_zero.drop_duplicates()\n",
    "print(df_wms_tf_sold_zero.shape)"
   ]
  },
  {
   "cell_type": "code",
   "execution_count": 234,
   "metadata": {},
   "outputs": [
    {
     "data": {
      "text/html": [
       "<div>\n",
       "<style scoped>\n",
       "    .dataframe tbody tr th:only-of-type {\n",
       "        vertical-align: middle;\n",
       "    }\n",
       "\n",
       "    .dataframe tbody tr th {\n",
       "        vertical-align: top;\n",
       "    }\n",
       "\n",
       "    .dataframe thead th {\n",
       "        text-align: right;\n",
       "    }\n",
       "</style>\n",
       "<table border=\"1\" class=\"dataframe\">\n",
       "  <thead>\n",
       "    <tr style=\"text-align: right;\">\n",
       "      <th></th>\n",
       "      <th>inventory_id</th>\n",
       "      <th>ml_code</th>\n",
       "      <th>seller_sku</th>\n",
       "      <th>title</th>\n",
       "      <th>tiny_id</th>\n",
       "      <th>tiny_sku</th>\n",
       "      <th>qtd_item</th>\n",
       "      <th>stock_replenishment</th>\n",
       "      <th>status</th>\n",
       "      <th>produtoCodigoInterno</th>\n",
       "      <th>produtoCodigoExterno</th>\n",
       "      <th>quantidade_disponivel</th>\n",
       "    </tr>\n",
       "  </thead>\n",
       "  <tbody>\n",
       "    <tr>\n",
       "      <th>0</th>\n",
       "      <td>TLCG38735</td>\n",
       "      <td>MLB1435852259</td>\n",
       "      <td>FULLELIXIR3216</td>\n",
       "      <td>Encordoamento Elixir .010 Light Nanoweb Para G...</td>\n",
       "      <td>632364091</td>\n",
       "      <td>7897626832169</td>\n",
       "      <td>1</td>\n",
       "      <td>0.0</td>\n",
       "      <td>active</td>\n",
       "      <td>7897626832169</td>\n",
       "      <td>7897626832169</td>\n",
       "      <td>8</td>\n",
       "    </tr>\n",
       "    <tr>\n",
       "      <th>1</th>\n",
       "      <td>ZXFT21237</td>\n",
       "      <td>MLB1400355425</td>\n",
       "      <td>FULLIZZO6232C</td>\n",
       "      <td>Bacurinha Izzo 8  X 30 Cm Aluminio Pele Leitos...</td>\n",
       "      <td>680027823</td>\n",
       "      <td>7897626862326</td>\n",
       "      <td>1</td>\n",
       "      <td>0.0</td>\n",
       "      <td>active</td>\n",
       "      <td>7897626862326</td>\n",
       "      <td>7897626862326</td>\n",
       "      <td>13</td>\n",
       "    </tr>\n",
       "    <tr>\n",
       "      <th>2</th>\n",
       "      <td>ELKX63703</td>\n",
       "      <td>MLB1490289695</td>\n",
       "      <td>FULLIZZO6232</td>\n",
       "      <td>Bacurinha Izzo 8  X 30 Cm Aluminio Pele Leitos...</td>\n",
       "      <td>680027823</td>\n",
       "      <td>7897626862326</td>\n",
       "      <td>1</td>\n",
       "      <td>0.0</td>\n",
       "      <td>active</td>\n",
       "      <td>7897626862326</td>\n",
       "      <td>7897626862326</td>\n",
       "      <td>13</td>\n",
       "    </tr>\n",
       "    <tr>\n",
       "      <th>3</th>\n",
       "      <td>XGVG11805</td>\n",
       "      <td>MLB1568293054</td>\n",
       "      <td>FULLDATALINKXLRF</td>\n",
       "      <td>Kit 10 Plugs Conector Datalink Xlr(f) Femea De...</td>\n",
       "      <td>747263702</td>\n",
       "      <td>7898571081633</td>\n",
       "      <td>10</td>\n",
       "      <td>0.0</td>\n",
       "      <td>active</td>\n",
       "      <td>7898571081633</td>\n",
       "      <td>XLR-004-100</td>\n",
       "      <td>661</td>\n",
       "    </tr>\n",
       "    <tr>\n",
       "      <th>4</th>\n",
       "      <td>ELKB12099</td>\n",
       "      <td>MLB1567957793</td>\n",
       "      <td>FULLDATALINK2MICECO</td>\n",
       "      <td>Cabo Microfone Balanceado Estereo Dmx Rolo Com...</td>\n",
       "      <td>754085190</td>\n",
       "      <td>7898571083767</td>\n",
       "      <td>2</td>\n",
       "      <td>0.0</td>\n",
       "      <td>active</td>\n",
       "      <td>7898571083767</td>\n",
       "      <td>MIC-002-100</td>\n",
       "      <td>65</td>\n",
       "    </tr>\n",
       "    <tr>\n",
       "      <th>...</th>\n",
       "      <td>...</td>\n",
       "      <td>...</td>\n",
       "      <td>...</td>\n",
       "      <td>...</td>\n",
       "      <td>...</td>\n",
       "      <td>...</td>\n",
       "      <td>...</td>\n",
       "      <td>...</td>\n",
       "      <td>...</td>\n",
       "      <td>...</td>\n",
       "      <td>...</td>\n",
       "      <td>...</td>\n",
       "    </tr>\n",
       "    <tr>\n",
       "      <th>338</th>\n",
       "      <td>DVXT49932</td>\n",
       "      <td>MLB3337214843</td>\n",
       "      <td>FULLLIVERPOOL3NI5BM3NI7AM</td>\n",
       "      <td>Kit 6 Pares De Baquetas D Bateria Liverpool Ni...</td>\n",
       "      <td>735947207</td>\n",
       "      <td>7897937421021</td>\n",
       "      <td>3</td>\n",
       "      <td>0.0</td>\n",
       "      <td>active</td>\n",
       "      <td>NI 5BM</td>\n",
       "      <td>7897937421021</td>\n",
       "      <td>1000</td>\n",
       "    </tr>\n",
       "    <tr>\n",
       "      <th>340</th>\n",
       "      <td>RTDN45757</td>\n",
       "      <td>MLB3337214843</td>\n",
       "      <td>FULLLIVERPOOL6NI5BM</td>\n",
       "      <td>Kit 6 Pares De Baquetas D Bateria Liverpool Ni...</td>\n",
       "      <td>735947207</td>\n",
       "      <td>7897937421021</td>\n",
       "      <td>6</td>\n",
       "      <td>0.0</td>\n",
       "      <td>active</td>\n",
       "      <td>NI 5BM</td>\n",
       "      <td>7897937421021</td>\n",
       "      <td>1000</td>\n",
       "    </tr>\n",
       "    <tr>\n",
       "      <th>342</th>\n",
       "      <td>DVXT49932</td>\n",
       "      <td>MLB3337214843</td>\n",
       "      <td>FULLLIVERPOOL3NI5BM3NI7AM</td>\n",
       "      <td>Kit 6 Pares De Baquetas D Bateria Liverpool Ni...</td>\n",
       "      <td>747848159</td>\n",
       "      <td>7897937421007</td>\n",
       "      <td>3</td>\n",
       "      <td>0.0</td>\n",
       "      <td>active</td>\n",
       "      <td>NI 7AM</td>\n",
       "      <td>7897937421007</td>\n",
       "      <td>1000</td>\n",
       "    </tr>\n",
       "    <tr>\n",
       "      <th>344</th>\n",
       "      <td>VUYV97753</td>\n",
       "      <td>MLB1990033192</td>\n",
       "      <td>FULLLIVERPOOL2NI7AM</td>\n",
       "      <td>Kit 2 Baquetas 7a De Bateria Liverpool Nirvana...</td>\n",
       "      <td>747848159</td>\n",
       "      <td>7897937421007</td>\n",
       "      <td>2</td>\n",
       "      <td>0.0</td>\n",
       "      <td>active</td>\n",
       "      <td>NI 7AM</td>\n",
       "      <td>7897937421007</td>\n",
       "      <td>1000</td>\n",
       "    </tr>\n",
       "    <tr>\n",
       "      <th>346</th>\n",
       "      <td>MZLX96272</td>\n",
       "      <td>MLB1992576254</td>\n",
       "      <td>FULLLIVERPOOLNI7AMC</td>\n",
       "      <td>Kit 2 Baquetas 7a De Bateria Liverpool Nirvana...</td>\n",
       "      <td>747848159</td>\n",
       "      <td>7897937421007</td>\n",
       "      <td>2</td>\n",
       "      <td>0.0</td>\n",
       "      <td>active</td>\n",
       "      <td>NI 7AM</td>\n",
       "      <td>7897937421007</td>\n",
       "      <td>1000</td>\n",
       "    </tr>\n",
       "  </tbody>\n",
       "</table>\n",
       "<p>336 rows × 12 columns</p>\n",
       "</div>"
      ],
      "text/plain": [
       "    inventory_id        ml_code                 seller_sku  \\\n",
       "0      TLCG38735  MLB1435852259             FULLELIXIR3216   \n",
       "1      ZXFT21237  MLB1400355425              FULLIZZO6232C   \n",
       "2      ELKX63703  MLB1490289695               FULLIZZO6232   \n",
       "3      XGVG11805  MLB1568293054           FULLDATALINKXLRF   \n",
       "4      ELKB12099  MLB1567957793        FULLDATALINK2MICECO   \n",
       "..           ...            ...                        ...   \n",
       "338    DVXT49932  MLB3337214843  FULLLIVERPOOL3NI5BM3NI7AM   \n",
       "340    RTDN45757  MLB3337214843        FULLLIVERPOOL6NI5BM   \n",
       "342    DVXT49932  MLB3337214843  FULLLIVERPOOL3NI5BM3NI7AM   \n",
       "344    VUYV97753  MLB1990033192        FULLLIVERPOOL2NI7AM   \n",
       "346    MZLX96272  MLB1992576254        FULLLIVERPOOLNI7AMC   \n",
       "\n",
       "                                                 title    tiny_id  \\\n",
       "0    Encordoamento Elixir .010 Light Nanoweb Para G...  632364091   \n",
       "1    Bacurinha Izzo 8  X 30 Cm Aluminio Pele Leitos...  680027823   \n",
       "2    Bacurinha Izzo 8  X 30 Cm Aluminio Pele Leitos...  680027823   \n",
       "3    Kit 10 Plugs Conector Datalink Xlr(f) Femea De...  747263702   \n",
       "4    Cabo Microfone Balanceado Estereo Dmx Rolo Com...  754085190   \n",
       "..                                                 ...        ...   \n",
       "338  Kit 6 Pares De Baquetas D Bateria Liverpool Ni...  735947207   \n",
       "340  Kit 6 Pares De Baquetas D Bateria Liverpool Ni...  735947207   \n",
       "342  Kit 6 Pares De Baquetas D Bateria Liverpool Ni...  747848159   \n",
       "344  Kit 2 Baquetas 7a De Bateria Liverpool Nirvana...  747848159   \n",
       "346  Kit 2 Baquetas 7a De Bateria Liverpool Nirvana...  747848159   \n",
       "\n",
       "          tiny_sku  qtd_item  stock_replenishment  status  \\\n",
       "0    7897626832169         1                  0.0  active   \n",
       "1    7897626862326         1                  0.0  active   \n",
       "2    7897626862326         1                  0.0  active   \n",
       "3    7898571081633        10                  0.0  active   \n",
       "4    7898571083767         2                  0.0  active   \n",
       "..             ...       ...                  ...     ...   \n",
       "338  7897937421021         3                  0.0  active   \n",
       "340  7897937421021         6                  0.0  active   \n",
       "342  7897937421007         3                  0.0  active   \n",
       "344  7897937421007         2                  0.0  active   \n",
       "346  7897937421007         2                  0.0  active   \n",
       "\n",
       "    produtoCodigoInterno produtoCodigoExterno  quantidade_disponivel  \n",
       "0          7897626832169        7897626832169                      8  \n",
       "1          7897626862326        7897626862326                     13  \n",
       "2          7897626862326        7897626862326                     13  \n",
       "3          7898571081633          XLR-004-100                    661  \n",
       "4          7898571083767          MIC-002-100                     65  \n",
       "..                   ...                  ...                    ...  \n",
       "338               NI 5BM        7897937421021                   1000  \n",
       "340               NI 5BM        7897937421021                   1000  \n",
       "342               NI 7AM        7897937421007                   1000  \n",
       "344               NI 7AM        7897937421007                   1000  \n",
       "346               NI 7AM        7897937421007                   1000  \n",
       "\n",
       "[336 rows x 12 columns]"
      ]
     },
     "execution_count": 234,
     "metadata": {},
     "output_type": "execute_result"
    }
   ],
   "source": [
    "cols = [\n",
    "    \"inventory_id\",\n",
    "    \"ml_code\",\n",
    "    \"seller_sku\",\n",
    "    \"title\",\n",
    "    \"tiny_id\",\n",
    "    \"tiny_sku\",\n",
    "    \"qtd_item\",\n",
    "    \"stock_replenishment\",\n",
    "    \"status\",\n",
    "    \"produtoCodigoInterno\",\n",
    "    \"produtoCodigoExterno\",\n",
    "    \"quantidade_disponivel\",\n",
    "]\n",
    "\n",
    "df_wms_tf_sold_zero = df_wms_tf_sold_zero[cols]\n",
    "df_wms_tf_sold_zero"
   ]
  },
  {
   "cell_type": "code",
   "execution_count": null,
   "metadata": {},
   "outputs": [],
   "source": []
  }
 ],
 "metadata": {
  "kernelspec": {
   "display_name": "venv",
   "language": "python",
   "name": "python3"
  },
  "language_info": {
   "codemirror_mode": {
    "name": "ipython",
    "version": 3
   },
   "file_extension": ".py",
   "mimetype": "text/x-python",
   "name": "python",
   "nbconvert_exporter": "python",
   "pygments_lexer": "ipython3",
   "version": "3.12.0"
  }
 },
 "nbformat": 4,
 "nbformat_minor": 2
}
