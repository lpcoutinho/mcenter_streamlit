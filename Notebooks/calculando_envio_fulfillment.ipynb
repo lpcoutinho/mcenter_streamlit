{
 "cells": [
  {
   "cell_type": "markdown",
   "metadata": {},
   "source": [
    "Depositos para enviar, orderm de preferencia:\n",
    "musical_matriz\n",
    "musical_filal\n",
    "em seguida onde houver mais estoque\n",
    "\n",
    "\n",
    "onde days_available = 0 criar observação onde informa que há muito tempo sem estoque"
   ]
  },
  {
   "cell_type": "code",
   "execution_count": 1,
   "metadata": {},
   "outputs": [],
   "source": [
    "import json\n",
    "import os\n",
    "import time\n",
    "from pandas import json_normalize\n",
    "import psycopg2\n",
    "from psycopg2 import sql\n",
    "import math\n",
    "import pandas as pd\n",
    "import requests\n",
    "from dotenv import load_dotenv\n",
    "from datetime import datetime, timedelta\n",
    "import numpy as np\n",
    "\n",
    "load_dotenv()\n",
    "\n",
    "ACCESS_TOKEN_MCENTER = os.getenv(\"ACCESS_TOKEN_MCENTER\")\n",
    "ACCESS_TOKEN_BUENOSHOPS = os.getenv(\"ACCESS_TOKEN_BUENOSHOPS\")\n",
    "ACCESS_TOKEN_MUSICALCRIS = os.getenv(\"ACCESS_TOKEN_MUSICALCRIS\")\n",
    "\n",
    "HOST = os.getenv(\"HOST\")\n",
    "POSTGRES_DB = os.getenv(\"POSTGRES_DB\")\n",
    "POSTGRES_USER = os.getenv(\"POSTGRES_USER\")\n",
    "POSTGRES_PASSWORD = os.getenv(\"POSTGRES_PASSWORD\")\n",
    "\n",
    "\n",
    "# Informações de conexão com o banco de dados PostgreSQL\n",
    "db_config = {\n",
    "    \"host\": HOST,\n",
    "    \"database\": POSTGRES_DB,\n",
    "    \"user\": POSTGRES_USER,\n",
    "    \"password\": POSTGRES_PASSWORD,\n",
    "}"
   ]
  },
  {
   "cell_type": "code",
   "execution_count": 2,
   "metadata": {},
   "outputs": [],
   "source": [
    "def condf(df, coluna, valor):\n",
    "    \"\"\"\n",
    "    Consulta um DataFrame com base em uma coluna e valor específicos.\n",
    "\n",
    "    Parâmetros:\n",
    "    - df: DataFrame a ser consultado.\n",
    "    - coluna: Nome da coluna para a condição de consulta.\n",
    "    - valor: Valor desejado na coluna.\n",
    "\n",
    "    Retorna:\n",
    "    Um DataFrame contendo apenas as linhas que atendem à condição.\n",
    "    \"\"\"\n",
    "    resultado = df[df[coluna] == valor]\n",
    "    return resultado\n",
    "\n",
    "\n",
    "def condf_date(df, coluna_data, data_pesquisada):\n",
    "    \"\"\"\n",
    "    Consulta um DataFrame com base em uma coluna de datas.\n",
    "\n",
    "    Parâmetros:\n",
    "    - df: DataFrame a ser consultado.\n",
    "    - coluna_data: Nome da coluna de datas.\n",
    "    - data_pesquisada: Data desejada para a consulta.\n",
    "\n",
    "    Retorna:\n",
    "    Um DataFrame contendo apenas as linhas que correspondem à data pesquisada.\n",
    "    \"\"\"\n",
    "    resultado = df[pd.to_datetime(df[coluna_data]).dt.date == data_pesquisada]\n",
    "    return resultado"
   ]
  },
  {
   "cell_type": "markdown",
   "metadata": {},
   "source": [
    "### Período a consultar"
   ]
  },
  {
   "cell_type": "code",
   "execution_count": 3,
   "metadata": {},
   "outputs": [
    {
     "name": "stdout",
     "output_type": "stream",
     "text": [
      "data_inicio:  2023-11-01\n",
      "data_fim:  2023-12-13\n"
     ]
    }
   ],
   "source": [
    "# Defina as datas de início e fim desejadas\n",
    "data_inicio = datetime(2023, 11, 1).date()\n",
    "data_fim = datetime(2023, 12, 13).date()\n",
    "# data_fim = data_fim + timedelta(days=1)  # + 1 dia para pegar a data atual no DB\n",
    "# data_fim = data_fim - timedelta(days=1)  # + 1 dia para pegar a data atual no DB\n",
    "print(\"data_inicio: \", data_inicio)\n",
    "print(\"data_fim: \", data_fim)"
   ]
  },
  {
   "cell_type": "markdown",
   "metadata": {},
   "source": [
    "### Historico de estoque fulfillment"
   ]
  },
  {
   "cell_type": "code",
   "execution_count": 4,
   "metadata": {},
   "outputs": [
    {
     "name": "stdout",
     "output_type": "stream",
     "text": [
      "SELECT * FROM mcenter_fulfillment_stock WHERE created_at BETWEEN '2023-11-01' AND '2023-12-13;'\n"
     ]
    },
    {
     "name": "stderr",
     "output_type": "stream",
     "text": [
      "C:\\Users\\couti\\AppData\\Local\\Temp\\ipykernel_5452\\1935300295.py:8: UserWarning: pandas only supports SQLAlchemy connectable (engine/connection) or database string URI or sqlite3 DBAPI2 connection. Other DBAPI2 objects are not tested. Please consider using SQLAlchemy.\n",
      "  df_stock = pd.read_sql(sql_query, conn)\n"
     ]
    }
   ],
   "source": [
    "# Buscando histórico de estoque na tabela\n",
    "try:\n",
    "    conn = psycopg2.connect(**db_config)\n",
    "\n",
    "    sql_query = f\"SELECT * FROM mcenter_fulfillment_stock WHERE created_at BETWEEN '{data_inicio}' AND '{data_fim};'\"\n",
    "    # sql_query = f\"SELECT * FROM fulfillment_stock WHERE created_at BETWEEN '2023-12-04' AND '2023-12-05';\"\n",
    "    print(sql_query)\n",
    "    df_stock = pd.read_sql(sql_query, conn)\n",
    "\n",
    "except psycopg2.Error as e:\n",
    "    print(f\"Erro do psycopg2 ao consultar fulfillment_stock: {e}\")\n",
    "\n",
    "except Exception as e:\n",
    "    print(f\"Erro ao consultar fulfillment_stock: {e}\")\n",
    "\n",
    "finally:\n",
    "    if conn is not None:\n",
    "        conn.close()"
   ]
  },
  {
   "cell_type": "code",
   "execution_count": 5,
   "metadata": {},
   "outputs": [],
   "source": [
    "# df_stock\n",
    "# print(df_stock.shape)\n",
    "# duplicates = df_stock[df_stock.duplicated(keep=False)]\n",
    "# duplicates"
   ]
  },
  {
   "cell_type": "code",
   "execution_count": 6,
   "metadata": {},
   "outputs": [],
   "source": [
    "# # datas consultadas, dias em que um produto pode ou não estar disponível\n",
    "# # df_stock[\"created_at\"].value_counts().index.to_list()\n",
    "# df_stock[\"created_at\"].value_counts().sort_index()\n",
    "# df_stock[\"created_at\"].dt.date.value_counts().sort_index()\n",
    "# # df_stock[\"created_at\"].dt.date.value_counts()\n",
    "\n",
    "# # len(df_stock[\"created_at\"].dt.date.value_counts().sort_index())"
   ]
  },
  {
   "cell_type": "code",
   "execution_count": 7,
   "metadata": {},
   "outputs": [],
   "source": [
    "# df_stock"
   ]
  },
  {
   "cell_type": "code",
   "execution_count": 8,
   "metadata": {},
   "outputs": [],
   "source": [
    "# # buscando anuncio e verificando dias consultados\n",
    "# result = df_stock[df_stock['ml_inventory_id'] == 'FBAY80623']\n",
    "# result = result.sort_values(by='created_at')\n",
    "# result"
   ]
  },
  {
   "cell_type": "code",
   "execution_count": 9,
   "metadata": {},
   "outputs": [],
   "source": [
    "# # encontrando anuncios pela data\n",
    "# df_stock[\"created_at\"] = pd.to_datetime(df_stock[\"created_at\"])\n",
    "# result = df_stock.loc[df_stock['created_at'].dt.date == pd.to_datetime('2023-12-7').date()]\n",
    "# result"
   ]
  },
  {
   "cell_type": "code",
   "execution_count": 10,
   "metadata": {},
   "outputs": [],
   "source": [
    "# df_stock[df_stock['created_at']=='2023-12-07 03:01:03.036386']"
   ]
  },
  {
   "cell_type": "code",
   "execution_count": 11,
   "metadata": {},
   "outputs": [],
   "source": [
    "# Ordenando stock por data\n",
    "df_stock = df_stock.sort_values(by=\"created_at\", ascending=False)\n",
    "df_stock[\"data\"] = df_stock[\"created_at\"].dt.date\n",
    "df_stock = df_stock.drop([\"created_at\"], axis=1)"
   ]
  },
  {
   "cell_type": "code",
   "execution_count": 12,
   "metadata": {},
   "outputs": [],
   "source": [
    "# df_stock"
   ]
  },
  {
   "cell_type": "code",
   "execution_count": 13,
   "metadata": {},
   "outputs": [],
   "source": [
    "# df_stock.dtypes"
   ]
  },
  {
   "cell_type": "code",
   "execution_count": 14,
   "metadata": {},
   "outputs": [],
   "source": [
    "# df_stock['data'] = pd.to_datetime(df_stock['data'])\n",
    "\n",
    "# dfx = condf(df_stock, 'data', '2023-11-1')\n",
    "# dfx"
   ]
  },
  {
   "cell_type": "code",
   "execution_count": 15,
   "metadata": {},
   "outputs": [],
   "source": [
    "# # A linha abaixo conta as ocorrências de cada valor em 'ml_inventory_id'\n",
    "# # value_counts = result['ml_inventory_id'].value_counts()\n",
    "# value_counts = df_stock['ml_inventory_id'].value_counts()\n",
    "\n",
    "# # Filtra para incluir apenas aqueles que ocorrem mais de 2 vezes\n",
    "# filtered_counts = value_counts[value_counts > 1]\n",
    "\n",
    "# filtered_counts.shape\n",
    "# # filtered_counts\n",
    "# value_counts"
   ]
  },
  {
   "cell_type": "code",
   "execution_count": 16,
   "metadata": {},
   "outputs": [],
   "source": [
    "# df_stock[df_stock[\"detail_status\"] == \"transfer\"]"
   ]
  },
  {
   "cell_type": "code",
   "execution_count": 17,
   "metadata": {},
   "outputs": [],
   "source": [
    "# condf(df_stock,'ml_inventory_id','CRMK90073')"
   ]
  },
  {
   "cell_type": "code",
   "execution_count": 18,
   "metadata": {},
   "outputs": [],
   "source": [
    "# condf(df_stock, \"detail_status\", \"transfer\")"
   ]
  },
  {
   "cell_type": "code",
   "execution_count": 19,
   "metadata": {},
   "outputs": [],
   "source": [
    "## Cria coluna has_stock, se available_quantity <= 0, has_stock= False ##\n",
    "df_stock = df_stock.assign(has_stock=lambda x: x[\"available_quantity\"] > 0)\n",
    "df_stock = df_stock.sort_values(by=\"data\", ascending=False).reset_index(drop=True)"
   ]
  },
  {
   "cell_type": "code",
   "execution_count": 20,
   "metadata": {},
   "outputs": [],
   "source": [
    "# df_stock"
   ]
  },
  {
   "cell_type": "code",
   "execution_count": 21,
   "metadata": {},
   "outputs": [],
   "source": [
    "# condf(df_stock, \"ml_inventory_id\", \"DSGP06967\")"
   ]
  },
  {
   "cell_type": "code",
   "execution_count": 22,
   "metadata": {},
   "outputs": [],
   "source": [
    "# print(df_stock.shape)\n",
    "# df_stock = df_stock.drop_duplicates()\n",
    "# print(df_stock.shape)"
   ]
  },
  {
   "cell_type": "markdown",
   "metadata": {},
   "source": [
    "#### Dias em que produto esteve disponível"
   ]
  },
  {
   "cell_type": "code",
   "execution_count": 23,
   "metadata": {},
   "outputs": [],
   "source": [
    "# condf(df_stock,'ml_inventory_id','ABCB20467')"
   ]
  },
  {
   "cell_type": "code",
   "execution_count": 24,
   "metadata": {},
   "outputs": [],
   "source": [
    "## Contando dias em que produto esteve disponível\n",
    "days_available = df_stock.groupby([\"ml_inventory_id\"])[\"has_stock\"].sum().reset_index()\n",
    "days_available = days_available.rename(columns={\"has_stock\": \"days_available\"})"
   ]
  },
  {
   "cell_type": "code",
   "execution_count": 25,
   "metadata": {},
   "outputs": [],
   "source": [
    "# days_available"
   ]
  },
  {
   "cell_type": "code",
   "execution_count": 26,
   "metadata": {},
   "outputs": [],
   "source": [
    "# days_available.sort_values(by='days_available',ascending=False)\n",
    "# days_available['days_available'].value_counts()\n",
    "\n",
    "# ## Contando dias em que produto esteve disponível\n",
    "# days_available = df_stock.groupby([\"ml_inventory_id\",\"references_variation_id\"])[\"has_stock\"].sum().reset_index()\n",
    "# days_available = days_available.rename(columns={\"has_stock\": \"days_available\"})\n",
    "# days_available"
   ]
  },
  {
   "cell_type": "code",
   "execution_count": 27,
   "metadata": {},
   "outputs": [],
   "source": [
    "# condf(df_stock, \"ml_inventory_id\", \"MENA66694\")"
   ]
  },
  {
   "cell_type": "code",
   "execution_count": 28,
   "metadata": {},
   "outputs": [],
   "source": [
    "# ## Contando dias em que produto esteve disponível\n",
    "# days_available_ = df_stock.groupby([\"ml_inventory_id\",\"references_variation_id\"])[\"has_stock\"].sum().reset_index()\n",
    "# days_available_ = days_available_.rename(columns={\"has_stock\": \"days_available\"})\n",
    "# days_available_"
   ]
  },
  {
   "cell_type": "code",
   "execution_count": 29,
   "metadata": {},
   "outputs": [],
   "source": [
    "# condf(days_available, \"ml_inventory_id\", \"DSGP06967\")\n",
    "# condf(days_available, \"ml_inventory_id\", \"DSGP06967\")"
   ]
  },
  {
   "cell_type": "code",
   "execution_count": 30,
   "metadata": {},
   "outputs": [],
   "source": [
    "# Unindo DFs\n",
    "df_stock_days = df_stock.merge(days_available, on=[\"ml_inventory_id\"], how=\"inner\")\n",
    "# df_stock_days_left = df_stock.merge(days_available, on=[\"ml_inventory_id\"], how=\"left\")\n",
    "# df_stock.rename(columns={'days_available_x': 'days_available'}, inplace=True)  # Corrigindo a sintaxe\n",
    "# df_stock = df_stock.drop(columns='days_available_y', axis=1)  # Corrigindo a sintaxe\n",
    "\n",
    "# Verificando o formato após a correção\n",
    "# print(df_stock.shape)\n",
    "#"
   ]
  },
  {
   "cell_type": "code",
   "execution_count": 31,
   "metadata": {},
   "outputs": [],
   "source": [
    "# print(df_stock.shape)\n",
    "# print(df_stock_days.shape)\n",
    "# print(df_stock_days_left.shape)\n",
    "# df_stock_days.sample(3)"
   ]
  },
  {
   "cell_type": "code",
   "execution_count": 32,
   "metadata": {},
   "outputs": [],
   "source": [
    "# # Unindo DFs\n",
    "# df_stock_ = df_stock.merge(days_available, on=[\"ml_inventory_id\"], how=\"inner\")\n",
    "# # df_stock_.rename(columns={'days_available_x': 'days_available'}, inplace=True)  # Corrigindo a sintaxe\n",
    "# # df_stock_ = df_stock_.drop(columns='days_available_y', axis=1)  # Corrigindo a sintaxe\n",
    "\n",
    "# # Verificando o formato após a correção\n",
    "# print(df_stock_.shape)\n",
    "# df_stock_"
   ]
  },
  {
   "cell_type": "code",
   "execution_count": 33,
   "metadata": {},
   "outputs": [],
   "source": [
    "# data de hoje\n",
    "data_de_hoje = datetime.now().date()\n",
    "data_de_hoje = data_de_hoje - timedelta(days=1)\n",
    "# print(data_de_hoje)\n",
    "\n",
    "df_stock_days[\"data\"] = pd.to_datetime(df_stock_days[\"data\"])\n",
    "\n",
    "# Filtra apenas as linhas onde 'data' é igual à data de hoje\n",
    "df_stock_today = df_stock_days[df_stock_days[\"data\"].dt.date == data_de_hoje]\n",
    "df_stock_today = df_stock_today.rename(\n",
    "    columns={\"available_quantity\": \"available_quantity_today\"}\n",
    ")\n",
    "\n",
    "# Se detail_status = transfer: available_quantity_today = available_quantity_today + detail_quantity\n",
    "df_stock_today[\"total_available_quantity\"] = df_stock_today.apply(\n",
    "    lambda row: row[\"detail_quantity\"] + row[\"available_quantity_today\"]\n",
    "    if row[\"detail_status\"] == \"transfer\"\n",
    "    else row[\"available_quantity_today\"],\n",
    "    axis=1,\n",
    ")\n",
    "\n",
    "df_stock_today[\"total_available_quantity\"] = df_stock_today[\n",
    "    \"total_available_quantity\"\n",
    "].astype(\"int64\")"
   ]
  },
  {
   "cell_type": "code",
   "execution_count": 34,
   "metadata": {},
   "outputs": [
    {
     "data": {
      "text/html": [
       "<div>\n",
       "<style scoped>\n",
       "    .dataframe tbody tr th:only-of-type {\n",
       "        vertical-align: middle;\n",
       "    }\n",
       "\n",
       "    .dataframe tbody tr th {\n",
       "        vertical-align: top;\n",
       "    }\n",
       "\n",
       "    .dataframe thead th {\n",
       "        text-align: right;\n",
       "    }\n",
       "</style>\n",
       "<table border=\"1\" class=\"dataframe\">\n",
       "  <thead>\n",
       "    <tr style=\"text-align: right;\">\n",
       "      <th></th>\n",
       "      <th>ml_inventory_id</th>\n",
       "      <th>available_quantity_today</th>\n",
       "      <th>detail_status</th>\n",
       "      <th>detail_quantity</th>\n",
       "      <th>references_id</th>\n",
       "      <th>references_variation_id</th>\n",
       "      <th>data</th>\n",
       "      <th>has_stock</th>\n",
       "      <th>days_available</th>\n",
       "      <th>total_available_quantity</th>\n",
       "    </tr>\n",
       "  </thead>\n",
       "  <tbody>\n",
       "  </tbody>\n",
       "</table>\n",
       "</div>"
      ],
      "text/plain": [
       "Empty DataFrame\n",
       "Columns: [ml_inventory_id, available_quantity_today, detail_status, detail_quantity, references_id, references_variation_id, data, has_stock, days_available, total_available_quantity]\n",
       "Index: []"
      ]
     },
     "execution_count": 34,
     "metadata": {},
     "output_type": "execute_result"
    }
   ],
   "source": [
    "df_stock_today"
   ]
  },
  {
   "cell_type": "code",
   "execution_count": 35,
   "metadata": {},
   "outputs": [],
   "source": [
    "# Se detail_status = transfer: available_quantity_today = available_quantity_today + detail_quantity\n",
    "df_stock_today[\"total_available_quantity\"] = df_stock_today.apply(\n",
    "    lambda row: row[\"detail_quantity\"] + row[\"available_quantity_today\"]\n",
    "    if row[\"detail_status\"] == \"transfer\"\n",
    "    else row[\"available_quantity_today\"],\n",
    "    axis=1,\n",
    ")\n",
    "\n",
    "df_stock_today[\"total_available_quantity\"] = df_stock_today[\n",
    "    \"total_available_quantity\"\n",
    "].astype(\"int64\")"
   ]
  },
  {
   "cell_type": "code",
   "execution_count": 36,
   "metadata": {},
   "outputs": [],
   "source": [
    "# df_stock_today.sample(5)"
   ]
  },
  {
   "cell_type": "code",
   "execution_count": 37,
   "metadata": {},
   "outputs": [],
   "source": [
    "# condf(df_stock,'ml_inventory_id','FSNB97805')\n",
    "# condf(df_stock_today,'ml_inventory_id','FSNB97805')"
   ]
  },
  {
   "cell_type": "markdown",
   "metadata": {},
   "source": [
    "### Buscando hitorico de orders no BD"
   ]
  },
  {
   "cell_type": "code",
   "execution_count": 38,
   "metadata": {},
   "outputs": [
    {
     "name": "stdout",
     "output_type": "stream",
     "text": [
      "SELECT * FROM mcenter_ml_orders WHERE date_closed BETWEEN '2023-11-01' AND '2023-12-13'\n"
     ]
    },
    {
     "name": "stderr",
     "output_type": "stream",
     "text": [
      "C:\\Users\\couti\\AppData\\Local\\Temp\\ipykernel_5452\\2680549919.py:7: UserWarning: pandas only supports SQLAlchemy connectable (engine/connection) or database string URI or sqlite3 DBAPI2 connection. Other DBAPI2 objects are not tested. Please consider using SQLAlchemy.\n",
      "  df_orders = pd.read_sql(sql_query, conn)\n"
     ]
    }
   ],
   "source": [
    "# Buscando histórico de vendas na tabela ml_orders_hist para o período definido\n",
    "try:\n",
    "    conn = psycopg2.connect(**db_config)\n",
    "\n",
    "    sql_query = f\"SELECT * FROM mcenter_ml_orders WHERE date_closed BETWEEN '{data_inicio}' AND '{data_fim}'\"\n",
    "    print(sql_query)\n",
    "    df_orders = pd.read_sql(sql_query, conn)\n",
    "\n",
    "except psycopg2.Error as e:\n",
    "    print(f\"Erro do psycopg2 ao consultar ml_orders_hist: {e}\")\n",
    "    # logger.error(f\"Erro do psycopg2 ao consultar ml_orders_hist: {e}\")\n",
    "\n",
    "except Exception as e:\n",
    "    print(f\"Erro ao consultar ml_orders_hist: {e}\")\n",
    "    # logger.error(f\"Erro ao consultar ml_orders_hist: {e}\")\n",
    "\n",
    "finally:\n",
    "    if conn is not None:\n",
    "        conn.close()\n",
    "\n",
    "# # Ordenando orders por data\n",
    "# df_orders = df_orders.sort_values(by=\"date_approved\", ascending=False)\n",
    "# df_orders[\"data\"] = df_orders[\"date_approved\"].dt.date\n",
    "# df_orders = df_orders.drop([\"date_closed\",\"date_approved\"], axis=1)\n",
    "\n",
    "# filtros\n",
    "df_orders = df_orders[df_orders[\"logistic_type\"] == \"fulfillment\"]\n",
    "# df_orders = df_orders.drop(columns=['category_id','pack_id','variation_attributes_id','variation_name','variation_value_id', 'data'])\n",
    "df_orders = df_orders.drop(\n",
    "    columns=[\n",
    "        \"category_id\",\n",
    "        \"pack_id\",\n",
    "        \"variation_attributes_id\",\n",
    "        \"variation_name\",\n",
    "        \"variation_value_id\",\n",
    "    ]\n",
    ")\n",
    "\n",
    "# change column\n",
    "df_orders[\"variation_id\"] = df_orders[\"variation_id\"].replace(\"nan\", \"0\", regex=True)\n",
    "\n",
    "# df_orders = df_orders[df_orders[\"order_status\"] == \"paid\"]\n",
    "# df_orders = df_orders[df_orders[\"payment_status\"] == \"approved\"]\n",
    "\n",
    "\n",
    "# df_orders = df_orders.drop(\n",
    "#     [\"pack_id\", \"date_approved\", \"order_status\", \"payment_status\"], axis=1\n",
    "# )\n",
    "df_orders.rename(columns={\"quantity\": \"sold_quantity\"}, inplace=True)"
   ]
  },
  {
   "cell_type": "code",
   "execution_count": 39,
   "metadata": {},
   "outputs": [
    {
     "name": "stdout",
     "output_type": "stream",
     "text": [
      "(6409, 13)\n",
      "(5526, 13)\n"
     ]
    }
   ],
   "source": [
    "print(df_orders.shape)\n",
    "df_orders = df_orders.drop_duplicates()\n",
    "print(df_orders.shape)"
   ]
  },
  {
   "cell_type": "code",
   "execution_count": 40,
   "metadata": {},
   "outputs": [],
   "source": [
    "# Ordenando orders por data\n",
    "df_orders = df_orders.sort_values(by=\"date_approved\", ascending=False)\n",
    "df_orders[\"data\"] = df_orders[\"date_approved\"].dt.date\n",
    "df_orders = df_orders.drop([\"date_closed\", \"date_approved\"], axis=1)"
   ]
  },
  {
   "cell_type": "code",
   "execution_count": 41,
   "metadata": {},
   "outputs": [
    {
     "data": {
      "text/html": [
       "<div>\n",
       "<style scoped>\n",
       "    .dataframe tbody tr th:only-of-type {\n",
       "        vertical-align: middle;\n",
       "    }\n",
       "\n",
       "    .dataframe tbody tr th {\n",
       "        vertical-align: top;\n",
       "    }\n",
       "\n",
       "    .dataframe thead th {\n",
       "        text-align: right;\n",
       "    }\n",
       "</style>\n",
       "<table border=\"1\" class=\"dataframe\">\n",
       "  <thead>\n",
       "    <tr style=\"text-align: right;\">\n",
       "      <th></th>\n",
       "      <th>ml_code</th>\n",
       "      <th>variation_id</th>\n",
       "      <th>seller_sku</th>\n",
       "      <th>order_id</th>\n",
       "      <th>sold_quantity</th>\n",
       "      <th>title</th>\n",
       "      <th>order_status</th>\n",
       "      <th>payment_status</th>\n",
       "      <th>shipping_id</th>\n",
       "      <th>variation_value_name</th>\n",
       "      <th>logistic_type</th>\n",
       "      <th>data</th>\n",
       "    </tr>\n",
       "  </thead>\n",
       "  <tbody>\n",
       "    <tr>\n",
       "      <th>7680</th>\n",
       "      <td>MLB2770292345</td>\n",
       "      <td>175608239370</td>\n",
       "      <td>FULLVANDOREN2SR2115</td>\n",
       "      <td>2000007113324068</td>\n",
       "      <td>1</td>\n",
       "      <td>2 Palheta Sax Alto Vandoren Tradicional 1 1,5 ...</td>\n",
       "      <td>paid</td>\n",
       "      <td>approved</td>\n",
       "      <td>42893298480</td>\n",
       "      <td>1,5</td>\n",
       "      <td>fulfillment</td>\n",
       "      <td>2023-12-10</td>\n",
       "    </tr>\n",
       "    <tr>\n",
       "      <th>573</th>\n",
       "      <td>MLB3435228689</td>\n",
       "      <td>0</td>\n",
       "      <td>FULLP10LNINJA10FT</td>\n",
       "      <td>2000006820689384</td>\n",
       "      <td>1</td>\n",
       "      <td>Cabo Guitarra Violão Santo Angelo Ninja P10 Em...</td>\n",
       "      <td>paid</td>\n",
       "      <td>approved</td>\n",
       "      <td>42767671082</td>\n",
       "      <td>None</td>\n",
       "      <td>fulfillment</td>\n",
       "      <td>2023-11-05</td>\n",
       "    </tr>\n",
       "    <tr>\n",
       "      <th>7892</th>\n",
       "      <td>MLB3434144067</td>\n",
       "      <td>0</td>\n",
       "      <td>FULLP10LNINJA15FT</td>\n",
       "      <td>2000007122496172</td>\n",
       "      <td>1</td>\n",
       "      <td>Cabo Santo Angelo Ninja L 4,57 Metros Cabos P/...</td>\n",
       "      <td>paid</td>\n",
       "      <td>approved</td>\n",
       "      <td>42897086539</td>\n",
       "      <td>None</td>\n",
       "      <td>fulfillment</td>\n",
       "      <td>2023-12-11</td>\n",
       "    </tr>\n",
       "  </tbody>\n",
       "</table>\n",
       "</div>"
      ],
      "text/plain": [
       "            ml_code  variation_id           seller_sku          order_id  \\\n",
       "7680  MLB2770292345  175608239370  FULLVANDOREN2SR2115  2000007113324068   \n",
       "573   MLB3435228689             0    FULLP10LNINJA10FT  2000006820689384   \n",
       "7892  MLB3434144067             0    FULLP10LNINJA15FT  2000007122496172   \n",
       "\n",
       "      sold_quantity                                              title  \\\n",
       "7680              1  2 Palheta Sax Alto Vandoren Tradicional 1 1,5 ...   \n",
       "573               1  Cabo Guitarra Violão Santo Angelo Ninja P10 Em...   \n",
       "7892              1  Cabo Santo Angelo Ninja L 4,57 Metros Cabos P/...   \n",
       "\n",
       "     order_status payment_status  shipping_id variation_value_name  \\\n",
       "7680         paid       approved  42893298480                  1,5   \n",
       "573          paid       approved  42767671082                 None   \n",
       "7892         paid       approved  42897086539                 None   \n",
       "\n",
       "     logistic_type        data  \n",
       "7680   fulfillment  2023-12-10  \n",
       "573    fulfillment  2023-11-05  \n",
       "7892   fulfillment  2023-12-11  "
      ]
     },
     "execution_count": 41,
     "metadata": {},
     "output_type": "execute_result"
    }
   ],
   "source": [
    "df_orders.sample(3)"
   ]
  },
  {
   "cell_type": "code",
   "execution_count": 42,
   "metadata": {},
   "outputs": [],
   "source": [
    "# df_orders.head()"
   ]
  },
  {
   "cell_type": "code",
   "execution_count": 43,
   "metadata": {},
   "outputs": [],
   "source": [
    "# df_orders\n",
    "# df_orders['pack_id'].value_counts()\n",
    "\n",
    "# # condf(df_orders,'pack_id','2000005059931419')"
   ]
  },
  {
   "cell_type": "code",
   "execution_count": 44,
   "metadata": {},
   "outputs": [],
   "source": [
    "# print(df_orders.shape)\n",
    "# df_orders.head(3)"
   ]
  },
  {
   "cell_type": "code",
   "execution_count": 45,
   "metadata": {},
   "outputs": [],
   "source": [
    "# condf(df_orders, \"ml_code\", \"MLB1992541482\")"
   ]
  },
  {
   "cell_type": "markdown",
   "metadata": {},
   "source": [
    "#### Total de vendas por ml_code e variation_id"
   ]
  },
  {
   "cell_type": "code",
   "execution_count": 46,
   "metadata": {},
   "outputs": [],
   "source": [
    "# df_orders.shape"
   ]
  },
  {
   "cell_type": "code",
   "execution_count": 47,
   "metadata": {},
   "outputs": [],
   "source": [
    "# df_orders"
   ]
  },
  {
   "cell_type": "code",
   "execution_count": 48,
   "metadata": {},
   "outputs": [],
   "source": [
    "# condf(df_orders,'ml_code','MLB3516894673')"
   ]
  },
  {
   "cell_type": "code",
   "execution_count": 49,
   "metadata": {},
   "outputs": [],
   "source": [
    "# Total de vendas por ml_code e id de variação\n",
    "df_orders_quantity = (\n",
    "    df_orders.groupby([\"ml_code\", \"variation_id\"])[\"sold_quantity\"].sum().reset_index()\n",
    ")"
   ]
  },
  {
   "cell_type": "code",
   "execution_count": 50,
   "metadata": {},
   "outputs": [
    {
     "data": {
      "text/html": [
       "<div>\n",
       "<style scoped>\n",
       "    .dataframe tbody tr th:only-of-type {\n",
       "        vertical-align: middle;\n",
       "    }\n",
       "\n",
       "    .dataframe tbody tr th {\n",
       "        vertical-align: top;\n",
       "    }\n",
       "\n",
       "    .dataframe thead th {\n",
       "        text-align: right;\n",
       "    }\n",
       "</style>\n",
       "<table border=\"1\" class=\"dataframe\">\n",
       "  <thead>\n",
       "    <tr style=\"text-align: right;\">\n",
       "      <th></th>\n",
       "      <th>ml_code</th>\n",
       "      <th>variation_id</th>\n",
       "      <th>sold_quantity</th>\n",
       "    </tr>\n",
       "  </thead>\n",
       "  <tbody>\n",
       "    <tr>\n",
       "      <th>0</th>\n",
       "      <td>MLB1363602423</td>\n",
       "      <td>0</td>\n",
       "      <td>24</td>\n",
       "    </tr>\n",
       "    <tr>\n",
       "      <th>1</th>\n",
       "      <td>MLB1398114866</td>\n",
       "      <td>174301393967</td>\n",
       "      <td>1</td>\n",
       "    </tr>\n",
       "    <tr>\n",
       "      <th>2</th>\n",
       "      <td>MLB1398114866</td>\n",
       "      <td>174302125663</td>\n",
       "      <td>2</td>\n",
       "    </tr>\n",
       "    <tr>\n",
       "      <th>3</th>\n",
       "      <td>MLB1399101853</td>\n",
       "      <td>0</td>\n",
       "      <td>1</td>\n",
       "    </tr>\n",
       "    <tr>\n",
       "      <th>4</th>\n",
       "      <td>MLB1400355425</td>\n",
       "      <td>0</td>\n",
       "      <td>26</td>\n",
       "    </tr>\n",
       "    <tr>\n",
       "      <th>...</th>\n",
       "      <td>...</td>\n",
       "      <td>...</td>\n",
       "      <td>...</td>\n",
       "    </tr>\n",
       "    <tr>\n",
       "      <th>336</th>\n",
       "      <td>MLB4202595608</td>\n",
       "      <td>0</td>\n",
       "      <td>28</td>\n",
       "    </tr>\n",
       "    <tr>\n",
       "      <th>337</th>\n",
       "      <td>MLB4217370456</td>\n",
       "      <td>0</td>\n",
       "      <td>1</td>\n",
       "    </tr>\n",
       "    <tr>\n",
       "      <th>338</th>\n",
       "      <td>MLB4237823132</td>\n",
       "      <td>0</td>\n",
       "      <td>6</td>\n",
       "    </tr>\n",
       "    <tr>\n",
       "      <th>339</th>\n",
       "      <td>MLB924922735</td>\n",
       "      <td>0</td>\n",
       "      <td>14</td>\n",
       "    </tr>\n",
       "    <tr>\n",
       "      <th>340</th>\n",
       "      <td>MLB950214971</td>\n",
       "      <td>0</td>\n",
       "      <td>1</td>\n",
       "    </tr>\n",
       "  </tbody>\n",
       "</table>\n",
       "<p>341 rows × 3 columns</p>\n",
       "</div>"
      ],
      "text/plain": [
       "           ml_code  variation_id  sold_quantity\n",
       "0    MLB1363602423             0             24\n",
       "1    MLB1398114866  174301393967              1\n",
       "2    MLB1398114866  174302125663              2\n",
       "3    MLB1399101853             0              1\n",
       "4    MLB1400355425             0             26\n",
       "..             ...           ...            ...\n",
       "336  MLB4202595608             0             28\n",
       "337  MLB4217370456             0              1\n",
       "338  MLB4237823132             0              6\n",
       "339   MLB924922735             0             14\n",
       "340   MLB950214971             0              1\n",
       "\n",
       "[341 rows x 3 columns]"
      ]
     },
     "execution_count": 50,
     "metadata": {},
     "output_type": "execute_result"
    }
   ],
   "source": [
    "df_orders_quantity"
   ]
  },
  {
   "cell_type": "code",
   "execution_count": 51,
   "metadata": {},
   "outputs": [
    {
     "name": "stdout",
     "output_type": "stream",
     "text": [
      "Número de ml_code únicos: 269\n",
      "Número de variation_id únicos: 131\n"
     ]
    }
   ],
   "source": [
    "print(f\"Número de ml_code únicos: {len(df_orders_quantity['ml_code'].unique())}\")\n",
    "print(\n",
    "    f\"Número de variation_id únicos: {len(df_orders_quantity['variation_id'].unique())}\"\n",
    ")"
   ]
  },
  {
   "cell_type": "code",
   "execution_count": 52,
   "metadata": {},
   "outputs": [],
   "source": [
    "# condf(df_orders_quantity,'ml_code','MLB2075516288')\n",
    "# df_orders_quantity['ml_code'].value_counts()"
   ]
  },
  {
   "cell_type": "code",
   "execution_count": 53,
   "metadata": {},
   "outputs": [],
   "source": [
    "# Acrescentando total de vendas ao DF\n",
    "df_total_sales = pd.merge(\n",
    "    # df_orders, resultado, on=[\"ml_code\", \"variation_id\"], how=\"inner\"\n",
    "    df_orders,\n",
    "    df_orders_quantity,\n",
    "    on=[\"ml_code\", \"variation_id\"],\n",
    "    how=\"inner\",\n",
    ")\n",
    "df_total_sales = df_total_sales.rename(\n",
    "    columns={\"sold_quantity_y\": \"total_sold_quantity\"}\n",
    ")\n",
    "df_total_sales = df_total_sales.drop(\n",
    "    columns=[\"sold_quantity_x\", \"order_status\", \"payment_status\"]\n",
    ")"
   ]
  },
  {
   "cell_type": "code",
   "execution_count": 54,
   "metadata": {},
   "outputs": [
    {
     "name": "stdout",
     "output_type": "stream",
     "text": [
      "Total de vendas = 5526\n"
     ]
    }
   ],
   "source": [
    "print(f\"Total de vendas = {df_total_sales.shape[0]}\")"
   ]
  },
  {
   "cell_type": "code",
   "execution_count": 55,
   "metadata": {},
   "outputs": [],
   "source": [
    "# df_orders.shape"
   ]
  },
  {
   "cell_type": "code",
   "execution_count": 56,
   "metadata": {},
   "outputs": [],
   "source": [
    "# df_total_sales.columns"
   ]
  },
  {
   "cell_type": "code",
   "execution_count": 57,
   "metadata": {},
   "outputs": [],
   "source": [
    "# df_total_sales.sample()"
   ]
  },
  {
   "cell_type": "code",
   "execution_count": 58,
   "metadata": {},
   "outputs": [],
   "source": [
    "# # # Exibir todas as linhas e colunas\n",
    "# # pd.set_option('display.max_rows', None)\n",
    "# # pd.set_option('display.max_columns', None)\n",
    "\n",
    "# # Voltar ao normal\n",
    "# pd.reset_option('display.max_rows')\n",
    "# pd.reset_option('display.max_columns')\n",
    "\n",
    "\n",
    "# # condf(df_total_sales,'ml_code','MLB3427769549')\n",
    "# # # x = condf(df_orders,'ml_code','MLB3427769549')\n",
    "\n",
    "# # # x = x.sort_values(by='data')\n",
    "# # # x.head(15)\n",
    "# # x = df_orders[df_orders['ml_code']=='MLB3427769549']\n",
    "# # x['data'] = pd.to_datetime(x['data'])\n",
    "# # x[x['data']=='2023-11-22']\n",
    "# # # x['sold_quantity'].value_counts()\n",
    "\n",
    "# # # counts = x[x['sold_quantity'] > 1]['sold_quantity'].value_counts()\n",
    "# # # counts\n",
    "\n",
    "# # y = x.groupby('data')['sold_quantity'].sum().reset_index()\n",
    "# # y\n",
    "\n",
    "# # # # x"
   ]
  },
  {
   "cell_type": "code",
   "execution_count": 59,
   "metadata": {},
   "outputs": [],
   "source": [
    "# x.dtypes"
   ]
  },
  {
   "cell_type": "code",
   "execution_count": 60,
   "metadata": {},
   "outputs": [],
   "source": [
    "# df_total_sales['data'].value_counts()"
   ]
  },
  {
   "cell_type": "code",
   "execution_count": 61,
   "metadata": {},
   "outputs": [],
   "source": [
    "# condf(df_total_sales, \"ml_code\", \"MLB4127982748\")\n",
    "# condf(df_total_sales, \"ml_code\", \"MLB4127982748\")"
   ]
  },
  {
   "cell_type": "code",
   "execution_count": null,
   "metadata": {},
   "outputs": [],
   "source": []
  },
  {
   "cell_type": "code",
   "execution_count": 62,
   "metadata": {},
   "outputs": [],
   "source": [
    "# df_total_sales = df_total_sales.drop([\"sold_quantity_x\", \"shipping_id\", \"data\"], axis=1)\n",
    "# df_total_sales = df_total_sales.drop_duplicates()"
   ]
  },
  {
   "cell_type": "code",
   "execution_count": 63,
   "metadata": {},
   "outputs": [],
   "source": [
    "# condf(df_total_sales, \"ml_code\", \"MLB1992541482\")"
   ]
  },
  {
   "cell_type": "markdown",
   "metadata": {},
   "source": [
    "Neste ponto temos o total de itens vendidos de um anúncio por período e a quantidade de dias em que um produto esteve disponível.\n",
    "precisamos juntar esses dados para calcular, para isso trarei as informações de produtos"
   ]
  },
  {
   "cell_type": "code",
   "execution_count": 64,
   "metadata": {},
   "outputs": [],
   "source": [
    "# print(df_total_sales.shape)\n",
    "# df_total_sales.sample()"
   ]
  },
  {
   "cell_type": "code",
   "execution_count": 65,
   "metadata": {},
   "outputs": [],
   "source": [
    "# condf(df_total_sales, 'ml_code', 'MLB3461718736')\n",
    "# condf(df_orders, 'ml_code', 'MLB3461718736')\n",
    "# # condf(resultado, 'ml_code', 'MLB3427769549')\n",
    "# # condf(df_stock, 'ml_code', 'MLB3427769549')"
   ]
  },
  {
   "cell_type": "code",
   "execution_count": 66,
   "metadata": {},
   "outputs": [],
   "source": [
    "# print(df_stock_today.shape)\n",
    "# df_stock_today.sample()"
   ]
  },
  {
   "cell_type": "markdown",
   "metadata": {},
   "source": [
    "#### Buscando Produtos"
   ]
  },
  {
   "cell_type": "code",
   "execution_count": 67,
   "metadata": {},
   "outputs": [
    {
     "name": "stderr",
     "output_type": "stream",
     "text": [
      "C:\\Users\\couti\\AppData\\Local\\Temp\\ipykernel_5452\\3854357628.py:5: UserWarning: pandas only supports SQLAlchemy connectable (engine/connection) or database string URI or sqlite3 DBAPI2 connection. Other DBAPI2 objects are not tested. Please consider using SQLAlchemy.\n",
      "  df_codes = pd.read_sql(sql_query, conn)\n"
     ]
    }
   ],
   "source": [
    "# Buscando dados de produtos na tabela tiny_fulfillment\n",
    "try:\n",
    "    conn = psycopg2.connect(**db_config)\n",
    "    sql_query = \"SELECT * FROM mcenter_items\"\n",
    "    df_codes = pd.read_sql(sql_query, conn)\n",
    "except psycopg2.Error as e:\n",
    "    # logger.error(f\"Erro do psycopg2 ao consultar fulfillment_stock: {e}\")\n",
    "    print(f\"Erro do psycopg2 ao consultar tiny_fulfillment: {e}\")\n",
    "\n",
    "except Exception as e:\n",
    "    # logger.error(f\"Erro ao consultar tabela tiny_fulfillment: {e}\")\n",
    "    print(f\"Erro ao consultar tabela tiny_fulfillment: {e}\")\n",
    "\n",
    "finally:\n",
    "    if conn is not None:\n",
    "        conn.close()\n",
    "\n",
    "# df_codes[\"ml_code\"] = df_codes[\"ml_code\"].apply(lambda x: \"MLB\" + str(x))\n",
    "df_codes.rename(columns={\"inventory_id\": \"ml_inventory_id\"}, inplace=True)\n",
    "df_codes = df_codes.drop([\"created_at\", \"updated_at\"], axis=1)"
   ]
  },
  {
   "cell_type": "code",
   "execution_count": 68,
   "metadata": {},
   "outputs": [],
   "source": [
    "df_not_catalogo = df_codes[df_codes[\"catalog_listing\"] == False]\n",
    "df_catalogo = df_codes[df_codes[\"catalog_listing\"] == True]"
   ]
  },
  {
   "cell_type": "code",
   "execution_count": 69,
   "metadata": {},
   "outputs": [
    {
     "data": {
      "text/html": [
       "<div>\n",
       "<style scoped>\n",
       "    .dataframe tbody tr th:only-of-type {\n",
       "        vertical-align: middle;\n",
       "    }\n",
       "\n",
       "    .dataframe tbody tr th {\n",
       "        vertical-align: top;\n",
       "    }\n",
       "\n",
       "    .dataframe thead th {\n",
       "        text-align: right;\n",
       "    }\n",
       "</style>\n",
       "<table border=\"1\" class=\"dataframe\">\n",
       "  <thead>\n",
       "    <tr style=\"text-align: right;\">\n",
       "      <th></th>\n",
       "      <th>ml_code</th>\n",
       "      <th>ml_inventory_id</th>\n",
       "      <th>value_name</th>\n",
       "      <th>variation_id</th>\n",
       "      <th>status</th>\n",
       "      <th>catalog_listing</th>\n",
       "      <th>logistic_type</th>\n",
       "    </tr>\n",
       "  </thead>\n",
       "  <tbody>\n",
       "    <tr>\n",
       "      <th>168</th>\n",
       "      <td>MLB1465231671</td>\n",
       "      <td>MOPJ68127</td>\n",
       "      <td>Amarelo</td>\n",
       "      <td>52181329446</td>\n",
       "      <td>active</td>\n",
       "      <td>False</td>\n",
       "      <td>fulfillment</td>\n",
       "    </tr>\n",
       "  </tbody>\n",
       "</table>\n",
       "</div>"
      ],
      "text/plain": [
       "           ml_code ml_inventory_id value_name variation_id  status  \\\n",
       "168  MLB1465231671       MOPJ68127    Amarelo  52181329446  active   \n",
       "\n",
       "     catalog_listing logistic_type  \n",
       "168            False   fulfillment  "
      ]
     },
     "execution_count": 69,
     "metadata": {},
     "output_type": "execute_result"
    }
   ],
   "source": [
    "df_not_catalogo.sample()"
   ]
  },
  {
   "cell_type": "code",
   "execution_count": 70,
   "metadata": {},
   "outputs": [
    {
     "data": {
      "text/html": [
       "<div>\n",
       "<style scoped>\n",
       "    .dataframe tbody tr th:only-of-type {\n",
       "        vertical-align: middle;\n",
       "    }\n",
       "\n",
       "    .dataframe tbody tr th {\n",
       "        vertical-align: top;\n",
       "    }\n",
       "\n",
       "    .dataframe thead th {\n",
       "        text-align: right;\n",
       "    }\n",
       "</style>\n",
       "<table border=\"1\" class=\"dataframe\">\n",
       "  <thead>\n",
       "    <tr style=\"text-align: right;\">\n",
       "      <th></th>\n",
       "      <th>ml_code</th>\n",
       "      <th>ml_inventory_id</th>\n",
       "      <th>value_name</th>\n",
       "      <th>variation_id</th>\n",
       "      <th>status</th>\n",
       "      <th>catalog_listing</th>\n",
       "      <th>logistic_type</th>\n",
       "    </tr>\n",
       "  </thead>\n",
       "  <tbody>\n",
       "    <tr>\n",
       "      <th>166</th>\n",
       "      <td>MLB3778561802</td>\n",
       "      <td>AVOX05934</td>\n",
       "      <td>NaN</td>\n",
       "      <td>NaN</td>\n",
       "      <td>closed</td>\n",
       "      <td>True</td>\n",
       "      <td>fulfillment</td>\n",
       "    </tr>\n",
       "  </tbody>\n",
       "</table>\n",
       "</div>"
      ],
      "text/plain": [
       "           ml_code ml_inventory_id value_name variation_id  status  \\\n",
       "166  MLB3778561802       AVOX05934        NaN          NaN  closed   \n",
       "\n",
       "     catalog_listing logistic_type  \n",
       "166             True   fulfillment  "
      ]
     },
     "execution_count": 70,
     "metadata": {},
     "output_type": "execute_result"
    }
   ],
   "source": [
    "df_catalogo.sample()"
   ]
  },
  {
   "cell_type": "code",
   "execution_count": 71,
   "metadata": {},
   "outputs": [
    {
     "data": {
      "text/html": [
       "<div>\n",
       "<style scoped>\n",
       "    .dataframe tbody tr th:only-of-type {\n",
       "        vertical-align: middle;\n",
       "    }\n",
       "\n",
       "    .dataframe tbody tr th {\n",
       "        vertical-align: top;\n",
       "    }\n",
       "\n",
       "    .dataframe thead th {\n",
       "        text-align: right;\n",
       "    }\n",
       "</style>\n",
       "<table border=\"1\" class=\"dataframe\">\n",
       "  <thead>\n",
       "    <tr style=\"text-align: right;\">\n",
       "      <th></th>\n",
       "      <th>ml_code</th>\n",
       "      <th>ml_inventory_id</th>\n",
       "      <th>value_name</th>\n",
       "      <th>variation_id</th>\n",
       "      <th>status</th>\n",
       "      <th>catalog_listing</th>\n",
       "      <th>logistic_type</th>\n",
       "    </tr>\n",
       "  </thead>\n",
       "  <tbody>\n",
       "    <tr>\n",
       "      <th>0</th>\n",
       "      <td>MLB1435852259</td>\n",
       "      <td>TLCG38735</td>\n",
       "      <td>NaN</td>\n",
       "      <td>NaN</td>\n",
       "      <td>active</td>\n",
       "      <td>False</td>\n",
       "      <td>fulfillment</td>\n",
       "    </tr>\n",
       "    <tr>\n",
       "      <th>1</th>\n",
       "      <td>MLB1435836214</td>\n",
       "      <td>PUOF38682</td>\n",
       "      <td>NaN</td>\n",
       "      <td>NaN</td>\n",
       "      <td>active</td>\n",
       "      <td>False</td>\n",
       "      <td>fulfillment</td>\n",
       "    </tr>\n",
       "    <tr>\n",
       "      <th>2</th>\n",
       "      <td>MLB1400355425</td>\n",
       "      <td>ZXFT21237</td>\n",
       "      <td>NaN</td>\n",
       "      <td>NaN</td>\n",
       "      <td>active</td>\n",
       "      <td>False</td>\n",
       "      <td>fulfillment</td>\n",
       "    </tr>\n",
       "    <tr>\n",
       "      <th>3</th>\n",
       "      <td>MLB1440291959</td>\n",
       "      <td>JGRW38703</td>\n",
       "      <td>NaN</td>\n",
       "      <td>NaN</td>\n",
       "      <td>active</td>\n",
       "      <td>False</td>\n",
       "      <td>fulfillment</td>\n",
       "    </tr>\n",
       "    <tr>\n",
       "      <th>4</th>\n",
       "      <td>MLB1564998298</td>\n",
       "      <td>OVRP11252</td>\n",
       "      <td>NaN</td>\n",
       "      <td>NaN</td>\n",
       "      <td>paused</td>\n",
       "      <td>False</td>\n",
       "      <td>fulfillment</td>\n",
       "    </tr>\n",
       "    <tr>\n",
       "      <th>...</th>\n",
       "      <td>...</td>\n",
       "      <td>...</td>\n",
       "      <td>...</td>\n",
       "      <td>...</td>\n",
       "      <td>...</td>\n",
       "      <td>...</td>\n",
       "      <td>...</td>\n",
       "    </tr>\n",
       "    <tr>\n",
       "      <th>527</th>\n",
       "      <td>MLB1490210934</td>\n",
       "      <td>SPKV63227</td>\n",
       "      <td>nan</td>\n",
       "      <td>NaN</td>\n",
       "      <td>paused</td>\n",
       "      <td>False</td>\n",
       "      <td>fulfillment</td>\n",
       "    </tr>\n",
       "    <tr>\n",
       "      <th>528</th>\n",
       "      <td>MLB1556975175</td>\n",
       "      <td>DZVJ05686</td>\n",
       "      <td>Marrom</td>\n",
       "      <td>57895096313</td>\n",
       "      <td>active</td>\n",
       "      <td>False</td>\n",
       "      <td>fulfillment</td>\n",
       "    </tr>\n",
       "    <tr>\n",
       "      <th>529</th>\n",
       "      <td>MLB950338822</td>\n",
       "      <td>MAEG54107</td>\n",
       "      <td>nan</td>\n",
       "      <td>NaN</td>\n",
       "      <td>paused</td>\n",
       "      <td>False</td>\n",
       "      <td>fulfillment</td>\n",
       "    </tr>\n",
       "    <tr>\n",
       "      <th>530</th>\n",
       "      <td>MLB1662970458</td>\n",
       "      <td>UIUW89800</td>\n",
       "      <td>Preto</td>\n",
       "      <td>64498487033</td>\n",
       "      <td>paused</td>\n",
       "      <td>False</td>\n",
       "      <td>fulfillment</td>\n",
       "    </tr>\n",
       "    <tr>\n",
       "      <th>531</th>\n",
       "      <td>MLB1942106803</td>\n",
       "      <td>WQLG77218</td>\n",
       "      <td>nan</td>\n",
       "      <td>NaN</td>\n",
       "      <td>paused</td>\n",
       "      <td>False</td>\n",
       "      <td>fulfillment</td>\n",
       "    </tr>\n",
       "  </tbody>\n",
       "</table>\n",
       "<p>361 rows × 7 columns</p>\n",
       "</div>"
      ],
      "text/plain": [
       "           ml_code ml_inventory_id value_name variation_id  status  \\\n",
       "0    MLB1435852259       TLCG38735        NaN          NaN  active   \n",
       "1    MLB1435836214       PUOF38682        NaN          NaN  active   \n",
       "2    MLB1400355425       ZXFT21237        NaN          NaN  active   \n",
       "3    MLB1440291959       JGRW38703        NaN          NaN  active   \n",
       "4    MLB1564998298       OVRP11252        NaN          NaN  paused   \n",
       "..             ...             ...        ...          ...     ...   \n",
       "527  MLB1490210934       SPKV63227        nan          NaN  paused   \n",
       "528  MLB1556975175       DZVJ05686     Marrom  57895096313  active   \n",
       "529   MLB950338822       MAEG54107        nan          NaN  paused   \n",
       "530  MLB1662970458       UIUW89800      Preto  64498487033  paused   \n",
       "531  MLB1942106803       WQLG77218        nan          NaN  paused   \n",
       "\n",
       "     catalog_listing logistic_type  \n",
       "0              False   fulfillment  \n",
       "1              False   fulfillment  \n",
       "2              False   fulfillment  \n",
       "3              False   fulfillment  \n",
       "4              False   fulfillment  \n",
       "..               ...           ...  \n",
       "527            False   fulfillment  \n",
       "528            False   fulfillment  \n",
       "529            False   fulfillment  \n",
       "530            False   fulfillment  \n",
       "531            False   fulfillment  \n",
       "\n",
       "[361 rows x 7 columns]"
      ]
     },
     "execution_count": 71,
     "metadata": {},
     "output_type": "execute_result"
    }
   ],
   "source": [
    "df_not_catalogo"
   ]
  },
  {
   "cell_type": "code",
   "execution_count": 72,
   "metadata": {},
   "outputs": [
    {
     "name": "stdout",
     "output_type": "stream",
     "text": [
      "(361, 7)\n",
      "(171, 7)\n"
     ]
    }
   ],
   "source": [
    "print(df_not_catalogo.shape)\n",
    "print(df_catalogo.shape)"
   ]
  },
  {
   "cell_type": "code",
   "execution_count": 73,
   "metadata": {},
   "outputs": [
    {
     "data": {
      "text/html": [
       "<div>\n",
       "<style scoped>\n",
       "    .dataframe tbody tr th:only-of-type {\n",
       "        vertical-align: middle;\n",
       "    }\n",
       "\n",
       "    .dataframe tbody tr th {\n",
       "        vertical-align: top;\n",
       "    }\n",
       "\n",
       "    .dataframe thead th {\n",
       "        text-align: right;\n",
       "    }\n",
       "</style>\n",
       "<table border=\"1\" class=\"dataframe\">\n",
       "  <thead>\n",
       "    <tr style=\"text-align: right;\">\n",
       "      <th></th>\n",
       "      <th>ml_code</th>\n",
       "      <th>ml_inventory_id</th>\n",
       "      <th>value_name</th>\n",
       "      <th>variation_id</th>\n",
       "      <th>status</th>\n",
       "      <th>catalog_listing</th>\n",
       "      <th>logistic_type</th>\n",
       "    </tr>\n",
       "  </thead>\n",
       "  <tbody>\n",
       "    <tr>\n",
       "      <th>19</th>\n",
       "      <td>MLB2170026503</td>\n",
       "      <td>ZNFW24350</td>\n",
       "      <td>NaN</td>\n",
       "      <td>NaN</td>\n",
       "      <td>paused</td>\n",
       "      <td>True</td>\n",
       "      <td>fulfillment</td>\n",
       "    </tr>\n",
       "    <tr>\n",
       "      <th>26</th>\n",
       "      <td>MLB3435374559</td>\n",
       "      <td>RYWV54124</td>\n",
       "      <td>NaN</td>\n",
       "      <td>NaN</td>\n",
       "      <td>paused</td>\n",
       "      <td>True</td>\n",
       "      <td>fulfillment</td>\n",
       "    </tr>\n",
       "    <tr>\n",
       "      <th>27</th>\n",
       "      <td>MLB3435352761</td>\n",
       "      <td>QYGO52123</td>\n",
       "      <td>NaN</td>\n",
       "      <td>NaN</td>\n",
       "      <td>paused</td>\n",
       "      <td>True</td>\n",
       "      <td>fulfillment</td>\n",
       "    </tr>\n",
       "    <tr>\n",
       "      <th>28</th>\n",
       "      <td>MLB3435350955</td>\n",
       "      <td>HGVR43626</td>\n",
       "      <td>NaN</td>\n",
       "      <td>NaN</td>\n",
       "      <td>active</td>\n",
       "      <td>True</td>\n",
       "      <td>fulfillment</td>\n",
       "    </tr>\n",
       "    <tr>\n",
       "      <th>29</th>\n",
       "      <td>MLB3435245361</td>\n",
       "      <td>PKNN52962</td>\n",
       "      <td>NaN</td>\n",
       "      <td>NaN</td>\n",
       "      <td>paused</td>\n",
       "      <td>True</td>\n",
       "      <td>fulfillment</td>\n",
       "    </tr>\n",
       "    <tr>\n",
       "      <th>...</th>\n",
       "      <td>...</td>\n",
       "      <td>...</td>\n",
       "      <td>...</td>\n",
       "      <td>...</td>\n",
       "      <td>...</td>\n",
       "      <td>...</td>\n",
       "      <td>...</td>\n",
       "    </tr>\n",
       "    <tr>\n",
       "      <th>519</th>\n",
       "      <td>MLB4127982748</td>\n",
       "      <td>RLJX42857</td>\n",
       "      <td>nan</td>\n",
       "      <td>NaN</td>\n",
       "      <td>paused</td>\n",
       "      <td>True</td>\n",
       "      <td>fulfillment</td>\n",
       "    </tr>\n",
       "    <tr>\n",
       "      <th>520</th>\n",
       "      <td>MLB3497394073</td>\n",
       "      <td>XGSW66673</td>\n",
       "      <td>nan</td>\n",
       "      <td>NaN</td>\n",
       "      <td>paused</td>\n",
       "      <td>True</td>\n",
       "      <td>fulfillment</td>\n",
       "    </tr>\n",
       "    <tr>\n",
       "      <th>521</th>\n",
       "      <td>MLB4191526348</td>\n",
       "      <td>LXOO59456</td>\n",
       "      <td>nan</td>\n",
       "      <td>NaN</td>\n",
       "      <td>paused</td>\n",
       "      <td>True</td>\n",
       "      <td>fulfillment</td>\n",
       "    </tr>\n",
       "    <tr>\n",
       "      <th>522</th>\n",
       "      <td>MLB3521778415</td>\n",
       "      <td>PSMV02965</td>\n",
       "      <td>nan</td>\n",
       "      <td>NaN</td>\n",
       "      <td>paused</td>\n",
       "      <td>True</td>\n",
       "      <td>fulfillment</td>\n",
       "    </tr>\n",
       "    <tr>\n",
       "      <th>523</th>\n",
       "      <td>MLB3529585309</td>\n",
       "      <td>ESVG06709</td>\n",
       "      <td>nan</td>\n",
       "      <td>NaN</td>\n",
       "      <td>paused</td>\n",
       "      <td>True</td>\n",
       "      <td>fulfillment</td>\n",
       "    </tr>\n",
       "  </tbody>\n",
       "</table>\n",
       "<p>171 rows × 7 columns</p>\n",
       "</div>"
      ],
      "text/plain": [
       "           ml_code ml_inventory_id value_name variation_id  status  \\\n",
       "19   MLB2170026503       ZNFW24350        NaN          NaN  paused   \n",
       "26   MLB3435374559       RYWV54124        NaN          NaN  paused   \n",
       "27   MLB3435352761       QYGO52123        NaN          NaN  paused   \n",
       "28   MLB3435350955       HGVR43626        NaN          NaN  active   \n",
       "29   MLB3435245361       PKNN52962        NaN          NaN  paused   \n",
       "..             ...             ...        ...          ...     ...   \n",
       "519  MLB4127982748       RLJX42857        nan          NaN  paused   \n",
       "520  MLB3497394073       XGSW66673        nan          NaN  paused   \n",
       "521  MLB4191526348       LXOO59456        nan          NaN  paused   \n",
       "522  MLB3521778415       PSMV02965        nan          NaN  paused   \n",
       "523  MLB3529585309       ESVG06709        nan          NaN  paused   \n",
       "\n",
       "     catalog_listing logistic_type  \n",
       "19              True   fulfillment  \n",
       "26              True   fulfillment  \n",
       "27              True   fulfillment  \n",
       "28              True   fulfillment  \n",
       "29              True   fulfillment  \n",
       "..               ...           ...  \n",
       "519             True   fulfillment  \n",
       "520             True   fulfillment  \n",
       "521             True   fulfillment  \n",
       "522             True   fulfillment  \n",
       "523             True   fulfillment  \n",
       "\n",
       "[171 rows x 7 columns]"
      ]
     },
     "execution_count": 73,
     "metadata": {},
     "output_type": "execute_result"
    }
   ],
   "source": [
    "df_catalogo"
   ]
  },
  {
   "cell_type": "code",
   "execution_count": 74,
   "metadata": {},
   "outputs": [],
   "source": [
    "# df_orders.sample()"
   ]
  },
  {
   "cell_type": "code",
   "execution_count": 75,
   "metadata": {},
   "outputs": [],
   "source": [
    "df_total_sales_cat = pd.merge(\n",
    "    df_catalogo,\n",
    "    df_total_sales,\n",
    "    left_on=[\"ml_code\"],\n",
    "    right_on=[\"ml_code\"],\n",
    "    how=\"left\",\n",
    ")\n",
    "df_total_sales_cat = df_total_sales_cat.drop_duplicates()\n",
    "\n",
    "df_total_sales_not_cat = pd.merge(\n",
    "    df_not_catalogo,\n",
    "    df_total_sales,\n",
    "    left_on=[\"ml_code\", \"variation_id\"],\n",
    "    right_on=[\"ml_code\", \"variation_id\"],\n",
    "    how=\"left\",\n",
    ")\n",
    "df_total_sales_not_cat = df_total_sales_not_cat.drop_duplicates()"
   ]
  },
  {
   "cell_type": "code",
   "execution_count": 76,
   "metadata": {},
   "outputs": [],
   "source": [
    "df_total_sales_not_cat[\"total_sold_quantity\"] = df_total_sales_not_cat[\n",
    "    \"total_sold_quantity\"\n",
    "].fillna(0)\n",
    "df_total_sales_cat[\"total_sold_quantity\"] = df_total_sales_cat[\n",
    "    \"total_sold_quantity\"\n",
    "].fillna(0)\n",
    "\n",
    "df_total_sales_not_cat[\"total_sold_quantity\"] = df_total_sales_not_cat[\n",
    "    \"total_sold_quantity\"\n",
    "].astype(\"int64\")\n",
    "df_total_sales_cat[\"total_sold_quantity\"] = df_total_sales_cat[\n",
    "    \"total_sold_quantity\"\n",
    "].astype(\"int64\")"
   ]
  },
  {
   "cell_type": "code",
   "execution_count": 77,
   "metadata": {},
   "outputs": [],
   "source": [
    "# df_total_sales_cat.sample(5)\n",
    "# df_total_sales_not_cat['total_sold_quantity'].value_counts()\n",
    "# df_total_sales_cat['total_sold_quantity'].value_counts()"
   ]
  },
  {
   "cell_type": "code",
   "execution_count": null,
   "metadata": {},
   "outputs": [],
   "source": []
  },
  {
   "cell_type": "code",
   "execution_count": 78,
   "metadata": {},
   "outputs": [
    {
     "name": "stdout",
     "output_type": "stream",
     "text": [
      "(3279, 16)\n",
      "(1899, 15)\n"
     ]
    }
   ],
   "source": [
    "print(df_total_sales_cat.shape)\n",
    "print(df_total_sales_not_cat.shape)"
   ]
  },
  {
   "cell_type": "code",
   "execution_count": 79,
   "metadata": {},
   "outputs": [],
   "source": [
    "# df_total_sales_cat"
   ]
  },
  {
   "cell_type": "code",
   "execution_count": 80,
   "metadata": {},
   "outputs": [
    {
     "data": {
      "text/plain": [
       "(172, 12)"
      ]
     },
     "execution_count": 80,
     "metadata": {},
     "output_type": "execute_result"
    }
   ],
   "source": [
    "# df_total_sales_cat = df_total_sales_cat.drop(\n",
    "#     columns=[\"data\", \"shipping_id\", \"variation_id_x\", \"order_id\"]\n",
    "# )\n",
    "df_total_sales_cat_x = df_total_sales_cat.drop(\n",
    "    columns=[\"data\", \"shipping_id\", \"variation_id_x\", \"order_id\"]\n",
    ")\n",
    "df_total_sales_cat_x = df_total_sales_cat_x.drop_duplicates()\n",
    "df_total_sales_cat_x.shape"
   ]
  },
  {
   "cell_type": "code",
   "execution_count": 81,
   "metadata": {},
   "outputs": [],
   "source": [
    "# df_total_sales_cat_x"
   ]
  },
  {
   "cell_type": "code",
   "execution_count": 82,
   "metadata": {},
   "outputs": [],
   "source": [
    "# df_total_sales_cat['value_name'].value_counts()"
   ]
  },
  {
   "cell_type": "code",
   "execution_count": 83,
   "metadata": {},
   "outputs": [],
   "source": [
    "# condf(df_total_sales_cat, 'ml_code','MLB3427769549')"
   ]
  },
  {
   "cell_type": "code",
   "execution_count": 84,
   "metadata": {},
   "outputs": [],
   "source": [
    "# df_vendas_total_sales_not_cat"
   ]
  },
  {
   "cell_type": "code",
   "execution_count": 85,
   "metadata": {},
   "outputs": [
    {
     "name": "stdout",
     "output_type": "stream",
     "text": [
      "(1899, 15)\n"
     ]
    }
   ],
   "source": [
    "print(df_total_sales_not_cat.shape)"
   ]
  },
  {
   "cell_type": "code",
   "execution_count": 86,
   "metadata": {},
   "outputs": [
    {
     "name": "stdout",
     "output_type": "stream",
     "text": [
      "(1899, 15)\n",
      "(362, 12)\n"
     ]
    }
   ],
   "source": [
    "print(df_total_sales_not_cat.shape)\n",
    "df_total_sales_not_cat_x = df_total_sales_not_cat.drop(\n",
    "    columns=[\"data\", \"shipping_id\", \"order_id\"]\n",
    ")\n",
    "df_total_sales_not_cat_x = df_total_sales_not_cat_x.drop_duplicates()\n",
    "print(df_total_sales_not_cat_x.shape)"
   ]
  },
  {
   "cell_type": "code",
   "execution_count": 87,
   "metadata": {},
   "outputs": [],
   "source": [
    "# df_total_sales_cat_x"
   ]
  },
  {
   "cell_type": "code",
   "execution_count": 88,
   "metadata": {},
   "outputs": [
    {
     "name": "stdout",
     "output_type": "stream",
     "text": [
      "(172, 12)\n",
      "(362, 12)\n"
     ]
    }
   ],
   "source": [
    "print(df_total_sales_cat_x.shape)\n",
    "print(df_total_sales_not_cat_x.shape)"
   ]
  },
  {
   "cell_type": "code",
   "execution_count": 89,
   "metadata": {},
   "outputs": [],
   "source": [
    "# df_total_sales_cat['ml_inventory_id'].value_counts()"
   ]
  },
  {
   "cell_type": "code",
   "execution_count": 90,
   "metadata": {},
   "outputs": [],
   "source": [
    "# Antes de desabilitar\n",
    "# pd.set_option('display.max_rows', None)\n",
    "# pd.set_option('display.max_columns', None)\n",
    "# pd.set_option('display.max_colwidth', None)\n",
    "\n",
    "# Seu código para exibir o DataFrame\n",
    "\n",
    "# # Depois de desabilitar\n",
    "# pd.reset_option('display.max_rows')\n",
    "# pd.reset_option('display.max_columns')\n",
    "# pd.reset_option('display.max_colwidth')\n",
    "\n",
    "\n",
    "# df_total_sales_cat = df_total_sales_cat.drop_duplicates()\n",
    "\n",
    "df_total_sales_cat_x = df_total_sales_cat.drop_duplicates(\n",
    "    subset=[\"ml_code\", \"ml_inventory_id\"]\n",
    ")\n",
    "df_total_sales_not_cat_x = df_total_sales_not_cat.drop_duplicates(\n",
    "    subset=[\"ml_code\", \"ml_inventory_id\"]\n",
    ")"
   ]
  },
  {
   "cell_type": "code",
   "execution_count": 91,
   "metadata": {},
   "outputs": [],
   "source": [
    "# df_orders.shape"
   ]
  },
  {
   "cell_type": "code",
   "execution_count": 92,
   "metadata": {},
   "outputs": [],
   "source": [
    "# condf(df_total_sales_cat,'ml_inventory_id','WTHI04163')\n",
    "# condf(y,'ml_inventory_id','WTHI04163')"
   ]
  },
  {
   "cell_type": "code",
   "execution_count": 93,
   "metadata": {},
   "outputs": [],
   "source": [
    "# condf(df_total_sales_cat,'ml_inventory_id','AWAZ99732')"
   ]
  },
  {
   "cell_type": "code",
   "execution_count": 94,
   "metadata": {},
   "outputs": [],
   "source": [
    "df_total_cat = df_total_sales_cat_x.copy()\n",
    "df_total_not_cat = df_total_sales_not_cat_x.copy()"
   ]
  },
  {
   "cell_type": "code",
   "execution_count": 95,
   "metadata": {},
   "outputs": [
    {
     "data": {
      "text/plain": [
       "Index(['ml_code', 'ml_inventory_id', 'value_name', 'variation_id_x', 'status',\n",
       "       'catalog_listing', 'logistic_type_x', 'variation_id_y', 'seller_sku',\n",
       "       'order_id', 'title', 'shipping_id', 'variation_value_name',\n",
       "       'logistic_type_y', 'data', 'total_sold_quantity'],\n",
       "      dtype='object')"
      ]
     },
     "execution_count": 95,
     "metadata": {},
     "output_type": "execute_result"
    }
   ],
   "source": [
    "df_total_cat.columns"
   ]
  },
  {
   "cell_type": "code",
   "execution_count": 96,
   "metadata": {},
   "outputs": [],
   "source": [
    "# Somando total de vendas por inventory_id\n",
    "df_sum_qt_sold_cat = (\n",
    "    df_total_cat.groupby(\"ml_inventory_id\")[\"total_sold_quantity\"].sum().reset_index()\n",
    ")\n",
    "df_sum_qt_sold_cat = df_sum_qt_sold_cat.rename(\n",
    "    columns={\"total_sold_quantity\": \"total_sold_catalog\"}\n",
    ")\n",
    "\n",
    "df_total_cat = pd.merge(\n",
    "    df_total_cat,\n",
    "    df_sum_qt_sold_cat[[\"ml_inventory_id\", \"total_sold_catalog\"]],\n",
    "    on=\"ml_inventory_id\",\n",
    "    how=\"left\",\n",
    ")\n",
    "\n",
    "df_total_cat.rename(columns={\"variation_id_y\": \"variation_id_\"})\n",
    "\n",
    "\n",
    "df_sum_qt_sold_not_cat = (\n",
    "    df_total_not_cat.groupby(\"ml_inventory_id\")[\"total_sold_quantity\"]\n",
    "    .sum()\n",
    "    .reset_index()\n",
    ")\n",
    "df_sum_qt_sold_not_cat = df_sum_qt_sold_not_cat.rename(\n",
    "    columns={\"total_sold_quantity\": \"total_sold_not_catalog\"}\n",
    ")\n",
    "df_total_not_cat = pd.merge(\n",
    "    df_total_not_cat,\n",
    "    df_sum_qt_sold_not_cat[[\"ml_inventory_id\", \"total_sold_not_catalog\"]],\n",
    "    on=\"ml_inventory_id\",\n",
    "    how=\"left\",\n",
    ")"
   ]
  },
  {
   "cell_type": "code",
   "execution_count": 97,
   "metadata": {},
   "outputs": [
    {
     "name": "stdout",
     "output_type": "stream",
     "text": [
      "(170, 17)\n",
      "(361, 16)\n"
     ]
    }
   ],
   "source": [
    "print(df_total_cat.shape)\n",
    "print(df_total_not_cat.shape)"
   ]
  },
  {
   "cell_type": "code",
   "execution_count": 98,
   "metadata": {},
   "outputs": [
    {
     "data": {
      "text/plain": [
       "(170, 17)"
      ]
     },
     "execution_count": 98,
     "metadata": {},
     "output_type": "execute_result"
    }
   ],
   "source": [
    "df_total_cat.rename(columns={\"variation_id_y\": \"variation_id\"}, inplace=True)\n",
    "df_total_cat.shape"
   ]
  },
  {
   "cell_type": "code",
   "execution_count": 99,
   "metadata": {},
   "outputs": [],
   "source": [
    "# condf(df_total_cat,'ml_inventory_id','WTHI04163')"
   ]
  },
  {
   "cell_type": "code",
   "execution_count": 100,
   "metadata": {},
   "outputs": [],
   "source": [
    "df_total_cat = df_total_cat.drop_duplicates(subset=[\"ml_inventory_id\"])\n",
    "\n",
    "# df_total_cat[df_total_cat['ml_inventory_id']=='WTHI04163']"
   ]
  },
  {
   "cell_type": "markdown",
   "metadata": {},
   "source": [
    "pergar ml_inventory_id e sum_total e acrescesntar essas informações no df de não catalogo pelo ml_inventory_id\n",
    "ao fim deixar somatório do catalogo e não catalogo\n"
   ]
  },
  {
   "cell_type": "code",
   "execution_count": 101,
   "metadata": {},
   "outputs": [],
   "source": [
    "# cols=['ml_inventory_id','total_sold_catalog']\n",
    "# df_total_cat = df_total_cat[cols]\n",
    "# df_total_cat.sample()"
   ]
  },
  {
   "cell_type": "code",
   "execution_count": 102,
   "metadata": {},
   "outputs": [],
   "source": [
    "df_combined = pd.merge(\n",
    "    df_total_not_cat,\n",
    "    df_total_cat[[\"ml_inventory_id\", \"total_sold_catalog\"]],\n",
    "    on=\"ml_inventory_id\",\n",
    "    how=\"left\",\n",
    ")\n",
    "# df_combined.sample()"
   ]
  },
  {
   "cell_type": "code",
   "execution_count": 103,
   "metadata": {},
   "outputs": [],
   "source": [
    "# df_total_not_cat.shape"
   ]
  },
  {
   "cell_type": "code",
   "execution_count": 104,
   "metadata": {},
   "outputs": [],
   "source": [
    "# condf(df_combined,'ml_inventory_id','UIUW89800')"
   ]
  },
  {
   "cell_type": "code",
   "execution_count": 105,
   "metadata": {},
   "outputs": [],
   "source": [
    "# condf(df_combined,'ml_inventory_id','UIUW89800')"
   ]
  },
  {
   "cell_type": "code",
   "execution_count": 106,
   "metadata": {},
   "outputs": [],
   "source": [
    "# df_combined['ml_inventory_id'].value_counts()"
   ]
  },
  {
   "cell_type": "code",
   "execution_count": 107,
   "metadata": {},
   "outputs": [
    {
     "name": "stdout",
     "output_type": "stream",
     "text": [
      "(361, 17)\n"
     ]
    }
   ],
   "source": [
    "print(df_combined.shape)"
   ]
  },
  {
   "cell_type": "code",
   "execution_count": 108,
   "metadata": {},
   "outputs": [],
   "source": [
    "df = pd.merge(df_combined, df_stock_today, on=\"ml_inventory_id\", how=\"left\")\n",
    "df[\"total_sold_catalog\"] = df[\"total_sold_catalog\"].fillna(0).astype(\"int64\")"
   ]
  },
  {
   "cell_type": "code",
   "execution_count": 123,
   "metadata": {},
   "outputs": [
    {
     "data": {
      "text/html": [
       "<div>\n",
       "<style scoped>\n",
       "    .dataframe tbody tr th:only-of-type {\n",
       "        vertical-align: middle;\n",
       "    }\n",
       "\n",
       "    .dataframe tbody tr th {\n",
       "        vertical-align: top;\n",
       "    }\n",
       "\n",
       "    .dataframe thead th {\n",
       "        text-align: right;\n",
       "    }\n",
       "</style>\n",
       "<table border=\"1\" class=\"dataframe\">\n",
       "  <thead>\n",
       "    <tr style=\"text-align: right;\">\n",
       "      <th></th>\n",
       "      <th>ml_code</th>\n",
       "      <th>ml_inventory_id</th>\n",
       "      <th>value_name</th>\n",
       "      <th>variation_id</th>\n",
       "      <th>status</th>\n",
       "      <th>catalog_listing</th>\n",
       "      <th>logistic_type_x</th>\n",
       "      <th>seller_sku</th>\n",
       "      <th>order_id</th>\n",
       "      <th>title</th>\n",
       "      <th>shipping_id</th>\n",
       "      <th>variation_value_name</th>\n",
       "      <th>logistic_type_y</th>\n",
       "      <th>data</th>\n",
       "      <th>total_sold_quantity</th>\n",
       "      <th>total_sold_not_catalog</th>\n",
       "      <th>total_sold_catalog</th>\n",
       "    </tr>\n",
       "  </thead>\n",
       "  <tbody>\n",
       "    <tr>\n",
       "      <th>0</th>\n",
       "      <td>MLB1435852259</td>\n",
       "      <td>TLCG38735</td>\n",
       "      <td>NaN</td>\n",
       "      <td>NaN</td>\n",
       "      <td>active</td>\n",
       "      <td>False</td>\n",
       "      <td>fulfillment</td>\n",
       "      <td>NaN</td>\n",
       "      <td>NaN</td>\n",
       "      <td>NaN</td>\n",
       "      <td>NaN</td>\n",
       "      <td>NaN</td>\n",
       "      <td>NaN</td>\n",
       "      <td>NaN</td>\n",
       "      <td>0</td>\n",
       "      <td>0</td>\n",
       "      <td>1.0</td>\n",
       "    </tr>\n",
       "    <tr>\n",
       "      <th>1</th>\n",
       "      <td>MLB1435836214</td>\n",
       "      <td>PUOF38682</td>\n",
       "      <td>NaN</td>\n",
       "      <td>NaN</td>\n",
       "      <td>active</td>\n",
       "      <td>False</td>\n",
       "      <td>fulfillment</td>\n",
       "      <td>NaN</td>\n",
       "      <td>NaN</td>\n",
       "      <td>NaN</td>\n",
       "      <td>NaN</td>\n",
       "      <td>NaN</td>\n",
       "      <td>NaN</td>\n",
       "      <td>NaN</td>\n",
       "      <td>0</td>\n",
       "      <td>0</td>\n",
       "      <td>1.0</td>\n",
       "    </tr>\n",
       "    <tr>\n",
       "      <th>2</th>\n",
       "      <td>MLB1400355425</td>\n",
       "      <td>ZXFT21237</td>\n",
       "      <td>NaN</td>\n",
       "      <td>NaN</td>\n",
       "      <td>active</td>\n",
       "      <td>False</td>\n",
       "      <td>fulfillment</td>\n",
       "      <td>NaN</td>\n",
       "      <td>NaN</td>\n",
       "      <td>NaN</td>\n",
       "      <td>NaN</td>\n",
       "      <td>NaN</td>\n",
       "      <td>NaN</td>\n",
       "      <td>NaN</td>\n",
       "      <td>0</td>\n",
       "      <td>0</td>\n",
       "      <td>NaN</td>\n",
       "    </tr>\n",
       "    <tr>\n",
       "      <th>3</th>\n",
       "      <td>MLB1440291959</td>\n",
       "      <td>JGRW38703</td>\n",
       "      <td>NaN</td>\n",
       "      <td>NaN</td>\n",
       "      <td>active</td>\n",
       "      <td>False</td>\n",
       "      <td>fulfillment</td>\n",
       "      <td>NaN</td>\n",
       "      <td>NaN</td>\n",
       "      <td>NaN</td>\n",
       "      <td>NaN</td>\n",
       "      <td>NaN</td>\n",
       "      <td>NaN</td>\n",
       "      <td>NaN</td>\n",
       "      <td>0</td>\n",
       "      <td>0</td>\n",
       "      <td>4.0</td>\n",
       "    </tr>\n",
       "    <tr>\n",
       "      <th>4</th>\n",
       "      <td>MLB1564998298</td>\n",
       "      <td>OVRP11252</td>\n",
       "      <td>NaN</td>\n",
       "      <td>NaN</td>\n",
       "      <td>paused</td>\n",
       "      <td>False</td>\n",
       "      <td>fulfillment</td>\n",
       "      <td>NaN</td>\n",
       "      <td>NaN</td>\n",
       "      <td>NaN</td>\n",
       "      <td>NaN</td>\n",
       "      <td>NaN</td>\n",
       "      <td>NaN</td>\n",
       "      <td>NaN</td>\n",
       "      <td>0</td>\n",
       "      <td>0</td>\n",
       "      <td>0.0</td>\n",
       "    </tr>\n",
       "    <tr>\n",
       "      <th>...</th>\n",
       "      <td>...</td>\n",
       "      <td>...</td>\n",
       "      <td>...</td>\n",
       "      <td>...</td>\n",
       "      <td>...</td>\n",
       "      <td>...</td>\n",
       "      <td>...</td>\n",
       "      <td>...</td>\n",
       "      <td>...</td>\n",
       "      <td>...</td>\n",
       "      <td>...</td>\n",
       "      <td>...</td>\n",
       "      <td>...</td>\n",
       "      <td>...</td>\n",
       "      <td>...</td>\n",
       "      <td>...</td>\n",
       "      <td>...</td>\n",
       "    </tr>\n",
       "    <tr>\n",
       "      <th>356</th>\n",
       "      <td>MLB1490210934</td>\n",
       "      <td>SPKV63227</td>\n",
       "      <td>nan</td>\n",
       "      <td>NaN</td>\n",
       "      <td>paused</td>\n",
       "      <td>False</td>\n",
       "      <td>fulfillment</td>\n",
       "      <td>NaN</td>\n",
       "      <td>NaN</td>\n",
       "      <td>NaN</td>\n",
       "      <td>NaN</td>\n",
       "      <td>NaN</td>\n",
       "      <td>NaN</td>\n",
       "      <td>NaN</td>\n",
       "      <td>0</td>\n",
       "      <td>0</td>\n",
       "      <td>NaN</td>\n",
       "    </tr>\n",
       "    <tr>\n",
       "      <th>357</th>\n",
       "      <td>MLB1556975175</td>\n",
       "      <td>DZVJ05686</td>\n",
       "      <td>Marrom</td>\n",
       "      <td>57895096313</td>\n",
       "      <td>active</td>\n",
       "      <td>False</td>\n",
       "      <td>fulfillment</td>\n",
       "      <td>FULLTAGIMA21KCOMCAPA</td>\n",
       "      <td>2000007119293852</td>\n",
       "      <td>Ukulelê Soprano Profissional Tagima 21k Mahoga...</td>\n",
       "      <td>42895838930</td>\n",
       "      <td>Marrom</td>\n",
       "      <td>fulfillment</td>\n",
       "      <td>2023-12-11</td>\n",
       "      <td>15</td>\n",
       "      <td>15</td>\n",
       "      <td>NaN</td>\n",
       "    </tr>\n",
       "    <tr>\n",
       "      <th>358</th>\n",
       "      <td>MLB950338822</td>\n",
       "      <td>MAEG54107</td>\n",
       "      <td>nan</td>\n",
       "      <td>NaN</td>\n",
       "      <td>paused</td>\n",
       "      <td>False</td>\n",
       "      <td>fulfillment</td>\n",
       "      <td>NaN</td>\n",
       "      <td>NaN</td>\n",
       "      <td>NaN</td>\n",
       "      <td>NaN</td>\n",
       "      <td>NaN</td>\n",
       "      <td>NaN</td>\n",
       "      <td>NaN</td>\n",
       "      <td>0</td>\n",
       "      <td>0</td>\n",
       "      <td>51.0</td>\n",
       "    </tr>\n",
       "    <tr>\n",
       "      <th>359</th>\n",
       "      <td>MLB1662970458</td>\n",
       "      <td>UIUW89800</td>\n",
       "      <td>Preto</td>\n",
       "      <td>64498487033</td>\n",
       "      <td>paused</td>\n",
       "      <td>False</td>\n",
       "      <td>fulfillment</td>\n",
       "      <td>FULLIZZO6480</td>\n",
       "      <td>2000007089127282</td>\n",
       "      <td>Pandeiro Original 10 Pol Abs Preto Com Pele Pr...</td>\n",
       "      <td>42882876401</td>\n",
       "      <td>Preto</td>\n",
       "      <td>fulfillment</td>\n",
       "      <td>2023-12-07</td>\n",
       "      <td>14</td>\n",
       "      <td>14</td>\n",
       "      <td>580.0</td>\n",
       "    </tr>\n",
       "    <tr>\n",
       "      <th>360</th>\n",
       "      <td>MLB1942106803</td>\n",
       "      <td>WQLG77218</td>\n",
       "      <td>nan</td>\n",
       "      <td>NaN</td>\n",
       "      <td>paused</td>\n",
       "      <td>False</td>\n",
       "      <td>fulfillment</td>\n",
       "      <td>NaN</td>\n",
       "      <td>NaN</td>\n",
       "      <td>NaN</td>\n",
       "      <td>NaN</td>\n",
       "      <td>NaN</td>\n",
       "      <td>NaN</td>\n",
       "      <td>NaN</td>\n",
       "      <td>0</td>\n",
       "      <td>0</td>\n",
       "      <td>NaN</td>\n",
       "    </tr>\n",
       "  </tbody>\n",
       "</table>\n",
       "<p>361 rows × 17 columns</p>\n",
       "</div>"
      ],
      "text/plain": [
       "           ml_code ml_inventory_id value_name variation_id  status  \\\n",
       "0    MLB1435852259       TLCG38735        NaN          NaN  active   \n",
       "1    MLB1435836214       PUOF38682        NaN          NaN  active   \n",
       "2    MLB1400355425       ZXFT21237        NaN          NaN  active   \n",
       "3    MLB1440291959       JGRW38703        NaN          NaN  active   \n",
       "4    MLB1564998298       OVRP11252        NaN          NaN  paused   \n",
       "..             ...             ...        ...          ...     ...   \n",
       "356  MLB1490210934       SPKV63227        nan          NaN  paused   \n",
       "357  MLB1556975175       DZVJ05686     Marrom  57895096313  active   \n",
       "358   MLB950338822       MAEG54107        nan          NaN  paused   \n",
       "359  MLB1662970458       UIUW89800      Preto  64498487033  paused   \n",
       "360  MLB1942106803       WQLG77218        nan          NaN  paused   \n",
       "\n",
       "     catalog_listing logistic_type_x            seller_sku          order_id  \\\n",
       "0              False     fulfillment                   NaN               NaN   \n",
       "1              False     fulfillment                   NaN               NaN   \n",
       "2              False     fulfillment                   NaN               NaN   \n",
       "3              False     fulfillment                   NaN               NaN   \n",
       "4              False     fulfillment                   NaN               NaN   \n",
       "..               ...             ...                   ...               ...   \n",
       "356            False     fulfillment                   NaN               NaN   \n",
       "357            False     fulfillment  FULLTAGIMA21KCOMCAPA  2000007119293852   \n",
       "358            False     fulfillment                   NaN               NaN   \n",
       "359            False     fulfillment          FULLIZZO6480  2000007089127282   \n",
       "360            False     fulfillment                   NaN               NaN   \n",
       "\n",
       "                                                 title  shipping_id  \\\n",
       "0                                                  NaN          NaN   \n",
       "1                                                  NaN          NaN   \n",
       "2                                                  NaN          NaN   \n",
       "3                                                  NaN          NaN   \n",
       "4                                                  NaN          NaN   \n",
       "..                                                 ...          ...   \n",
       "356                                                NaN          NaN   \n",
       "357  Ukulelê Soprano Profissional Tagima 21k Mahoga...  42895838930   \n",
       "358                                                NaN          NaN   \n",
       "359  Pandeiro Original 10 Pol Abs Preto Com Pele Pr...  42882876401   \n",
       "360                                                NaN          NaN   \n",
       "\n",
       "    variation_value_name logistic_type_y        data  total_sold_quantity  \\\n",
       "0                    NaN             NaN         NaN                    0   \n",
       "1                    NaN             NaN         NaN                    0   \n",
       "2                    NaN             NaN         NaN                    0   \n",
       "3                    NaN             NaN         NaN                    0   \n",
       "4                    NaN             NaN         NaN                    0   \n",
       "..                   ...             ...         ...                  ...   \n",
       "356                  NaN             NaN         NaN                    0   \n",
       "357               Marrom     fulfillment  2023-12-11                   15   \n",
       "358                  NaN             NaN         NaN                    0   \n",
       "359                Preto     fulfillment  2023-12-07                   14   \n",
       "360                  NaN             NaN         NaN                    0   \n",
       "\n",
       "     total_sold_not_catalog  total_sold_catalog  \n",
       "0                         0                 1.0  \n",
       "1                         0                 1.0  \n",
       "2                         0                 NaN  \n",
       "3                         0                 4.0  \n",
       "4                         0                 0.0  \n",
       "..                      ...                 ...  \n",
       "356                       0                 NaN  \n",
       "357                      15                 NaN  \n",
       "358                       0                51.0  \n",
       "359                      14               580.0  \n",
       "360                       0                 NaN  \n",
       "\n",
       "[361 rows x 17 columns]"
      ]
     },
     "execution_count": 123,
     "metadata": {},
     "output_type": "execute_result"
    }
   ],
   "source": [
    "# df_combined"
   ]
  },
  {
   "cell_type": "code",
   "execution_count": 109,
   "metadata": {},
   "outputs": [
    {
     "data": {
      "text/plain": [
       "(361, 26)"
      ]
     },
     "execution_count": 109,
     "metadata": {},
     "output_type": "execute_result"
    }
   ],
   "source": [
    "df.shape"
   ]
  },
  {
   "cell_type": "code",
   "execution_count": 110,
   "metadata": {},
   "outputs": [],
   "source": [
    "days = 30\n",
    "\n",
    "df[\"total_sold\"] = df[\"total_sold_catalog\"] + df[\"total_sold_not_catalog\"]\n",
    "# qtd de produtos a enviar no período, caso seja valor negativo produto está acima do esperado para envio(sobrando)\n",
    "df[\"period_send_fulfillment\"] = np.ceil(\n",
    "    (df[\"total_sold\"] / df[\"days_available\"]) * days - df[\"total_available_quantity\"]\n",
    ")\n",
    "\n",
    "df[\"period_send_fulfillment\"] = df[\"period_send_fulfillment\"].fillna(0)"
   ]
  },
  {
   "cell_type": "code",
   "execution_count": 111,
   "metadata": {},
   "outputs": [],
   "source": [
    "def calculate_percentual_send(row):\n",
    "    if row[\"days_available\"] != 0:\n",
    "        if ((row[\"total_sold\"] / row[\"days_available\"]) * days) * 0.7 > row[\n",
    "            \"total_available_quantity\"\n",
    "        ]:\n",
    "            return (row[\"total_sold\"] / row[\"days_available\"]) * days - row[\n",
    "                \"total_available_quantity\"\n",
    "            ]\n",
    "    return 0\n",
    "\n",
    "\n",
    "# Aplicando a função à coluna \"percentual_send\"\n",
    "df[\"stock_replenishment\"] = df.apply(calculate_percentual_send, axis=1)"
   ]
  },
  {
   "cell_type": "code",
   "execution_count": 112,
   "metadata": {},
   "outputs": [
    {
     "data": {
      "text/html": [
       "<div>\n",
       "<style scoped>\n",
       "    .dataframe tbody tr th:only-of-type {\n",
       "        vertical-align: middle;\n",
       "    }\n",
       "\n",
       "    .dataframe tbody tr th {\n",
       "        vertical-align: top;\n",
       "    }\n",
       "\n",
       "    .dataframe thead th {\n",
       "        text-align: right;\n",
       "    }\n",
       "</style>\n",
       "<table border=\"1\" class=\"dataframe\">\n",
       "  <thead>\n",
       "    <tr style=\"text-align: right;\">\n",
       "      <th></th>\n",
       "      <th>ml_code</th>\n",
       "      <th>ml_inventory_id</th>\n",
       "      <th>value_name</th>\n",
       "      <th>variation_id</th>\n",
       "      <th>status</th>\n",
       "      <th>catalog_listing</th>\n",
       "      <th>logistic_type_x</th>\n",
       "      <th>seller_sku</th>\n",
       "      <th>order_id</th>\n",
       "      <th>title</th>\n",
       "      <th>...</th>\n",
       "      <th>detail_quantity</th>\n",
       "      <th>references_id</th>\n",
       "      <th>references_variation_id</th>\n",
       "      <th>data_y</th>\n",
       "      <th>has_stock</th>\n",
       "      <th>days_available</th>\n",
       "      <th>total_available_quantity</th>\n",
       "      <th>total_sold</th>\n",
       "      <th>period_send_fulfillment</th>\n",
       "      <th>stock_replenishment</th>\n",
       "    </tr>\n",
       "  </thead>\n",
       "  <tbody>\n",
       "    <tr>\n",
       "      <th>209</th>\n",
       "      <td>MLB949776093</td>\n",
       "      <td>QYGO52123</td>\n",
       "      <td>NaN</td>\n",
       "      <td>NaN</td>\n",
       "      <td>paused</td>\n",
       "      <td>False</td>\n",
       "      <td>fulfillment</td>\n",
       "      <td>NaN</td>\n",
       "      <td>NaN</td>\n",
       "      <td>NaN</td>\n",
       "      <td>...</td>\n",
       "      <td>NaN</td>\n",
       "      <td>NaN</td>\n",
       "      <td>NaN</td>\n",
       "      <td>NaT</td>\n",
       "      <td>NaN</td>\n",
       "      <td>NaN</td>\n",
       "      <td>NaN</td>\n",
       "      <td>0</td>\n",
       "      <td>0.0</td>\n",
       "      <td>0</td>\n",
       "    </tr>\n",
       "    <tr>\n",
       "      <th>275</th>\n",
       "      <td>MLB2636549148</td>\n",
       "      <td>MHIJ54971</td>\n",
       "      <td>NaN</td>\n",
       "      <td>NaN</td>\n",
       "      <td>active</td>\n",
       "      <td>False</td>\n",
       "      <td>fulfillment</td>\n",
       "      <td>NaN</td>\n",
       "      <td>NaN</td>\n",
       "      <td>NaN</td>\n",
       "      <td>...</td>\n",
       "      <td>NaN</td>\n",
       "      <td>NaN</td>\n",
       "      <td>NaN</td>\n",
       "      <td>NaT</td>\n",
       "      <td>NaN</td>\n",
       "      <td>NaN</td>\n",
       "      <td>NaN</td>\n",
       "      <td>19</td>\n",
       "      <td>0.0</td>\n",
       "      <td>0</td>\n",
       "    </tr>\n",
       "    <tr>\n",
       "      <th>219</th>\n",
       "      <td>MLB2006357721</td>\n",
       "      <td>RVHF10897</td>\n",
       "      <td>NaN</td>\n",
       "      <td>NaN</td>\n",
       "      <td>active</td>\n",
       "      <td>False</td>\n",
       "      <td>fulfillment</td>\n",
       "      <td>NaN</td>\n",
       "      <td>NaN</td>\n",
       "      <td>NaN</td>\n",
       "      <td>...</td>\n",
       "      <td>NaN</td>\n",
       "      <td>NaN</td>\n",
       "      <td>NaN</td>\n",
       "      <td>NaT</td>\n",
       "      <td>NaN</td>\n",
       "      <td>NaN</td>\n",
       "      <td>NaN</td>\n",
       "      <td>12</td>\n",
       "      <td>0.0</td>\n",
       "      <td>0</td>\n",
       "    </tr>\n",
       "    <tr>\n",
       "      <th>82</th>\n",
       "      <td>MLB1461737680</td>\n",
       "      <td>GLMK66383</td>\n",
       "      <td>NaN</td>\n",
       "      <td>NaN</td>\n",
       "      <td>active</td>\n",
       "      <td>False</td>\n",
       "      <td>fulfillment</td>\n",
       "      <td>NaN</td>\n",
       "      <td>NaN</td>\n",
       "      <td>NaN</td>\n",
       "      <td>...</td>\n",
       "      <td>NaN</td>\n",
       "      <td>NaN</td>\n",
       "      <td>NaN</td>\n",
       "      <td>NaT</td>\n",
       "      <td>NaN</td>\n",
       "      <td>NaN</td>\n",
       "      <td>NaN</td>\n",
       "      <td>3</td>\n",
       "      <td>0.0</td>\n",
       "      <td>0</td>\n",
       "    </tr>\n",
       "    <tr>\n",
       "      <th>127</th>\n",
       "      <td>MLB1435969309</td>\n",
       "      <td>TPDH38567</td>\n",
       "      <td>nan</td>\n",
       "      <td>NaN</td>\n",
       "      <td>paused</td>\n",
       "      <td>False</td>\n",
       "      <td>fulfillment</td>\n",
       "      <td>NaN</td>\n",
       "      <td>NaN</td>\n",
       "      <td>NaN</td>\n",
       "      <td>...</td>\n",
       "      <td>NaN</td>\n",
       "      <td>NaN</td>\n",
       "      <td>NaN</td>\n",
       "      <td>NaT</td>\n",
       "      <td>NaN</td>\n",
       "      <td>NaN</td>\n",
       "      <td>NaN</td>\n",
       "      <td>8</td>\n",
       "      <td>0.0</td>\n",
       "      <td>0</td>\n",
       "    </tr>\n",
       "  </tbody>\n",
       "</table>\n",
       "<p>5 rows × 29 columns</p>\n",
       "</div>"
      ],
      "text/plain": [
       "           ml_code ml_inventory_id value_name variation_id  status  \\\n",
       "209   MLB949776093       QYGO52123        NaN          NaN  paused   \n",
       "275  MLB2636549148       MHIJ54971        NaN          NaN  active   \n",
       "219  MLB2006357721       RVHF10897        NaN          NaN  active   \n",
       "82   MLB1461737680       GLMK66383        NaN          NaN  active   \n",
       "127  MLB1435969309       TPDH38567        nan          NaN  paused   \n",
       "\n",
       "     catalog_listing logistic_type_x seller_sku order_id title  ...  \\\n",
       "209            False     fulfillment        NaN      NaN   NaN  ...   \n",
       "275            False     fulfillment        NaN      NaN   NaN  ...   \n",
       "219            False     fulfillment        NaN      NaN   NaN  ...   \n",
       "82             False     fulfillment        NaN      NaN   NaN  ...   \n",
       "127            False     fulfillment        NaN      NaN   NaN  ...   \n",
       "\n",
       "    detail_quantity references_id references_variation_id data_y  has_stock  \\\n",
       "209             NaN           NaN                     NaN    NaT        NaN   \n",
       "275             NaN           NaN                     NaN    NaT        NaN   \n",
       "219             NaN           NaN                     NaN    NaT        NaN   \n",
       "82              NaN           NaN                     NaN    NaT        NaN   \n",
       "127             NaN           NaN                     NaN    NaT        NaN   \n",
       "\n",
       "     days_available  total_available_quantity  total_sold  \\\n",
       "209             NaN                       NaN           0   \n",
       "275             NaN                       NaN          19   \n",
       "219             NaN                       NaN          12   \n",
       "82              NaN                       NaN           3   \n",
       "127             NaN                       NaN           8   \n",
       "\n",
       "    period_send_fulfillment  stock_replenishment  \n",
       "209                     0.0                    0  \n",
       "275                     0.0                    0  \n",
       "219                     0.0                    0  \n",
       "82                      0.0                    0  \n",
       "127                     0.0                    0  \n",
       "\n",
       "[5 rows x 29 columns]"
      ]
     },
     "execution_count": 112,
     "metadata": {},
     "output_type": "execute_result"
    }
   ],
   "source": [
    "df.sample(5)"
   ]
  },
  {
   "cell_type": "code",
   "execution_count": 113,
   "metadata": {},
   "outputs": [
    {
     "data": {
      "text/plain": [
       "Index(['ml_code', 'ml_inventory_id', 'value_name', 'variation_id', 'status',\n",
       "       'catalog_listing', 'logistic_type_x', 'seller_sku', 'order_id', 'title',\n",
       "       'shipping_id', 'variation_value_name', 'logistic_type_y', 'data_x',\n",
       "       'total_sold_quantity', 'total_sold_not_catalog', 'total_sold_catalog',\n",
       "       'available_quantity_today', 'detail_status', 'detail_quantity',\n",
       "       'references_id', 'references_variation_id', 'data_y', 'has_stock',\n",
       "       'days_available', 'total_available_quantity', 'total_sold',\n",
       "       'period_send_fulfillment', 'stock_replenishment'],\n",
       "      dtype='object')"
      ]
     },
     "execution_count": 113,
     "metadata": {},
     "output_type": "execute_result"
    }
   ],
   "source": [
    "df.columns"
   ]
  },
  {
   "cell_type": "code",
   "execution_count": 114,
   "metadata": {},
   "outputs": [
    {
     "data": {
      "text/plain": [
       "(361, 29)"
      ]
     },
     "execution_count": 114,
     "metadata": {},
     "output_type": "execute_result"
    }
   ],
   "source": [
    "df.shape"
   ]
  },
  {
   "cell_type": "code",
   "execution_count": 121,
   "metadata": {},
   "outputs": [],
   "source": [
    "# df"
   ]
  },
  {
   "cell_type": "code",
   "execution_count": 122,
   "metadata": {},
   "outputs": [
    {
     "data": {
      "text/html": [
       "<div>\n",
       "<style scoped>\n",
       "    .dataframe tbody tr th:only-of-type {\n",
       "        vertical-align: middle;\n",
       "    }\n",
       "\n",
       "    .dataframe tbody tr th {\n",
       "        vertical-align: top;\n",
       "    }\n",
       "\n",
       "    .dataframe thead th {\n",
       "        text-align: right;\n",
       "    }\n",
       "</style>\n",
       "<table border=\"1\" class=\"dataframe\">\n",
       "  <thead>\n",
       "    <tr style=\"text-align: right;\">\n",
       "      <th></th>\n",
       "      <th>ml_code</th>\n",
       "      <th>ml_inventory_id</th>\n",
       "      <th>value_name</th>\n",
       "      <th>variation_id</th>\n",
       "      <th>status</th>\n",
       "      <th>catalog_listing</th>\n",
       "      <th>logistic_type_x</th>\n",
       "      <th>seller_sku</th>\n",
       "      <th>order_id</th>\n",
       "      <th>title</th>\n",
       "      <th>...</th>\n",
       "      <th>detail_quantity</th>\n",
       "      <th>references_id</th>\n",
       "      <th>references_variation_id</th>\n",
       "      <th>data_y</th>\n",
       "      <th>has_stock</th>\n",
       "      <th>days_available</th>\n",
       "      <th>total_available_quantity</th>\n",
       "      <th>total_sold</th>\n",
       "      <th>period_send_fulfillment</th>\n",
       "      <th>stock_replenishment</th>\n",
       "    </tr>\n",
       "  </thead>\n",
       "  <tbody>\n",
       "  </tbody>\n",
       "</table>\n",
       "<p>0 rows × 29 columns</p>\n",
       "</div>"
      ],
      "text/plain": [
       "Empty DataFrame\n",
       "Columns: [ml_code, ml_inventory_id, value_name, variation_id, status, catalog_listing, logistic_type_x, seller_sku, order_id, title, shipping_id, variation_value_name, logistic_type_y, data_x, total_sold_quantity, total_sold_not_catalog, total_sold_catalog, available_quantity_today, detail_status, detail_quantity, references_id, references_variation_id, data_y, has_stock, days_available, total_available_quantity, total_sold, period_send_fulfillment, stock_replenishment]\n",
       "Index: []\n",
       "\n",
       "[0 rows x 29 columns]"
      ]
     },
     "execution_count": 122,
     "metadata": {},
     "output_type": "execute_result"
    }
   ],
   "source": [
    "df_have_itens = df[df[\"days_available\"] > 0]\n",
    "df_have_itens.shape\n",
    "df_have_itens"
   ]
  },
  {
   "cell_type": "code",
   "execution_count": 116,
   "metadata": {},
   "outputs": [],
   "source": [
    "df_sold_zero = df_have_itens[df_have_itens[\"total_sold\"] == 0]\n",
    "df_sold = df_have_itens[df_have_itens[\"total_sold\"] > 0]"
   ]
  },
  {
   "cell_type": "code",
   "execution_count": 117,
   "metadata": {},
   "outputs": [
    {
     "data": {
      "text/plain": [
       "(0, 28)"
      ]
     },
     "execution_count": 117,
     "metadata": {},
     "output_type": "execute_result"
    }
   ],
   "source": [
    "# produtos sem estoque no período\n",
    "df_no_itens = df[df[\"days_available\"] <= 0]\n",
    "df_no_itens = df_no_itens.drop(columns=[\"period_send_fulfillment\"])\n",
    "df_no_itens.shape"
   ]
  },
  {
   "cell_type": "code",
   "execution_count": 118,
   "metadata": {},
   "outputs": [
    {
     "name": "stdout",
     "output_type": "stream",
     "text": [
      "(0, 28)\n",
      "(0, 29)\n",
      "(0, 29)\n"
     ]
    }
   ],
   "source": [
    "print(df_no_itens.shape)\n",
    "print(df_sold.shape)\n",
    "print(df_sold_zero.shape)"
   ]
  },
  {
   "cell_type": "code",
   "execution_count": 119,
   "metadata": {},
   "outputs": [
    {
     "ename": "ValueError",
     "evalue": "a must be greater than 0 unless no samples are taken",
     "output_type": "error",
     "traceback": [
      "\u001b[1;31m---------------------------------------------------------------------------\u001b[0m",
      "\u001b[1;31mValueError\u001b[0m                                Traceback (most recent call last)",
      "Cell \u001b[1;32mIn[119], line 1\u001b[0m\n\u001b[1;32m----> 1\u001b[0m \u001b[43mdf_sold_zero\u001b[49m\u001b[38;5;241;43m.\u001b[39;49m\u001b[43msample\u001b[49m\u001b[43m(\u001b[49m\u001b[38;5;241;43m3\u001b[39;49m\u001b[43m)\u001b[49m\n",
      "File \u001b[1;32mc:\\Users\\couti\\projetos\\mcenter_streamlit\\venv\\Lib\\site-packages\\pandas\\core\\generic.py:6029\u001b[0m, in \u001b[0;36mNDFrame.sample\u001b[1;34m(self, n, frac, replace, weights, random_state, axis, ignore_index)\u001b[0m\n\u001b[0;32m   6026\u001b[0m \u001b[38;5;28;01mif\u001b[39;00m weights \u001b[38;5;129;01mis\u001b[39;00m \u001b[38;5;129;01mnot\u001b[39;00m \u001b[38;5;28;01mNone\u001b[39;00m:\n\u001b[0;32m   6027\u001b[0m     weights \u001b[38;5;241m=\u001b[39m sample\u001b[38;5;241m.\u001b[39mpreprocess_weights(\u001b[38;5;28mself\u001b[39m, weights, axis)\n\u001b[1;32m-> 6029\u001b[0m sampled_indices \u001b[38;5;241m=\u001b[39m \u001b[43msample\u001b[49m\u001b[38;5;241;43m.\u001b[39;49m\u001b[43msample\u001b[49m\u001b[43m(\u001b[49m\u001b[43mobj_len\u001b[49m\u001b[43m,\u001b[49m\u001b[43m \u001b[49m\u001b[43msize\u001b[49m\u001b[43m,\u001b[49m\u001b[43m \u001b[49m\u001b[43mreplace\u001b[49m\u001b[43m,\u001b[49m\u001b[43m \u001b[49m\u001b[43mweights\u001b[49m\u001b[43m,\u001b[49m\u001b[43m \u001b[49m\u001b[43mrs\u001b[49m\u001b[43m)\u001b[49m\n\u001b[0;32m   6030\u001b[0m result \u001b[38;5;241m=\u001b[39m \u001b[38;5;28mself\u001b[39m\u001b[38;5;241m.\u001b[39mtake(sampled_indices, axis\u001b[38;5;241m=\u001b[39maxis)\n\u001b[0;32m   6032\u001b[0m \u001b[38;5;28;01mif\u001b[39;00m ignore_index:\n",
      "File \u001b[1;32mc:\\Users\\couti\\projetos\\mcenter_streamlit\\venv\\Lib\\site-packages\\pandas\\core\\sample.py:152\u001b[0m, in \u001b[0;36msample\u001b[1;34m(obj_len, size, replace, weights, random_state)\u001b[0m\n\u001b[0;32m    149\u001b[0m     \u001b[38;5;28;01melse\u001b[39;00m:\n\u001b[0;32m    150\u001b[0m         \u001b[38;5;28;01mraise\u001b[39;00m \u001b[38;5;167;01mValueError\u001b[39;00m(\u001b[38;5;124m\"\u001b[39m\u001b[38;5;124mInvalid weights: weights sum to zero\u001b[39m\u001b[38;5;124m\"\u001b[39m)\n\u001b[1;32m--> 152\u001b[0m \u001b[38;5;28;01mreturn\u001b[39;00m \u001b[43mrandom_state\u001b[49m\u001b[38;5;241;43m.\u001b[39;49m\u001b[43mchoice\u001b[49m\u001b[43m(\u001b[49m\u001b[43mobj_len\u001b[49m\u001b[43m,\u001b[49m\u001b[43m \u001b[49m\u001b[43msize\u001b[49m\u001b[38;5;241;43m=\u001b[39;49m\u001b[43msize\u001b[49m\u001b[43m,\u001b[49m\u001b[43m \u001b[49m\u001b[43mreplace\u001b[49m\u001b[38;5;241;43m=\u001b[39;49m\u001b[43mreplace\u001b[49m\u001b[43m,\u001b[49m\u001b[43m \u001b[49m\u001b[43mp\u001b[49m\u001b[38;5;241;43m=\u001b[39;49m\u001b[43mweights\u001b[49m\u001b[43m)\u001b[49m\u001b[38;5;241m.\u001b[39mastype(\n\u001b[0;32m    153\u001b[0m     np\u001b[38;5;241m.\u001b[39mintp, copy\u001b[38;5;241m=\u001b[39m\u001b[38;5;28;01mFalse\u001b[39;00m\n\u001b[0;32m    154\u001b[0m )\n",
      "File \u001b[1;32mnumpy\\\\random\\\\mtrand.pyx:944\u001b[0m, in \u001b[0;36mnumpy.random.mtrand.RandomState.choice\u001b[1;34m()\u001b[0m\n",
      "\u001b[1;31mValueError\u001b[0m: a must be greater than 0 unless no samples are taken"
     ]
    }
   ],
   "source": [
    "df_sold_zero.sample(3)"
   ]
  },
  {
   "cell_type": "code",
   "execution_count": null,
   "metadata": {},
   "outputs": [],
   "source": [
    "df_sold.sample(3)"
   ]
  },
  {
   "cell_type": "code",
   "execution_count": null,
   "metadata": {},
   "outputs": [],
   "source": [
    "dfx = df_have_itens.copy()"
   ]
  },
  {
   "cell_type": "code",
   "execution_count": null,
   "metadata": {},
   "outputs": [],
   "source": [
    "df_sold_zero.columns"
   ]
  },
  {
   "cell_type": "code",
   "execution_count": null,
   "metadata": {},
   "outputs": [],
   "source": [
    "dfx.columns"
   ]
  },
  {
   "cell_type": "code",
   "execution_count": null,
   "metadata": {},
   "outputs": [],
   "source": [
    "cols = [\n",
    "    \"ml_code\",\n",
    "    \"seller_sku\",\n",
    "    \"ml_inventory_id\",\n",
    "    \"value_name\",\n",
    "    \"status\",\n",
    "    \"title\",\n",
    "    \"available_quantity_today\",\n",
    "    \"detail_status\",\n",
    "    \"detail_quantity\",\n",
    "    \"total_available_quantity\",\n",
    "    \"days_available\",\n",
    "    \"total_sold_not_catalog\",\n",
    "    \"total_sold_catalog\",\n",
    "    \"total_sold\",\n",
    "    \"period_send_fulfillment\",\n",
    "]"
   ]
  },
  {
   "cell_type": "code",
   "execution_count": null,
   "metadata": {},
   "outputs": [],
   "source": [
    "col = [\n",
    "    \"ml_code\",\n",
    "    \"seller_sku\",\n",
    "    \"ml_inventory_id\",\n",
    "    \"value_name\",\n",
    "    \"status\",\n",
    "    \"title\",\n",
    "    \"total_sold_catalog\",\n",
    "    \"available_quantity_today\",\n",
    "    \"detail_status\",\n",
    "    \"detail_quantity\",\n",
    "    \"days_available\",\n",
    "    \"total_available_quantity\",\n",
    "    \"total_sold_not_catalog\",\n",
    "    \"total_sold\",\n",
    "]\n",
    "\n",
    "df_no_itens = df_no_itens[col]\n",
    "df_no_itens"
   ]
  },
  {
   "cell_type": "code",
   "execution_count": null,
   "metadata": {},
   "outputs": [],
   "source": [
    "def rename_columns(df):\n",
    "    return df.rename(\n",
    "        columns={\n",
    "            \"detail_status\": \"transfer_status\",\n",
    "            \"detail_quantity\": \"transfer_quantity\",\n",
    "        }\n",
    "    )\n",
    "\n",
    "\n",
    "df_sold_zero = rename_columns(df_sold_zero)\n",
    "df_sold = rename_columns(df_sold)\n",
    "df_no_itens = rename_columns(df_no_itens)"
   ]
  },
  {
   "cell_type": "code",
   "execution_count": null,
   "metadata": {},
   "outputs": [],
   "source": [
    "df_no_itens.columns"
   ]
  },
  {
   "cell_type": "code",
   "execution_count": null,
   "metadata": {},
   "outputs": [],
   "source": [
    "dfx = dfx.rename(\n",
    "    columns={\"detail_status\": \"transfer_status\", \"detail_quantity\": \"transfer_quantity\"}\n",
    ")"
   ]
  },
  {
   "cell_type": "code",
   "execution_count": null,
   "metadata": {},
   "outputs": [],
   "source": [
    "dfx.sample()\n",
    "dfx.shape"
   ]
  },
  {
   "cell_type": "code",
   "execution_count": null,
   "metadata": {},
   "outputs": [],
   "source": [
    "dfx"
   ]
  },
  {
   "cell_type": "markdown",
   "metadata": {},
   "source": [
    "## Acabou!"
   ]
  }
 ],
 "metadata": {
  "kernelspec": {
   "display_name": "venv",
   "language": "python",
   "name": "python3"
  },
  "language_info": {
   "codemirror_mode": {
    "name": "ipython",
    "version": 3
   },
   "file_extension": ".py",
   "mimetype": "text/x-python",
   "name": "python",
   "nbconvert_exporter": "python",
   "pygments_lexer": "ipython3",
   "version": "3.12.0"
  }
 },
 "nbformat": 4,
 "nbformat_minor": 2
}
