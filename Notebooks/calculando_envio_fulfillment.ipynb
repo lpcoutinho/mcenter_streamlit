{
 "cells": [
  {
   "cell_type": "markdown",
   "metadata": {},
   "source": [
    "Depositos para enviar, orderm de preferencia:\n",
    "musical_matriz\n",
    "musical_filal\n",
    "em seguida onde houver mais estoque\n",
    "\n",
    "\n",
    "onde days_available = 0 criar observação onde informa que há muito tempo sem estoque"
   ]
  },
  {
   "cell_type": "code",
   "execution_count": 1,
   "metadata": {},
   "outputs": [],
   "source": [
    "import json\n",
    "import os\n",
    "import time\n",
    "from pandas import json_normalize\n",
    "import psycopg2\n",
    "from psycopg2 import sql\n",
    "import math\n",
    "import pandas as pd\n",
    "import requests\n",
    "from dotenv import load_dotenv\n",
    "from datetime import datetime, timedelta\n",
    "import numpy as np\n",
    "\n",
    "load_dotenv()\n",
    "\n",
    "ACCESS_TOKEN = os.getenv(\"ACCESS_TOKEN\")\n",
    "HOST = os.getenv(\"HOST\")\n",
    "POSTGRES_DB = os.getenv(\"POSTGRES_DB\")\n",
    "POSTGRES_USER = os.getenv(\"POSTGRES_USER\")\n",
    "POSTGRES_PASSWORD = os.getenv(\"POSTGRES_PASSWORD\")\n",
    "\n",
    "\n",
    "# Informações de conexão com o banco de dados PostgreSQL\n",
    "db_config = {\n",
    "    \"host\":HOST,\n",
    "    \"database\": POSTGRES_DB,\n",
    "    \"user\": POSTGRES_USER,\n",
    "    \"password\": POSTGRES_PASSWORD,\n",
    "}\n",
    "\n",
    "# Registra o tempo antes da execução\n",
    "start_prog = time.time()"
   ]
  },
  {
   "cell_type": "code",
   "execution_count": 2,
   "metadata": {},
   "outputs": [],
   "source": [
    "# pd.set_option('display.max_rows', None)\n",
    "pd.set_option('display.max_colwidth', None)\n",
    "\n",
    "pd.reset_option('display.max_columns')\n"
   ]
  },
  {
   "cell_type": "code",
   "execution_count": 3,
   "metadata": {},
   "outputs": [],
   "source": [
    "def condf(df, coluna, valor):\n",
    "    \"\"\"\n",
    "    Consulta um DataFrame com base em uma coluna e valor específicos.\n",
    "\n",
    "    Parâmetros:\n",
    "    - df: DataFrame a ser consultado.\n",
    "    - coluna: Nome da coluna para a condição de consulta.\n",
    "    - valor: Valor desejado na coluna.\n",
    "\n",
    "    Retorna:\n",
    "    Um DataFrame contendo apenas as linhas que atendem à condição.\n",
    "    \"\"\"\n",
    "    resultado = df[df[coluna] == valor]\n",
    "    return resultado\n",
    "\n",
    "def condf_date(df, coluna_data, data_pesquisada):\n",
    "    \"\"\"\n",
    "    Consulta um DataFrame com base em uma coluna de datas.\n",
    "\n",
    "    Parâmetros:\n",
    "    - df: DataFrame a ser consultado.\n",
    "    - coluna_data: Nome da coluna de datas.\n",
    "    - data_pesquisada: Data desejada para a consulta.\n",
    "\n",
    "    Retorna:\n",
    "    Um DataFrame contendo apenas as linhas que correspondem à data pesquisada.\n",
    "    \"\"\"\n",
    "    resultado = df[pd.to_datetime(df[coluna_data]).dt.date == data_pesquisada]\n",
    "    return resultado\n"
   ]
  },
  {
   "cell_type": "markdown",
   "metadata": {},
   "source": [
    "### Período a consultar"
   ]
  },
  {
   "cell_type": "code",
   "execution_count": 38,
   "metadata": {},
   "outputs": [],
   "source": [
    "# Defina as datas de início e fim desejadas\n",
    "data_inicio = datetime(2023, 11, 15).date()\n",
    "data_fim = datetime(2023, 11, 27).date()\n",
    "data_fim = data_fim + timedelta(days=1) # + 1 dia para pegar a data atual no DB"
   ]
  },
  {
   "cell_type": "markdown",
   "metadata": {},
   "source": [
    "### Historico de estoque"
   ]
  },
  {
   "cell_type": "code",
   "execution_count": 39,
   "metadata": {},
   "outputs": [
    {
     "name": "stdout",
     "output_type": "stream",
     "text": [
      "SELECT * FROM fulfillment_stock_hist WHERE created_at BETWEEN '2023-11-15' AND '2023-11-28'\n"
     ]
    },
    {
     "name": "stderr",
     "output_type": "stream",
     "text": [
      "C:\\Users\\couti\\AppData\\Local\\Temp\\ipykernel_1084\\2214238412.py:7: UserWarning: pandas only supports SQLAlchemy connectable (engine/connection) or database string URI or sqlite3 DBAPI2 connection. Other DBAPI2 objects are not tested. Please consider using SQLAlchemy.\n",
      "  df_stock = pd.read_sql(sql_query, conn)\n"
     ]
    }
   ],
   "source": [
    "# Buscando histórico de estoque na tabela\n",
    "try:\n",
    "    conn = psycopg2.connect(**db_config)\n",
    "\n",
    "    sql_query = f\"SELECT * FROM fulfillment_stock_hist WHERE created_at BETWEEN '{data_inicio}' AND '{data_fim}'\"\n",
    "    print(sql_query)\n",
    "    df_stock = pd.read_sql(sql_query, conn)\n",
    "\n",
    "except psycopg2.Error as e:\n",
    "    print(f\"Erro do psycopg2 ao consultar fulfillment_stock: {e}\")\n",
    "\n",
    "except Exception as e:\n",
    "    print(f\"Erro ao consultar fulfillment_stock: {e}\")\n",
    "\n",
    "finally:\n",
    "    if conn is not None:\n",
    "        conn.close()"
   ]
  },
  {
   "cell_type": "code",
   "execution_count": 40,
   "metadata": {},
   "outputs": [
    {
     "data": {
      "text/html": [
       "<div>\n",
       "<style scoped>\n",
       "    .dataframe tbody tr th:only-of-type {\n",
       "        vertical-align: middle;\n",
       "    }\n",
       "\n",
       "    .dataframe tbody tr th {\n",
       "        vertical-align: top;\n",
       "    }\n",
       "\n",
       "    .dataframe thead th {\n",
       "        text-align: right;\n",
       "    }\n",
       "</style>\n",
       "<table border=\"1\" class=\"dataframe\">\n",
       "  <thead>\n",
       "    <tr style=\"text-align: right;\">\n",
       "      <th></th>\n",
       "      <th>ml_inventory_id</th>\n",
       "      <th>available_quantity</th>\n",
       "      <th>created_at</th>\n",
       "    </tr>\n",
       "  </thead>\n",
       "  <tbody>\n",
       "    <tr>\n",
       "      <th>0</th>\n",
       "      <td>DSGP06967</td>\n",
       "      <td>6</td>\n",
       "      <td>2023-11-23 11:43:27.867518</td>\n",
       "    </tr>\n",
       "    <tr>\n",
       "      <th>1</th>\n",
       "      <td>DSGP06979</td>\n",
       "      <td>7</td>\n",
       "      <td>2023-11-23 11:43:27.867518</td>\n",
       "    </tr>\n",
       "    <tr>\n",
       "      <th>2</th>\n",
       "      <td>JJSZ06277</td>\n",
       "      <td>48</td>\n",
       "      <td>2023-11-23 11:43:27.867518</td>\n",
       "    </tr>\n",
       "    <tr>\n",
       "      <th>3</th>\n",
       "      <td>DGCL82617</td>\n",
       "      <td>13</td>\n",
       "      <td>2023-11-23 11:43:27.867518</td>\n",
       "    </tr>\n",
       "    <tr>\n",
       "      <th>4</th>\n",
       "      <td>GCYF86172</td>\n",
       "      <td>12</td>\n",
       "      <td>2023-11-23 11:43:27.867518</td>\n",
       "    </tr>\n",
       "    <tr>\n",
       "      <th>...</th>\n",
       "      <td>...</td>\n",
       "      <td>...</td>\n",
       "      <td>...</td>\n",
       "    </tr>\n",
       "    <tr>\n",
       "      <th>10155</th>\n",
       "      <td>ERIM51807</td>\n",
       "      <td>0</td>\n",
       "      <td>2023-11-27 00:31:03.121363</td>\n",
       "    </tr>\n",
       "    <tr>\n",
       "      <th>10156</th>\n",
       "      <td>TDFV51283</td>\n",
       "      <td>0</td>\n",
       "      <td>2023-11-27 00:31:03.121363</td>\n",
       "    </tr>\n",
       "    <tr>\n",
       "      <th>10157</th>\n",
       "      <td>OYUK51882</td>\n",
       "      <td>15</td>\n",
       "      <td>2023-11-27 00:31:03.121363</td>\n",
       "    </tr>\n",
       "    <tr>\n",
       "      <th>10158</th>\n",
       "      <td>BLHH53768</td>\n",
       "      <td>4</td>\n",
       "      <td>2023-11-27 00:31:03.121363</td>\n",
       "    </tr>\n",
       "    <tr>\n",
       "      <th>10159</th>\n",
       "      <td>RKCI54992</td>\n",
       "      <td>0</td>\n",
       "      <td>2023-11-27 00:31:03.121363</td>\n",
       "    </tr>\n",
       "  </tbody>\n",
       "</table>\n",
       "<p>10160 rows × 3 columns</p>\n",
       "</div>"
      ],
      "text/plain": [
       "      ml_inventory_id  available_quantity                 created_at\n",
       "0           DSGP06967                   6 2023-11-23 11:43:27.867518\n",
       "1           DSGP06979                   7 2023-11-23 11:43:27.867518\n",
       "2           JJSZ06277                  48 2023-11-23 11:43:27.867518\n",
       "3           DGCL82617                  13 2023-11-23 11:43:27.867518\n",
       "4           GCYF86172                  12 2023-11-23 11:43:27.867518\n",
       "...               ...                 ...                        ...\n",
       "10155       ERIM51807                   0 2023-11-27 00:31:03.121363\n",
       "10156       TDFV51283                   0 2023-11-27 00:31:03.121363\n",
       "10157       OYUK51882                  15 2023-11-27 00:31:03.121363\n",
       "10158       BLHH53768                   4 2023-11-27 00:31:03.121363\n",
       "10159       RKCI54992                   0 2023-11-27 00:31:03.121363\n",
       "\n",
       "[10160 rows x 3 columns]"
      ]
     },
     "execution_count": 40,
     "metadata": {},
     "output_type": "execute_result"
    }
   ],
   "source": [
    "df_stock"
   ]
  },
  {
   "cell_type": "code",
   "execution_count": 7,
   "metadata": {},
   "outputs": [
    {
     "data": {
      "text/plain": [
       "[Timestamp('2023-11-20 01:00:00'),\n",
       " Timestamp('2023-11-19 01:00:00'),\n",
       " Timestamp('2023-11-18 01:00:00'),\n",
       " Timestamp('2023-11-17 01:00:00'),\n",
       " Timestamp('2023-11-16 01:00:00'),\n",
       " Timestamp('2023-11-15 01:00:00'),\n",
       " Timestamp('2023-11-23 11:43:27.867518'),\n",
       " Timestamp('2023-11-24 17:05:53.783044'),\n",
       " Timestamp('2023-11-25 00:31:02.644934')]"
      ]
     },
     "execution_count": 7,
     "metadata": {},
     "output_type": "execute_result"
    }
   ],
   "source": [
    "# datas consultadas, dias em que um produto pode ou não estar disponível\n",
    "df_stock['created_at'].value_counts().index.to_list()"
   ]
  },
  {
   "cell_type": "code",
   "execution_count": 8,
   "metadata": {},
   "outputs": [
    {
     "data": {
      "text/html": [
       "<div>\n",
       "<style scoped>\n",
       "    .dataframe tbody tr th:only-of-type {\n",
       "        vertical-align: middle;\n",
       "    }\n",
       "\n",
       "    .dataframe tbody tr th {\n",
       "        vertical-align: top;\n",
       "    }\n",
       "\n",
       "    .dataframe thead th {\n",
       "        text-align: right;\n",
       "    }\n",
       "</style>\n",
       "<table border=\"1\" class=\"dataframe\">\n",
       "  <thead>\n",
       "    <tr style=\"text-align: right;\">\n",
       "      <th></th>\n",
       "      <th>ml_inventory_id</th>\n",
       "      <th>available_quantity</th>\n",
       "      <th>data</th>\n",
       "    </tr>\n",
       "  </thead>\n",
       "  <tbody>\n",
       "    <tr>\n",
       "      <th>9524</th>\n",
       "      <td>RKCI54992</td>\n",
       "      <td>0</td>\n",
       "      <td>2023-11-25</td>\n",
       "    </tr>\n",
       "    <tr>\n",
       "      <th>9098</th>\n",
       "      <td>OKDI95180</td>\n",
       "      <td>0</td>\n",
       "      <td>2023-11-25</td>\n",
       "    </tr>\n",
       "    <tr>\n",
       "      <th>9105</th>\n",
       "      <td>ZXJO91694</td>\n",
       "      <td>4</td>\n",
       "      <td>2023-11-25</td>\n",
       "    </tr>\n",
       "    <tr>\n",
       "      <th>9104</th>\n",
       "      <td>YLJM05104</td>\n",
       "      <td>2</td>\n",
       "      <td>2023-11-25</td>\n",
       "    </tr>\n",
       "    <tr>\n",
       "      <th>9103</th>\n",
       "      <td>PBFO04192</td>\n",
       "      <td>4</td>\n",
       "      <td>2023-11-25</td>\n",
       "    </tr>\n",
       "    <tr>\n",
       "      <th>...</th>\n",
       "      <td>...</td>\n",
       "      <td>...</td>\n",
       "      <td>...</td>\n",
       "    </tr>\n",
       "    <tr>\n",
       "      <th>8042</th>\n",
       "      <td>DWNN86592</td>\n",
       "      <td>1</td>\n",
       "      <td>2023-11-15</td>\n",
       "    </tr>\n",
       "    <tr>\n",
       "      <th>8041</th>\n",
       "      <td>OWZF76125</td>\n",
       "      <td>0</td>\n",
       "      <td>2023-11-15</td>\n",
       "    </tr>\n",
       "    <tr>\n",
       "      <th>8040</th>\n",
       "      <td>SDNY53354</td>\n",
       "      <td>2</td>\n",
       "      <td>2023-11-15</td>\n",
       "    </tr>\n",
       "    <tr>\n",
       "      <th>8039</th>\n",
       "      <td>KMCL67683</td>\n",
       "      <td>5</td>\n",
       "      <td>2023-11-15</td>\n",
       "    </tr>\n",
       "    <tr>\n",
       "      <th>3813</th>\n",
       "      <td>DGCL82617</td>\n",
       "      <td>13</td>\n",
       "      <td>2023-11-15</td>\n",
       "    </tr>\n",
       "  </tbody>\n",
       "</table>\n",
       "<p>9525 rows × 3 columns</p>\n",
       "</div>"
      ],
      "text/plain": [
       "     ml_inventory_id  available_quantity        data\n",
       "9524       RKCI54992                   0  2023-11-25\n",
       "9098       OKDI95180                   0  2023-11-25\n",
       "9105       ZXJO91694                   4  2023-11-25\n",
       "9104       YLJM05104                   2  2023-11-25\n",
       "9103       PBFO04192                   4  2023-11-25\n",
       "...              ...                 ...         ...\n",
       "8042       DWNN86592                   1  2023-11-15\n",
       "8041       OWZF76125                   0  2023-11-15\n",
       "8040       SDNY53354                   2  2023-11-15\n",
       "8039       KMCL67683                   5  2023-11-15\n",
       "3813       DGCL82617                  13  2023-11-15\n",
       "\n",
       "[9525 rows x 3 columns]"
      ]
     },
     "execution_count": 8,
     "metadata": {},
     "output_type": "execute_result"
    }
   ],
   "source": [
    "# Ordenando stock por data\n",
    "df_stock = df_stock.sort_values(by='created_at', ascending=False)\n",
    "df_stock['data'] = df_stock['created_at'].dt.date\n",
    "df_stock = df_stock.drop(['created_at'], axis=1)\n",
    "\n",
    "df_stock"
   ]
  },
  {
   "cell_type": "code",
   "execution_count": 9,
   "metadata": {},
   "outputs": [
    {
     "data": {
      "text/html": [
       "<div>\n",
       "<style scoped>\n",
       "    .dataframe tbody tr th:only-of-type {\n",
       "        vertical-align: middle;\n",
       "    }\n",
       "\n",
       "    .dataframe tbody tr th {\n",
       "        vertical-align: top;\n",
       "    }\n",
       "\n",
       "    .dataframe thead th {\n",
       "        text-align: right;\n",
       "    }\n",
       "</style>\n",
       "<table border=\"1\" class=\"dataframe\">\n",
       "  <thead>\n",
       "    <tr style=\"text-align: right;\">\n",
       "      <th></th>\n",
       "      <th>ml_inventory_id</th>\n",
       "      <th>available_quantity</th>\n",
       "      <th>data</th>\n",
       "      <th>has_stock</th>\n",
       "    </tr>\n",
       "  </thead>\n",
       "  <tbody>\n",
       "    <tr>\n",
       "      <th>0</th>\n",
       "      <td>RKCI54992</td>\n",
       "      <td>0</td>\n",
       "      <td>2023-11-25</td>\n",
       "      <td>False</td>\n",
       "    </tr>\n",
       "    <tr>\n",
       "      <th>1</th>\n",
       "      <td>POTW78210</td>\n",
       "      <td>2</td>\n",
       "      <td>2023-11-25</td>\n",
       "      <td>True</td>\n",
       "    </tr>\n",
       "    <tr>\n",
       "      <th>2</th>\n",
       "      <td>IZBM09763</td>\n",
       "      <td>0</td>\n",
       "      <td>2023-11-25</td>\n",
       "      <td>False</td>\n",
       "    </tr>\n",
       "    <tr>\n",
       "      <th>3</th>\n",
       "      <td>IBGO88267</td>\n",
       "      <td>0</td>\n",
       "      <td>2023-11-25</td>\n",
       "      <td>False</td>\n",
       "    </tr>\n",
       "    <tr>\n",
       "      <th>4</th>\n",
       "      <td>BLHH53768</td>\n",
       "      <td>4</td>\n",
       "      <td>2023-11-25</td>\n",
       "      <td>True</td>\n",
       "    </tr>\n",
       "    <tr>\n",
       "      <th>...</th>\n",
       "      <td>...</td>\n",
       "      <td>...</td>\n",
       "      <td>...</td>\n",
       "      <td>...</td>\n",
       "    </tr>\n",
       "    <tr>\n",
       "      <th>9520</th>\n",
       "      <td>BLHH53768</td>\n",
       "      <td>4</td>\n",
       "      <td>2023-11-15</td>\n",
       "      <td>True</td>\n",
       "    </tr>\n",
       "    <tr>\n",
       "      <th>9521</th>\n",
       "      <td>RKCI54992</td>\n",
       "      <td>0</td>\n",
       "      <td>2023-11-15</td>\n",
       "      <td>False</td>\n",
       "    </tr>\n",
       "    <tr>\n",
       "      <th>9522</th>\n",
       "      <td>JJSZ06277</td>\n",
       "      <td>48</td>\n",
       "      <td>2023-11-15</td>\n",
       "      <td>True</td>\n",
       "    </tr>\n",
       "    <tr>\n",
       "      <th>9523</th>\n",
       "      <td>DSGP06979</td>\n",
       "      <td>7</td>\n",
       "      <td>2023-11-15</td>\n",
       "      <td>True</td>\n",
       "    </tr>\n",
       "    <tr>\n",
       "      <th>9524</th>\n",
       "      <td>DGCL82617</td>\n",
       "      <td>13</td>\n",
       "      <td>2023-11-15</td>\n",
       "      <td>True</td>\n",
       "    </tr>\n",
       "  </tbody>\n",
       "</table>\n",
       "<p>9525 rows × 4 columns</p>\n",
       "</div>"
      ],
      "text/plain": [
       "     ml_inventory_id  available_quantity        data  has_stock\n",
       "0          RKCI54992                   0  2023-11-25      False\n",
       "1          POTW78210                   2  2023-11-25       True\n",
       "2          IZBM09763                   0  2023-11-25      False\n",
       "3          IBGO88267                   0  2023-11-25      False\n",
       "4          BLHH53768                   4  2023-11-25       True\n",
       "...              ...                 ...         ...        ...\n",
       "9520       BLHH53768                   4  2023-11-15       True\n",
       "9521       RKCI54992                   0  2023-11-15      False\n",
       "9522       JJSZ06277                  48  2023-11-15       True\n",
       "9523       DSGP06979                   7  2023-11-15       True\n",
       "9524       DGCL82617                  13  2023-11-15       True\n",
       "\n",
       "[9525 rows x 4 columns]"
      ]
     },
     "execution_count": 9,
     "metadata": {},
     "output_type": "execute_result"
    }
   ],
   "source": [
    "## Cria coluna has_stock, se available_quantity <= 0, has_stock= False ##\n",
    "df_stock = df_stock.assign(has_stock=lambda x: x[\"available_quantity\"] > 0)\n",
    "df_stock = df_stock.sort_values(by='data', ascending=False).reset_index(drop=True)\n",
    "df_stock"
   ]
  },
  {
   "cell_type": "code",
   "execution_count": 10,
   "metadata": {},
   "outputs": [],
   "source": [
    "df_stock = df_stock.drop_duplicates()"
   ]
  },
  {
   "cell_type": "code",
   "execution_count": 11,
   "metadata": {},
   "outputs": [
    {
     "data": {
      "text/html": [
       "<div>\n",
       "<style scoped>\n",
       "    .dataframe tbody tr th:only-of-type {\n",
       "        vertical-align: middle;\n",
       "    }\n",
       "\n",
       "    .dataframe tbody tr th {\n",
       "        vertical-align: top;\n",
       "    }\n",
       "\n",
       "    .dataframe thead th {\n",
       "        text-align: right;\n",
       "    }\n",
       "</style>\n",
       "<table border=\"1\" class=\"dataframe\">\n",
       "  <thead>\n",
       "    <tr style=\"text-align: right;\">\n",
       "      <th></th>\n",
       "      <th>ml_inventory_id</th>\n",
       "      <th>available_quantity</th>\n",
       "      <th>data</th>\n",
       "      <th>has_stock</th>\n",
       "    </tr>\n",
       "  </thead>\n",
       "  <tbody>\n",
       "    <tr>\n",
       "      <th>80</th>\n",
       "      <td>DSGP06967</td>\n",
       "      <td>6</td>\n",
       "      <td>2023-11-25</td>\n",
       "      <td>True</td>\n",
       "    </tr>\n",
       "    <tr>\n",
       "      <th>952</th>\n",
       "      <td>DSGP06967</td>\n",
       "      <td>6</td>\n",
       "      <td>2023-11-24</td>\n",
       "      <td>True</td>\n",
       "    </tr>\n",
       "    <tr>\n",
       "      <th>1691</th>\n",
       "      <td>DSGP06967</td>\n",
       "      <td>6</td>\n",
       "      <td>2023-11-23</td>\n",
       "      <td>True</td>\n",
       "    </tr>\n",
       "    <tr>\n",
       "      <th>2537</th>\n",
       "      <td>DSGP06967</td>\n",
       "      <td>6</td>\n",
       "      <td>2023-11-20</td>\n",
       "      <td>True</td>\n",
       "    </tr>\n",
       "    <tr>\n",
       "      <th>3809</th>\n",
       "      <td>DSGP06967</td>\n",
       "      <td>6</td>\n",
       "      <td>2023-11-19</td>\n",
       "      <td>True</td>\n",
       "    </tr>\n",
       "    <tr>\n",
       "      <th>4447</th>\n",
       "      <td>DSGP06967</td>\n",
       "      <td>6</td>\n",
       "      <td>2023-11-18</td>\n",
       "      <td>True</td>\n",
       "    </tr>\n",
       "    <tr>\n",
       "      <th>6348</th>\n",
       "      <td>DSGP06967</td>\n",
       "      <td>6</td>\n",
       "      <td>2023-11-17</td>\n",
       "      <td>True</td>\n",
       "    </tr>\n",
       "    <tr>\n",
       "      <th>7603</th>\n",
       "      <td>DSGP06967</td>\n",
       "      <td>6</td>\n",
       "      <td>2023-11-16</td>\n",
       "      <td>True</td>\n",
       "    </tr>\n",
       "    <tr>\n",
       "      <th>8257</th>\n",
       "      <td>DSGP06967</td>\n",
       "      <td>6</td>\n",
       "      <td>2023-11-15</td>\n",
       "      <td>True</td>\n",
       "    </tr>\n",
       "  </tbody>\n",
       "</table>\n",
       "</div>"
      ],
      "text/plain": [
       "     ml_inventory_id  available_quantity        data  has_stock\n",
       "80         DSGP06967                   6  2023-11-25       True\n",
       "952        DSGP06967                   6  2023-11-24       True\n",
       "1691       DSGP06967                   6  2023-11-23       True\n",
       "2537       DSGP06967                   6  2023-11-20       True\n",
       "3809       DSGP06967                   6  2023-11-19       True\n",
       "4447       DSGP06967                   6  2023-11-18       True\n",
       "6348       DSGP06967                   6  2023-11-17       True\n",
       "7603       DSGP06967                   6  2023-11-16       True\n",
       "8257       DSGP06967                   6  2023-11-15       True"
      ]
     },
     "execution_count": 11,
     "metadata": {},
     "output_type": "execute_result"
    }
   ],
   "source": [
    "condf(df_stock,'ml_inventory_id','DSGP06967')"
   ]
  },
  {
   "cell_type": "markdown",
   "metadata": {},
   "source": [
    "#### Dias em que produto esteve disponível"
   ]
  },
  {
   "cell_type": "code",
   "execution_count": 12,
   "metadata": {},
   "outputs": [],
   "source": [
    "## Contando dias em que produto esteve disponível \n",
    "days_available = df_stock.groupby('ml_inventory_id')['has_stock'].sum().reset_index()\n",
    "days_available = days_available.rename(columns={'has_stock': 'days_available'})"
   ]
  },
  {
   "cell_type": "code",
   "execution_count": 13,
   "metadata": {},
   "outputs": [
    {
     "data": {
      "text/html": [
       "<div>\n",
       "<style scoped>\n",
       "    .dataframe tbody tr th:only-of-type {\n",
       "        vertical-align: middle;\n",
       "    }\n",
       "\n",
       "    .dataframe tbody tr th {\n",
       "        vertical-align: top;\n",
       "    }\n",
       "\n",
       "    .dataframe thead th {\n",
       "        text-align: right;\n",
       "    }\n",
       "</style>\n",
       "<table border=\"1\" class=\"dataframe\">\n",
       "  <thead>\n",
       "    <tr style=\"text-align: right;\">\n",
       "      <th></th>\n",
       "      <th>ml_inventory_id</th>\n",
       "      <th>days_available</th>\n",
       "    </tr>\n",
       "  </thead>\n",
       "  <tbody>\n",
       "    <tr>\n",
       "      <th>79</th>\n",
       "      <td>DSGP06967</td>\n",
       "      <td>9</td>\n",
       "    </tr>\n",
       "  </tbody>\n",
       "</table>\n",
       "</div>"
      ],
      "text/plain": [
       "   ml_inventory_id  days_available\n",
       "79       DSGP06967               9"
      ]
     },
     "execution_count": 13,
     "metadata": {},
     "output_type": "execute_result"
    }
   ],
   "source": [
    "condf(days_available,'ml_inventory_id','DSGP06967')"
   ]
  },
  {
   "cell_type": "code",
   "execution_count": 14,
   "metadata": {},
   "outputs": [
    {
     "data": {
      "text/plain": [
       "(5715, 5)"
      ]
     },
     "execution_count": 14,
     "metadata": {},
     "output_type": "execute_result"
    }
   ],
   "source": [
    "# Unindo DFs\n",
    "df_stock = df_stock.merge(days_available, on='ml_inventory_id', how='inner')\n",
    "\n",
    "df_stock.shape"
   ]
  },
  {
   "cell_type": "code",
   "execution_count": 32,
   "metadata": {},
   "outputs": [
    {
     "name": "stdout",
     "output_type": "stream",
     "text": [
      "2023-11-27\n"
     ]
    }
   ],
   "source": [
    "# data de hoje\n",
    "# data_de_hoje = datetime.now().date() - timedelta(days=1)\n",
    "# print(data_de_hoje)\n",
    "data_de_hoje = datetime.now().date()\n",
    "print(data_de_hoje)\n",
    "df_stock['data'] = pd.to_datetime(df_stock['data'])\n",
    "\n",
    "# Filtra apenas as linhas onde 'data' é igual à data de hoje\n",
    "df_stock_today = df_stock[df_stock['data'].dt.date == data_de_hoje]\n",
    "df_stock_today = df_stock_today.rename(columns={'available_quantity':'available_quantity_today'})\n",
    "# df_stock_today = df_stock.drop(['has_stock'], axis=1)"
   ]
  },
  {
   "cell_type": "code",
   "execution_count": 16,
   "metadata": {},
   "outputs": [
    {
     "data": {
      "text/html": [
       "<div>\n",
       "<style scoped>\n",
       "    .dataframe tbody tr th:only-of-type {\n",
       "        vertical-align: middle;\n",
       "    }\n",
       "\n",
       "    .dataframe tbody tr th {\n",
       "        vertical-align: top;\n",
       "    }\n",
       "\n",
       "    .dataframe thead th {\n",
       "        text-align: right;\n",
       "    }\n",
       "</style>\n",
       "<table border=\"1\" class=\"dataframe\">\n",
       "  <thead>\n",
       "    <tr style=\"text-align: right;\">\n",
       "      <th></th>\n",
       "      <th>ml_inventory_id</th>\n",
       "      <th>available_quantity_today</th>\n",
       "      <th>data</th>\n",
       "      <th>has_stock</th>\n",
       "      <th>days_available</th>\n",
       "    </tr>\n",
       "  </thead>\n",
       "  <tbody>\n",
       "  </tbody>\n",
       "</table>\n",
       "</div>"
      ],
      "text/plain": [
       "Empty DataFrame\n",
       "Columns: [ml_inventory_id, available_quantity_today, data, has_stock, days_available]\n",
       "Index: []"
      ]
     },
     "execution_count": 16,
     "metadata": {},
     "output_type": "execute_result"
    }
   ],
   "source": [
    "df_stock_today"
   ]
  },
  {
   "cell_type": "code",
   "execution_count": 17,
   "metadata": {},
   "outputs": [
    {
     "data": {
      "text/plain": [
       "Series([], Name: count, dtype: int64)"
      ]
     },
     "execution_count": 17,
     "metadata": {},
     "output_type": "execute_result"
    }
   ],
   "source": [
    "df_stock_today['days_available'].value_counts()"
   ]
  },
  {
   "cell_type": "markdown",
   "metadata": {},
   "source": [
    "### Buscando hitorico de orders no BD"
   ]
  },
  {
   "cell_type": "code",
   "execution_count": 18,
   "metadata": {},
   "outputs": [
    {
     "name": "stdout",
     "output_type": "stream",
     "text": [
      "SELECT * FROM ml_orders_hist WHERE date_closed BETWEEN '2023-11-15' AND '2023-11-27'\n"
     ]
    },
    {
     "name": "stderr",
     "output_type": "stream",
     "text": [
      "C:\\Users\\couti\\AppData\\Local\\Temp\\ipykernel_1084\\705596127.py:9: UserWarning: pandas only supports SQLAlchemy connectable (engine/connection) or database string URI or sqlite3 DBAPI2 connection. Other DBAPI2 objects are not tested. Please consider using SQLAlchemy.\n",
      "  df_orders = pd.read_sql(sql_query, conn)\n"
     ]
    }
   ],
   "source": [
    "# Buscando histórico de vendas na tabela ml_orders_hist para o período definido\n",
    "try:\n",
    "    conn = psycopg2.connect(**db_config)\n",
    "    \n",
    "    # Construa a consulta SQL com a condição de data\n",
    "    sql_query = f\"SELECT * FROM ml_orders_hist WHERE date_closed BETWEEN '{data_inicio}' AND '{data_fim}'\"\n",
    "    print(sql_query)\n",
    "    # Execute a consulta e leia os dados em um DataFrame\n",
    "    df_orders = pd.read_sql(sql_query, conn)\n",
    "\n",
    "except psycopg2.Error as e:\n",
    "    print(f\"Erro do psycopg2 ao consultar ml_orders_hist: {e}\")\n",
    "    # logger.error(f\"Erro do psycopg2 ao consultar ml_orders_hist: {e}\")\n",
    "\n",
    "except Exception as e:\n",
    "    print(f\"Erro ao consultar ml_orders_hist: {e}\")\n",
    "    # logger.error(f\"Erro ao consultar ml_orders_hist: {e}\")\n",
    "\n",
    "finally:\n",
    "    if conn is not None:\n",
    "        conn.close()\n",
    "\n",
    "# filtros\n",
    "df_orders = df_orders[df_orders['fulfilled'] == True]\n",
    "df_orders = df_orders[df_orders['order_status'] == 'paid']\n",
    "df_orders = df_orders[df_orders['payment_status'] == 'approved']\n",
    "df_orders = df_orders.drop(['pack_id','date_approved','fulfilled','order_status','payment_status'], axis=1)\n",
    "df_orders.rename(columns={'quantity': 'sales_quantity'}, inplace=True)\n"
   ]
  },
  {
   "cell_type": "code",
   "execution_count": 19,
   "metadata": {},
   "outputs": [
    {
     "data": {
      "text/html": [
       "<div>\n",
       "<style scoped>\n",
       "    .dataframe tbody tr th:only-of-type {\n",
       "        vertical-align: middle;\n",
       "    }\n",
       "\n",
       "    .dataframe tbody tr th {\n",
       "        vertical-align: top;\n",
       "    }\n",
       "\n",
       "    .dataframe thead th {\n",
       "        text-align: right;\n",
       "    }\n",
       "</style>\n",
       "<table border=\"1\" class=\"dataframe\">\n",
       "  <thead>\n",
       "    <tr style=\"text-align: right;\">\n",
       "      <th></th>\n",
       "      <th>ml_code</th>\n",
       "      <th>category_id</th>\n",
       "      <th>variation_id</th>\n",
       "      <th>seller_sku</th>\n",
       "      <th>sales_quantity</th>\n",
       "      <th>title</th>\n",
       "      <th>shipping_id</th>\n",
       "      <th>date_closed</th>\n",
       "    </tr>\n",
       "  </thead>\n",
       "  <tbody>\n",
       "    <tr>\n",
       "      <th>298</th>\n",
       "      <td>MLB3461718736</td>\n",
       "      <td>MLB72745</td>\n",
       "      <td>nan</td>\n",
       "      <td>FULLP10LNINJA20FT</td>\n",
       "      <td>1</td>\n",
       "      <td>Cabo Para Guitarra Violão Baixo Santo Angelo Ninja P10 X P10l 6 Metros</td>\n",
       "      <td>42806617088</td>\n",
       "      <td>2023-11-16 20:12:43</td>\n",
       "    </tr>\n",
       "  </tbody>\n",
       "</table>\n",
       "</div>"
      ],
      "text/plain": [
       "           ml_code category_id variation_id         seller_sku  \\\n",
       "298  MLB3461718736    MLB72745          nan  FULLP10LNINJA20FT   \n",
       "\n",
       "     sales_quantity  \\\n",
       "298               1   \n",
       "\n",
       "                                                                      title  \\\n",
       "298  Cabo Para Guitarra Violão Baixo Santo Angelo Ninja P10 X P10l 6 Metros   \n",
       "\n",
       "     shipping_id         date_closed  \n",
       "298  42806617088 2023-11-16 20:12:43  "
      ]
     },
     "execution_count": 19,
     "metadata": {},
     "output_type": "execute_result"
    }
   ],
   "source": [
    "df_orders.sample()\n"
   ]
  },
  {
   "cell_type": "code",
   "execution_count": 20,
   "metadata": {},
   "outputs": [
    {
     "name": "stdout",
     "output_type": "stream",
     "text": [
      "(802, 8)\n"
     ]
    },
    {
     "data": {
      "text/html": [
       "<div>\n",
       "<style scoped>\n",
       "    .dataframe tbody tr th:only-of-type {\n",
       "        vertical-align: middle;\n",
       "    }\n",
       "\n",
       "    .dataframe tbody tr th {\n",
       "        vertical-align: top;\n",
       "    }\n",
       "\n",
       "    .dataframe thead th {\n",
       "        text-align: right;\n",
       "    }\n",
       "</style>\n",
       "<table border=\"1\" class=\"dataframe\">\n",
       "  <thead>\n",
       "    <tr style=\"text-align: right;\">\n",
       "      <th></th>\n",
       "      <th>ml_code</th>\n",
       "      <th>category_id</th>\n",
       "      <th>variation_id</th>\n",
       "      <th>seller_sku</th>\n",
       "      <th>sales_quantity</th>\n",
       "      <th>title</th>\n",
       "      <th>shipping_id</th>\n",
       "      <th>data</th>\n",
       "    </tr>\n",
       "  </thead>\n",
       "  <tbody>\n",
       "    <tr>\n",
       "      <th>1058</th>\n",
       "      <td>MLB1992541482</td>\n",
       "      <td>MLB278076</td>\n",
       "      <td>173552533267</td>\n",
       "      <td>FULLSG6687</td>\n",
       "      <td>3</td>\n",
       "      <td>Encordoamento 0.09 0.10 0.11 0.12 Violão Aço 85/15 Bronze Sg</td>\n",
       "      <td>42824583640</td>\n",
       "      <td>2023-11-21</td>\n",
       "    </tr>\n",
       "    <tr>\n",
       "      <th>1056</th>\n",
       "      <td>MLB1992567302</td>\n",
       "      <td>MLB429603</td>\n",
       "      <td>173585284763</td>\n",
       "      <td>FULLNI7AM</td>\n",
       "      <td>1</td>\n",
       "      <td>1 Par Baquetas De Bateria Liverpool Nirvana 5a Ou 5b Ou 7a</td>\n",
       "      <td>42824496718</td>\n",
       "      <td>2023-11-21</td>\n",
       "    </tr>\n",
       "    <tr>\n",
       "      <th>1051</th>\n",
       "      <td>MLB3493414145</td>\n",
       "      <td>MLB72752</td>\n",
       "      <td>nan</td>\n",
       "      <td>C4P04150</td>\n",
       "      <td>1</td>\n",
       "      <td>Correia Violão Guitarra Orleans Jacquard P04150 Ernie Ball</td>\n",
       "      <td>42824422982</td>\n",
       "      <td>2023-11-21</td>\n",
       "    </tr>\n",
       "  </tbody>\n",
       "</table>\n",
       "</div>"
      ],
      "text/plain": [
       "            ml_code category_id  variation_id  seller_sku  sales_quantity  \\\n",
       "1058  MLB1992541482   MLB278076  173552533267  FULLSG6687               3   \n",
       "1056  MLB1992567302   MLB429603  173585284763   FULLNI7AM               1   \n",
       "1051  MLB3493414145    MLB72752           nan    C4P04150               1   \n",
       "\n",
       "                                                             title  \\\n",
       "1058  Encordoamento 0.09 0.10 0.11 0.12 Violão Aço 85/15 Bronze Sg   \n",
       "1056    1 Par Baquetas De Bateria Liverpool Nirvana 5a Ou 5b Ou 7a   \n",
       "1051    Correia Violão Guitarra Orleans Jacquard P04150 Ernie Ball   \n",
       "\n",
       "      shipping_id        data  \n",
       "1058  42824583640  2023-11-21  \n",
       "1056  42824496718  2023-11-21  \n",
       "1051  42824422982  2023-11-21  "
      ]
     },
     "execution_count": 20,
     "metadata": {},
     "output_type": "execute_result"
    }
   ],
   "source": [
    "# Ordenando orders por data\n",
    "df_orders = df_orders.sort_values(by='date_closed', ascending=False)\n",
    "df_orders['data'] = df_orders['date_closed'].dt.date\n",
    "df_orders = df_orders.drop(['date_closed'], axis=1)\n",
    "\n",
    "print(df_orders.shape)\n",
    "df_orders.head(3)"
   ]
  },
  {
   "cell_type": "code",
   "execution_count": 21,
   "metadata": {},
   "outputs": [
    {
     "data": {
      "text/plain": [
       "(802, 8)"
      ]
     },
     "execution_count": 21,
     "metadata": {},
     "output_type": "execute_result"
    }
   ],
   "source": [
    "df_orders = df_orders.drop_duplicates()\n",
    "df_orders.shape"
   ]
  },
  {
   "cell_type": "code",
   "execution_count": 22,
   "metadata": {},
   "outputs": [
    {
     "data": {
      "text/html": [
       "<div>\n",
       "<style scoped>\n",
       "    .dataframe tbody tr th:only-of-type {\n",
       "        vertical-align: middle;\n",
       "    }\n",
       "\n",
       "    .dataframe tbody tr th {\n",
       "        vertical-align: top;\n",
       "    }\n",
       "\n",
       "    .dataframe thead th {\n",
       "        text-align: right;\n",
       "    }\n",
       "</style>\n",
       "<table border=\"1\" class=\"dataframe\">\n",
       "  <thead>\n",
       "    <tr style=\"text-align: right;\">\n",
       "      <th></th>\n",
       "      <th>ml_code</th>\n",
       "      <th>category_id</th>\n",
       "      <th>variation_id</th>\n",
       "      <th>seller_sku</th>\n",
       "      <th>sales_quantity</th>\n",
       "      <th>title</th>\n",
       "      <th>shipping_id</th>\n",
       "      <th>data</th>\n",
       "    </tr>\n",
       "  </thead>\n",
       "  <tbody>\n",
       "    <tr>\n",
       "      <th>1058</th>\n",
       "      <td>MLB1992541482</td>\n",
       "      <td>MLB278076</td>\n",
       "      <td>173552533267</td>\n",
       "      <td>FULLSG6687</td>\n",
       "      <td>3</td>\n",
       "      <td>Encordoamento 0.09 0.10 0.11 0.12 Violão Aço 85/15 Bronze Sg</td>\n",
       "      <td>42824583640</td>\n",
       "      <td>2023-11-21</td>\n",
       "    </tr>\n",
       "    <tr>\n",
       "      <th>942</th>\n",
       "      <td>MLB1992541482</td>\n",
       "      <td>MLB278076</td>\n",
       "      <td>173552533267</td>\n",
       "      <td>FULLSG6687</td>\n",
       "      <td>1</td>\n",
       "      <td>Encordoamento 0.09 0.10 0.11 0.12 Violão Aço 85/15 Bronze Sg</td>\n",
       "      <td>42822412452</td>\n",
       "      <td>2023-11-21</td>\n",
       "    </tr>\n",
       "    <tr>\n",
       "      <th>534</th>\n",
       "      <td>MLB1992541482</td>\n",
       "      <td>MLB278076</td>\n",
       "      <td>173552533264</td>\n",
       "      <td>FULLSG6684</td>\n",
       "      <td>1</td>\n",
       "      <td>Encordoamento 0.09 0.10 0.11 0.12 Violão Aço 85/15 Bronze Sg</td>\n",
       "      <td>42812680605</td>\n",
       "      <td>2023-11-18</td>\n",
       "    </tr>\n",
       "    <tr>\n",
       "      <th>270</th>\n",
       "      <td>MLB1992541482</td>\n",
       "      <td>MLB278076</td>\n",
       "      <td>173552533267</td>\n",
       "      <td>FULLSG6687</td>\n",
       "      <td>1</td>\n",
       "      <td>Encordoamento 0.09 0.10 0.11 0.12 Violão Aço 85/15 Bronze Sg</td>\n",
       "      <td>42806017696</td>\n",
       "      <td>2023-11-16</td>\n",
       "    </tr>\n",
       "    <tr>\n",
       "      <th>120</th>\n",
       "      <td>MLB1992541482</td>\n",
       "      <td>MLB278076</td>\n",
       "      <td>173552533264</td>\n",
       "      <td>FULLSG6684</td>\n",
       "      <td>2</td>\n",
       "      <td>Encordoamento 0.09 0.10 0.11 0.12 Violão Aço 85/15 Bronze Sg</td>\n",
       "      <td>42802756417</td>\n",
       "      <td>2023-11-15</td>\n",
       "    </tr>\n",
       "  </tbody>\n",
       "</table>\n",
       "</div>"
      ],
      "text/plain": [
       "            ml_code category_id  variation_id  seller_sku  sales_quantity  \\\n",
       "1058  MLB1992541482   MLB278076  173552533267  FULLSG6687               3   \n",
       "942   MLB1992541482   MLB278076  173552533267  FULLSG6687               1   \n",
       "534   MLB1992541482   MLB278076  173552533264  FULLSG6684               1   \n",
       "270   MLB1992541482   MLB278076  173552533267  FULLSG6687               1   \n",
       "120   MLB1992541482   MLB278076  173552533264  FULLSG6684               2   \n",
       "\n",
       "                                                             title  \\\n",
       "1058  Encordoamento 0.09 0.10 0.11 0.12 Violão Aço 85/15 Bronze Sg   \n",
       "942   Encordoamento 0.09 0.10 0.11 0.12 Violão Aço 85/15 Bronze Sg   \n",
       "534   Encordoamento 0.09 0.10 0.11 0.12 Violão Aço 85/15 Bronze Sg   \n",
       "270   Encordoamento 0.09 0.10 0.11 0.12 Violão Aço 85/15 Bronze Sg   \n",
       "120   Encordoamento 0.09 0.10 0.11 0.12 Violão Aço 85/15 Bronze Sg   \n",
       "\n",
       "      shipping_id        data  \n",
       "1058  42824583640  2023-11-21  \n",
       "942   42822412452  2023-11-21  \n",
       "534   42812680605  2023-11-18  \n",
       "270   42806017696  2023-11-16  \n",
       "120   42802756417  2023-11-15  "
      ]
     },
     "execution_count": 22,
     "metadata": {},
     "output_type": "execute_result"
    }
   ],
   "source": [
    "condf(df_orders,'ml_code','MLB1992541482')"
   ]
  },
  {
   "cell_type": "markdown",
   "metadata": {},
   "source": [
    "#### Total de vendas por ml_code e seller_sku"
   ]
  },
  {
   "cell_type": "code",
   "execution_count": 23,
   "metadata": {},
   "outputs": [],
   "source": [
    "# calcular total de vendas por ml_code e seller_sku no periodo\n",
    "total_sales_by_filter = df_orders.groupby(['ml_code','seller_sku'])['sales_quantity'].sum().reset_index()\n",
    "total_sales_by_filter.rename(columns={'sales_quantity': 'total_sales_quantity'}, inplace=True)"
   ]
  },
  {
   "cell_type": "code",
   "execution_count": 24,
   "metadata": {},
   "outputs": [
    {
     "data": {
      "text/html": [
       "<div>\n",
       "<style scoped>\n",
       "    .dataframe tbody tr th:only-of-type {\n",
       "        vertical-align: middle;\n",
       "    }\n",
       "\n",
       "    .dataframe tbody tr th {\n",
       "        vertical-align: top;\n",
       "    }\n",
       "\n",
       "    .dataframe thead th {\n",
       "        text-align: right;\n",
       "    }\n",
       "</style>\n",
       "<table border=\"1\" class=\"dataframe\">\n",
       "  <thead>\n",
       "    <tr style=\"text-align: right;\">\n",
       "      <th></th>\n",
       "      <th>ml_code</th>\n",
       "      <th>seller_sku</th>\n",
       "      <th>total_sales_quantity</th>\n",
       "    </tr>\n",
       "  </thead>\n",
       "  <tbody>\n",
       "    <tr>\n",
       "      <th>39</th>\n",
       "      <td>MLB1992541482</td>\n",
       "      <td>FULLSG6684</td>\n",
       "      <td>3</td>\n",
       "    </tr>\n",
       "    <tr>\n",
       "      <th>40</th>\n",
       "      <td>MLB1992541482</td>\n",
       "      <td>FULLSG6687</td>\n",
       "      <td>5</td>\n",
       "    </tr>\n",
       "  </tbody>\n",
       "</table>\n",
       "</div>"
      ],
      "text/plain": [
       "          ml_code  seller_sku  total_sales_quantity\n",
       "39  MLB1992541482  FULLSG6684                     3\n",
       "40  MLB1992541482  FULLSG6687                     5"
      ]
     },
     "execution_count": 24,
     "metadata": {},
     "output_type": "execute_result"
    }
   ],
   "source": [
    "condf(total_sales_by_filter,'ml_code','MLB1992541482')"
   ]
  },
  {
   "cell_type": "code",
   "execution_count": 25,
   "metadata": {},
   "outputs": [
    {
     "data": {
      "text/plain": [
       "(802, 9)"
      ]
     },
     "execution_count": 25,
     "metadata": {},
     "output_type": "execute_result"
    }
   ],
   "source": [
    "# Acrescentando total de vendas ao DF\n",
    "df_total_sales = pd.merge(df_orders, total_sales_by_filter, on=['ml_code','seller_sku'], how='inner')\n",
    "df_total_sales.shape"
   ]
  },
  {
   "cell_type": "code",
   "execution_count": 26,
   "metadata": {},
   "outputs": [
    {
     "data": {
      "text/html": [
       "<div>\n",
       "<style scoped>\n",
       "    .dataframe tbody tr th:only-of-type {\n",
       "        vertical-align: middle;\n",
       "    }\n",
       "\n",
       "    .dataframe tbody tr th {\n",
       "        vertical-align: top;\n",
       "    }\n",
       "\n",
       "    .dataframe thead th {\n",
       "        text-align: right;\n",
       "    }\n",
       "</style>\n",
       "<table border=\"1\" class=\"dataframe\">\n",
       "  <thead>\n",
       "    <tr style=\"text-align: right;\">\n",
       "      <th></th>\n",
       "      <th>ml_code</th>\n",
       "      <th>category_id</th>\n",
       "      <th>variation_id</th>\n",
       "      <th>seller_sku</th>\n",
       "      <th>sales_quantity</th>\n",
       "      <th>title</th>\n",
       "      <th>shipping_id</th>\n",
       "      <th>data</th>\n",
       "      <th>total_sales_quantity</th>\n",
       "    </tr>\n",
       "  </thead>\n",
       "  <tbody>\n",
       "    <tr>\n",
       "      <th>0</th>\n",
       "      <td>MLB1992541482</td>\n",
       "      <td>MLB278076</td>\n",
       "      <td>173552533267</td>\n",
       "      <td>FULLSG6687</td>\n",
       "      <td>3</td>\n",
       "      <td>Encordoamento 0.09 0.10 0.11 0.12 Violão Aço 85/15 Bronze Sg</td>\n",
       "      <td>42824583640</td>\n",
       "      <td>2023-11-21</td>\n",
       "      <td>5</td>\n",
       "    </tr>\n",
       "    <tr>\n",
       "      <th>1</th>\n",
       "      <td>MLB1992541482</td>\n",
       "      <td>MLB278076</td>\n",
       "      <td>173552533267</td>\n",
       "      <td>FULLSG6687</td>\n",
       "      <td>1</td>\n",
       "      <td>Encordoamento 0.09 0.10 0.11 0.12 Violão Aço 85/15 Bronze Sg</td>\n",
       "      <td>42822412452</td>\n",
       "      <td>2023-11-21</td>\n",
       "      <td>5</td>\n",
       "    </tr>\n",
       "    <tr>\n",
       "      <th>2</th>\n",
       "      <td>MLB1992541482</td>\n",
       "      <td>MLB278076</td>\n",
       "      <td>173552533267</td>\n",
       "      <td>FULLSG6687</td>\n",
       "      <td>1</td>\n",
       "      <td>Encordoamento 0.09 0.10 0.11 0.12 Violão Aço 85/15 Bronze Sg</td>\n",
       "      <td>42806017696</td>\n",
       "      <td>2023-11-16</td>\n",
       "      <td>5</td>\n",
       "    </tr>\n",
       "  </tbody>\n",
       "</table>\n",
       "</div>"
      ],
      "text/plain": [
       "         ml_code category_id  variation_id  seller_sku  sales_quantity  \\\n",
       "0  MLB1992541482   MLB278076  173552533267  FULLSG6687               3   \n",
       "1  MLB1992541482   MLB278076  173552533267  FULLSG6687               1   \n",
       "2  MLB1992541482   MLB278076  173552533267  FULLSG6687               1   \n",
       "\n",
       "                                                          title  shipping_id  \\\n",
       "0  Encordoamento 0.09 0.10 0.11 0.12 Violão Aço 85/15 Bronze Sg  42824583640   \n",
       "1  Encordoamento 0.09 0.10 0.11 0.12 Violão Aço 85/15 Bronze Sg  42822412452   \n",
       "2  Encordoamento 0.09 0.10 0.11 0.12 Violão Aço 85/15 Bronze Sg  42806017696   \n",
       "\n",
       "         data  total_sales_quantity  \n",
       "0  2023-11-21                     5  \n",
       "1  2023-11-21                     5  \n",
       "2  2023-11-16                     5  "
      ]
     },
     "execution_count": 26,
     "metadata": {},
     "output_type": "execute_result"
    }
   ],
   "source": [
    "df_total_sales.head(3)"
   ]
  },
  {
   "cell_type": "code",
   "execution_count": 27,
   "metadata": {},
   "outputs": [
    {
     "data": {
      "text/html": [
       "<div>\n",
       "<style scoped>\n",
       "    .dataframe tbody tr th:only-of-type {\n",
       "        vertical-align: middle;\n",
       "    }\n",
       "\n",
       "    .dataframe tbody tr th {\n",
       "        vertical-align: top;\n",
       "    }\n",
       "\n",
       "    .dataframe thead th {\n",
       "        text-align: right;\n",
       "    }\n",
       "</style>\n",
       "<table border=\"1\" class=\"dataframe\">\n",
       "  <thead>\n",
       "    <tr style=\"text-align: right;\">\n",
       "      <th></th>\n",
       "      <th>ml_code</th>\n",
       "      <th>category_id</th>\n",
       "      <th>variation_id</th>\n",
       "      <th>seller_sku</th>\n",
       "      <th>sales_quantity</th>\n",
       "      <th>title</th>\n",
       "      <th>shipping_id</th>\n",
       "      <th>data</th>\n",
       "      <th>total_sales_quantity</th>\n",
       "    </tr>\n",
       "  </thead>\n",
       "  <tbody>\n",
       "    <tr>\n",
       "      <th>0</th>\n",
       "      <td>MLB1992541482</td>\n",
       "      <td>MLB278076</td>\n",
       "      <td>173552533267</td>\n",
       "      <td>FULLSG6687</td>\n",
       "      <td>3</td>\n",
       "      <td>Encordoamento 0.09 0.10 0.11 0.12 Violão Aço 85/15 Bronze Sg</td>\n",
       "      <td>42824583640</td>\n",
       "      <td>2023-11-21</td>\n",
       "      <td>5</td>\n",
       "    </tr>\n",
       "    <tr>\n",
       "      <th>1</th>\n",
       "      <td>MLB1992541482</td>\n",
       "      <td>MLB278076</td>\n",
       "      <td>173552533267</td>\n",
       "      <td>FULLSG6687</td>\n",
       "      <td>1</td>\n",
       "      <td>Encordoamento 0.09 0.10 0.11 0.12 Violão Aço 85/15 Bronze Sg</td>\n",
       "      <td>42822412452</td>\n",
       "      <td>2023-11-21</td>\n",
       "      <td>5</td>\n",
       "    </tr>\n",
       "    <tr>\n",
       "      <th>2</th>\n",
       "      <td>MLB1992541482</td>\n",
       "      <td>MLB278076</td>\n",
       "      <td>173552533267</td>\n",
       "      <td>FULLSG6687</td>\n",
       "      <td>1</td>\n",
       "      <td>Encordoamento 0.09 0.10 0.11 0.12 Violão Aço 85/15 Bronze Sg</td>\n",
       "      <td>42806017696</td>\n",
       "      <td>2023-11-16</td>\n",
       "      <td>5</td>\n",
       "    </tr>\n",
       "    <tr>\n",
       "      <th>648</th>\n",
       "      <td>MLB1992541482</td>\n",
       "      <td>MLB278076</td>\n",
       "      <td>173552533264</td>\n",
       "      <td>FULLSG6684</td>\n",
       "      <td>1</td>\n",
       "      <td>Encordoamento 0.09 0.10 0.11 0.12 Violão Aço 85/15 Bronze Sg</td>\n",
       "      <td>42812680605</td>\n",
       "      <td>2023-11-18</td>\n",
       "      <td>3</td>\n",
       "    </tr>\n",
       "    <tr>\n",
       "      <th>649</th>\n",
       "      <td>MLB1992541482</td>\n",
       "      <td>MLB278076</td>\n",
       "      <td>173552533264</td>\n",
       "      <td>FULLSG6684</td>\n",
       "      <td>2</td>\n",
       "      <td>Encordoamento 0.09 0.10 0.11 0.12 Violão Aço 85/15 Bronze Sg</td>\n",
       "      <td>42802756417</td>\n",
       "      <td>2023-11-15</td>\n",
       "      <td>3</td>\n",
       "    </tr>\n",
       "  </tbody>\n",
       "</table>\n",
       "</div>"
      ],
      "text/plain": [
       "           ml_code category_id  variation_id  seller_sku  sales_quantity  \\\n",
       "0    MLB1992541482   MLB278076  173552533267  FULLSG6687               3   \n",
       "1    MLB1992541482   MLB278076  173552533267  FULLSG6687               1   \n",
       "2    MLB1992541482   MLB278076  173552533267  FULLSG6687               1   \n",
       "648  MLB1992541482   MLB278076  173552533264  FULLSG6684               1   \n",
       "649  MLB1992541482   MLB278076  173552533264  FULLSG6684               2   \n",
       "\n",
       "                                                            title  \\\n",
       "0    Encordoamento 0.09 0.10 0.11 0.12 Violão Aço 85/15 Bronze Sg   \n",
       "1    Encordoamento 0.09 0.10 0.11 0.12 Violão Aço 85/15 Bronze Sg   \n",
       "2    Encordoamento 0.09 0.10 0.11 0.12 Violão Aço 85/15 Bronze Sg   \n",
       "648  Encordoamento 0.09 0.10 0.11 0.12 Violão Aço 85/15 Bronze Sg   \n",
       "649  Encordoamento 0.09 0.10 0.11 0.12 Violão Aço 85/15 Bronze Sg   \n",
       "\n",
       "     shipping_id        data  total_sales_quantity  \n",
       "0    42824583640  2023-11-21                     5  \n",
       "1    42822412452  2023-11-21                     5  \n",
       "2    42806017696  2023-11-16                     5  \n",
       "648  42812680605  2023-11-18                     3  \n",
       "649  42802756417  2023-11-15                     3  "
      ]
     },
     "execution_count": 27,
     "metadata": {},
     "output_type": "execute_result"
    }
   ],
   "source": [
    "condf(df_total_sales,'ml_code','MLB1992541482')"
   ]
  },
  {
   "cell_type": "code",
   "execution_count": 28,
   "metadata": {},
   "outputs": [],
   "source": [
    "df_total_sales = df_total_sales.drop(['sales_quantity','shipping_id','data'], axis=1)\n",
    "df_total_sales = df_total_sales.drop_duplicates()"
   ]
  },
  {
   "cell_type": "code",
   "execution_count": 29,
   "metadata": {},
   "outputs": [
    {
     "data": {
      "text/html": [
       "<div>\n",
       "<style scoped>\n",
       "    .dataframe tbody tr th:only-of-type {\n",
       "        vertical-align: middle;\n",
       "    }\n",
       "\n",
       "    .dataframe tbody tr th {\n",
       "        vertical-align: top;\n",
       "    }\n",
       "\n",
       "    .dataframe thead th {\n",
       "        text-align: right;\n",
       "    }\n",
       "</style>\n",
       "<table border=\"1\" class=\"dataframe\">\n",
       "  <thead>\n",
       "    <tr style=\"text-align: right;\">\n",
       "      <th></th>\n",
       "      <th>ml_code</th>\n",
       "      <th>category_id</th>\n",
       "      <th>variation_id</th>\n",
       "      <th>seller_sku</th>\n",
       "      <th>title</th>\n",
       "      <th>total_sales_quantity</th>\n",
       "    </tr>\n",
       "  </thead>\n",
       "  <tbody>\n",
       "    <tr>\n",
       "      <th>0</th>\n",
       "      <td>MLB1992541482</td>\n",
       "      <td>MLB278076</td>\n",
       "      <td>173552533267</td>\n",
       "      <td>FULLSG6687</td>\n",
       "      <td>Encordoamento 0.09 0.10 0.11 0.12 Violão Aço 85/15 Bronze Sg</td>\n",
       "      <td>5</td>\n",
       "    </tr>\n",
       "    <tr>\n",
       "      <th>648</th>\n",
       "      <td>MLB1992541482</td>\n",
       "      <td>MLB278076</td>\n",
       "      <td>173552533264</td>\n",
       "      <td>FULLSG6684</td>\n",
       "      <td>Encordoamento 0.09 0.10 0.11 0.12 Violão Aço 85/15 Bronze Sg</td>\n",
       "      <td>3</td>\n",
       "    </tr>\n",
       "  </tbody>\n",
       "</table>\n",
       "</div>"
      ],
      "text/plain": [
       "           ml_code category_id  variation_id  seller_sku  \\\n",
       "0    MLB1992541482   MLB278076  173552533267  FULLSG6687   \n",
       "648  MLB1992541482   MLB278076  173552533264  FULLSG6684   \n",
       "\n",
       "                                                            title  \\\n",
       "0    Encordoamento 0.09 0.10 0.11 0.12 Violão Aço 85/15 Bronze Sg   \n",
       "648  Encordoamento 0.09 0.10 0.11 0.12 Violão Aço 85/15 Bronze Sg   \n",
       "\n",
       "     total_sales_quantity  \n",
       "0                       5  \n",
       "648                     3  "
      ]
     },
     "execution_count": 29,
     "metadata": {},
     "output_type": "execute_result"
    }
   ],
   "source": [
    "condf(df_total_sales,'ml_code','MLB1992541482')"
   ]
  },
  {
   "cell_type": "markdown",
   "metadata": {},
   "source": [
    "Neste ponto temos o total de vendas de um anúncio por período e a quantidade de dias em que um produto esteve disponível.\n",
    "precisamos juntar esses dados para calcular, para isso trarei as informações de produtos"
   ]
  },
  {
   "cell_type": "code",
   "execution_count": 30,
   "metadata": {},
   "outputs": [
    {
     "name": "stdout",
     "output_type": "stream",
     "text": [
      "(261, 6)\n"
     ]
    },
    {
     "data": {
      "text/html": [
       "<div>\n",
       "<style scoped>\n",
       "    .dataframe tbody tr th:only-of-type {\n",
       "        vertical-align: middle;\n",
       "    }\n",
       "\n",
       "    .dataframe tbody tr th {\n",
       "        vertical-align: top;\n",
       "    }\n",
       "\n",
       "    .dataframe thead th {\n",
       "        text-align: right;\n",
       "    }\n",
       "</style>\n",
       "<table border=\"1\" class=\"dataframe\">\n",
       "  <thead>\n",
       "    <tr style=\"text-align: right;\">\n",
       "      <th></th>\n",
       "      <th>ml_code</th>\n",
       "      <th>category_id</th>\n",
       "      <th>variation_id</th>\n",
       "      <th>seller_sku</th>\n",
       "      <th>title</th>\n",
       "      <th>total_sales_quantity</th>\n",
       "    </tr>\n",
       "  </thead>\n",
       "  <tbody>\n",
       "    <tr>\n",
       "      <th>421</th>\n",
       "      <td>MLB4128653952</td>\n",
       "      <td>MLB29319</td>\n",
       "      <td>nan</td>\n",
       "      <td>C4PMLL001PK</td>\n",
       "      <td>Pandeirola Pandeiro Meia Lua Liverpool Profissional Rosa</td>\n",
       "      <td>1</td>\n",
       "    </tr>\n",
       "  </tbody>\n",
       "</table>\n",
       "</div>"
      ],
      "text/plain": [
       "           ml_code category_id variation_id   seller_sku  \\\n",
       "421  MLB4128653952    MLB29319          nan  C4PMLL001PK   \n",
       "\n",
       "                                                        title  \\\n",
       "421  Pandeirola Pandeiro Meia Lua Liverpool Profissional Rosa   \n",
       "\n",
       "     total_sales_quantity  \n",
       "421                     1  "
      ]
     },
     "execution_count": 30,
     "metadata": {},
     "output_type": "execute_result"
    }
   ],
   "source": [
    "print(df_total_sales.shape)\n",
    "df_total_sales.sample()"
   ]
  },
  {
   "cell_type": "code",
   "execution_count": 31,
   "metadata": {},
   "outputs": [
    {
     "name": "stdout",
     "output_type": "stream",
     "text": [
      "(0, 5)\n"
     ]
    },
    {
     "ename": "ValueError",
     "evalue": "a must be greater than 0 unless no samples are taken",
     "output_type": "error",
     "traceback": [
      "\u001b[1;31m---------------------------------------------------------------------------\u001b[0m",
      "\u001b[1;31mValueError\u001b[0m                                Traceback (most recent call last)",
      "\u001b[1;32mc:\\Users\\couti\\projetos\\mcenter_streamlit\\Notebooks\\calculando_envio_fulfillment.ipynb Cell 38\u001b[0m line \u001b[0;36m2\n\u001b[0;32m      <a href='vscode-notebook-cell:/c%3A/Users/couti/projetos/mcenter_streamlit/Notebooks/calculando_envio_fulfillment.ipynb#X52sZmlsZQ%3D%3D?line=0'>1</a>\u001b[0m \u001b[39mprint\u001b[39m(df_stock_today\u001b[39m.\u001b[39mshape)\n\u001b[1;32m----> <a href='vscode-notebook-cell:/c%3A/Users/couti/projetos/mcenter_streamlit/Notebooks/calculando_envio_fulfillment.ipynb#X52sZmlsZQ%3D%3D?line=1'>2</a>\u001b[0m df_stock_today\u001b[39m.\u001b[39;49msample()\n",
      "File \u001b[1;32mc:\\Users\\couti\\projetos\\mcenter_streamlit\\venv\\Lib\\site-packages\\pandas\\core\\generic.py:6029\u001b[0m, in \u001b[0;36mNDFrame.sample\u001b[1;34m(self, n, frac, replace, weights, random_state, axis, ignore_index)\u001b[0m\n\u001b[0;32m   6026\u001b[0m \u001b[39mif\u001b[39;00m weights \u001b[39mis\u001b[39;00m \u001b[39mnot\u001b[39;00m \u001b[39mNone\u001b[39;00m:\n\u001b[0;32m   6027\u001b[0m     weights \u001b[39m=\u001b[39m sample\u001b[39m.\u001b[39mpreprocess_weights(\u001b[39mself\u001b[39m, weights, axis)\n\u001b[1;32m-> 6029\u001b[0m sampled_indices \u001b[39m=\u001b[39m sample\u001b[39m.\u001b[39;49msample(obj_len, size, replace, weights, rs)\n\u001b[0;32m   6030\u001b[0m result \u001b[39m=\u001b[39m \u001b[39mself\u001b[39m\u001b[39m.\u001b[39mtake(sampled_indices, axis\u001b[39m=\u001b[39maxis)\n\u001b[0;32m   6032\u001b[0m \u001b[39mif\u001b[39;00m ignore_index:\n",
      "File \u001b[1;32mc:\\Users\\couti\\projetos\\mcenter_streamlit\\venv\\Lib\\site-packages\\pandas\\core\\sample.py:152\u001b[0m, in \u001b[0;36msample\u001b[1;34m(obj_len, size, replace, weights, random_state)\u001b[0m\n\u001b[0;32m    149\u001b[0m     \u001b[39melse\u001b[39;00m:\n\u001b[0;32m    150\u001b[0m         \u001b[39mraise\u001b[39;00m \u001b[39mValueError\u001b[39;00m(\u001b[39m\"\u001b[39m\u001b[39mInvalid weights: weights sum to zero\u001b[39m\u001b[39m\"\u001b[39m)\n\u001b[1;32m--> 152\u001b[0m \u001b[39mreturn\u001b[39;00m random_state\u001b[39m.\u001b[39;49mchoice(obj_len, size\u001b[39m=\u001b[39;49msize, replace\u001b[39m=\u001b[39;49mreplace, p\u001b[39m=\u001b[39;49mweights)\u001b[39m.\u001b[39mastype(\n\u001b[0;32m    153\u001b[0m     np\u001b[39m.\u001b[39mintp, copy\u001b[39m=\u001b[39m\u001b[39mFalse\u001b[39;00m\n\u001b[0;32m    154\u001b[0m )\n",
      "File \u001b[1;32mnumpy\\\\random\\\\mtrand.pyx:944\u001b[0m, in \u001b[0;36mnumpy.random.mtrand.RandomState.choice\u001b[1;34m()\u001b[0m\n",
      "\u001b[1;31mValueError\u001b[0m: a must be greater than 0 unless no samples are taken"
     ]
    }
   ],
   "source": [
    "print(df_stock_today.shape)\n",
    "df_stock_today.sample()"
   ]
  },
  {
   "cell_type": "markdown",
   "metadata": {},
   "source": [
    "#### Buscando Produtos"
   ]
  },
  {
   "cell_type": "code",
   "execution_count": null,
   "metadata": {},
   "outputs": [
    {
     "name": "stderr",
     "output_type": "stream",
     "text": [
      "C:\\Users\\couti\\AppData\\Local\\Temp\\ipykernel_9648\\3478104386.py:6: UserWarning: pandas only supports SQLAlchemy connectable (engine/connection) or database string URI or sqlite3 DBAPI2 connection. Other DBAPI2 objects are not tested. Please consider using SQLAlchemy.\n",
      "  df_codes = pd.read_sql(sql_query, conn)\n"
     ]
    }
   ],
   "source": [
    "# Buscando dados de produtos na tabela tiny_fulfillment\n",
    "try:\n",
    "    conn = psycopg2.connect(**db_config)\n",
    "\n",
    "    sql_query = \"SELECT * FROM tiny_fulfillment\"\n",
    "    df_codes = pd.read_sql(sql_query, conn)\n",
    "except psycopg2.Error as e:\n",
    "    # logger.error(f\"Erro do psycopg2 ao consultar fulfillment_stock: {e}\")\n",
    "    print(f\"Erro do psycopg2 ao consultar tiny_fulfillment: {e}\")\n",
    "    \n",
    "except Exception as e:\n",
    "    # logger.error(f\"Erro ao consultar tabela tiny_fulfillment: {e}\")\n",
    "    print(f\"Erro ao consultar tabela tiny_fulfillment: {e}\")\n",
    "\n",
    "finally:\n",
    "    if conn is not None:\n",
    "        conn.close()\n",
    "\n",
    "df_codes['ml_code'] = df_codes['ml_code'].apply(lambda x: 'MLB' + str(x))\n",
    "df_codes.rename(columns={'quantity': 'total_sales_quantity'}, inplace=True)\n",
    "df_codes = df_codes.drop(['mcenter_id', 'created_at', 'updated_at'],axis=1)\n"
   ]
  },
  {
   "cell_type": "code",
   "execution_count": null,
   "metadata": {},
   "outputs": [
    {
     "data": {
      "text/html": [
       "<div>\n",
       "<style scoped>\n",
       "    .dataframe tbody tr th:only-of-type {\n",
       "        vertical-align: middle;\n",
       "    }\n",
       "\n",
       "    .dataframe tbody tr th {\n",
       "        vertical-align: top;\n",
       "    }\n",
       "\n",
       "    .dataframe thead th {\n",
       "        text-align: right;\n",
       "    }\n",
       "</style>\n",
       "<table border=\"1\" class=\"dataframe\">\n",
       "  <thead>\n",
       "    <tr style=\"text-align: right;\">\n",
       "      <th></th>\n",
       "      <th>ml_inventory_id</th>\n",
       "      <th>ml_code</th>\n",
       "      <th>ml_sku</th>\n",
       "      <th>var_code</th>\n",
       "      <th>tiny_id</th>\n",
       "      <th>tiny_sku</th>\n",
       "      <th>ad_title</th>\n",
       "      <th>qtd_item</th>\n",
       "    </tr>\n",
       "  </thead>\n",
       "  <tbody>\n",
       "    <tr>\n",
       "      <th>354</th>\n",
       "      <td>PAGJ50997</td>\n",
       "      <td>MLB1626396015</td>\n",
       "      <td>FULLCARIMBRAS0246</td>\n",
       "      <td>NaN</td>\n",
       "      <td>689455657</td>\n",
       "      <td>7898017033028</td>\n",
       "      <td>Jogos De Tabuleiro 4 Em 1 Carimbras 0246 Brinquedo Educativo</td>\n",
       "      <td>1</td>\n",
       "    </tr>\n",
       "  </tbody>\n",
       "</table>\n",
       "</div>"
      ],
      "text/plain": [
       "    ml_inventory_id        ml_code             ml_sku var_code    tiny_id  \\\n",
       "354       PAGJ50997  MLB1626396015  FULLCARIMBRAS0246      NaN  689455657   \n",
       "\n",
       "          tiny_sku  \\\n",
       "354  7898017033028   \n",
       "\n",
       "                                                         ad_title  qtd_item  \n",
       "354  Jogos De Tabuleiro 4 Em 1 Carimbras 0246 Brinquedo Educativo         1  "
      ]
     },
     "execution_count": 61,
     "metadata": {},
     "output_type": "execute_result"
    }
   ],
   "source": [
    "df_codes.sample()"
   ]
  },
  {
   "cell_type": "markdown",
   "metadata": {},
   "source": [
    "### Produtos + Dias disponíveis"
   ]
  },
  {
   "cell_type": "code",
   "execution_count": null,
   "metadata": {},
   "outputs": [
    {
     "name": "stdout",
     "output_type": "stream",
     "text": [
      "(872, 8)\n",
      "(635, 5)\n",
      "Index(['ml_inventory_id', 'ml_code', 'ml_sku', 'var_code', 'tiny_id',\n",
      "       'tiny_sku', 'ad_title', 'qtd_item'],\n",
      "      dtype='object')\n",
      "Index(['ml_inventory_id', 'available_quantity_today', 'data', 'has_stock',\n",
      "       'days_available'],\n",
      "      dtype='object')\n"
     ]
    }
   ],
   "source": [
    "print(df_codes.shape)\n",
    "print(df_stock_today.shape)\n",
    "\n",
    "print(df_codes.columns)\n",
    "print(df_stock_today.columns)"
   ]
  },
  {
   "cell_type": "code",
   "execution_count": null,
   "metadata": {},
   "outputs": [
    {
     "data": {
      "text/plain": [
       "(790, 12)"
      ]
     },
     "execution_count": 63,
     "metadata": {},
     "output_type": "execute_result"
    }
   ],
   "source": [
    "prod_day = pd.merge(df_codes,df_stock_today,on='ml_inventory_id', how='inner')\n",
    "\n",
    "prod_day.shape"
   ]
  },
  {
   "cell_type": "code",
   "execution_count": null,
   "metadata": {},
   "outputs": [
    {
     "data": {
      "text/html": [
       "<div>\n",
       "<style scoped>\n",
       "    .dataframe tbody tr th:only-of-type {\n",
       "        vertical-align: middle;\n",
       "    }\n",
       "\n",
       "    .dataframe tbody tr th {\n",
       "        vertical-align: top;\n",
       "    }\n",
       "\n",
       "    .dataframe thead th {\n",
       "        text-align: right;\n",
       "    }\n",
       "</style>\n",
       "<table border=\"1\" class=\"dataframe\">\n",
       "  <thead>\n",
       "    <tr style=\"text-align: right;\">\n",
       "      <th></th>\n",
       "      <th>ml_inventory_id</th>\n",
       "      <th>ml_code</th>\n",
       "      <th>ml_sku</th>\n",
       "      <th>var_code</th>\n",
       "      <th>tiny_id</th>\n",
       "      <th>tiny_sku</th>\n",
       "      <th>ad_title</th>\n",
       "      <th>qtd_item</th>\n",
       "      <th>available_quantity_today</th>\n",
       "      <th>data</th>\n",
       "      <th>has_stock</th>\n",
       "      <th>days_available</th>\n",
       "    </tr>\n",
       "  </thead>\n",
       "  <tbody>\n",
       "    <tr>\n",
       "      <th>439</th>\n",
       "      <td>FSNB76403</td>\n",
       "      <td>MLB1943185424</td>\n",
       "      <td>FULLKIT2</td>\n",
       "      <td>NaN</td>\n",
       "      <td>746249012</td>\n",
       "      <td>RH-01SV</td>\n",
       "      <td>Kit Straplock Afinador Capotraste 6 Palhetas Porta Palheta</td>\n",
       "      <td>2</td>\n",
       "      <td>0</td>\n",
       "      <td>2023-11-27</td>\n",
       "      <td>False</td>\n",
       "      <td>0</td>\n",
       "    </tr>\n",
       "    <tr>\n",
       "      <th>440</th>\n",
       "      <td>FSNB76403</td>\n",
       "      <td>MLB1943185424</td>\n",
       "      <td>FULLKIT2</td>\n",
       "      <td>NaN</td>\n",
       "      <td>565665071</td>\n",
       "      <td>Palheta</td>\n",
       "      <td>Kit Straplock Afinador Capotraste 6 Palhetas Porta Palheta</td>\n",
       "      <td>6</td>\n",
       "      <td>0</td>\n",
       "      <td>2023-11-27</td>\n",
       "      <td>False</td>\n",
       "      <td>0</td>\n",
       "    </tr>\n",
       "    <tr>\n",
       "      <th>441</th>\n",
       "      <td>FSNB76403</td>\n",
       "      <td>MLB1943185424</td>\n",
       "      <td>FULLKIT2</td>\n",
       "      <td>NaN</td>\n",
       "      <td>565663877</td>\n",
       "      <td>PPalheta</td>\n",
       "      <td>Kit Straplock Afinador Capotraste 6 Palhetas Porta Palheta</td>\n",
       "      <td>1</td>\n",
       "      <td>0</td>\n",
       "      <td>2023-11-27</td>\n",
       "      <td>False</td>\n",
       "      <td>0</td>\n",
       "    </tr>\n",
       "    <tr>\n",
       "      <th>442</th>\n",
       "      <td>FSNB76403</td>\n",
       "      <td>MLB1943185424</td>\n",
       "      <td>FULLKIT2</td>\n",
       "      <td>NaN</td>\n",
       "      <td>509978212</td>\n",
       "      <td>Bracadeirakits</td>\n",
       "      <td>Kit Straplock Afinador Capotraste 6 Palhetas Porta Palheta</td>\n",
       "      <td>1</td>\n",
       "      <td>0</td>\n",
       "      <td>2023-11-27</td>\n",
       "      <td>False</td>\n",
       "      <td>0</td>\n",
       "    </tr>\n",
       "    <tr>\n",
       "      <th>443</th>\n",
       "      <td>FSNB76403</td>\n",
       "      <td>MLB1943185424</td>\n",
       "      <td>FULLKIT2</td>\n",
       "      <td>NaN</td>\n",
       "      <td>597415799</td>\n",
       "      <td>AFINADORKIT</td>\n",
       "      <td>Kit Straplock Afinador Capotraste 6 Palhetas Porta Palheta</td>\n",
       "      <td>1</td>\n",
       "      <td>0</td>\n",
       "      <td>2023-11-27</td>\n",
       "      <td>False</td>\n",
       "      <td>0</td>\n",
       "    </tr>\n",
       "  </tbody>\n",
       "</table>\n",
       "</div>"
      ],
      "text/plain": [
       "    ml_inventory_id        ml_code    ml_sku var_code    tiny_id  \\\n",
       "439       FSNB76403  MLB1943185424  FULLKIT2      NaN  746249012   \n",
       "440       FSNB76403  MLB1943185424  FULLKIT2      NaN  565665071   \n",
       "441       FSNB76403  MLB1943185424  FULLKIT2      NaN  565663877   \n",
       "442       FSNB76403  MLB1943185424  FULLKIT2      NaN  509978212   \n",
       "443       FSNB76403  MLB1943185424  FULLKIT2      NaN  597415799   \n",
       "\n",
       "           tiny_sku  \\\n",
       "439         RH-01SV   \n",
       "440         Palheta   \n",
       "441        PPalheta   \n",
       "442  Bracadeirakits   \n",
       "443     AFINADORKIT   \n",
       "\n",
       "                                                       ad_title  qtd_item  \\\n",
       "439  Kit Straplock Afinador Capotraste 6 Palhetas Porta Palheta         2   \n",
       "440  Kit Straplock Afinador Capotraste 6 Palhetas Porta Palheta         6   \n",
       "441  Kit Straplock Afinador Capotraste 6 Palhetas Porta Palheta         1   \n",
       "442  Kit Straplock Afinador Capotraste 6 Palhetas Porta Palheta         1   \n",
       "443  Kit Straplock Afinador Capotraste 6 Palhetas Porta Palheta         1   \n",
       "\n",
       "     available_quantity_today       data  has_stock  days_available  \n",
       "439                         0 2023-11-27      False               0  \n",
       "440                         0 2023-11-27      False               0  \n",
       "441                         0 2023-11-27      False               0  \n",
       "442                         0 2023-11-27      False               0  \n",
       "443                         0 2023-11-27      False               0  "
      ]
     },
     "execution_count": 64,
     "metadata": {},
     "output_type": "execute_result"
    }
   ],
   "source": [
    "prod_day['ml_inventory_id'].value_counts()\n",
    "condf(prod_day,'ml_inventory_id','FSNB76403')"
   ]
  },
  {
   "cell_type": "markdown",
   "metadata": {},
   "source": [
    "### Prod_Day + Total_sales"
   ]
  },
  {
   "cell_type": "code",
   "execution_count": null,
   "metadata": {},
   "outputs": [
    {
     "name": "stdout",
     "output_type": "stream",
     "text": [
      "(261, 6)\n"
     ]
    },
    {
     "data": {
      "text/html": [
       "<div>\n",
       "<style scoped>\n",
       "    .dataframe tbody tr th:only-of-type {\n",
       "        vertical-align: middle;\n",
       "    }\n",
       "\n",
       "    .dataframe tbody tr th {\n",
       "        vertical-align: top;\n",
       "    }\n",
       "\n",
       "    .dataframe thead th {\n",
       "        text-align: right;\n",
       "    }\n",
       "</style>\n",
       "<table border=\"1\" class=\"dataframe\">\n",
       "  <thead>\n",
       "    <tr style=\"text-align: right;\">\n",
       "      <th></th>\n",
       "      <th>ml_code</th>\n",
       "      <th>category_id</th>\n",
       "      <th>variation_id</th>\n",
       "      <th>seller_sku</th>\n",
       "      <th>title</th>\n",
       "      <th>total_sales_quantity</th>\n",
       "    </tr>\n",
       "  </thead>\n",
       "  <tbody>\n",
       "    <tr>\n",
       "      <th>782</th>\n",
       "      <td>MLB3417715029</td>\n",
       "      <td>MLB72745</td>\n",
       "      <td>nan</td>\n",
       "      <td>C4NINJA03FT</td>\n",
       "      <td>Cabo P10 X P10 Guitarra Baixo Santo Angelo Ninja 0,91 Metros</td>\n",
       "      <td>2</td>\n",
       "    </tr>\n",
       "  </tbody>\n",
       "</table>\n",
       "</div>"
      ],
      "text/plain": [
       "           ml_code category_id variation_id   seller_sku  \\\n",
       "782  MLB3417715029    MLB72745          nan  C4NINJA03FT   \n",
       "\n",
       "                                                            title  \\\n",
       "782  Cabo P10 X P10 Guitarra Baixo Santo Angelo Ninja 0,91 Metros   \n",
       "\n",
       "     total_sales_quantity  \n",
       "782                     2  "
      ]
     },
     "execution_count": 65,
     "metadata": {},
     "output_type": "execute_result"
    }
   ],
   "source": [
    "print(df_total_sales.shape)\n",
    "df_total_sales.sample()"
   ]
  },
  {
   "cell_type": "code",
   "execution_count": null,
   "metadata": {},
   "outputs": [
    {
     "name": "stdout",
     "output_type": "stream",
     "text": [
      "(261, 6)\n",
      "(790, 12)\n",
      "(132, 13)\n"
     ]
    }
   ],
   "source": [
    "df_sales = pd.merge(df_total_sales, prod_day, left_on=['ml_code','seller_sku'], right_on=['ml_code', 'ml_sku'], how='inner')\n",
    "# x  = pd.merge(df_total_sales, prod_day, left_on=['ml_code','seller_sku'], right_on=['ml_code', 'ml_sku'], how='left')\n",
    "\n",
    "# df_sales = df_sales.drop([], axis=1)\n",
    "\n",
    "cols = ['ml_code', 'ml_sku', 'ml_inventory_id', 'tiny_id', 'tiny_sku', 'var_code', 'variation_id', 'title', 'total_sales_quantity', 'qtd_item','days_available', 'available_quantity_today', 'data']\n",
    "\n",
    "df_sales = df_sales[cols]\n",
    "print(df_total_sales.shape)\n",
    "print(prod_day.shape)\n",
    "# print(x.shape)\n",
    "print(df_sales.shape)\n"
   ]
  },
  {
   "cell_type": "code",
   "execution_count": null,
   "metadata": {},
   "outputs": [
    {
     "data": {
      "text/html": [
       "<div>\n",
       "<style scoped>\n",
       "    .dataframe tbody tr th:only-of-type {\n",
       "        vertical-align: middle;\n",
       "    }\n",
       "\n",
       "    .dataframe tbody tr th {\n",
       "        vertical-align: top;\n",
       "    }\n",
       "\n",
       "    .dataframe thead th {\n",
       "        text-align: right;\n",
       "    }\n",
       "</style>\n",
       "<table border=\"1\" class=\"dataframe\">\n",
       "  <thead>\n",
       "    <tr style=\"text-align: right;\">\n",
       "      <th></th>\n",
       "      <th>ml_code</th>\n",
       "      <th>ml_sku</th>\n",
       "      <th>ml_inventory_id</th>\n",
       "      <th>tiny_id</th>\n",
       "      <th>tiny_sku</th>\n",
       "      <th>var_code</th>\n",
       "      <th>variation_id</th>\n",
       "      <th>title</th>\n",
       "      <th>total_sales_quantity</th>\n",
       "      <th>qtd_item</th>\n",
       "      <th>days_available</th>\n",
       "      <th>available_quantity_today</th>\n",
       "      <th>data</th>\n",
       "    </tr>\n",
       "  </thead>\n",
       "  <tbody>\n",
       "    <tr>\n",
       "      <th>25</th>\n",
       "      <td>MLB1991060554</td>\n",
       "      <td>FULLBASSOCLA01</td>\n",
       "      <td>JSMU98097</td>\n",
       "      <td>729127565</td>\n",
       "      <td>7898942136054</td>\n",
       "      <td>NaN</td>\n",
       "      <td>nan</td>\n",
       "      <td>Correia Guitarra Violão Baixo Alça Basso Cla 01 Camurca Bege</td>\n",
       "      <td>5</td>\n",
       "      <td>1</td>\n",
       "      <td>10</td>\n",
       "      <td>10</td>\n",
       "      <td>2023-11-27</td>\n",
       "    </tr>\n",
       "  </tbody>\n",
       "</table>\n",
       "</div>"
      ],
      "text/plain": [
       "          ml_code          ml_sku ml_inventory_id    tiny_id       tiny_sku  \\\n",
       "25  MLB1991060554  FULLBASSOCLA01       JSMU98097  729127565  7898942136054   \n",
       "\n",
       "   var_code variation_id  \\\n",
       "25      NaN          nan   \n",
       "\n",
       "                                                           title  \\\n",
       "25  Correia Guitarra Violão Baixo Alça Basso Cla 01 Camurca Bege   \n",
       "\n",
       "    total_sales_quantity  qtd_item  days_available  available_quantity_today  \\\n",
       "25                     5         1              10                        10   \n",
       "\n",
       "         data  \n",
       "25 2023-11-27  "
      ]
     },
     "execution_count": 67,
     "metadata": {},
     "output_type": "execute_result"
    }
   ],
   "source": [
    "df_sales.sample()"
   ]
  },
  {
   "cell_type": "code",
   "execution_count": null,
   "metadata": {},
   "outputs": [
    {
     "data": {
      "text/plain": [
       "Index(['ml_code', 'ml_sku', 'ml_inventory_id', 'tiny_id', 'tiny_sku',\n",
       "       'var_code', 'variation_id', 'title', 'total_sales_quantity', 'qtd_item',\n",
       "       'days_available', 'available_quantity_today', 'data'],\n",
       "      dtype='object')"
      ]
     },
     "execution_count": 68,
     "metadata": {},
     "output_type": "execute_result"
    }
   ],
   "source": [
    "df_sales.columns"
   ]
  },
  {
   "cell_type": "code",
   "execution_count": null,
   "metadata": {},
   "outputs": [],
   "source": [
    "# x = pd.merge(x, df_sales, how='outer', indicator=True)\n",
    "# x = x[x['_merge'] == 'right_only']\n",
    "\n",
    "# x"
   ]
  },
  {
   "cell_type": "code",
   "execution_count": null,
   "metadata": {},
   "outputs": [
    {
     "data": {
      "text/html": [
       "<div>\n",
       "<style scoped>\n",
       "    .dataframe tbody tr th:only-of-type {\n",
       "        vertical-align: middle;\n",
       "    }\n",
       "\n",
       "    .dataframe tbody tr th {\n",
       "        vertical-align: top;\n",
       "    }\n",
       "\n",
       "    .dataframe thead th {\n",
       "        text-align: right;\n",
       "    }\n",
       "</style>\n",
       "<table border=\"1\" class=\"dataframe\">\n",
       "  <thead>\n",
       "    <tr style=\"text-align: right;\">\n",
       "      <th></th>\n",
       "      <th>ml_code</th>\n",
       "      <th>category_id</th>\n",
       "      <th>variation_id</th>\n",
       "      <th>seller_sku</th>\n",
       "      <th>title</th>\n",
       "      <th>total_sales_quantity</th>\n",
       "    </tr>\n",
       "  </thead>\n",
       "  <tbody>\n",
       "    <tr>\n",
       "      <th>0</th>\n",
       "      <td>MLB1992541482</td>\n",
       "      <td>MLB278076</td>\n",
       "      <td>173552533267</td>\n",
       "      <td>FULLSG6687</td>\n",
       "      <td>Encordoamento 0.09 0.10 0.11 0.12 Violão Aço 85/15 Bronze Sg</td>\n",
       "      <td>5</td>\n",
       "    </tr>\n",
       "    <tr>\n",
       "      <th>648</th>\n",
       "      <td>MLB1992541482</td>\n",
       "      <td>MLB278076</td>\n",
       "      <td>173552533264</td>\n",
       "      <td>FULLSG6684</td>\n",
       "      <td>Encordoamento 0.09 0.10 0.11 0.12 Violão Aço 85/15 Bronze Sg</td>\n",
       "      <td>3</td>\n",
       "    </tr>\n",
       "  </tbody>\n",
       "</table>\n",
       "</div>"
      ],
      "text/plain": [
       "           ml_code category_id  variation_id  seller_sku  \\\n",
       "0    MLB1992541482   MLB278076  173552533267  FULLSG6687   \n",
       "648  MLB1992541482   MLB278076  173552533264  FULLSG6684   \n",
       "\n",
       "                                                            title  \\\n",
       "0    Encordoamento 0.09 0.10 0.11 0.12 Violão Aço 85/15 Bronze Sg   \n",
       "648  Encordoamento 0.09 0.10 0.11 0.12 Violão Aço 85/15 Bronze Sg   \n",
       "\n",
       "     total_sales_quantity  \n",
       "0                       5  \n",
       "648                     3  "
      ]
     },
     "execution_count": 70,
     "metadata": {},
     "output_type": "execute_result"
    }
   ],
   "source": [
    "condf(df_total_sales,'ml_code','MLB1992541482')"
   ]
  },
  {
   "cell_type": "code",
   "execution_count": null,
   "metadata": {},
   "outputs": [
    {
     "data": {
      "text/html": [
       "<div>\n",
       "<style scoped>\n",
       "    .dataframe tbody tr th:only-of-type {\n",
       "        vertical-align: middle;\n",
       "    }\n",
       "\n",
       "    .dataframe tbody tr th {\n",
       "        vertical-align: top;\n",
       "    }\n",
       "\n",
       "    .dataframe thead th {\n",
       "        text-align: right;\n",
       "    }\n",
       "</style>\n",
       "<table border=\"1\" class=\"dataframe\">\n",
       "  <thead>\n",
       "    <tr style=\"text-align: right;\">\n",
       "      <th></th>\n",
       "      <th>ml_code</th>\n",
       "      <th>ml_sku</th>\n",
       "      <th>ml_inventory_id</th>\n",
       "      <th>tiny_id</th>\n",
       "      <th>tiny_sku</th>\n",
       "      <th>var_code</th>\n",
       "      <th>variation_id</th>\n",
       "      <th>title</th>\n",
       "      <th>total_sales_quantity</th>\n",
       "      <th>qtd_item</th>\n",
       "      <th>days_available</th>\n",
       "      <th>available_quantity_today</th>\n",
       "      <th>data</th>\n",
       "    </tr>\n",
       "  </thead>\n",
       "  <tbody>\n",
       "    <tr>\n",
       "      <th>0</th>\n",
       "      <td>MLB1992541482</td>\n",
       "      <td>FULLSG6687</td>\n",
       "      <td>CLMF99895</td>\n",
       "      <td>730228363</td>\n",
       "      <td>7897626866874</td>\n",
       "      <td>0.12</td>\n",
       "      <td>173552533267</td>\n",
       "      <td>Encordoamento 0.09 0.10 0.11 0.12 Violão Aço 85/15 Bronze Sg</td>\n",
       "      <td>5</td>\n",
       "      <td>1</td>\n",
       "      <td>10</td>\n",
       "      <td>8</td>\n",
       "      <td>2023-11-27</td>\n",
       "    </tr>\n",
       "    <tr>\n",
       "      <th>73</th>\n",
       "      <td>MLB1992541482</td>\n",
       "      <td>FULLSG6684</td>\n",
       "      <td>LUHT04035</td>\n",
       "      <td>747847952</td>\n",
       "      <td>7897626866843</td>\n",
       "      <td>0.09</td>\n",
       "      <td>173552533264</td>\n",
       "      <td>Encordoamento 0.09 0.10 0.11 0.12 Violão Aço 85/15 Bronze Sg</td>\n",
       "      <td>3</td>\n",
       "      <td>1</td>\n",
       "      <td>10</td>\n",
       "      <td>19</td>\n",
       "      <td>2023-11-27</td>\n",
       "    </tr>\n",
       "  </tbody>\n",
       "</table>\n",
       "</div>"
      ],
      "text/plain": [
       "          ml_code      ml_sku ml_inventory_id    tiny_id       tiny_sku  \\\n",
       "0   MLB1992541482  FULLSG6687       CLMF99895  730228363  7897626866874   \n",
       "73  MLB1992541482  FULLSG6684       LUHT04035  747847952  7897626866843   \n",
       "\n",
       "   var_code  variation_id  \\\n",
       "0      0.12  173552533267   \n",
       "73     0.09  173552533264   \n",
       "\n",
       "                                                           title  \\\n",
       "0   Encordoamento 0.09 0.10 0.11 0.12 Violão Aço 85/15 Bronze Sg   \n",
       "73  Encordoamento 0.09 0.10 0.11 0.12 Violão Aço 85/15 Bronze Sg   \n",
       "\n",
       "    total_sales_quantity  qtd_item  days_available  available_quantity_today  \\\n",
       "0                      5         1              10                         8   \n",
       "73                     3         1              10                        19   \n",
       "\n",
       "         data  \n",
       "0  2023-11-27  \n",
       "73 2023-11-27  "
      ]
     },
     "execution_count": 71,
     "metadata": {},
     "output_type": "execute_result"
    }
   ],
   "source": [
    "condf(df_sales,'ml_code','MLB1992541482')"
   ]
  },
  {
   "cell_type": "markdown",
   "metadata": {},
   "source": [
    "### Calculando métricas"
   ]
  },
  {
   "cell_type": "code",
   "execution_count": null,
   "metadata": {},
   "outputs": [
    {
     "data": {
      "text/html": [
       "<div>\n",
       "<style scoped>\n",
       "    .dataframe tbody tr th:only-of-type {\n",
       "        vertical-align: middle;\n",
       "    }\n",
       "\n",
       "    .dataframe tbody tr th {\n",
       "        vertical-align: top;\n",
       "    }\n",
       "\n",
       "    .dataframe thead th {\n",
       "        text-align: right;\n",
       "    }\n",
       "</style>\n",
       "<table border=\"1\" class=\"dataframe\">\n",
       "  <thead>\n",
       "    <tr style=\"text-align: right;\">\n",
       "      <th></th>\n",
       "      <th>ml_code</th>\n",
       "      <th>ml_sku</th>\n",
       "      <th>ml_inventory_id</th>\n",
       "      <th>tiny_id</th>\n",
       "      <th>tiny_sku</th>\n",
       "      <th>var_code</th>\n",
       "      <th>variation_id</th>\n",
       "      <th>title</th>\n",
       "      <th>total_sales_quantity</th>\n",
       "      <th>qtd_item</th>\n",
       "      <th>days_available</th>\n",
       "      <th>available_quantity_today</th>\n",
       "      <th>data</th>\n",
       "    </tr>\n",
       "  </thead>\n",
       "  <tbody>\n",
       "    <tr>\n",
       "      <th>83</th>\n",
       "      <td>MLB1814087324</td>\n",
       "      <td>FULLKIT01</td>\n",
       "      <td>FTGG16520</td>\n",
       "      <td>597415799</td>\n",
       "      <td>AFINADORKIT</td>\n",
       "      <td>NaN</td>\n",
       "      <td>nan</td>\n",
       "      <td>Kit 6 Palhetas + 1 Porta Palheta + 1 Capotraste + 1 Afinador</td>\n",
       "      <td>2</td>\n",
       "      <td>1</td>\n",
       "      <td>0</td>\n",
       "      <td>0</td>\n",
       "      <td>2023-11-27</td>\n",
       "    </tr>\n",
       "  </tbody>\n",
       "</table>\n",
       "</div>"
      ],
      "text/plain": [
       "          ml_code     ml_sku ml_inventory_id    tiny_id     tiny_sku var_code  \\\n",
       "83  MLB1814087324  FULLKIT01       FTGG16520  597415799  AFINADORKIT      NaN   \n",
       "\n",
       "   variation_id                                                         title  \\\n",
       "83          nan  Kit 6 Palhetas + 1 Porta Palheta + 1 Capotraste + 1 Afinador   \n",
       "\n",
       "    total_sales_quantity  qtd_item  days_available  available_quantity_today  \\\n",
       "83                     2         1               0                         0   \n",
       "\n",
       "         data  \n",
       "83 2023-11-27  "
      ]
     },
     "execution_count": 72,
     "metadata": {},
     "output_type": "execute_result"
    }
   ],
   "source": [
    "df_sales.sample()"
   ]
  },
  {
   "cell_type": "code",
   "execution_count": null,
   "metadata": {},
   "outputs": [],
   "source": [
    "# media de produtos disponiveis no período\n",
    "df_sales['media_prod_days_available'] = (df_sales['total_sales_quantity'] / df_sales['days_available'])\n",
    "df_sales['media_prod_days_available'] = df_sales['media_prod_days_available'].fillna(0)\n",
    "\n",
    "days = 30\n",
    "\n",
    "# qtd de produtos a enviar no período, caso seja valor negativo produto está acima do esperado para envio(sobrando)\n",
    "df_sales['period_send_fulfillment'] = np.ceil((df_sales['total_sales_quantity'] / df_sales['days_available'])* days - df_sales['available_quantity_today'])\n",
    "df_sales['period_send_fulfillment'] = df_sales['period_send_fulfillment'].fillna(0)\n",
    "\n",
    "# qtd de produtos a enviar hoje, caso seja valor negativo produto está acima do esperado para envio(sobrando)\n",
    "df_sales['today_send_fulfillment'] = np.ceil((df_sales['total_sales_quantity'] / df_sales['days_available']) - df_sales['available_quantity_today'])\n",
    "df_sales['today_send_fulfillment'] = df_sales['today_send_fulfillment'].fillna(0)"
   ]
  },
  {
   "cell_type": "code",
   "execution_count": null,
   "metadata": {},
   "outputs": [
    {
     "data": {
      "text/html": [
       "<div>\n",
       "<style scoped>\n",
       "    .dataframe tbody tr th:only-of-type {\n",
       "        vertical-align: middle;\n",
       "    }\n",
       "\n",
       "    .dataframe tbody tr th {\n",
       "        vertical-align: top;\n",
       "    }\n",
       "\n",
       "    .dataframe thead th {\n",
       "        text-align: right;\n",
       "    }\n",
       "</style>\n",
       "<table border=\"1\" class=\"dataframe\">\n",
       "  <thead>\n",
       "    <tr style=\"text-align: right;\">\n",
       "      <th></th>\n",
       "      <th>ml_code</th>\n",
       "      <th>ml_sku</th>\n",
       "      <th>ml_inventory_id</th>\n",
       "      <th>tiny_id</th>\n",
       "      <th>tiny_sku</th>\n",
       "      <th>var_code</th>\n",
       "      <th>variation_id</th>\n",
       "      <th>title</th>\n",
       "      <th>total_sales_quantity</th>\n",
       "      <th>qtd_item</th>\n",
       "      <th>days_available</th>\n",
       "      <th>available_quantity_today</th>\n",
       "      <th>data</th>\n",
       "      <th>media_prod_days_available</th>\n",
       "      <th>period_send_fulfillment</th>\n",
       "      <th>today_send_fulfillment</th>\n",
       "    </tr>\n",
       "  </thead>\n",
       "  <tbody>\n",
       "    <tr>\n",
       "      <th>68</th>\n",
       "      <td>MLB1729421535</td>\n",
       "      <td>IZZO3440PRETO</td>\n",
       "      <td>SYZS70682</td>\n",
       "      <td>741799625</td>\n",
       "      <td>7897626864801</td>\n",
       "      <td>Preto</td>\n",
       "      <td>69642779895</td>\n",
       "      <td>Pandeiro Preto Izzo 10 Polegada Abs Com Pele Preta - 3440</td>\n",
       "      <td>3</td>\n",
       "      <td>1</td>\n",
       "      <td>9</td>\n",
       "      <td>0</td>\n",
       "      <td>2023-11-27</td>\n",
       "      <td>0.333333</td>\n",
       "      <td>10.0</td>\n",
       "      <td>1.0</td>\n",
       "    </tr>\n",
       "    <tr>\n",
       "      <th>57</th>\n",
       "      <td>MLB2024265635</td>\n",
       "      <td>FULLERNIEBALLP02221</td>\n",
       "      <td>NIPX18741</td>\n",
       "      <td>730857747</td>\n",
       "      <td>749699122210</td>\n",
       "      <td>0.010</td>\n",
       "      <td>173664488134</td>\n",
       "      <td>Cordas Para Guitarra 09 10 11 Power Slink Niquel Ernie Ball</td>\n",
       "      <td>1</td>\n",
       "      <td>1</td>\n",
       "      <td>10</td>\n",
       "      <td>16</td>\n",
       "      <td>2023-11-27</td>\n",
       "      <td>0.100000</td>\n",
       "      <td>-13.0</td>\n",
       "      <td>-15.0</td>\n",
       "    </tr>\n",
       "  </tbody>\n",
       "</table>\n",
       "</div>"
      ],
      "text/plain": [
       "          ml_code               ml_sku ml_inventory_id    tiny_id  \\\n",
       "68  MLB1729421535        IZZO3440PRETO       SYZS70682  741799625   \n",
       "57  MLB2024265635  FULLERNIEBALLP02221       NIPX18741  730857747   \n",
       "\n",
       "         tiny_sku var_code  variation_id  \\\n",
       "68  7897626864801    Preto   69642779895   \n",
       "57   749699122210    0.010  173664488134   \n",
       "\n",
       "                                                          title  \\\n",
       "68    Pandeiro Preto Izzo 10 Polegada Abs Com Pele Preta - 3440   \n",
       "57  Cordas Para Guitarra 09 10 11 Power Slink Niquel Ernie Ball   \n",
       "\n",
       "    total_sales_quantity  qtd_item  days_available  available_quantity_today  \\\n",
       "68                     3         1               9                         0   \n",
       "57                     1         1              10                        16   \n",
       "\n",
       "         data  media_prod_days_available  period_send_fulfillment  \\\n",
       "68 2023-11-27                   0.333333                     10.0   \n",
       "57 2023-11-27                   0.100000                    -13.0   \n",
       "\n",
       "    today_send_fulfillment  \n",
       "68                     1.0  \n",
       "57                   -15.0  "
      ]
     },
     "execution_count": 74,
     "metadata": {},
     "output_type": "execute_result"
    }
   ],
   "source": [
    "df_sales.sample(2)"
   ]
  },
  {
   "cell_type": "code",
   "execution_count": null,
   "metadata": {},
   "outputs": [
    {
     "data": {
      "text/html": [
       "<div>\n",
       "<style scoped>\n",
       "    .dataframe tbody tr th:only-of-type {\n",
       "        vertical-align: middle;\n",
       "    }\n",
       "\n",
       "    .dataframe tbody tr th {\n",
       "        vertical-align: top;\n",
       "    }\n",
       "\n",
       "    .dataframe thead th {\n",
       "        text-align: right;\n",
       "    }\n",
       "</style>\n",
       "<table border=\"1\" class=\"dataframe\">\n",
       "  <thead>\n",
       "    <tr style=\"text-align: right;\">\n",
       "      <th></th>\n",
       "      <th>ml_code</th>\n",
       "      <th>ml_sku</th>\n",
       "      <th>ml_inventory_id</th>\n",
       "      <th>tiny_id</th>\n",
       "      <th>tiny_sku</th>\n",
       "      <th>var_code</th>\n",
       "      <th>variation_id</th>\n",
       "      <th>title</th>\n",
       "      <th>total_sales_quantity</th>\n",
       "      <th>qtd_item</th>\n",
       "      <th>days_available</th>\n",
       "      <th>available_quantity_today</th>\n",
       "      <th>data</th>\n",
       "      <th>media_prod_days_available</th>\n",
       "      <th>period_send_fulfillment</th>\n",
       "      <th>today_send_fulfillment</th>\n",
       "    </tr>\n",
       "  </thead>\n",
       "  <tbody>\n",
       "    <tr>\n",
       "      <th>21</th>\n",
       "      <td>MLB1629379059</td>\n",
       "      <td>FULLP10NINJA15FT</td>\n",
       "      <td>ZOQD52873</td>\n",
       "      <td>567508524</td>\n",
       "      <td>7899028808551</td>\n",
       "      <td>NaN</td>\n",
       "      <td>nan</td>\n",
       "      <td>Cabo P10 X P10 Santo Angelo Ninja 15ft - 4.57m</td>\n",
       "      <td>1</td>\n",
       "      <td>1</td>\n",
       "      <td>8</td>\n",
       "      <td>0</td>\n",
       "      <td>2023-11-27</td>\n",
       "      <td>0.125</td>\n",
       "      <td>4.0</td>\n",
       "      <td>1.0</td>\n",
       "    </tr>\n",
       "  </tbody>\n",
       "</table>\n",
       "</div>"
      ],
      "text/plain": [
       "          ml_code            ml_sku ml_inventory_id    tiny_id       tiny_sku  \\\n",
       "21  MLB1629379059  FULLP10NINJA15FT       ZOQD52873  567508524  7899028808551   \n",
       "\n",
       "   var_code variation_id                                           title  \\\n",
       "21      NaN          nan  Cabo P10 X P10 Santo Angelo Ninja 15ft - 4.57m   \n",
       "\n",
       "    total_sales_quantity  qtd_item  days_available  available_quantity_today  \\\n",
       "21                     1         1               8                         0   \n",
       "\n",
       "         data  media_prod_days_available  period_send_fulfillment  \\\n",
       "21 2023-11-27                      0.125                      4.0   \n",
       "\n",
       "    today_send_fulfillment  \n",
       "21                     1.0  "
      ]
     },
     "execution_count": 75,
     "metadata": {},
     "output_type": "execute_result"
    }
   ],
   "source": [
    "x = 'MLB1629379059'\n",
    "y = df_sales[df_sales['ml_code'] == x]\n",
    "y"
   ]
  },
  {
   "cell_type": "code",
   "execution_count": null,
   "metadata": {},
   "outputs": [],
   "source": [
    "condf(df_sales,'ml_code','MLB1992541482')"
   ]
  },
  {
   "cell_type": "markdown",
   "metadata": {},
   "source": [
    "Pergunta:\n",
    "\n",
    "Caso em seja necessário enviar produtos de um kit e apenas um dos produtos estiver em falta, o que fazer?"
   ]
  },
  {
   "cell_type": "markdown",
   "metadata": {},
   "source": []
  }
 ],
 "metadata": {
  "kernelspec": {
   "display_name": "venv",
   "language": "python",
   "name": "python3"
  },
  "language_info": {
   "codemirror_mode": {
    "name": "ipython",
    "version": 3
   },
   "file_extension": ".py",
   "mimetype": "text/x-python",
   "name": "python",
   "nbconvert_exporter": "python",
   "pygments_lexer": "ipython3",
   "version": "3.12.0"
  }
 },
 "nbformat": 4,
 "nbformat_minor": 2
}
