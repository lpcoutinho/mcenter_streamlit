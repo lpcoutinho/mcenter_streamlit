{
 "cells": [
  {
   "cell_type": "markdown",
   "metadata": {},
   "source": [
    "Depositos para enviar, orderm de preferencia:\n",
    "musical_matriz\n",
    "musical_filal\n",
    "em seguida onde houver mais estoque\n",
    "\n",
    "\n",
    "onde days_available = 0 criar observação onde informa que há muito tempo sem estoque"
   ]
  },
  {
   "cell_type": "code",
   "execution_count": 1,
   "metadata": {},
   "outputs": [],
   "source": [
    "import json\n",
    "import os\n",
    "import time\n",
    "from pandas import json_normalize\n",
    "import psycopg2\n",
    "from psycopg2 import sql\n",
    "import math\n",
    "import pandas as pd\n",
    "import requests\n",
    "from dotenv import load_dotenv\n",
    "from datetime import datetime, timedelta\n",
    "import numpy as np\n",
    "\n",
    "load_dotenv()\n",
    "\n",
    "ACCESS_TOKEN = os.getenv(\"ACCESS_TOKEN\")\n",
    "HOST = os.getenv(\"HOST\")\n",
    "POSTGRES_DB = os.getenv(\"POSTGRES_DB\")\n",
    "POSTGRES_USER = os.getenv(\"POSTGRES_USER\")\n",
    "POSTGRES_PASSWORD = os.getenv(\"POSTGRES_PASSWORD\")\n",
    "\n",
    "\n",
    "# Informações de conexão com o banco de dados PostgreSQL\n",
    "db_config = {\n",
    "    \"host\": HOST,\n",
    "    \"database\": POSTGRES_DB,\n",
    "    \"user\": POSTGRES_USER,\n",
    "    \"password\": POSTGRES_PASSWORD,\n",
    "}"
   ]
  },
  {
   "cell_type": "code",
   "execution_count": 2,
   "metadata": {},
   "outputs": [],
   "source": [
    "def condf(df, coluna, valor):\n",
    "    \"\"\"\n",
    "    Consulta um DataFrame com base em uma coluna e valor específicos.\n",
    "\n",
    "    Parâmetros:\n",
    "    - df: DataFrame a ser consultado.\n",
    "    - coluna: Nome da coluna para a condição de consulta.\n",
    "    - valor: Valor desejado na coluna.\n",
    "\n",
    "    Retorna:\n",
    "    Um DataFrame contendo apenas as linhas que atendem à condição.\n",
    "    \"\"\"\n",
    "    resultado = df[df[coluna] == valor]\n",
    "    return resultado\n",
    "\n",
    "\n",
    "def condf_date(df, coluna_data, data_pesquisada):\n",
    "    \"\"\"\n",
    "    Consulta um DataFrame com base em uma coluna de datas.\n",
    "\n",
    "    Parâmetros:\n",
    "    - df: DataFrame a ser consultado.\n",
    "    - coluna_data: Nome da coluna de datas.\n",
    "    - data_pesquisada: Data desejada para a consulta.\n",
    "\n",
    "    Retorna:\n",
    "    Um DataFrame contendo apenas as linhas que correspondem à data pesquisada.\n",
    "    \"\"\"\n",
    "    resultado = df[pd.to_datetime(df[coluna_data]).dt.date == data_pesquisada]\n",
    "    return resultado"
   ]
  },
  {
   "cell_type": "markdown",
   "metadata": {},
   "source": [
    "### Período a consultar"
   ]
  },
  {
   "cell_type": "code",
   "execution_count": 3,
   "metadata": {},
   "outputs": [
    {
     "name": "stdout",
     "output_type": "stream",
     "text": [
      "data_inicio:  2023-11-01\n",
      "data_fim:  2023-12-08\n"
     ]
    }
   ],
   "source": [
    "# Defina as datas de início e fim desejadas\n",
    "data_inicio = datetime(2023, 11, 1).date()\n",
    "data_fim = datetime(2023, 12, 8).date()\n",
    "# data_fim = data_fim + timedelta(days=1)  # + 1 dia para pegar a data atual no DB\n",
    "# data_fim = data_fim - timedelta(days=1)  # + 1 dia para pegar a data atual no DB\n",
    "print(\"data_inicio: \", data_inicio)\n",
    "print(\"data_fim: \", data_fim)"
   ]
  },
  {
   "cell_type": "markdown",
   "metadata": {},
   "source": [
    "### Historico de estoque fulfillment"
   ]
  },
  {
   "cell_type": "code",
   "execution_count": 4,
   "metadata": {},
   "outputs": [
    {
     "name": "stdout",
     "output_type": "stream",
     "text": [
      "SELECT * FROM fulfillment_stock WHERE created_at BETWEEN '2023-11-01' AND '2023-12-08;'\n"
     ]
    },
    {
     "name": "stderr",
     "output_type": "stream",
     "text": [
      "C:\\Users\\couti\\AppData\\Local\\Temp\\ipykernel_6272\\2016158527.py:8: UserWarning: pandas only supports SQLAlchemy connectable (engine/connection) or database string URI or sqlite3 DBAPI2 connection. Other DBAPI2 objects are not tested. Please consider using SQLAlchemy.\n",
      "  df_stock = pd.read_sql(sql_query, conn)\n"
     ]
    }
   ],
   "source": [
    "# Buscando histórico de estoque na tabela\n",
    "try:\n",
    "    conn = psycopg2.connect(**db_config)\n",
    "\n",
    "    sql_query = f\"SELECT * FROM fulfillment_stock WHERE created_at BETWEEN '{data_inicio}' AND '{data_fim};'\"\n",
    "    # sql_query = f\"SELECT * FROM fulfillment_stock WHERE created_at BETWEEN '2023-12-04' AND '2023-12-05';\"\n",
    "    print(sql_query)\n",
    "    df_stock = pd.read_sql(sql_query, conn)\n",
    "\n",
    "except psycopg2.Error as e:\n",
    "    print(f\"Erro do psycopg2 ao consultar fulfillment_stock: {e}\")\n",
    "\n",
    "except Exception as e:\n",
    "    print(f\"Erro ao consultar fulfillment_stock: {e}\")\n",
    "\n",
    "finally:\n",
    "    if conn is not None:\n",
    "        conn.close()"
   ]
  },
  {
   "cell_type": "code",
   "execution_count": 5,
   "metadata": {},
   "outputs": [],
   "source": [
    "# df_stock"
   ]
  },
  {
   "cell_type": "code",
   "execution_count": 6,
   "metadata": {},
   "outputs": [],
   "source": [
    "# print(df_stock.shape)\n",
    "# duplicates = df_stock[df_stock.duplicated(keep=False)]\n",
    "# duplicates"
   ]
  },
  {
   "cell_type": "code",
   "execution_count": 7,
   "metadata": {},
   "outputs": [],
   "source": [
    "# # datas consultadas, dias em que um produto pode ou não estar disponível\n",
    "# # df_stock[\"created_at\"].value_counts().index.to_list()\n",
    "# df_stock[\"created_at\"].value_counts().sort_index()\n",
    "# df_stock[\"created_at\"].dt.date.value_counts().sort_index()\n",
    "# # df_stock[\"created_at\"].dt.date.value_counts()\n",
    "\n",
    "# # len(df_stock[\"created_at\"].dt.date.value_counts().sort_index())"
   ]
  },
  {
   "cell_type": "code",
   "execution_count": 8,
   "metadata": {},
   "outputs": [],
   "source": [
    "# df_stock"
   ]
  },
  {
   "cell_type": "code",
   "execution_count": 9,
   "metadata": {},
   "outputs": [],
   "source": [
    "# # buscando anuncio e verificando dias consultados\n",
    "# result = df_stock[df_stock['ml_inventory_id'] == 'FBAY80623']\n",
    "# result = result.sort_values(by='created_at')\n",
    "# result"
   ]
  },
  {
   "cell_type": "code",
   "execution_count": 10,
   "metadata": {},
   "outputs": [],
   "source": [
    "# # encontrando anuncios pela data\n",
    "# df_stock[\"created_at\"] = pd.to_datetime(df_stock[\"created_at\"])\n",
    "# result = df_stock.loc[df_stock['created_at'].dt.date == pd.to_datetime('2023-12-7').date()]\n",
    "# result"
   ]
  },
  {
   "cell_type": "code",
   "execution_count": 11,
   "metadata": {},
   "outputs": [],
   "source": [
    "# df_stock[df_stock['created_at']=='2023-12-07 03:01:03.036386']"
   ]
  },
  {
   "cell_type": "code",
   "execution_count": 12,
   "metadata": {},
   "outputs": [],
   "source": [
    "# Ordenando stock por data\n",
    "df_stock = df_stock.sort_values(by=\"created_at\", ascending=False)\n",
    "df_stock[\"data\"] = df_stock[\"created_at\"].dt.date\n",
    "df_stock = df_stock.drop([\"created_at\"], axis=1)"
   ]
  },
  {
   "cell_type": "code",
   "execution_count": 13,
   "metadata": {},
   "outputs": [],
   "source": [
    "# df_stock"
   ]
  },
  {
   "cell_type": "code",
   "execution_count": 14,
   "metadata": {},
   "outputs": [],
   "source": [
    "# df_stock.dtypes"
   ]
  },
  {
   "cell_type": "code",
   "execution_count": 15,
   "metadata": {},
   "outputs": [],
   "source": [
    "# df_stock['data'] = pd.to_datetime(df_stock['data'])\n",
    "\n",
    "# dfx = condf(df_stock, 'data', '2023-11-1')\n",
    "# dfx"
   ]
  },
  {
   "cell_type": "code",
   "execution_count": 16,
   "metadata": {},
   "outputs": [],
   "source": [
    "# # A linha abaixo conta as ocorrências de cada valor em 'ml_inventory_id'\n",
    "# # value_counts = result['ml_inventory_id'].value_counts()\n",
    "# value_counts = df_stock['ml_inventory_id'].value_counts()\n",
    "\n",
    "# # Filtra para incluir apenas aqueles que ocorrem mais de 2 vezes\n",
    "# filtered_counts = value_counts[value_counts > 1]\n",
    "\n",
    "# filtered_counts.shape\n",
    "# # filtered_counts\n",
    "# value_counts"
   ]
  },
  {
   "cell_type": "code",
   "execution_count": 17,
   "metadata": {},
   "outputs": [],
   "source": [
    "# df_stock[df_stock[\"detail_status\"] == \"transfer\"]"
   ]
  },
  {
   "cell_type": "code",
   "execution_count": 18,
   "metadata": {},
   "outputs": [],
   "source": [
    "# condf(df_stock,'ml_inventory_id','CRMK90073')"
   ]
  },
  {
   "cell_type": "code",
   "execution_count": 19,
   "metadata": {},
   "outputs": [],
   "source": [
    "# condf(df_stock, \"detail_status\", \"transfer\")"
   ]
  },
  {
   "cell_type": "code",
   "execution_count": 20,
   "metadata": {},
   "outputs": [],
   "source": [
    "## Cria coluna has_stock, se available_quantity <= 0, has_stock= False ##\n",
    "df_stock = df_stock.assign(has_stock=lambda x: x[\"available_quantity\"] > 0)\n",
    "df_stock = df_stock.sort_values(by=\"data\", ascending=False).reset_index(drop=True)"
   ]
  },
  {
   "cell_type": "code",
   "execution_count": 21,
   "metadata": {},
   "outputs": [],
   "source": [
    "# df_stock"
   ]
  },
  {
   "cell_type": "code",
   "execution_count": 22,
   "metadata": {},
   "outputs": [],
   "source": [
    "# condf(df_stock, \"ml_inventory_id\", \"DSGP06967\")"
   ]
  },
  {
   "cell_type": "code",
   "execution_count": 23,
   "metadata": {},
   "outputs": [],
   "source": [
    "# print(df_stock.shape)\n",
    "# df_stock = df_stock.drop_duplicates()\n",
    "# print(df_stock.shape)"
   ]
  },
  {
   "cell_type": "markdown",
   "metadata": {},
   "source": [
    "#### Dias em que produto esteve disponível"
   ]
  },
  {
   "cell_type": "code",
   "execution_count": 24,
   "metadata": {},
   "outputs": [],
   "source": [
    "# condf(df_stock,'ml_inventory_id','ABCB20467')"
   ]
  },
  {
   "cell_type": "code",
   "execution_count": 25,
   "metadata": {},
   "outputs": [],
   "source": [
    "## Contando dias em que produto esteve disponível\n",
    "days_available = df_stock.groupby([\"ml_inventory_id\"])[\"has_stock\"].sum().reset_index()\n",
    "days_available = days_available.rename(columns={\"has_stock\": \"days_available\"})"
   ]
  },
  {
   "cell_type": "code",
   "execution_count": 26,
   "metadata": {},
   "outputs": [],
   "source": [
    "# days_available"
   ]
  },
  {
   "cell_type": "code",
   "execution_count": 27,
   "metadata": {},
   "outputs": [],
   "source": [
    "# days_available.sort_values(by='days_available',ascending=False)\n",
    "# days_available['days_available'].value_counts()\n",
    "\n",
    "# ## Contando dias em que produto esteve disponível\n",
    "# days_available = df_stock.groupby([\"ml_inventory_id\",\"references_variation_id\"])[\"has_stock\"].sum().reset_index()\n",
    "# days_available = days_available.rename(columns={\"has_stock\": \"days_available\"})\n",
    "# days_available"
   ]
  },
  {
   "cell_type": "code",
   "execution_count": 28,
   "metadata": {},
   "outputs": [],
   "source": [
    "# condf(df_stock, \"ml_inventory_id\", \"MENA66694\")"
   ]
  },
  {
   "cell_type": "code",
   "execution_count": 29,
   "metadata": {},
   "outputs": [],
   "source": [
    "# ## Contando dias em que produto esteve disponível\n",
    "# days_available_ = df_stock.groupby([\"ml_inventory_id\",\"references_variation_id\"])[\"has_stock\"].sum().reset_index()\n",
    "# days_available_ = days_available_.rename(columns={\"has_stock\": \"days_available\"})\n",
    "# days_available_"
   ]
  },
  {
   "cell_type": "code",
   "execution_count": 30,
   "metadata": {},
   "outputs": [],
   "source": [
    "# condf(days_available, \"ml_inventory_id\", \"DSGP06967\")\n",
    "# condf(days_available, \"ml_inventory_id\", \"DSGP06967\")"
   ]
  },
  {
   "cell_type": "code",
   "execution_count": 34,
   "metadata": {},
   "outputs": [],
   "source": [
    "# Unindo DFs\n",
    "df_stock_days = df_stock.merge(days_available, on=[\"ml_inventory_id\"], how=\"inner\")\n",
    "# df_stock_days_left = df_stock.merge(days_available, on=[\"ml_inventory_id\"], how=\"left\")\n",
    "# df_stock.rename(columns={'days_available_x': 'days_available'}, inplace=True)  # Corrigindo a sintaxe\n",
    "# df_stock = df_stock.drop(columns='days_available_y', axis=1)  # Corrigindo a sintaxe\n",
    "\n",
    "# Verificando o formato após a correção\n",
    "# print(df_stock.shape)\n",
    "#"
   ]
  },
  {
   "cell_type": "code",
   "execution_count": 35,
   "metadata": {},
   "outputs": [
    {
     "name": "stdout",
     "output_type": "stream",
     "text": [
      "(13104, 8)\n",
      "(13104, 9)\n",
      "(13104, 9)\n"
     ]
    },
    {
     "data": {
      "text/html": [
       "<div>\n",
       "<style scoped>\n",
       "    .dataframe tbody tr th:only-of-type {\n",
       "        vertical-align: middle;\n",
       "    }\n",
       "\n",
       "    .dataframe tbody tr th {\n",
       "        vertical-align: top;\n",
       "    }\n",
       "\n",
       "    .dataframe thead th {\n",
       "        text-align: right;\n",
       "    }\n",
       "</style>\n",
       "<table border=\"1\" class=\"dataframe\">\n",
       "  <thead>\n",
       "    <tr style=\"text-align: right;\">\n",
       "      <th></th>\n",
       "      <th>ml_inventory_id</th>\n",
       "      <th>available_quantity</th>\n",
       "      <th>detail_status</th>\n",
       "      <th>detail_quantity</th>\n",
       "      <th>references_id</th>\n",
       "      <th>references_variation_id</th>\n",
       "      <th>data</th>\n",
       "      <th>has_stock</th>\n",
       "      <th>days_available</th>\n",
       "    </tr>\n",
       "  </thead>\n",
       "  <tbody>\n",
       "    <tr>\n",
       "      <th>3026</th>\n",
       "      <td>DHEV27121</td>\n",
       "      <td>2</td>\n",
       "      <td>None</td>\n",
       "      <td>NaN</td>\n",
       "      <td>MLB2003287174</td>\n",
       "      <td>0</td>\n",
       "      <td>2023-12-05</td>\n",
       "      <td>True</td>\n",
       "      <td>36</td>\n",
       "    </tr>\n",
       "    <tr>\n",
       "      <th>1484</th>\n",
       "      <td>BOWK48319</td>\n",
       "      <td>7</td>\n",
       "      <td>None</td>\n",
       "      <td>NaN</td>\n",
       "      <td>MLB1461189878</td>\n",
       "      <td>51907695787</td>\n",
       "      <td>2023-11-29</td>\n",
       "      <td>True</td>\n",
       "      <td>36</td>\n",
       "    </tr>\n",
       "    <tr>\n",
       "      <th>1970</th>\n",
       "      <td>SYZS70682</td>\n",
       "      <td>0</td>\n",
       "      <td>None</td>\n",
       "      <td>NaN</td>\n",
       "      <td>MLB1729421535</td>\n",
       "      <td>69642779895</td>\n",
       "      <td>2023-11-11</td>\n",
       "      <td>False</td>\n",
       "      <td>0</td>\n",
       "    </tr>\n",
       "  </tbody>\n",
       "</table>\n",
       "</div>"
      ],
      "text/plain": [
       "     ml_inventory_id  available_quantity detail_status  detail_quantity  \\\n",
       "3026       DHEV27121                   2          None              NaN   \n",
       "1484       BOWK48319                   7          None              NaN   \n",
       "1970       SYZS70682                   0          None              NaN   \n",
       "\n",
       "      references_id references_variation_id        data  has_stock  \\\n",
       "3026  MLB2003287174                       0  2023-12-05       True   \n",
       "1484  MLB1461189878             51907695787  2023-11-29       True   \n",
       "1970  MLB1729421535             69642779895  2023-11-11      False   \n",
       "\n",
       "      days_available  \n",
       "3026              36  \n",
       "1484              36  \n",
       "1970               0  "
      ]
     },
     "execution_count": 35,
     "metadata": {},
     "output_type": "execute_result"
    }
   ],
   "source": [
    "# print(df_stock.shape)\n",
    "# print(df_stock_days.shape)\n",
    "# print(df_stock_days_left.shape)\n",
    "# df_stock_days.sample(3)"
   ]
  },
  {
   "cell_type": "code",
   "execution_count": null,
   "metadata": {},
   "outputs": [],
   "source": [
    "# # Unindo DFs\n",
    "# df_stock_ = df_stock.merge(days_available, on=[\"ml_inventory_id\"], how=\"inner\")\n",
    "# # df_stock_.rename(columns={'days_available_x': 'days_available'}, inplace=True)  # Corrigindo a sintaxe\n",
    "# # df_stock_ = df_stock_.drop(columns='days_available_y', axis=1)  # Corrigindo a sintaxe\n",
    "\n",
    "# # Verificando o formato após a correção\n",
    "# print(df_stock_.shape)\n",
    "# df_stock_"
   ]
  },
  {
   "cell_type": "code",
   "execution_count": 39,
   "metadata": {},
   "outputs": [
    {
     "name": "stdout",
     "output_type": "stream",
     "text": [
      "2023-12-07\n"
     ]
    }
   ],
   "source": [
    "# data de hoje\n",
    "# data_de_hoje = datetime.now().date() - timedelta(days=1)\n",
    "# print(data_de_hoje)\n",
    "data_de_hoje = datetime.now().date()\n",
    "data_de_hoje = data_de_hoje - timedelta(days=1)\n",
    "\n",
    "print(data_de_hoje)\n",
    "df_stock_days[\"data\"] = pd.to_datetime(df_stock_days[\"data\"])\n",
    "# data_de_hoje = data_de_hoje + timedelta(days=1)  # + 1 dia para pegar a data atual no DB\n",
    "\n",
    "# Filtra apenas as linhas onde 'data' é igual à data de hoje\n",
    "df_stock_today = df_stock_days[df_stock_days[\"data\"].dt.date == data_de_hoje]\n",
    "df_stock_today = df_stock_today.rename(\n",
    "    columns={\"available_quantity\": \"available_quantity_today\"}\n",
    ")\n",
    "# df_stock_today = df_stock.drop(['has_stock'], axis=1)"
   ]
  },
  {
   "cell_type": "code",
   "execution_count": 40,
   "metadata": {},
   "outputs": [
    {
     "data": {
      "text/html": [
       "<div>\n",
       "<style scoped>\n",
       "    .dataframe tbody tr th:only-of-type {\n",
       "        vertical-align: middle;\n",
       "    }\n",
       "\n",
       "    .dataframe tbody tr th {\n",
       "        vertical-align: top;\n",
       "    }\n",
       "\n",
       "    .dataframe thead th {\n",
       "        text-align: right;\n",
       "    }\n",
       "</style>\n",
       "<table border=\"1\" class=\"dataframe\">\n",
       "  <thead>\n",
       "    <tr style=\"text-align: right;\">\n",
       "      <th></th>\n",
       "      <th>ml_inventory_id</th>\n",
       "      <th>available_quantity_today</th>\n",
       "      <th>detail_status</th>\n",
       "      <th>detail_quantity</th>\n",
       "      <th>references_id</th>\n",
       "      <th>references_variation_id</th>\n",
       "      <th>data</th>\n",
       "      <th>has_stock</th>\n",
       "      <th>days_available</th>\n",
       "    </tr>\n",
       "  </thead>\n",
       "  <tbody>\n",
       "    <tr>\n",
       "      <th>0</th>\n",
       "      <td>HXJD21466</td>\n",
       "      <td>0</td>\n",
       "      <td>None</td>\n",
       "      <td>NaN</td>\n",
       "      <td>MLB1401964928</td>\n",
       "      <td>0</td>\n",
       "      <td>2023-12-07</td>\n",
       "      <td>False</td>\n",
       "      <td>0</td>\n",
       "    </tr>\n",
       "    <tr>\n",
       "      <th>36</th>\n",
       "      <td>QCVC39144</td>\n",
       "      <td>0</td>\n",
       "      <td>None</td>\n",
       "      <td>NaN</td>\n",
       "      <td>MLB2003129630</td>\n",
       "      <td>0</td>\n",
       "      <td>2023-12-07</td>\n",
       "      <td>False</td>\n",
       "      <td>0</td>\n",
       "    </tr>\n",
       "    <tr>\n",
       "      <th>72</th>\n",
       "      <td>SPKV63227</td>\n",
       "      <td>0</td>\n",
       "      <td>None</td>\n",
       "      <td>NaN</td>\n",
       "      <td>MLB1490210934</td>\n",
       "      <td>0</td>\n",
       "      <td>2023-12-07</td>\n",
       "      <td>False</td>\n",
       "      <td>0</td>\n",
       "    </tr>\n",
       "    <tr>\n",
       "      <th>108</th>\n",
       "      <td>PQCQ36986</td>\n",
       "      <td>13</td>\n",
       "      <td>None</td>\n",
       "      <td>NaN</td>\n",
       "      <td>MLB2075516288</td>\n",
       "      <td>173887190665</td>\n",
       "      <td>2023-12-07</td>\n",
       "      <td>True</td>\n",
       "      <td>36</td>\n",
       "    </tr>\n",
       "    <tr>\n",
       "      <th>144</th>\n",
       "      <td>UITT86657</td>\n",
       "      <td>0</td>\n",
       "      <td>None</td>\n",
       "      <td>NaN</td>\n",
       "      <td>MLB1734684354</td>\n",
       "      <td>69991314080</td>\n",
       "      <td>2023-12-07</td>\n",
       "      <td>False</td>\n",
       "      <td>0</td>\n",
       "    </tr>\n",
       "    <tr>\n",
       "      <th>...</th>\n",
       "      <td>...</td>\n",
       "      <td>...</td>\n",
       "      <td>...</td>\n",
       "      <td>...</td>\n",
       "      <td>...</td>\n",
       "      <td>...</td>\n",
       "      <td>...</td>\n",
       "      <td>...</td>\n",
       "      <td>...</td>\n",
       "    </tr>\n",
       "    <tr>\n",
       "      <th>12924</th>\n",
       "      <td>FSNB97805</td>\n",
       "      <td>6</td>\n",
       "      <td>transfer</td>\n",
       "      <td>30.0</td>\n",
       "      <td>MLB1992889189</td>\n",
       "      <td>173551307782</td>\n",
       "      <td>2023-12-07</td>\n",
       "      <td>True</td>\n",
       "      <td>36</td>\n",
       "    </tr>\n",
       "    <tr>\n",
       "      <th>12960</th>\n",
       "      <td>FZQP10396</td>\n",
       "      <td>4</td>\n",
       "      <td>None</td>\n",
       "      <td>NaN</td>\n",
       "      <td>MLB2006333696</td>\n",
       "      <td>0</td>\n",
       "      <td>2023-12-07</td>\n",
       "      <td>True</td>\n",
       "      <td>36</td>\n",
       "    </tr>\n",
       "    <tr>\n",
       "      <th>12996</th>\n",
       "      <td>HNWI37644</td>\n",
       "      <td>5</td>\n",
       "      <td>None</td>\n",
       "      <td>NaN</td>\n",
       "      <td>MLB2003228786</td>\n",
       "      <td>0</td>\n",
       "      <td>2023-12-07</td>\n",
       "      <td>True</td>\n",
       "      <td>36</td>\n",
       "    </tr>\n",
       "    <tr>\n",
       "      <th>13032</th>\n",
       "      <td>AVOX05934</td>\n",
       "      <td>7</td>\n",
       "      <td>None</td>\n",
       "      <td>NaN</td>\n",
       "      <td>MLB2003190501</td>\n",
       "      <td>0</td>\n",
       "      <td>2023-12-07</td>\n",
       "      <td>True</td>\n",
       "      <td>36</td>\n",
       "    </tr>\n",
       "    <tr>\n",
       "      <th>13068</th>\n",
       "      <td>UWGL04723</td>\n",
       "      <td>0</td>\n",
       "      <td>None</td>\n",
       "      <td>NaN</td>\n",
       "      <td>MLB2660440797</td>\n",
       "      <td>174579821830</td>\n",
       "      <td>2023-12-07</td>\n",
       "      <td>False</td>\n",
       "      <td>0</td>\n",
       "    </tr>\n",
       "  </tbody>\n",
       "</table>\n",
       "<p>364 rows × 9 columns</p>\n",
       "</div>"
      ],
      "text/plain": [
       "      ml_inventory_id  available_quantity_today detail_status  \\\n",
       "0           HXJD21466                         0          None   \n",
       "36          QCVC39144                         0          None   \n",
       "72          SPKV63227                         0          None   \n",
       "108         PQCQ36986                        13          None   \n",
       "144         UITT86657                         0          None   \n",
       "...               ...                       ...           ...   \n",
       "12924       FSNB97805                         6      transfer   \n",
       "12960       FZQP10396                         4          None   \n",
       "12996       HNWI37644                         5          None   \n",
       "13032       AVOX05934                         7          None   \n",
       "13068       UWGL04723                         0          None   \n",
       "\n",
       "       detail_quantity  references_id references_variation_id       data  \\\n",
       "0                  NaN  MLB1401964928                       0 2023-12-07   \n",
       "36                 NaN  MLB2003129630                       0 2023-12-07   \n",
       "72                 NaN  MLB1490210934                       0 2023-12-07   \n",
       "108                NaN  MLB2075516288            173887190665 2023-12-07   \n",
       "144                NaN  MLB1734684354             69991314080 2023-12-07   \n",
       "...                ...            ...                     ...        ...   \n",
       "12924             30.0  MLB1992889189            173551307782 2023-12-07   \n",
       "12960              NaN  MLB2006333696                       0 2023-12-07   \n",
       "12996              NaN  MLB2003228786                       0 2023-12-07   \n",
       "13032              NaN  MLB2003190501                       0 2023-12-07   \n",
       "13068              NaN  MLB2660440797            174579821830 2023-12-07   \n",
       "\n",
       "       has_stock  days_available  \n",
       "0          False               0  \n",
       "36         False               0  \n",
       "72         False               0  \n",
       "108         True              36  \n",
       "144        False               0  \n",
       "...          ...             ...  \n",
       "12924       True              36  \n",
       "12960       True              36  \n",
       "12996       True              36  \n",
       "13032       True              36  \n",
       "13068      False               0  \n",
       "\n",
       "[364 rows x 9 columns]"
      ]
     },
     "execution_count": 40,
     "metadata": {},
     "output_type": "execute_result"
    }
   ],
   "source": [
    "df_stock_today"
   ]
  },
  {
   "cell_type": "code",
   "execution_count": 54,
   "metadata": {},
   "outputs": [],
   "source": [
    "# Se detail_status = transfer: available_quantity_today = available_quantity_today + detail_quantity\n",
    "df_stock_today[\"total_available_quantity\"] = df_stock_today.apply(\n",
    "    lambda row: row[\"detail_quantity\"] + row[\"available_quantity_today\"]\n",
    "    if row[\"detail_status\"] == \"transfer\"\n",
    "    else row[\"available_quantity_today\"],\n",
    "    axis=1,\n",
    ")\n",
    "\n",
    "df_stock_today[\"total_available_quantity\"] = df_stock_today[\n",
    "    \"total_available_quantity\"\n",
    "].astype(\"int64\")"
   ]
  },
  {
   "cell_type": "code",
   "execution_count": 55,
   "metadata": {},
   "outputs": [],
   "source": [
    "# df_stock_today.sample(5)"
   ]
  },
  {
   "cell_type": "code",
   "execution_count": 56,
   "metadata": {},
   "outputs": [],
   "source": [
    "# condf(df_stock,'ml_inventory_id','FSNB97805')\n",
    "# condf(df_stock_today,'ml_inventory_id','FSNB97805')"
   ]
  },
  {
   "cell_type": "markdown",
   "metadata": {},
   "source": [
    "### Buscando hitorico de orders no BD"
   ]
  },
  {
   "cell_type": "code",
   "execution_count": 57,
   "metadata": {},
   "outputs": [
    {
     "name": "stdout",
     "output_type": "stream",
     "text": [
      "SELECT * FROM ml_orders WHERE date_closed BETWEEN '2023-11-01' AND '2023-12-08'\n"
     ]
    },
    {
     "name": "stderr",
     "output_type": "stream",
     "text": [
      "C:\\Users\\couti\\AppData\\Local\\Temp\\ipykernel_6272\\1893445520.py:7: UserWarning: pandas only supports SQLAlchemy connectable (engine/connection) or database string URI or sqlite3 DBAPI2 connection. Other DBAPI2 objects are not tested. Please consider using SQLAlchemy.\n",
      "  df_orders = pd.read_sql(sql_query, conn)\n"
     ]
    }
   ],
   "source": [
    "# Buscando histórico de vendas na tabela ml_orders_hist para o período definido\n",
    "try:\n",
    "    conn = psycopg2.connect(**db_config)\n",
    "\n",
    "    sql_query = f\"SELECT * FROM ml_orders WHERE date_closed BETWEEN '{data_inicio}' AND '{data_fim}'\"\n",
    "    print(sql_query)\n",
    "    df_orders = pd.read_sql(sql_query, conn)\n",
    "\n",
    "except psycopg2.Error as e:\n",
    "    print(f\"Erro do psycopg2 ao consultar ml_orders_hist: {e}\")\n",
    "    # logger.error(f\"Erro do psycopg2 ao consultar ml_orders_hist: {e}\")\n",
    "\n",
    "except Exception as e:\n",
    "    print(f\"Erro ao consultar ml_orders_hist: {e}\")\n",
    "    # logger.error(f\"Erro ao consultar ml_orders_hist: {e}\")\n",
    "\n",
    "finally:\n",
    "    if conn is not None:\n",
    "        conn.close()\n",
    "\n",
    "# # Ordenando orders por data\n",
    "# df_orders = df_orders.sort_values(by=\"date_approved\", ascending=False)\n",
    "# df_orders[\"data\"] = df_orders[\"date_approved\"].dt.date\n",
    "# df_orders = df_orders.drop([\"date_closed\",\"date_approved\"], axis=1)\n",
    "\n",
    "# filtros\n",
    "df_orders = df_orders[df_orders[\"logistic_type\"] == \"fulfillment\"]\n",
    "# df_orders = df_orders.drop(columns=['category_id','pack_id','variation_attributes_id','variation_name','variation_value_id', 'data'])\n",
    "df_orders = df_orders.drop(\n",
    "    columns=[\n",
    "        \"category_id\",\n",
    "        \"pack_id\",\n",
    "        \"variation_attributes_id\",\n",
    "        \"variation_name\",\n",
    "        \"variation_value_id\",\n",
    "    ]\n",
    ")\n",
    "\n",
    "# change column\n",
    "df_orders[\"variation_id\"] = df_orders[\"variation_id\"].replace(\"nan\", \"0\", regex=True)\n",
    "\n",
    "# df_orders = df_orders[df_orders[\"order_status\"] == \"paid\"]\n",
    "# df_orders = df_orders[df_orders[\"payment_status\"] == \"approved\"]\n",
    "\n",
    "\n",
    "# df_orders = df_orders.drop(\n",
    "#     [\"pack_id\", \"date_approved\", \"order_status\", \"payment_status\"], axis=1\n",
    "# )\n",
    "df_orders.rename(columns={\"quantity\": \"sold_quantity\"}, inplace=True)"
   ]
  },
  {
   "cell_type": "code",
   "execution_count": 58,
   "metadata": {},
   "outputs": [
    {
     "name": "stdout",
     "output_type": "stream",
     "text": [
      "(5352, 13)\n",
      "(4612, 13)\n"
     ]
    }
   ],
   "source": [
    "print(df_orders.shape)\n",
    "df_orders = df_orders.drop_duplicates()\n",
    "print(df_orders.shape)"
   ]
  },
  {
   "cell_type": "code",
   "execution_count": 81,
   "metadata": {},
   "outputs": [],
   "source": [
    "# Ordenando orders por data\n",
    "df_orders = df_orders.sort_values(by=\"date_approved\", ascending=False)\n",
    "df_orders[\"data\"] = df_orders[\"date_approved\"].dt.date\n",
    "df_orders = df_orders.drop([\"date_closed\", \"date_approved\"], axis=1)"
   ]
  },
  {
   "cell_type": "code",
   "execution_count": 83,
   "metadata": {},
   "outputs": [
    {
     "data": {
      "text/html": [
       "<div>\n",
       "<style scoped>\n",
       "    .dataframe tbody tr th:only-of-type {\n",
       "        vertical-align: middle;\n",
       "    }\n",
       "\n",
       "    .dataframe tbody tr th {\n",
       "        vertical-align: top;\n",
       "    }\n",
       "\n",
       "    .dataframe thead th {\n",
       "        text-align: right;\n",
       "    }\n",
       "</style>\n",
       "<table border=\"1\" class=\"dataframe\">\n",
       "  <thead>\n",
       "    <tr style=\"text-align: right;\">\n",
       "      <th></th>\n",
       "      <th>ml_code</th>\n",
       "      <th>variation_id</th>\n",
       "      <th>seller_sku</th>\n",
       "      <th>order_id</th>\n",
       "      <th>sold_quantity</th>\n",
       "      <th>title</th>\n",
       "      <th>order_status</th>\n",
       "      <th>payment_status</th>\n",
       "      <th>shipping_id</th>\n",
       "      <th>variation_value_name</th>\n",
       "      <th>logistic_type</th>\n",
       "      <th>data</th>\n",
       "    </tr>\n",
       "  </thead>\n",
       "  <tbody>\n",
       "    <tr>\n",
       "      <th>947</th>\n",
       "      <td>MLB1992541482</td>\n",
       "      <td>173552533264</td>\n",
       "      <td>FULLSG6684</td>\n",
       "      <td>2000006902197856</td>\n",
       "      <td>2</td>\n",
       "      <td>Encordoamento 0.09 0.10 0.11 0.12 Violão Aço 8...</td>\n",
       "      <td>paid</td>\n",
       "      <td>approved</td>\n",
       "      <td>42802756417</td>\n",
       "      <td>0.09</td>\n",
       "      <td>fulfillment</td>\n",
       "      <td>2023-11-15</td>\n",
       "    </tr>\n",
       "    <tr>\n",
       "      <th>1275</th>\n",
       "      <td>MLB4200090836</td>\n",
       "      <td>0</td>\n",
       "      <td>FULLBASSOCLA13</td>\n",
       "      <td>2000006919368234</td>\n",
       "      <td>1</td>\n",
       "      <td>Alça Correia Basso Couro Preto Cla13 Guitarra ...</td>\n",
       "      <td>paid</td>\n",
       "      <td>approved</td>\n",
       "      <td>42810295232</td>\n",
       "      <td>None</td>\n",
       "      <td>fulfillment</td>\n",
       "      <td>2023-11-17</td>\n",
       "    </tr>\n",
       "    <tr>\n",
       "      <th>5295</th>\n",
       "      <td>MLB1435852259</td>\n",
       "      <td>0</td>\n",
       "      <td>FULLELIXIR3216</td>\n",
       "      <td>2000007019090540</td>\n",
       "      <td>1</td>\n",
       "      <td>Encordoamento Elixir .010 Light Nanoweb Para G...</td>\n",
       "      <td>paid</td>\n",
       "      <td>approved</td>\n",
       "      <td>42852922432</td>\n",
       "      <td>None</td>\n",
       "      <td>fulfillment</td>\n",
       "      <td>2023-11-29</td>\n",
       "    </tr>\n",
       "  </tbody>\n",
       "</table>\n",
       "</div>"
      ],
      "text/plain": [
       "            ml_code  variation_id      seller_sku          order_id  \\\n",
       "947   MLB1992541482  173552533264      FULLSG6684  2000006902197856   \n",
       "1275  MLB4200090836             0  FULLBASSOCLA13  2000006919368234   \n",
       "5295  MLB1435852259             0  FULLELIXIR3216  2000007019090540   \n",
       "\n",
       "      sold_quantity                                              title  \\\n",
       "947               2  Encordoamento 0.09 0.10 0.11 0.12 Violão Aço 8...   \n",
       "1275              1  Alça Correia Basso Couro Preto Cla13 Guitarra ...   \n",
       "5295              1  Encordoamento Elixir .010 Light Nanoweb Para G...   \n",
       "\n",
       "     order_status payment_status  shipping_id variation_value_name  \\\n",
       "947          paid       approved  42802756417                 0.09   \n",
       "1275         paid       approved  42810295232                 None   \n",
       "5295         paid       approved  42852922432                 None   \n",
       "\n",
       "     logistic_type        data  \n",
       "947    fulfillment  2023-11-15  \n",
       "1275   fulfillment  2023-11-17  \n",
       "5295   fulfillment  2023-11-29  "
      ]
     },
     "execution_count": 83,
     "metadata": {},
     "output_type": "execute_result"
    }
   ],
   "source": [
    "df_orders.sample(3)"
   ]
  },
  {
   "cell_type": "code",
   "execution_count": 59,
   "metadata": {},
   "outputs": [],
   "source": [
    "# df_orders.head()"
   ]
  },
  {
   "cell_type": "code",
   "execution_count": 60,
   "metadata": {},
   "outputs": [],
   "source": [
    "# df_orders\n",
    "# df_orders['pack_id'].value_counts()\n",
    "\n",
    "# # condf(df_orders,'pack_id','2000005059931419')"
   ]
  },
  {
   "cell_type": "code",
   "execution_count": 61,
   "metadata": {},
   "outputs": [],
   "source": [
    "# print(df_orders.shape)\n",
    "# df_orders.head(3)"
   ]
  },
  {
   "cell_type": "code",
   "execution_count": 62,
   "metadata": {},
   "outputs": [],
   "source": [
    "# condf(df_orders, \"ml_code\", \"MLB1992541482\")"
   ]
  },
  {
   "cell_type": "markdown",
   "metadata": {},
   "source": [
    "#### Total de vendas por ml_code e variation_id"
   ]
  },
  {
   "cell_type": "code",
   "execution_count": 63,
   "metadata": {},
   "outputs": [],
   "source": [
    "# df_orders.shape"
   ]
  },
  {
   "cell_type": "code",
   "execution_count": 64,
   "metadata": {},
   "outputs": [],
   "source": [
    "# df_orders"
   ]
  },
  {
   "cell_type": "code",
   "execution_count": 65,
   "metadata": {},
   "outputs": [],
   "source": [
    "# condf(df_orders,'ml_code','MLB3516894673')"
   ]
  },
  {
   "cell_type": "code",
   "execution_count": 84,
   "metadata": {},
   "outputs": [],
   "source": [
    "# Total de vendas por ml_code e id de variação\n",
    "df_orders_quantity = (\n",
    "    df_orders.groupby([\"ml_code\", \"variation_id\"])[\"sold_quantity\"].sum().reset_index()\n",
    ")"
   ]
  },
  {
   "cell_type": "code",
   "execution_count": 85,
   "metadata": {},
   "outputs": [
    {
     "data": {
      "text/html": [
       "<div>\n",
       "<style scoped>\n",
       "    .dataframe tbody tr th:only-of-type {\n",
       "        vertical-align: middle;\n",
       "    }\n",
       "\n",
       "    .dataframe tbody tr th {\n",
       "        vertical-align: top;\n",
       "    }\n",
       "\n",
       "    .dataframe thead th {\n",
       "        text-align: right;\n",
       "    }\n",
       "</style>\n",
       "<table border=\"1\" class=\"dataframe\">\n",
       "  <thead>\n",
       "    <tr style=\"text-align: right;\">\n",
       "      <th></th>\n",
       "      <th>ml_code</th>\n",
       "      <th>variation_id</th>\n",
       "      <th>sold_quantity</th>\n",
       "    </tr>\n",
       "  </thead>\n",
       "  <tbody>\n",
       "    <tr>\n",
       "      <th>0</th>\n",
       "      <td>MLB1363602423</td>\n",
       "      <td>0</td>\n",
       "      <td>24</td>\n",
       "    </tr>\n",
       "    <tr>\n",
       "      <th>1</th>\n",
       "      <td>MLB1398114866</td>\n",
       "      <td>174301393967</td>\n",
       "      <td>1</td>\n",
       "    </tr>\n",
       "    <tr>\n",
       "      <th>2</th>\n",
       "      <td>MLB1398114866</td>\n",
       "      <td>174302125663</td>\n",
       "      <td>2</td>\n",
       "    </tr>\n",
       "    <tr>\n",
       "      <th>3</th>\n",
       "      <td>MLB1399101853</td>\n",
       "      <td>0</td>\n",
       "      <td>1</td>\n",
       "    </tr>\n",
       "    <tr>\n",
       "      <th>4</th>\n",
       "      <td>MLB1400355425</td>\n",
       "      <td>0</td>\n",
       "      <td>20</td>\n",
       "    </tr>\n",
       "    <tr>\n",
       "      <th>...</th>\n",
       "      <td>...</td>\n",
       "      <td>...</td>\n",
       "      <td>...</td>\n",
       "    </tr>\n",
       "    <tr>\n",
       "      <th>322</th>\n",
       "      <td>MLB4202595608</td>\n",
       "      <td>0</td>\n",
       "      <td>20</td>\n",
       "    </tr>\n",
       "    <tr>\n",
       "      <th>323</th>\n",
       "      <td>MLB4217370456</td>\n",
       "      <td>0</td>\n",
       "      <td>1</td>\n",
       "    </tr>\n",
       "    <tr>\n",
       "      <th>324</th>\n",
       "      <td>MLB4237823132</td>\n",
       "      <td>0</td>\n",
       "      <td>6</td>\n",
       "    </tr>\n",
       "    <tr>\n",
       "      <th>325</th>\n",
       "      <td>MLB924922735</td>\n",
       "      <td>0</td>\n",
       "      <td>14</td>\n",
       "    </tr>\n",
       "    <tr>\n",
       "      <th>326</th>\n",
       "      <td>MLB950214971</td>\n",
       "      <td>0</td>\n",
       "      <td>1</td>\n",
       "    </tr>\n",
       "  </tbody>\n",
       "</table>\n",
       "<p>327 rows × 3 columns</p>\n",
       "</div>"
      ],
      "text/plain": [
       "           ml_code  variation_id  sold_quantity\n",
       "0    MLB1363602423             0             24\n",
       "1    MLB1398114866  174301393967              1\n",
       "2    MLB1398114866  174302125663              2\n",
       "3    MLB1399101853             0              1\n",
       "4    MLB1400355425             0             20\n",
       "..             ...           ...            ...\n",
       "322  MLB4202595608             0             20\n",
       "323  MLB4217370456             0              1\n",
       "324  MLB4237823132             0              6\n",
       "325   MLB924922735             0             14\n",
       "326   MLB950214971             0              1\n",
       "\n",
       "[327 rows x 3 columns]"
      ]
     },
     "execution_count": 85,
     "metadata": {},
     "output_type": "execute_result"
    }
   ],
   "source": [
    "df_orders_quantity"
   ]
  },
  {
   "cell_type": "code",
   "execution_count": 86,
   "metadata": {},
   "outputs": [
    {
     "name": "stdout",
     "output_type": "stream",
     "text": [
      "Número de ml_code únicos: 256\n",
      "Número de variation_id únicos: 128\n"
     ]
    }
   ],
   "source": [
    "print(f\"Número de ml_code únicos: {len(df_orders_quantity['ml_code'].unique())}\")\n",
    "print(\n",
    "    f\"Número de variation_id únicos: {len(df_orders_quantity['variation_id'].unique())}\"\n",
    ")"
   ]
  },
  {
   "cell_type": "code",
   "execution_count": 87,
   "metadata": {},
   "outputs": [
    {
     "data": {
      "text/html": [
       "<div>\n",
       "<style scoped>\n",
       "    .dataframe tbody tr th:only-of-type {\n",
       "        vertical-align: middle;\n",
       "    }\n",
       "\n",
       "    .dataframe tbody tr th {\n",
       "        vertical-align: top;\n",
       "    }\n",
       "\n",
       "    .dataframe thead th {\n",
       "        text-align: right;\n",
       "    }\n",
       "</style>\n",
       "<table border=\"1\" class=\"dataframe\">\n",
       "  <thead>\n",
       "    <tr style=\"text-align: right;\">\n",
       "      <th></th>\n",
       "      <th>ml_code</th>\n",
       "      <th>variation_id</th>\n",
       "      <th>sold_quantity</th>\n",
       "    </tr>\n",
       "  </thead>\n",
       "  <tbody>\n",
       "    <tr>\n",
       "      <th>132</th>\n",
       "      <td>MLB2075516288</td>\n",
       "      <td>173887022577</td>\n",
       "      <td>58</td>\n",
       "    </tr>\n",
       "    <tr>\n",
       "      <th>133</th>\n",
       "      <td>MLB2075516288</td>\n",
       "      <td>173887022578</td>\n",
       "      <td>23</td>\n",
       "    </tr>\n",
       "    <tr>\n",
       "      <th>134</th>\n",
       "      <td>MLB2075516288</td>\n",
       "      <td>173887022579</td>\n",
       "      <td>23</td>\n",
       "    </tr>\n",
       "    <tr>\n",
       "      <th>135</th>\n",
       "      <td>MLB2075516288</td>\n",
       "      <td>173887190664</td>\n",
       "      <td>8</td>\n",
       "    </tr>\n",
       "    <tr>\n",
       "      <th>136</th>\n",
       "      <td>MLB2075516288</td>\n",
       "      <td>173887190665</td>\n",
       "      <td>13</td>\n",
       "    </tr>\n",
       "    <tr>\n",
       "      <th>137</th>\n",
       "      <td>MLB2075516288</td>\n",
       "      <td>173887190666</td>\n",
       "      <td>1</td>\n",
       "    </tr>\n",
       "    <tr>\n",
       "      <th>138</th>\n",
       "      <td>MLB2075516288</td>\n",
       "      <td>173887190667</td>\n",
       "      <td>11</td>\n",
       "    </tr>\n",
       "  </tbody>\n",
       "</table>\n",
       "</div>"
      ],
      "text/plain": [
       "           ml_code  variation_id  sold_quantity\n",
       "132  MLB2075516288  173887022577             58\n",
       "133  MLB2075516288  173887022578             23\n",
       "134  MLB2075516288  173887022579             23\n",
       "135  MLB2075516288  173887190664              8\n",
       "136  MLB2075516288  173887190665             13\n",
       "137  MLB2075516288  173887190666              1\n",
       "138  MLB2075516288  173887190667             11"
      ]
     },
     "execution_count": 87,
     "metadata": {},
     "output_type": "execute_result"
    }
   ],
   "source": [
    "# condf(df_orders_quantity,'ml_code','MLB2075516288')\n",
    "# df_orders_quantity['ml_code'].value_counts()"
   ]
  },
  {
   "cell_type": "code",
   "execution_count": 89,
   "metadata": {},
   "outputs": [],
   "source": [
    "# Acrescentando total de vendas ao DF\n",
    "df_total_sales = pd.merge(\n",
    "    # df_orders, resultado, on=[\"ml_code\", \"variation_id\"], how=\"inner\"\n",
    "    df_orders,\n",
    "    df_orders_quantity,\n",
    "    on=[\"ml_code\", \"variation_id\"],\n",
    "    how=\"inner\",\n",
    ")\n",
    "df_total_sales = df_total_sales.rename(\n",
    "    columns={\"sold_quantity_y\": \"total_sold_quantity\"}\n",
    ")\n",
    "df_total_sales = df_total_sales.drop(\n",
    "    columns=[\"sold_quantity_x\", \"order_status\", \"payment_status\"]\n",
    ")"
   ]
  },
  {
   "cell_type": "code",
   "execution_count": 156,
   "metadata": {},
   "outputs": [
    {
     "name": "stdout",
     "output_type": "stream",
     "text": [
      "Total de vendas = 4612\n"
     ]
    }
   ],
   "source": [
    "print(f\"Total de vendas = {df_total_sales.shape[0]}\")"
   ]
  },
  {
   "cell_type": "code",
   "execution_count": null,
   "metadata": {},
   "outputs": [],
   "source": [
    "# df_orders.shape"
   ]
  },
  {
   "cell_type": "code",
   "execution_count": null,
   "metadata": {},
   "outputs": [],
   "source": [
    "# df_total_sales.columns"
   ]
  },
  {
   "cell_type": "code",
   "execution_count": null,
   "metadata": {},
   "outputs": [],
   "source": [
    "# df_total_sales.sample()"
   ]
  },
  {
   "cell_type": "code",
   "execution_count": null,
   "metadata": {},
   "outputs": [],
   "source": [
    "# # # Exibir todas as linhas e colunas\n",
    "# # pd.set_option('display.max_rows', None)\n",
    "# # pd.set_option('display.max_columns', None)\n",
    "\n",
    "# # Voltar ao normal\n",
    "# pd.reset_option('display.max_rows')\n",
    "# pd.reset_option('display.max_columns')\n",
    "\n",
    "\n",
    "# # condf(df_total_sales,'ml_code','MLB3427769549')\n",
    "# # # x = condf(df_orders,'ml_code','MLB3427769549')\n",
    "\n",
    "# # # x = x.sort_values(by='data')\n",
    "# # # x.head(15)\n",
    "# # x = df_orders[df_orders['ml_code']=='MLB3427769549']\n",
    "# # x['data'] = pd.to_datetime(x['data'])\n",
    "# # x[x['data']=='2023-11-22']\n",
    "# # # x['sold_quantity'].value_counts()\n",
    "\n",
    "# # # counts = x[x['sold_quantity'] > 1]['sold_quantity'].value_counts()\n",
    "# # # counts\n",
    "\n",
    "# # y = x.groupby('data')['sold_quantity'].sum().reset_index()\n",
    "# # y\n",
    "\n",
    "# # # # x"
   ]
  },
  {
   "cell_type": "code",
   "execution_count": null,
   "metadata": {},
   "outputs": [],
   "source": [
    "# x.dtypes"
   ]
  },
  {
   "cell_type": "code",
   "execution_count": null,
   "metadata": {},
   "outputs": [],
   "source": [
    "# df_total_sales['data'].value_counts()"
   ]
  },
  {
   "cell_type": "code",
   "execution_count": null,
   "metadata": {},
   "outputs": [],
   "source": [
    "# condf(df_total_sales, \"ml_code\", \"MLB4127982748\")\n",
    "# condf(df_total_sales, \"ml_code\", \"MLB4127982748\")"
   ]
  },
  {
   "cell_type": "code",
   "execution_count": null,
   "metadata": {},
   "outputs": [],
   "source": []
  },
  {
   "cell_type": "code",
   "execution_count": null,
   "metadata": {},
   "outputs": [],
   "source": [
    "# df_total_sales = df_total_sales.drop([\"sold_quantity_x\", \"shipping_id\", \"data\"], axis=1)\n",
    "# df_total_sales = df_total_sales.drop_duplicates()"
   ]
  },
  {
   "cell_type": "code",
   "execution_count": null,
   "metadata": {},
   "outputs": [],
   "source": [
    "# condf(df_total_sales, \"ml_code\", \"MLB1992541482\")"
   ]
  },
  {
   "cell_type": "markdown",
   "metadata": {},
   "source": [
    "Neste ponto temos o total de itens vendidos de um anúncio por período e a quantidade de dias em que um produto esteve disponível.\n",
    "precisamos juntar esses dados para calcular, para isso trarei as informações de produtos"
   ]
  },
  {
   "cell_type": "code",
   "execution_count": null,
   "metadata": {},
   "outputs": [],
   "source": [
    "# print(df_total_sales.shape)\n",
    "# df_total_sales.sample()"
   ]
  },
  {
   "cell_type": "code",
   "execution_count": null,
   "metadata": {},
   "outputs": [],
   "source": [
    "# condf(df_total_sales, 'ml_code', 'MLB3461718736')\n",
    "# condf(df_orders, 'ml_code', 'MLB3461718736')\n",
    "# # condf(resultado, 'ml_code', 'MLB3427769549')\n",
    "# # condf(df_stock, 'ml_code', 'MLB3427769549')"
   ]
  },
  {
   "cell_type": "code",
   "execution_count": null,
   "metadata": {},
   "outputs": [],
   "source": [
    "# print(df_stock_today.shape)\n",
    "# df_stock_today.sample()"
   ]
  },
  {
   "cell_type": "markdown",
   "metadata": {},
   "source": [
    "#### Buscando Produtos"
   ]
  },
  {
   "cell_type": "code",
   "execution_count": 157,
   "metadata": {},
   "outputs": [
    {
     "name": "stderr",
     "output_type": "stream",
     "text": [
      "C:\\Users\\couti\\AppData\\Local\\Temp\\ipykernel_6272\\3517383442.py:5: UserWarning: pandas only supports SQLAlchemy connectable (engine/connection) or database string URI or sqlite3 DBAPI2 connection. Other DBAPI2 objects are not tested. Please consider using SQLAlchemy.\n",
      "  df_codes = pd.read_sql(sql_query, conn)\n"
     ]
    }
   ],
   "source": [
    "# Buscando dados de produtos na tabela tiny_fulfillment\n",
    "try:\n",
    "    conn = psycopg2.connect(**db_config)\n",
    "    sql_query = \"SELECT * FROM items\"\n",
    "    df_codes = pd.read_sql(sql_query, conn)\n",
    "except psycopg2.Error as e:\n",
    "    # logger.error(f\"Erro do psycopg2 ao consultar fulfillment_stock: {e}\")\n",
    "    print(f\"Erro do psycopg2 ao consultar tiny_fulfillment: {e}\")\n",
    "\n",
    "except Exception as e:\n",
    "    # logger.error(f\"Erro ao consultar tabela tiny_fulfillment: {e}\")\n",
    "    print(f\"Erro ao consultar tabela tiny_fulfillment: {e}\")\n",
    "\n",
    "finally:\n",
    "    if conn is not None:\n",
    "        conn.close()\n",
    "\n",
    "# df_codes[\"ml_code\"] = df_codes[\"ml_code\"].apply(lambda x: \"MLB\" + str(x))\n",
    "df_codes.rename(columns={\"inventory_id\": \"ml_inventory_id\"}, inplace=True)\n",
    "df_codes = df_codes.drop([\"created_at\", \"updated_at\"], axis=1)"
   ]
  },
  {
   "cell_type": "code",
   "execution_count": 158,
   "metadata": {},
   "outputs": [],
   "source": [
    "df_not_catalogo = df_codes[df_codes[\"catalog_listing\"] == False]\n",
    "df_catalogo = df_codes[df_codes[\"catalog_listing\"] == True]"
   ]
  },
  {
   "cell_type": "code",
   "execution_count": 159,
   "metadata": {},
   "outputs": [
    {
     "data": {
      "text/html": [
       "<div>\n",
       "<style scoped>\n",
       "    .dataframe tbody tr th:only-of-type {\n",
       "        vertical-align: middle;\n",
       "    }\n",
       "\n",
       "    .dataframe tbody tr th {\n",
       "        vertical-align: top;\n",
       "    }\n",
       "\n",
       "    .dataframe thead th {\n",
       "        text-align: right;\n",
       "    }\n",
       "</style>\n",
       "<table border=\"1\" class=\"dataframe\">\n",
       "  <thead>\n",
       "    <tr style=\"text-align: right;\">\n",
       "      <th></th>\n",
       "      <th>ml_code</th>\n",
       "      <th>ml_inventory_id</th>\n",
       "      <th>value_name</th>\n",
       "      <th>variation_id</th>\n",
       "      <th>status</th>\n",
       "      <th>catalog_listing</th>\n",
       "    </tr>\n",
       "  </thead>\n",
       "  <tbody>\n",
       "    <tr>\n",
       "      <th>5</th>\n",
       "      <td>MLB949776093</td>\n",
       "      <td>QYGO52123</td>\n",
       "      <td>NaN</td>\n",
       "      <td>NaN</td>\n",
       "      <td>paused</td>\n",
       "      <td>False</td>\n",
       "    </tr>\n",
       "  </tbody>\n",
       "</table>\n",
       "</div>"
      ],
      "text/plain": [
       "        ml_code ml_inventory_id value_name variation_id  status  \\\n",
       "5  MLB949776093       QYGO52123        NaN          NaN  paused   \n",
       "\n",
       "   catalog_listing  \n",
       "5            False  "
      ]
     },
     "execution_count": 159,
     "metadata": {},
     "output_type": "execute_result"
    }
   ],
   "source": [
    "df_not_catalogo.sample()"
   ]
  },
  {
   "cell_type": "code",
   "execution_count": 160,
   "metadata": {},
   "outputs": [
    {
     "data": {
      "text/html": [
       "<div>\n",
       "<style scoped>\n",
       "    .dataframe tbody tr th:only-of-type {\n",
       "        vertical-align: middle;\n",
       "    }\n",
       "\n",
       "    .dataframe tbody tr th {\n",
       "        vertical-align: top;\n",
       "    }\n",
       "\n",
       "    .dataframe thead th {\n",
       "        text-align: right;\n",
       "    }\n",
       "</style>\n",
       "<table border=\"1\" class=\"dataframe\">\n",
       "  <thead>\n",
       "    <tr style=\"text-align: right;\">\n",
       "      <th></th>\n",
       "      <th>ml_code</th>\n",
       "      <th>ml_inventory_id</th>\n",
       "      <th>value_name</th>\n",
       "      <th>variation_id</th>\n",
       "      <th>status</th>\n",
       "      <th>catalog_listing</th>\n",
       "    </tr>\n",
       "  </thead>\n",
       "  <tbody>\n",
       "    <tr>\n",
       "      <th>399</th>\n",
       "      <td>MLB3847886806</td>\n",
       "      <td>AJZG23550</td>\n",
       "      <td>NaN</td>\n",
       "      <td>NaN</td>\n",
       "      <td>active</td>\n",
       "      <td>True</td>\n",
       "    </tr>\n",
       "  </tbody>\n",
       "</table>\n",
       "</div>"
      ],
      "text/plain": [
       "           ml_code ml_inventory_id value_name variation_id  status  \\\n",
       "399  MLB3847886806       AJZG23550        NaN          NaN  active   \n",
       "\n",
       "     catalog_listing  \n",
       "399             True  "
      ]
     },
     "execution_count": 160,
     "metadata": {},
     "output_type": "execute_result"
    }
   ],
   "source": [
    "df_catalogo.sample()"
   ]
  },
  {
   "cell_type": "code",
   "execution_count": 161,
   "metadata": {},
   "outputs": [
    {
     "data": {
      "text/html": [
       "<div>\n",
       "<style scoped>\n",
       "    .dataframe tbody tr th:only-of-type {\n",
       "        vertical-align: middle;\n",
       "    }\n",
       "\n",
       "    .dataframe tbody tr th {\n",
       "        vertical-align: top;\n",
       "    }\n",
       "\n",
       "    .dataframe thead th {\n",
       "        text-align: right;\n",
       "    }\n",
       "</style>\n",
       "<table border=\"1\" class=\"dataframe\">\n",
       "  <thead>\n",
       "    <tr style=\"text-align: right;\">\n",
       "      <th></th>\n",
       "      <th>ml_code</th>\n",
       "      <th>ml_inventory_id</th>\n",
       "      <th>value_name</th>\n",
       "      <th>variation_id</th>\n",
       "      <th>status</th>\n",
       "      <th>catalog_listing</th>\n",
       "    </tr>\n",
       "  </thead>\n",
       "  <tbody>\n",
       "    <tr>\n",
       "      <th>3</th>\n",
       "      <td>MLB924922735</td>\n",
       "      <td>JFGN34621</td>\n",
       "      <td>NaN</td>\n",
       "      <td>NaN</td>\n",
       "      <td>paused</td>\n",
       "      <td>False</td>\n",
       "    </tr>\n",
       "    <tr>\n",
       "      <th>4</th>\n",
       "      <td>MLB949771924</td>\n",
       "      <td>TDFV00990</td>\n",
       "      <td>NaN</td>\n",
       "      <td>NaN</td>\n",
       "      <td>paused</td>\n",
       "      <td>False</td>\n",
       "    </tr>\n",
       "    <tr>\n",
       "      <th>5</th>\n",
       "      <td>MLB949776093</td>\n",
       "      <td>QYGO52123</td>\n",
       "      <td>NaN</td>\n",
       "      <td>NaN</td>\n",
       "      <td>paused</td>\n",
       "      <td>False</td>\n",
       "    </tr>\n",
       "    <tr>\n",
       "      <th>6</th>\n",
       "      <td>MLB949788598</td>\n",
       "      <td>ERIM51807</td>\n",
       "      <td>NaN</td>\n",
       "      <td>NaN</td>\n",
       "      <td>paused</td>\n",
       "      <td>False</td>\n",
       "    </tr>\n",
       "    <tr>\n",
       "      <th>7</th>\n",
       "      <td>MLB949790387</td>\n",
       "      <td>DGBX50777</td>\n",
       "      <td>NaN</td>\n",
       "      <td>NaN</td>\n",
       "      <td>paused</td>\n",
       "      <td>False</td>\n",
       "    </tr>\n",
       "    <tr>\n",
       "      <th>...</th>\n",
       "      <td>...</td>\n",
       "      <td>...</td>\n",
       "      <td>...</td>\n",
       "      <td>...</td>\n",
       "      <td>...</td>\n",
       "      <td>...</td>\n",
       "    </tr>\n",
       "    <tr>\n",
       "      <th>512</th>\n",
       "      <td>MLB1662862664</td>\n",
       "      <td>CRMK90073</td>\n",
       "      <td>Azul</td>\n",
       "      <td>64489869774</td>\n",
       "      <td>active</td>\n",
       "      <td>False</td>\n",
       "    </tr>\n",
       "    <tr>\n",
       "      <th>513</th>\n",
       "      <td>MLB1942106803</td>\n",
       "      <td>WQLG77218</td>\n",
       "      <td>nan</td>\n",
       "      <td>NaN</td>\n",
       "      <td>active</td>\n",
       "      <td>False</td>\n",
       "    </tr>\n",
       "    <tr>\n",
       "      <th>514</th>\n",
       "      <td>MLB1965265311</td>\n",
       "      <td>IPQB89761</td>\n",
       "      <td>nan</td>\n",
       "      <td>NaN</td>\n",
       "      <td>active</td>\n",
       "      <td>False</td>\n",
       "    </tr>\n",
       "    <tr>\n",
       "      <th>515</th>\n",
       "      <td>MLB1976555976</td>\n",
       "      <td>ZEWV91930</td>\n",
       "      <td>nan</td>\n",
       "      <td>NaN</td>\n",
       "      <td>active</td>\n",
       "      <td>False</td>\n",
       "    </tr>\n",
       "    <tr>\n",
       "      <th>516</th>\n",
       "      <td>MLB2003184492</td>\n",
       "      <td>OKDI38047</td>\n",
       "      <td>nan</td>\n",
       "      <td>NaN</td>\n",
       "      <td>active</td>\n",
       "      <td>False</td>\n",
       "    </tr>\n",
       "  </tbody>\n",
       "</table>\n",
       "<p>361 rows × 6 columns</p>\n",
       "</div>"
      ],
      "text/plain": [
       "           ml_code ml_inventory_id value_name variation_id  status  \\\n",
       "3     MLB924922735       JFGN34621        NaN          NaN  paused   \n",
       "4     MLB949771924       TDFV00990        NaN          NaN  paused   \n",
       "5     MLB949776093       QYGO52123        NaN          NaN  paused   \n",
       "6     MLB949788598       ERIM51807        NaN          NaN  paused   \n",
       "7     MLB949790387       DGBX50777        NaN          NaN  paused   \n",
       "..             ...             ...        ...          ...     ...   \n",
       "512  MLB1662862664       CRMK90073       Azul  64489869774  active   \n",
       "513  MLB1942106803       WQLG77218        nan          NaN  active   \n",
       "514  MLB1965265311       IPQB89761        nan          NaN  active   \n",
       "515  MLB1976555976       ZEWV91930        nan          NaN  active   \n",
       "516  MLB2003184492       OKDI38047        nan          NaN  active   \n",
       "\n",
       "     catalog_listing  \n",
       "3              False  \n",
       "4              False  \n",
       "5              False  \n",
       "6              False  \n",
       "7              False  \n",
       "..               ...  \n",
       "512            False  \n",
       "513            False  \n",
       "514            False  \n",
       "515            False  \n",
       "516            False  \n",
       "\n",
       "[361 rows x 6 columns]"
      ]
     },
     "execution_count": 161,
     "metadata": {},
     "output_type": "execute_result"
    }
   ],
   "source": [
    "df_not_catalogo"
   ]
  },
  {
   "cell_type": "code",
   "execution_count": 162,
   "metadata": {},
   "outputs": [
    {
     "name": "stdout",
     "output_type": "stream",
     "text": [
      "(361, 6)\n",
      "(167, 6)\n"
     ]
    }
   ],
   "source": [
    "print(df_not_catalogo.shape)\n",
    "print(df_catalogo.shape)"
   ]
  },
  {
   "cell_type": "code",
   "execution_count": 119,
   "metadata": {},
   "outputs": [
    {
     "data": {
      "text/html": [
       "<div>\n",
       "<style scoped>\n",
       "    .dataframe tbody tr th:only-of-type {\n",
       "        vertical-align: middle;\n",
       "    }\n",
       "\n",
       "    .dataframe tbody tr th {\n",
       "        vertical-align: top;\n",
       "    }\n",
       "\n",
       "    .dataframe thead th {\n",
       "        text-align: right;\n",
       "    }\n",
       "</style>\n",
       "<table border=\"1\" class=\"dataframe\">\n",
       "  <thead>\n",
       "    <tr style=\"text-align: right;\">\n",
       "      <th></th>\n",
       "      <th>ml_code</th>\n",
       "      <th>ml_inventory_id</th>\n",
       "      <th>value_name</th>\n",
       "      <th>variation_id</th>\n",
       "      <th>status</th>\n",
       "      <th>catalog_listing</th>\n",
       "    </tr>\n",
       "  </thead>\n",
       "  <tbody>\n",
       "    <tr>\n",
       "      <th>0</th>\n",
       "      <td>MLB3778561802</td>\n",
       "      <td>AVOX05934</td>\n",
       "      <td>NaN</td>\n",
       "      <td>NaN</td>\n",
       "      <td>closed</td>\n",
       "      <td>True</td>\n",
       "    </tr>\n",
       "    <tr>\n",
       "      <th>1</th>\n",
       "      <td>MLB3436515963</td>\n",
       "      <td>WTHI04163</td>\n",
       "      <td>NaN</td>\n",
       "      <td>NaN</td>\n",
       "      <td>closed</td>\n",
       "      <td>True</td>\n",
       "    </tr>\n",
       "    <tr>\n",
       "      <th>2</th>\n",
       "      <td>MLB3778538730</td>\n",
       "      <td>JLAX10536</td>\n",
       "      <td>NaN</td>\n",
       "      <td>NaN</td>\n",
       "      <td>closed</td>\n",
       "      <td>True</td>\n",
       "    </tr>\n",
       "    <tr>\n",
       "      <th>47</th>\n",
       "      <td>MLB1459799426</td>\n",
       "      <td>SKXW47953</td>\n",
       "      <td>NaN</td>\n",
       "      <td>NaN</td>\n",
       "      <td>paused</td>\n",
       "      <td>True</td>\n",
       "    </tr>\n",
       "    <tr>\n",
       "      <th>136</th>\n",
       "      <td>MLB1848507503</td>\n",
       "      <td>IKDC16959</td>\n",
       "      <td>NaN</td>\n",
       "      <td>NaN</td>\n",
       "      <td>paused</td>\n",
       "      <td>True</td>\n",
       "    </tr>\n",
       "    <tr>\n",
       "      <th>...</th>\n",
       "      <td>...</td>\n",
       "      <td>...</td>\n",
       "      <td>...</td>\n",
       "      <td>...</td>\n",
       "      <td>...</td>\n",
       "      <td>...</td>\n",
       "    </tr>\n",
       "    <tr>\n",
       "      <th>523</th>\n",
       "      <td>MLB3497394073</td>\n",
       "      <td>XGSW66673</td>\n",
       "      <td>nan</td>\n",
       "      <td>NaN</td>\n",
       "      <td>active</td>\n",
       "      <td>True</td>\n",
       "    </tr>\n",
       "    <tr>\n",
       "      <th>524</th>\n",
       "      <td>MLB3516894673</td>\n",
       "      <td>PPWL59058</td>\n",
       "      <td>nan</td>\n",
       "      <td>NaN</td>\n",
       "      <td>active</td>\n",
       "      <td>True</td>\n",
       "    </tr>\n",
       "    <tr>\n",
       "      <th>525</th>\n",
       "      <td>MLB3513621863</td>\n",
       "      <td>ABCB20467</td>\n",
       "      <td>nan</td>\n",
       "      <td>None</td>\n",
       "      <td>active</td>\n",
       "      <td>True</td>\n",
       "    </tr>\n",
       "    <tr>\n",
       "      <th>526</th>\n",
       "      <td>MLB4272734766</td>\n",
       "      <td>ENML56386</td>\n",
       "      <td>nan</td>\n",
       "      <td>None</td>\n",
       "      <td>active</td>\n",
       "      <td>True</td>\n",
       "    </tr>\n",
       "    <tr>\n",
       "      <th>527</th>\n",
       "      <td>MLB3532694787</td>\n",
       "      <td>BLHH53768</td>\n",
       "      <td>nan</td>\n",
       "      <td>None</td>\n",
       "      <td>active</td>\n",
       "      <td>True</td>\n",
       "    </tr>\n",
       "  </tbody>\n",
       "</table>\n",
       "<p>167 rows × 6 columns</p>\n",
       "</div>"
      ],
      "text/plain": [
       "           ml_code ml_inventory_id value_name variation_id  status  \\\n",
       "0    MLB3778561802       AVOX05934        NaN          NaN  closed   \n",
       "1    MLB3436515963       WTHI04163        NaN          NaN  closed   \n",
       "2    MLB3778538730       JLAX10536        NaN          NaN  closed   \n",
       "47   MLB1459799426       SKXW47953        NaN          NaN  paused   \n",
       "136  MLB1848507503       IKDC16959        NaN          NaN  paused   \n",
       "..             ...             ...        ...          ...     ...   \n",
       "523  MLB3497394073       XGSW66673        nan          NaN  active   \n",
       "524  MLB3516894673       PPWL59058        nan          NaN  active   \n",
       "525  MLB3513621863       ABCB20467        nan         None  active   \n",
       "526  MLB4272734766       ENML56386        nan         None  active   \n",
       "527  MLB3532694787       BLHH53768        nan         None  active   \n",
       "\n",
       "     catalog_listing  \n",
       "0               True  \n",
       "1               True  \n",
       "2               True  \n",
       "47              True  \n",
       "136             True  \n",
       "..               ...  \n",
       "523             True  \n",
       "524             True  \n",
       "525             True  \n",
       "526             True  \n",
       "527             True  \n",
       "\n",
       "[167 rows x 6 columns]"
      ]
     },
     "execution_count": 119,
     "metadata": {},
     "output_type": "execute_result"
    }
   ],
   "source": [
    "df_catalogo"
   ]
  },
  {
   "cell_type": "code",
   "execution_count": 100,
   "metadata": {},
   "outputs": [],
   "source": [
    "# df_orders.sample()"
   ]
  },
  {
   "cell_type": "code",
   "execution_count": 172,
   "metadata": {},
   "outputs": [],
   "source": [
    "df_total_sales_cat = pd.merge(\n",
    "    df_catalogo,\n",
    "    df_total_sales,\n",
    "    left_on=[\"ml_code\"],\n",
    "    right_on=[\"ml_code\"],\n",
    "    how=\"left\",\n",
    ")\n",
    "df_total_sales_cat = df_total_sales_cat.drop_duplicates()\n",
    "\n",
    "df_total_sales_not_cat = pd.merge(\n",
    "    df_not_catalogo,\n",
    "    df_total_sales,\n",
    "    left_on=[\"ml_code\", \"variation_id\"],\n",
    "    right_on=[\"ml_code\", \"variation_id\"],\n",
    "    how=\"left\",\n",
    ")\n",
    "df_total_sales_not_cat = df_total_sales_not_cat.drop_duplicates()"
   ]
  },
  {
   "cell_type": "code",
   "execution_count": 173,
   "metadata": {},
   "outputs": [],
   "source": [
    "df_total_sales_not_cat[\"total_sold_quantity\"] = df_total_sales_not_cat[\n",
    "    \"total_sold_quantity\"\n",
    "].fillna(0)\n",
    "df_total_sales_cat[\"total_sold_quantity\"] = df_total_sales_cat[\n",
    "    \"total_sold_quantity\"\n",
    "].fillna(0)\n",
    "\n",
    "df_total_sales_not_cat[\"total_sold_quantity\"] = df_total_sales_not_cat[\n",
    "    \"total_sold_quantity\"\n",
    "].astype(\"int64\")\n",
    "df_total_sales_cat[\"total_sold_quantity\"] = df_total_sales_cat[\n",
    "    \"total_sold_quantity\"\n",
    "].astype(\"int64\")"
   ]
  },
  {
   "cell_type": "code",
   "execution_count": 174,
   "metadata": {},
   "outputs": [],
   "source": [
    "# df_total_sales_cat.sample(5)\n",
    "# df_total_sales_not_cat['total_sold_quantity'].value_counts()\n",
    "# df_total_sales_cat['total_sold_quantity'].value_counts()"
   ]
  },
  {
   "cell_type": "code",
   "execution_count": null,
   "metadata": {},
   "outputs": [],
   "source": []
  },
  {
   "cell_type": "code",
   "execution_count": 175,
   "metadata": {},
   "outputs": [
    {
     "name": "stdout",
     "output_type": "stream",
     "text": [
      "(2730, 15)\n",
      "(1631, 14)\n"
     ]
    }
   ],
   "source": [
    "print(df_total_sales_cat.shape)\n",
    "print(df_total_sales_not_cat.shape)"
   ]
  },
  {
   "cell_type": "code",
   "execution_count": 176,
   "metadata": {},
   "outputs": [],
   "source": [
    "# df_total_sales_cat"
   ]
  },
  {
   "cell_type": "code",
   "execution_count": 180,
   "metadata": {},
   "outputs": [
    {
     "data": {
      "text/plain": [
       "(168, 11)"
      ]
     },
     "execution_count": 180,
     "metadata": {},
     "output_type": "execute_result"
    }
   ],
   "source": [
    "# df_total_sales_cat = df_total_sales_cat.drop(\n",
    "#     columns=[\"data\", \"shipping_id\", \"variation_id_x\", \"order_id\"]\n",
    "# )\n",
    "df_total_sales_cat_x = df_total_sales_cat.drop(\n",
    "    columns=[\"data\", \"shipping_id\", \"variation_id_x\", \"order_id\"]\n",
    ")\n",
    "df_total_sales_cat_x = df_total_sales_cat_x.drop_duplicates()\n",
    "df_total_sales_cat_x.shape"
   ]
  },
  {
   "cell_type": "code",
   "execution_count": 170,
   "metadata": {},
   "outputs": [],
   "source": [
    "# df_total_sales_cat_x"
   ]
  },
  {
   "cell_type": "code",
   "execution_count": 145,
   "metadata": {},
   "outputs": [],
   "source": [
    "# df_total_sales_cat['value_name'].value_counts()"
   ]
  },
  {
   "cell_type": "code",
   "execution_count": 146,
   "metadata": {},
   "outputs": [],
   "source": [
    "# condf(df_total_sales_cat, 'ml_code','MLB3427769549')"
   ]
  },
  {
   "cell_type": "code",
   "execution_count": 147,
   "metadata": {},
   "outputs": [],
   "source": [
    "# df_vendas_total_sales_not_cat"
   ]
  },
  {
   "cell_type": "code",
   "execution_count": 148,
   "metadata": {},
   "outputs": [
    {
     "name": "stdout",
     "output_type": "stream",
     "text": [
      "(1631, 14)\n"
     ]
    }
   ],
   "source": [
    "print(df_total_sales_not_cat.shape)"
   ]
  },
  {
   "cell_type": "code",
   "execution_count": 181,
   "metadata": {},
   "outputs": [
    {
     "name": "stdout",
     "output_type": "stream",
     "text": [
      "(1631, 14)\n",
      "(361, 11)\n"
     ]
    }
   ],
   "source": [
    "print(df_total_sales_not_cat.shape)\n",
    "df_total_sales_not_cat_x = df_total_sales_not_cat.drop(\n",
    "    columns=[\"data\", \"shipping_id\", \"order_id\"]\n",
    ")\n",
    "df_total_sales_not_cat_x = df_total_sales_not_cat_x.drop_duplicates()\n",
    "print(df_total_sales_not_cat_x.shape)"
   ]
  },
  {
   "cell_type": "code",
   "execution_count": 183,
   "metadata": {},
   "outputs": [],
   "source": [
    "# df_total_sales_cat_x"
   ]
  },
  {
   "cell_type": "code",
   "execution_count": 184,
   "metadata": {},
   "outputs": [
    {
     "name": "stdout",
     "output_type": "stream",
     "text": [
      "(168, 11)\n",
      "(361, 11)\n"
     ]
    }
   ],
   "source": [
    "print(df_total_sales_cat_x.shape)\n",
    "print(df_total_sales_not_cat_x.shape)"
   ]
  },
  {
   "cell_type": "code",
   "execution_count": 153,
   "metadata": {},
   "outputs": [],
   "source": [
    "# df_total_sales_cat['ml_inventory_id'].value_counts()"
   ]
  },
  {
   "cell_type": "code",
   "execution_count": 186,
   "metadata": {},
   "outputs": [],
   "source": [
    "# Antes de desabilitar\n",
    "# pd.set_option('display.max_rows', None)\n",
    "# pd.set_option('display.max_columns', None)\n",
    "# pd.set_option('display.max_colwidth', None)\n",
    "\n",
    "# Seu código para exibir o DataFrame\n",
    "\n",
    "# # Depois de desabilitar\n",
    "# pd.reset_option('display.max_rows')\n",
    "# pd.reset_option('display.max_columns')\n",
    "# pd.reset_option('display.max_colwidth')\n",
    "\n",
    "\n",
    "# df_total_sales_cat = df_total_sales_cat.drop_duplicates()\n",
    "\n",
    "df_total_sales_cat_x = df_total_sales_cat.drop_duplicates(\n",
    "    subset=[\"ml_code\", \"ml_inventory_id\"]\n",
    ")\n",
    "df_total_sales_not_cat_x = df_total_sales_not_cat.drop_duplicates(\n",
    "    subset=[\"ml_code\", \"ml_inventory_id\"]\n",
    ")"
   ]
  },
  {
   "cell_type": "code",
   "execution_count": 188,
   "metadata": {},
   "outputs": [],
   "source": [
    "# df_orders.shape"
   ]
  },
  {
   "cell_type": "code",
   "execution_count": 189,
   "metadata": {},
   "outputs": [],
   "source": [
    "# condf(df_total_sales_cat,'ml_inventory_id','WTHI04163')\n",
    "# condf(y,'ml_inventory_id','WTHI04163')"
   ]
  },
  {
   "cell_type": "code",
   "execution_count": 190,
   "metadata": {},
   "outputs": [],
   "source": [
    "# condf(df_total_sales_cat,'ml_inventory_id','AWAZ99732')"
   ]
  },
  {
   "cell_type": "code",
   "execution_count": 210,
   "metadata": {},
   "outputs": [],
   "source": [
    "df_total_cat = df_total_sales_cat_x.copy()\n",
    "df_total_not_cat = df_total_sales_not_cat_x.copy()"
   ]
  },
  {
   "cell_type": "code",
   "execution_count": 211,
   "metadata": {},
   "outputs": [
    {
     "data": {
      "text/plain": [
       "Index(['ml_code', 'ml_inventory_id', 'value_name', 'variation_id_x', 'status',\n",
       "       'catalog_listing', 'variation_id_y', 'seller_sku', 'order_id', 'title',\n",
       "       'shipping_id', 'variation_value_name', 'logistic_type', 'data',\n",
       "       'total_sold_quantity'],\n",
       "      dtype='object')"
      ]
     },
     "execution_count": 211,
     "metadata": {},
     "output_type": "execute_result"
    }
   ],
   "source": [
    "df_total_cat.columns"
   ]
  },
  {
   "cell_type": "code",
   "execution_count": 212,
   "metadata": {},
   "outputs": [],
   "source": [
    "# Somando total de vendas por inventory_id\n",
    "df_sum_qt_sold_cat = (\n",
    "    df_total_cat.groupby(\"ml_inventory_id\")[\"total_sold_quantity\"].sum().reset_index()\n",
    ")\n",
    "df_sum_qt_sold_cat = df_sum_qt_sold_cat.rename(\n",
    "    columns={\"total_sold_quantity\": \"total_sold_catalog\"}\n",
    ")\n",
    "\n",
    "df_total_cat = pd.merge(\n",
    "    df_total_cat,\n",
    "    df_sum_qt_sold_cat[[\"ml_inventory_id\", \"total_sold_catalog\"]],\n",
    "    on=\"ml_inventory_id\",\n",
    "    how=\"left\",\n",
    ")\n",
    "\n",
    "df_total_cat.rename(columns={\"variation_id_y\": \"variation_id_\"})\n",
    "\n",
    "\n",
    "df_sum_qt_sold_not_cat = (\n",
    "    df_total_not_cat.groupby(\"ml_inventory_id\")[\"total_sold_quantity\"]\n",
    "    .sum()\n",
    "    .reset_index()\n",
    ")\n",
    "df_sum_qt_sold_not_cat = df_sum_qt_sold_not_cat.rename(\n",
    "    columns={\"total_sold_quantity\": \"total_sold_not_catalog\"}\n",
    ")\n",
    "df_total_not_cat = pd.merge(\n",
    "    df_total_not_cat,\n",
    "    df_sum_qt_sold_not_cat[[\"ml_inventory_id\", \"total_sold_not_catalog\"]],\n",
    "    on=\"ml_inventory_id\",\n",
    "    how=\"left\",\n",
    ")"
   ]
  },
  {
   "cell_type": "code",
   "execution_count": 215,
   "metadata": {},
   "outputs": [
    {
     "data": {
      "text/plain": [
       "(361, 15)"
      ]
     },
     "execution_count": 215,
     "metadata": {},
     "output_type": "execute_result"
    }
   ],
   "source": [
    "print(df_total_cat.shape)\n",
    "print(df_total_not_cat.shape)"
   ]
  },
  {
   "cell_type": "code",
   "execution_count": 219,
   "metadata": {},
   "outputs": [
    {
     "data": {
      "text/plain": [
       "(166, 16)"
      ]
     },
     "execution_count": 219,
     "metadata": {},
     "output_type": "execute_result"
    }
   ],
   "source": [
    "df_total_cat.rename(columns={\"variation_id_y\": \"variation_id\"}, inplace=True)\n",
    "df_total_cat.shape"
   ]
  },
  {
   "cell_type": "code",
   "execution_count": 217,
   "metadata": {},
   "outputs": [],
   "source": [
    "# condf(df_total_cat,'ml_inventory_id','WTHI04163')"
   ]
  },
  {
   "cell_type": "code",
   "execution_count": 220,
   "metadata": {},
   "outputs": [],
   "source": [
    "df_total_cat = df_total_cat.drop_duplicates(subset=[\"ml_inventory_id\"])\n",
    "\n",
    "# df_total_cat[df_total_cat['ml_inventory_id']=='WTHI04163']"
   ]
  },
  {
   "cell_type": "markdown",
   "metadata": {},
   "source": [
    "pergar ml_inventory_id e sum_total e acrescesntar essas informações no df de não catalogo pelo ml_inventory_id\n",
    "ao fim deixar somatório do catalogo e não catalogo\n"
   ]
  },
  {
   "cell_type": "code",
   "execution_count": 197,
   "metadata": {},
   "outputs": [],
   "source": [
    "# cols=['ml_inventory_id','total_sold_catalog']\n",
    "# df_total_cat = df_total_cat[cols]\n",
    "# df_total_cat.sample()"
   ]
  },
  {
   "cell_type": "code",
   "execution_count": 221,
   "metadata": {},
   "outputs": [],
   "source": [
    "df_combined = pd.merge(\n",
    "    df_total_not_cat,\n",
    "    df_total_cat[[\"ml_inventory_id\", \"total_sold_catalog\"]],\n",
    "    on=\"ml_inventory_id\",\n",
    "    how=\"left\",\n",
    ")\n",
    "# df_combined.sample()"
   ]
  },
  {
   "cell_type": "code",
   "execution_count": null,
   "metadata": {},
   "outputs": [],
   "source": [
    "# df_total_not_cat.shape"
   ]
  },
  {
   "cell_type": "code",
   "execution_count": null,
   "metadata": {},
   "outputs": [],
   "source": [
    "# condf(df_combined,'ml_inventory_id','UIUW89800')"
   ]
  },
  {
   "cell_type": "code",
   "execution_count": null,
   "metadata": {},
   "outputs": [],
   "source": [
    "# condf(df_combined,'ml_inventory_id','UIUW89800')"
   ]
  },
  {
   "cell_type": "code",
   "execution_count": null,
   "metadata": {},
   "outputs": [],
   "source": [
    "# df_combined['ml_inventory_id'].value_counts()"
   ]
  },
  {
   "cell_type": "code",
   "execution_count": 223,
   "metadata": {},
   "outputs": [
    {
     "name": "stdout",
     "output_type": "stream",
     "text": [
      "(361, 16)\n"
     ]
    }
   ],
   "source": [
    "print(df_combined.shape)"
   ]
  },
  {
   "cell_type": "code",
   "execution_count": 229,
   "metadata": {},
   "outputs": [],
   "source": [
    "df = pd.merge(df_combined, df_stock_today, on=\"ml_inventory_id\", how=\"left\")\n",
    "df[\"total_sold_catalog\"] = df[\"total_sold_catalog\"].fillna(0).astype(\"int64\")"
   ]
  },
  {
   "cell_type": "code",
   "execution_count": 230,
   "metadata": {},
   "outputs": [
    {
     "data": {
      "text/plain": [
       "(361, 25)"
      ]
     },
     "execution_count": 230,
     "metadata": {},
     "output_type": "execute_result"
    }
   ],
   "source": [
    "df.shape"
   ]
  },
  {
   "cell_type": "code",
   "execution_count": 237,
   "metadata": {},
   "outputs": [],
   "source": [
    "days = 30\n",
    "\n",
    "df[\"total_sold\"] = df[\"total_sold_catalog\"] + df[\"total_sold_not_catalog\"]\n",
    "# qtd de produtos a enviar no período, caso seja valor negativo produto está acima do esperado para envio(sobrando)\n",
    "df[\"period_send_fulfillment\"] = np.ceil(\n",
    "    (df[\"total_sold\"] / df[\"days_available\"]) * days - df[\"total_available_quantity\"]\n",
    ")\n",
    "\n",
    "df[\"period_send_fulfillment\"] = df[\"period_send_fulfillment\"].fillna(0)"
   ]
  },
  {
   "cell_type": "code",
   "execution_count": 236,
   "metadata": {},
   "outputs": [
    {
     "data": {
      "text/plain": [
       "Index(['ml_code', 'ml_inventory_id', 'value_name', 'variation_id', 'status',\n",
       "       'catalog_listing', 'seller_sku', 'order_id', 'title', 'shipping_id',\n",
       "       'variation_value_name', 'logistic_type', 'data_x',\n",
       "       'total_sold_quantity', 'total_sold_not_catalog', 'total_sold_catalog',\n",
       "       'available_quantity_today', 'detail_status', 'detail_quantity',\n",
       "       'references_id', 'references_variation_id', 'data_y', 'has_stock',\n",
       "       'days_available', 'total_available_quantity', 'total_sold',\n",
       "       'period_send_fulfillment'],\n",
       "      dtype='object')"
      ]
     },
     "execution_count": 236,
     "metadata": {},
     "output_type": "execute_result"
    }
   ],
   "source": [
    "df.columns"
   ]
  },
  {
   "cell_type": "code",
   "execution_count": 232,
   "metadata": {},
   "outputs": [
    {
     "data": {
      "text/plain": [
       "(361, 27)"
      ]
     },
     "execution_count": 232,
     "metadata": {},
     "output_type": "execute_result"
    }
   ],
   "source": [
    "df.shape"
   ]
  },
  {
   "cell_type": "code",
   "execution_count": 255,
   "metadata": {},
   "outputs": [
    {
     "data": {
      "text/plain": [
       "(252, 27)"
      ]
     },
     "execution_count": 255,
     "metadata": {},
     "output_type": "execute_result"
    }
   ],
   "source": [
    "df_have_itens = df[df[\"days_available\"] > 0]\n",
    "df_have_itens.shape"
   ]
  },
  {
   "cell_type": "code",
   "execution_count": 235,
   "metadata": {},
   "outputs": [
    {
     "data": {
      "text/plain": [
       "(109, 26)"
      ]
     },
     "execution_count": 235,
     "metadata": {},
     "output_type": "execute_result"
    }
   ],
   "source": [
    "# produtos sem estoque no período\n",
    "df_no_itens = df[df[\"days_available\"] <= 0]\n",
    "df_no_itens = df_no_itens.drop(columns=[\"period_send_fulfillment\"])\n",
    "df_no_itens.shape"
   ]
  },
  {
   "cell_type": "code",
   "execution_count": 256,
   "metadata": {},
   "outputs": [],
   "source": [
    "df_sold_zero = df_have_itens[df_have_itens[\"total_sold\"] == 0]\n",
    "df_sold = df_have_itens[df_have_itens[\"total_sold\"] > 0]"
   ]
  },
  {
   "cell_type": "code",
   "execution_count": 257,
   "metadata": {},
   "outputs": [
    {
     "data": {
      "text/html": [
       "<div>\n",
       "<style scoped>\n",
       "    .dataframe tbody tr th:only-of-type {\n",
       "        vertical-align: middle;\n",
       "    }\n",
       "\n",
       "    .dataframe tbody tr th {\n",
       "        vertical-align: top;\n",
       "    }\n",
       "\n",
       "    .dataframe thead th {\n",
       "        text-align: right;\n",
       "    }\n",
       "</style>\n",
       "<table border=\"1\" class=\"dataframe\">\n",
       "  <thead>\n",
       "    <tr style=\"text-align: right;\">\n",
       "      <th></th>\n",
       "      <th>ml_code</th>\n",
       "      <th>ml_inventory_id</th>\n",
       "      <th>value_name</th>\n",
       "      <th>variation_id</th>\n",
       "      <th>status</th>\n",
       "      <th>catalog_listing</th>\n",
       "      <th>seller_sku</th>\n",
       "      <th>order_id</th>\n",
       "      <th>title</th>\n",
       "      <th>shipping_id</th>\n",
       "      <th>...</th>\n",
       "      <th>detail_status</th>\n",
       "      <th>detail_quantity</th>\n",
       "      <th>references_id</th>\n",
       "      <th>references_variation_id</th>\n",
       "      <th>data_y</th>\n",
       "      <th>has_stock</th>\n",
       "      <th>days_available</th>\n",
       "      <th>total_available_quantity</th>\n",
       "      <th>total_sold</th>\n",
       "      <th>period_send_fulfillment</th>\n",
       "    </tr>\n",
       "  </thead>\n",
       "  <tbody>\n",
       "    <tr>\n",
       "      <th>28</th>\n",
       "      <td>MLB1417658704</td>\n",
       "      <td>ZZRV30730</td>\n",
       "      <td>NaN</td>\n",
       "      <td>NaN</td>\n",
       "      <td>active</td>\n",
       "      <td>False</td>\n",
       "      <td>NaN</td>\n",
       "      <td>NaN</td>\n",
       "      <td>NaN</td>\n",
       "      <td>NaN</td>\n",
       "      <td>...</td>\n",
       "      <td>None</td>\n",
       "      <td>NaN</td>\n",
       "      <td>MLB1417658704</td>\n",
       "      <td>0</td>\n",
       "      <td>2023-12-07</td>\n",
       "      <td>True</td>\n",
       "      <td>36</td>\n",
       "      <td>5</td>\n",
       "      <td>0</td>\n",
       "      <td>-5.0</td>\n",
       "    </tr>\n",
       "    <tr>\n",
       "      <th>119</th>\n",
       "      <td>MLB1712597299</td>\n",
       "      <td>JOGC89676</td>\n",
       "      <td>NaN</td>\n",
       "      <td>NaN</td>\n",
       "      <td>active</td>\n",
       "      <td>False</td>\n",
       "      <td>NaN</td>\n",
       "      <td>NaN</td>\n",
       "      <td>NaN</td>\n",
       "      <td>NaN</td>\n",
       "      <td>...</td>\n",
       "      <td>None</td>\n",
       "      <td>NaN</td>\n",
       "      <td>MLB1712597299</td>\n",
       "      <td>0</td>\n",
       "      <td>2023-12-07</td>\n",
       "      <td>True</td>\n",
       "      <td>36</td>\n",
       "      <td>2</td>\n",
       "      <td>0</td>\n",
       "      <td>-2.0</td>\n",
       "    </tr>\n",
       "    <tr>\n",
       "      <th>255</th>\n",
       "      <td>MLB1440243016</td>\n",
       "      <td>YAZB38863</td>\n",
       "      <td>NaN</td>\n",
       "      <td>NaN</td>\n",
       "      <td>active</td>\n",
       "      <td>False</td>\n",
       "      <td>NaN</td>\n",
       "      <td>NaN</td>\n",
       "      <td>NaN</td>\n",
       "      <td>NaN</td>\n",
       "      <td>...</td>\n",
       "      <td>None</td>\n",
       "      <td>NaN</td>\n",
       "      <td>MLB1440243016</td>\n",
       "      <td>0</td>\n",
       "      <td>2023-12-07</td>\n",
       "      <td>True</td>\n",
       "      <td>36</td>\n",
       "      <td>1</td>\n",
       "      <td>0</td>\n",
       "      <td>-1.0</td>\n",
       "    </tr>\n",
       "  </tbody>\n",
       "</table>\n",
       "<p>3 rows × 27 columns</p>\n",
       "</div>"
      ],
      "text/plain": [
       "           ml_code ml_inventory_id value_name variation_id  status  \\\n",
       "28   MLB1417658704       ZZRV30730        NaN          NaN  active   \n",
       "119  MLB1712597299       JOGC89676        NaN          NaN  active   \n",
       "255  MLB1440243016       YAZB38863        NaN          NaN  active   \n",
       "\n",
       "     catalog_listing seller_sku order_id title shipping_id  ... detail_status  \\\n",
       "28             False        NaN      NaN   NaN         NaN  ...          None   \n",
       "119            False        NaN      NaN   NaN         NaN  ...          None   \n",
       "255            False        NaN      NaN   NaN         NaN  ...          None   \n",
       "\n",
       "    detail_quantity  references_id  references_variation_id     data_y  \\\n",
       "28              NaN  MLB1417658704                        0 2023-12-07   \n",
       "119             NaN  MLB1712597299                        0 2023-12-07   \n",
       "255             NaN  MLB1440243016                        0 2023-12-07   \n",
       "\n",
       "     has_stock  days_available total_available_quantity  total_sold  \\\n",
       "28        True              36                        5           0   \n",
       "119       True              36                        2           0   \n",
       "255       True              36                        1           0   \n",
       "\n",
       "    period_send_fulfillment  \n",
       "28                     -5.0  \n",
       "119                    -2.0  \n",
       "255                    -1.0  \n",
       "\n",
       "[3 rows x 27 columns]"
      ]
     },
     "execution_count": 257,
     "metadata": {},
     "output_type": "execute_result"
    }
   ],
   "source": [
    "df_sold_zero.sample(3)"
   ]
  },
  {
   "cell_type": "code",
   "execution_count": 258,
   "metadata": {},
   "outputs": [
    {
     "data": {
      "text/html": [
       "<div>\n",
       "<style scoped>\n",
       "    .dataframe tbody tr th:only-of-type {\n",
       "        vertical-align: middle;\n",
       "    }\n",
       "\n",
       "    .dataframe tbody tr th {\n",
       "        vertical-align: top;\n",
       "    }\n",
       "\n",
       "    .dataframe thead th {\n",
       "        text-align: right;\n",
       "    }\n",
       "</style>\n",
       "<table border=\"1\" class=\"dataframe\">\n",
       "  <thead>\n",
       "    <tr style=\"text-align: right;\">\n",
       "      <th></th>\n",
       "      <th>ml_code</th>\n",
       "      <th>ml_inventory_id</th>\n",
       "      <th>value_name</th>\n",
       "      <th>variation_id</th>\n",
       "      <th>status</th>\n",
       "      <th>catalog_listing</th>\n",
       "      <th>seller_sku</th>\n",
       "      <th>order_id</th>\n",
       "      <th>title</th>\n",
       "      <th>shipping_id</th>\n",
       "      <th>...</th>\n",
       "      <th>detail_status</th>\n",
       "      <th>detail_quantity</th>\n",
       "      <th>references_id</th>\n",
       "      <th>references_variation_id</th>\n",
       "      <th>data_y</th>\n",
       "      <th>has_stock</th>\n",
       "      <th>days_available</th>\n",
       "      <th>total_available_quantity</th>\n",
       "      <th>total_sold</th>\n",
       "      <th>period_send_fulfillment</th>\n",
       "    </tr>\n",
       "  </thead>\n",
       "  <tbody>\n",
       "    <tr>\n",
       "      <th>335</th>\n",
       "      <td>MLB3696018282</td>\n",
       "      <td>CTZK75126</td>\n",
       "      <td>1</td>\n",
       "      <td>178531159091</td>\n",
       "      <td>active</td>\n",
       "      <td>False</td>\n",
       "      <td>FULLVANDORENSR261</td>\n",
       "      <td>2000006952695020</td>\n",
       "      <td>2 Palheta Sax Alto Vandoren Java Origina 1 1,5...</td>\n",
       "      <td>42824045873</td>\n",
       "      <td>...</td>\n",
       "      <td>None</td>\n",
       "      <td>NaN</td>\n",
       "      <td>MLB3696018282</td>\n",
       "      <td>178531159091</td>\n",
       "      <td>2023-12-07</td>\n",
       "      <td>True</td>\n",
       "      <td>36</td>\n",
       "      <td>1</td>\n",
       "      <td>1</td>\n",
       "      <td>-0.0</td>\n",
       "    </tr>\n",
       "    <tr>\n",
       "      <th>263</th>\n",
       "      <td>MLB2216644379</td>\n",
       "      <td>LUHT78439</td>\n",
       "      <td>1,5</td>\n",
       "      <td>17435050308</td>\n",
       "      <td>active</td>\n",
       "      <td>False</td>\n",
       "      <td>FULLVANDORENSR2615</td>\n",
       "      <td>2000006920197298</td>\n",
       "      <td>2 Palheta Sax Alto Vandoren Java Origina 1 1,5...</td>\n",
       "      <td>42810649590</td>\n",
       "      <td>...</td>\n",
       "      <td>transfer</td>\n",
       "      <td>2.0</td>\n",
       "      <td>MLB2216644379</td>\n",
       "      <td>174350503080</td>\n",
       "      <td>2023-12-07</td>\n",
       "      <td>True</td>\n",
       "      <td>36</td>\n",
       "      <td>19</td>\n",
       "      <td>2</td>\n",
       "      <td>-17.0</td>\n",
       "    </tr>\n",
       "    <tr>\n",
       "      <th>265</th>\n",
       "      <td>MLB2216644379</td>\n",
       "      <td>FRBW82060</td>\n",
       "      <td>2,5</td>\n",
       "      <td>174350503082</td>\n",
       "      <td>active</td>\n",
       "      <td>False</td>\n",
       "      <td>FULLVANDORENSR2625</td>\n",
       "      <td>2000007025520574</td>\n",
       "      <td>2 Palheta Sax Alto Vandoren Java Origina 1 1,5...</td>\n",
       "      <td>42855620339</td>\n",
       "      <td>...</td>\n",
       "      <td>None</td>\n",
       "      <td>NaN</td>\n",
       "      <td>MLB2216644379</td>\n",
       "      <td>174350503082</td>\n",
       "      <td>2023-12-07</td>\n",
       "      <td>True</td>\n",
       "      <td>36</td>\n",
       "      <td>20</td>\n",
       "      <td>4</td>\n",
       "      <td>-16.0</td>\n",
       "    </tr>\n",
       "  </tbody>\n",
       "</table>\n",
       "<p>3 rows × 27 columns</p>\n",
       "</div>"
      ],
      "text/plain": [
       "           ml_code ml_inventory_id value_name  variation_id  status  \\\n",
       "335  MLB3696018282       CTZK75126          1  178531159091  active   \n",
       "263  MLB2216644379       LUHT78439        1,5   17435050308  active   \n",
       "265  MLB2216644379       FRBW82060        2,5  174350503082  active   \n",
       "\n",
       "     catalog_listing          seller_sku          order_id  \\\n",
       "335            False   FULLVANDORENSR261  2000006952695020   \n",
       "263            False  FULLVANDORENSR2615  2000006920197298   \n",
       "265            False  FULLVANDORENSR2625  2000007025520574   \n",
       "\n",
       "                                                 title  shipping_id  ...  \\\n",
       "335  2 Palheta Sax Alto Vandoren Java Origina 1 1,5...  42824045873  ...   \n",
       "263  2 Palheta Sax Alto Vandoren Java Origina 1 1,5...  42810649590  ...   \n",
       "265  2 Palheta Sax Alto Vandoren Java Origina 1 1,5...  42855620339  ...   \n",
       "\n",
       "    detail_status detail_quantity  references_id  references_variation_id  \\\n",
       "335          None             NaN  MLB3696018282             178531159091   \n",
       "263      transfer             2.0  MLB2216644379             174350503080   \n",
       "265          None             NaN  MLB2216644379             174350503082   \n",
       "\n",
       "        data_y  has_stock  days_available total_available_quantity  \\\n",
       "335 2023-12-07       True              36                        1   \n",
       "263 2023-12-07       True              36                       19   \n",
       "265 2023-12-07       True              36                       20   \n",
       "\n",
       "     total_sold period_send_fulfillment  \n",
       "335           1                    -0.0  \n",
       "263           2                   -17.0  \n",
       "265           4                   -16.0  \n",
       "\n",
       "[3 rows x 27 columns]"
      ]
     },
     "execution_count": 258,
     "metadata": {},
     "output_type": "execute_result"
    }
   ],
   "source": [
    "df_sold.sample(3)"
   ]
  },
  {
   "cell_type": "code",
   "execution_count": 239,
   "metadata": {},
   "outputs": [],
   "source": [
    "dfx = df_have_itens.copy()"
   ]
  },
  {
   "cell_type": "code",
   "execution_count": 240,
   "metadata": {},
   "outputs": [],
   "source": [
    "# dfx.columns"
   ]
  },
  {
   "cell_type": "code",
   "execution_count": 246,
   "metadata": {},
   "outputs": [],
   "source": [
    "cols = [\n",
    "    \"ml_code\",\n",
    "    \"seller_sku\",\n",
    "    \"ml_inventory_id\",\n",
    "    \"value_name\",\n",
    "    \"status\",\n",
    "    \"title\",\n",
    "    \"available_quantity_today\",\n",
    "    \"detail_status\",\n",
    "    \"detail_quantity\",\n",
    "    \"total_available_quantity\",\n",
    "    \"days_available\",\n",
    "    \"total_sold_not_catalog\",\n",
    "    \"total_sold_catalog\",\n",
    "    \"total_sold\",\n",
    "    \"period_send_fulfillment\",\n",
    "]\n",
    "\n",
    "dfx = dfx[cols]"
   ]
  },
  {
   "cell_type": "code",
   "execution_count": 249,
   "metadata": {},
   "outputs": [],
   "source": [
    "dfx = dfx.rename(\n",
    "    columns={\"detail_status\": \"transfer_status\", \"detail_quantity\": \"transfer_quantity\"}\n",
    ")"
   ]
  },
  {
   "cell_type": "code",
   "execution_count": 252,
   "metadata": {},
   "outputs": [
    {
     "data": {
      "text/plain": [
       "(252, 15)"
      ]
     },
     "execution_count": 252,
     "metadata": {},
     "output_type": "execute_result"
    }
   ],
   "source": [
    "dfx.sample()\n",
    "dfx.shape"
   ]
  },
  {
   "cell_type": "markdown",
   "metadata": {},
   "source": [
    "## Acabou!"
   ]
  }
 ],
 "metadata": {
  "kernelspec": {
   "display_name": "venv",
   "language": "python",
   "name": "python3"
  },
  "language_info": {
   "codemirror_mode": {
    "name": "ipython",
    "version": 3
   },
   "file_extension": ".py",
   "mimetype": "text/x-python",
   "name": "python",
   "nbconvert_exporter": "python",
   "pygments_lexer": "ipython3",
   "version": "3.12.0"
  }
 },
 "nbformat": 4,
 "nbformat_minor": 2
}
